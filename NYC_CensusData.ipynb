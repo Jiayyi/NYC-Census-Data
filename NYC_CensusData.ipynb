{
 "cells": [
  {
   "cell_type": "markdown",
   "metadata": {},
   "source": [
    "# Data Science Project\n",
    "## New York City - Census Data\n",
    "    \n",
    "**Danny Lam**\n",
    "**Julio Gutierrez**\n",
    "**Yannick Brossel**"
   ]
  },
  {
   "attachments": {},
   "cell_type": "markdown",
   "metadata": {},
   "source": [
    "<img src=\"NYC_map.png\">"
   ]
  },
  {
   "cell_type": "code",
   "execution_count": 1,
   "metadata": {},
   "outputs": [],
   "source": [
    "#Include libraries to import the dataset into a dataframe, compute calcuations, and also ignore warnings, respectively.\n",
    "import pandas as pd\n",
    "import numpy as np\n",
    "import warnings\n",
    "warnings.filterwarnings(\"ignore\") \n"
   ]
  },
  {
   "cell_type": "code",
   "execution_count": 2,
   "metadata": {},
   "outputs": [
    {
     "data": {
      "text/html": [
       "<div>\n",
       "<style scoped>\n",
       "    .dataframe tbody tr th:only-of-type {\n",
       "        vertical-align: middle;\n",
       "    }\n",
       "\n",
       "    .dataframe tbody tr th {\n",
       "        vertical-align: top;\n",
       "    }\n",
       "\n",
       "    .dataframe thead th {\n",
       "        text-align: right;\n",
       "    }\n",
       "</style>\n",
       "<table border=\"1\" class=\"dataframe\">\n",
       "  <thead>\n",
       "    <tr style=\"text-align: right;\">\n",
       "      <th></th>\n",
       "      <th>CensusTract</th>\n",
       "      <th>County</th>\n",
       "      <th>Borough</th>\n",
       "      <th>TotalPop</th>\n",
       "      <th>Men</th>\n",
       "      <th>Women</th>\n",
       "      <th>Hispanic</th>\n",
       "      <th>White</th>\n",
       "      <th>Black</th>\n",
       "      <th>Native</th>\n",
       "      <th>...</th>\n",
       "      <th>Walk</th>\n",
       "      <th>OtherTransp</th>\n",
       "      <th>WorkAtHome</th>\n",
       "      <th>MeanCommute</th>\n",
       "      <th>Employed</th>\n",
       "      <th>PrivateWork</th>\n",
       "      <th>PublicWork</th>\n",
       "      <th>SelfEmployed</th>\n",
       "      <th>FamilyWork</th>\n",
       "      <th>Unemployment</th>\n",
       "    </tr>\n",
       "  </thead>\n",
       "  <tbody>\n",
       "    <tr>\n",
       "      <th>0</th>\n",
       "      <td>36005000100</td>\n",
       "      <td>Bronx</td>\n",
       "      <td>Bronx</td>\n",
       "      <td>7703</td>\n",
       "      <td>7133</td>\n",
       "      <td>570</td>\n",
       "      <td>29.9</td>\n",
       "      <td>6.1</td>\n",
       "      <td>60.9</td>\n",
       "      <td>0.2</td>\n",
       "      <td>...</td>\n",
       "      <td>NaN</td>\n",
       "      <td>NaN</td>\n",
       "      <td>NaN</td>\n",
       "      <td>NaN</td>\n",
       "      <td>0</td>\n",
       "      <td>NaN</td>\n",
       "      <td>NaN</td>\n",
       "      <td>NaN</td>\n",
       "      <td>NaN</td>\n",
       "      <td>NaN</td>\n",
       "    </tr>\n",
       "    <tr>\n",
       "      <th>1</th>\n",
       "      <td>36005000200</td>\n",
       "      <td>Bronx</td>\n",
       "      <td>Bronx</td>\n",
       "      <td>5403</td>\n",
       "      <td>2659</td>\n",
       "      <td>2744</td>\n",
       "      <td>75.8</td>\n",
       "      <td>2.3</td>\n",
       "      <td>16.0</td>\n",
       "      <td>0.0</td>\n",
       "      <td>...</td>\n",
       "      <td>2.9</td>\n",
       "      <td>0.0</td>\n",
       "      <td>0.0</td>\n",
       "      <td>43.0</td>\n",
       "      <td>2308</td>\n",
       "      <td>80.8</td>\n",
       "      <td>16.2</td>\n",
       "      <td>2.9</td>\n",
       "      <td>0.0</td>\n",
       "      <td>7.7</td>\n",
       "    </tr>\n",
       "    <tr>\n",
       "      <th>2</th>\n",
       "      <td>36005000400</td>\n",
       "      <td>Bronx</td>\n",
       "      <td>Bronx</td>\n",
       "      <td>5915</td>\n",
       "      <td>2896</td>\n",
       "      <td>3019</td>\n",
       "      <td>62.7</td>\n",
       "      <td>3.6</td>\n",
       "      <td>30.7</td>\n",
       "      <td>0.0</td>\n",
       "      <td>...</td>\n",
       "      <td>1.4</td>\n",
       "      <td>0.5</td>\n",
       "      <td>2.1</td>\n",
       "      <td>45.0</td>\n",
       "      <td>2675</td>\n",
       "      <td>71.7</td>\n",
       "      <td>25.3</td>\n",
       "      <td>2.5</td>\n",
       "      <td>0.6</td>\n",
       "      <td>9.5</td>\n",
       "    </tr>\n",
       "    <tr>\n",
       "      <th>3</th>\n",
       "      <td>36005001600</td>\n",
       "      <td>Bronx</td>\n",
       "      <td>Bronx</td>\n",
       "      <td>5879</td>\n",
       "      <td>2558</td>\n",
       "      <td>3321</td>\n",
       "      <td>65.1</td>\n",
       "      <td>1.6</td>\n",
       "      <td>32.4</td>\n",
       "      <td>0.0</td>\n",
       "      <td>...</td>\n",
       "      <td>8.6</td>\n",
       "      <td>1.6</td>\n",
       "      <td>1.7</td>\n",
       "      <td>38.8</td>\n",
       "      <td>2120</td>\n",
       "      <td>75.0</td>\n",
       "      <td>21.3</td>\n",
       "      <td>3.8</td>\n",
       "      <td>0.0</td>\n",
       "      <td>8.7</td>\n",
       "    </tr>\n",
       "    <tr>\n",
       "      <th>4</th>\n",
       "      <td>36005001900</td>\n",
       "      <td>Bronx</td>\n",
       "      <td>Bronx</td>\n",
       "      <td>2591</td>\n",
       "      <td>1206</td>\n",
       "      <td>1385</td>\n",
       "      <td>55.4</td>\n",
       "      <td>9.0</td>\n",
       "      <td>29.0</td>\n",
       "      <td>0.0</td>\n",
       "      <td>...</td>\n",
       "      <td>3.0</td>\n",
       "      <td>2.4</td>\n",
       "      <td>6.2</td>\n",
       "      <td>45.4</td>\n",
       "      <td>1083</td>\n",
       "      <td>76.8</td>\n",
       "      <td>15.5</td>\n",
       "      <td>7.7</td>\n",
       "      <td>0.0</td>\n",
       "      <td>19.2</td>\n",
       "    </tr>\n",
       "  </tbody>\n",
       "</table>\n",
       "<p>5 rows × 36 columns</p>\n",
       "</div>"
      ],
      "text/plain": [
       "   CensusTract County Borough  TotalPop   Men  Women  Hispanic  White  Black  \\\n",
       "0  36005000100  Bronx   Bronx      7703  7133    570      29.9    6.1   60.9   \n",
       "1  36005000200  Bronx   Bronx      5403  2659   2744      75.8    2.3   16.0   \n",
       "2  36005000400  Bronx   Bronx      5915  2896   3019      62.7    3.6   30.7   \n",
       "3  36005001600  Bronx   Bronx      5879  2558   3321      65.1    1.6   32.4   \n",
       "4  36005001900  Bronx   Bronx      2591  1206   1385      55.4    9.0   29.0   \n",
       "\n",
       "   Native  ...  Walk  OtherTransp  WorkAtHome  MeanCommute  Employed  \\\n",
       "0     0.2  ...   NaN          NaN         NaN          NaN         0   \n",
       "1     0.0  ...   2.9          0.0         0.0         43.0      2308   \n",
       "2     0.0  ...   1.4          0.5         2.1         45.0      2675   \n",
       "3     0.0  ...   8.6          1.6         1.7         38.8      2120   \n",
       "4     0.0  ...   3.0          2.4         6.2         45.4      1083   \n",
       "\n",
       "   PrivateWork  PublicWork  SelfEmployed  FamilyWork  Unemployment  \n",
       "0          NaN         NaN           NaN         NaN           NaN  \n",
       "1         80.8        16.2           2.9         0.0           7.7  \n",
       "2         71.7        25.3           2.5         0.6           9.5  \n",
       "3         75.0        21.3           3.8         0.0           8.7  \n",
       "4         76.8        15.5           7.7         0.0          19.2  \n",
       "\n",
       "[5 rows x 36 columns]"
      ]
     },
     "execution_count": 2,
     "metadata": {},
     "output_type": "execute_result"
    }
   ],
   "source": [
    "#Read in the csv dataset using pandas.\n",
    "rawData = pd.read_csv(\"nyc_census_tracts.csv\")\n",
    "#Output the dataframe to the screen for analysis.\n",
    "rawData.head()"
   ]
  },
  {
   "cell_type": "code",
   "execution_count": 3,
   "metadata": {},
   "outputs": [
    {
     "name": "stdout",
     "output_type": "stream",
     "text": [
      "<class 'pandas.core.frame.DataFrame'>\n",
      "RangeIndex: 2167 entries, 0 to 2166\n",
      "Data columns (total 36 columns):\n",
      "CensusTract        2167 non-null int64\n",
      "County             2167 non-null object\n",
      "Borough            2167 non-null object\n",
      "TotalPop           2167 non-null int64\n",
      "Men                2167 non-null int64\n",
      "Women              2167 non-null int64\n",
      "Hispanic           2128 non-null float64\n",
      "White              2128 non-null float64\n",
      "Black              2128 non-null float64\n",
      "Native             2128 non-null float64\n",
      "Asian              2128 non-null float64\n",
      "Citizen            2167 non-null int64\n",
      "Income             2101 non-null float64\n",
      "IncomeErr          2101 non-null float64\n",
      "IncomePerCap       2121 non-null float64\n",
      "IncomePerCapErr    2121 non-null float64\n",
      "Poverty            2125 non-null float64\n",
      "ChildPoverty       2107 non-null float64\n",
      "Professional       2124 non-null float64\n",
      "Service            2124 non-null float64\n",
      "Office             2124 non-null float64\n",
      "Construction       2124 non-null float64\n",
      "Production         2124 non-null float64\n",
      "Drive              2124 non-null float64\n",
      "Carpool            2124 non-null float64\n",
      "Transit            2124 non-null float64\n",
      "Walk               2124 non-null float64\n",
      "OtherTransp        2124 non-null float64\n",
      "WorkAtHome         2124 non-null float64\n",
      "MeanCommute        2106 non-null float64\n",
      "Employed           2167 non-null int64\n",
      "PrivateWork        2124 non-null float64\n",
      "PublicWork         2124 non-null float64\n",
      "SelfEmployed       2124 non-null float64\n",
      "FamilyWork         2124 non-null float64\n",
      "Unemployment       2125 non-null float64\n",
      "dtypes: float64(28), int64(6), object(2)\n",
      "memory usage: 609.5+ KB\n"
     ]
    }
   ],
   "source": [
    "#We made note of the data showing up to 2167 values per column with several columns appearing to have null values.\n",
    "#Four columns seem redundant or irrelevant : CensusTract for exact block location, Borough which mirrors County column,\n",
    "#IncomeErr and IncomePerCapErr which are standard error values\n",
    "#Also, object types that should be transformed to category as necessary.\n",
    "rawData.info()\n",
    "\n",
    "#Create a variable \"total\" which is the number of rows and reflects the maximum number of non-null values.\n",
    "total = 2167"
   ]
  },
  {
   "cell_type": "code",
   "execution_count": 4,
   "metadata": {},
   "outputs": [
    {
     "name": "stdout",
     "output_type": "stream",
     "text": [
      "['Bronx' 'Kings' 'New York' 'Queens' 'Richmond']\n",
      "['Bronx' 'Brooklyn' 'Manhattan' 'Queens' 'Staten Island']\n"
     ]
    }
   ],
   "source": [
    "#View the distinct values using unique function in the County column and the Borough column to confirm redundancy.\n",
    "print(rawData[\"County\"].unique())\n",
    "print(rawData[\"Borough\"].unique())"
   ]
  },
  {
   "cell_type": "code",
   "execution_count": 5,
   "metadata": {},
   "outputs": [
    {
     "data": {
      "text/html": [
       "<div>\n",
       "<style scoped>\n",
       "    .dataframe tbody tr th:only-of-type {\n",
       "        vertical-align: middle;\n",
       "    }\n",
       "\n",
       "    .dataframe tbody tr th {\n",
       "        vertical-align: top;\n",
       "    }\n",
       "\n",
       "    .dataframe thead th {\n",
       "        text-align: right;\n",
       "    }\n",
       "</style>\n",
       "<table border=\"1\" class=\"dataframe\">\n",
       "  <thead>\n",
       "    <tr style=\"text-align: right;\">\n",
       "      <th></th>\n",
       "      <th>County</th>\n",
       "      <th>TotalPop</th>\n",
       "      <th>Men</th>\n",
       "      <th>Women</th>\n",
       "      <th>Hispanic</th>\n",
       "      <th>White</th>\n",
       "      <th>Black</th>\n",
       "      <th>Native</th>\n",
       "      <th>Asian</th>\n",
       "      <th>Citizen</th>\n",
       "      <th>...</th>\n",
       "      <th>Walk</th>\n",
       "      <th>OtherTransp</th>\n",
       "      <th>WorkAtHome</th>\n",
       "      <th>MeanCommute</th>\n",
       "      <th>Employed</th>\n",
       "      <th>PrivateWork</th>\n",
       "      <th>PublicWork</th>\n",
       "      <th>SelfEmployed</th>\n",
       "      <th>FamilyWork</th>\n",
       "      <th>Unemployment</th>\n",
       "    </tr>\n",
       "  </thead>\n",
       "  <tbody>\n",
       "    <tr>\n",
       "      <th>0</th>\n",
       "      <td>Bronx</td>\n",
       "      <td>7703</td>\n",
       "      <td>7133</td>\n",
       "      <td>570</td>\n",
       "      <td>29.9</td>\n",
       "      <td>6.1</td>\n",
       "      <td>60.9</td>\n",
       "      <td>0.2</td>\n",
       "      <td>1.6</td>\n",
       "      <td>6476</td>\n",
       "      <td>...</td>\n",
       "      <td>NaN</td>\n",
       "      <td>NaN</td>\n",
       "      <td>NaN</td>\n",
       "      <td>NaN</td>\n",
       "      <td>0</td>\n",
       "      <td>NaN</td>\n",
       "      <td>NaN</td>\n",
       "      <td>NaN</td>\n",
       "      <td>NaN</td>\n",
       "      <td>NaN</td>\n",
       "    </tr>\n",
       "    <tr>\n",
       "      <th>1</th>\n",
       "      <td>Bronx</td>\n",
       "      <td>5403</td>\n",
       "      <td>2659</td>\n",
       "      <td>2744</td>\n",
       "      <td>75.8</td>\n",
       "      <td>2.3</td>\n",
       "      <td>16.0</td>\n",
       "      <td>0.0</td>\n",
       "      <td>4.2</td>\n",
       "      <td>3639</td>\n",
       "      <td>...</td>\n",
       "      <td>2.9</td>\n",
       "      <td>0.0</td>\n",
       "      <td>0.0</td>\n",
       "      <td>43.0</td>\n",
       "      <td>2308</td>\n",
       "      <td>80.8</td>\n",
       "      <td>16.2</td>\n",
       "      <td>2.9</td>\n",
       "      <td>0.0</td>\n",
       "      <td>7.7</td>\n",
       "    </tr>\n",
       "    <tr>\n",
       "      <th>2</th>\n",
       "      <td>Bronx</td>\n",
       "      <td>5915</td>\n",
       "      <td>2896</td>\n",
       "      <td>3019</td>\n",
       "      <td>62.7</td>\n",
       "      <td>3.6</td>\n",
       "      <td>30.7</td>\n",
       "      <td>0.0</td>\n",
       "      <td>0.3</td>\n",
       "      <td>4100</td>\n",
       "      <td>...</td>\n",
       "      <td>1.4</td>\n",
       "      <td>0.5</td>\n",
       "      <td>2.1</td>\n",
       "      <td>45.0</td>\n",
       "      <td>2675</td>\n",
       "      <td>71.7</td>\n",
       "      <td>25.3</td>\n",
       "      <td>2.5</td>\n",
       "      <td>0.6</td>\n",
       "      <td>9.5</td>\n",
       "    </tr>\n",
       "    <tr>\n",
       "      <th>3</th>\n",
       "      <td>Bronx</td>\n",
       "      <td>5879</td>\n",
       "      <td>2558</td>\n",
       "      <td>3321</td>\n",
       "      <td>65.1</td>\n",
       "      <td>1.6</td>\n",
       "      <td>32.4</td>\n",
       "      <td>0.0</td>\n",
       "      <td>0.0</td>\n",
       "      <td>3536</td>\n",
       "      <td>...</td>\n",
       "      <td>8.6</td>\n",
       "      <td>1.6</td>\n",
       "      <td>1.7</td>\n",
       "      <td>38.8</td>\n",
       "      <td>2120</td>\n",
       "      <td>75.0</td>\n",
       "      <td>21.3</td>\n",
       "      <td>3.8</td>\n",
       "      <td>0.0</td>\n",
       "      <td>8.7</td>\n",
       "    </tr>\n",
       "    <tr>\n",
       "      <th>4</th>\n",
       "      <td>Bronx</td>\n",
       "      <td>2591</td>\n",
       "      <td>1206</td>\n",
       "      <td>1385</td>\n",
       "      <td>55.4</td>\n",
       "      <td>9.0</td>\n",
       "      <td>29.0</td>\n",
       "      <td>0.0</td>\n",
       "      <td>2.1</td>\n",
       "      <td>1557</td>\n",
       "      <td>...</td>\n",
       "      <td>3.0</td>\n",
       "      <td>2.4</td>\n",
       "      <td>6.2</td>\n",
       "      <td>45.4</td>\n",
       "      <td>1083</td>\n",
       "      <td>76.8</td>\n",
       "      <td>15.5</td>\n",
       "      <td>7.7</td>\n",
       "      <td>0.0</td>\n",
       "      <td>19.2</td>\n",
       "    </tr>\n",
       "  </tbody>\n",
       "</table>\n",
       "<p>5 rows × 32 columns</p>\n",
       "</div>"
      ],
      "text/plain": [
       "  County  TotalPop   Men  Women  Hispanic  White  Black  Native  Asian  \\\n",
       "0  Bronx      7703  7133    570      29.9    6.1   60.9     0.2    1.6   \n",
       "1  Bronx      5403  2659   2744      75.8    2.3   16.0     0.0    4.2   \n",
       "2  Bronx      5915  2896   3019      62.7    3.6   30.7     0.0    0.3   \n",
       "3  Bronx      5879  2558   3321      65.1    1.6   32.4     0.0    0.0   \n",
       "4  Bronx      2591  1206   1385      55.4    9.0   29.0     0.0    2.1   \n",
       "\n",
       "   Citizen  ...  Walk  OtherTransp  WorkAtHome  MeanCommute  Employed  \\\n",
       "0     6476  ...   NaN          NaN         NaN          NaN         0   \n",
       "1     3639  ...   2.9          0.0         0.0         43.0      2308   \n",
       "2     4100  ...   1.4          0.5         2.1         45.0      2675   \n",
       "3     3536  ...   8.6          1.6         1.7         38.8      2120   \n",
       "4     1557  ...   3.0          2.4         6.2         45.4      1083   \n",
       "\n",
       "   PrivateWork  PublicWork  SelfEmployed  FamilyWork  Unemployment  \n",
       "0          NaN         NaN           NaN         NaN           NaN  \n",
       "1         80.8        16.2           2.9         0.0           7.7  \n",
       "2         71.7        25.3           2.5         0.6           9.5  \n",
       "3         75.0        21.3           3.8         0.0           8.7  \n",
       "4         76.8        15.5           7.7         0.0          19.2  \n",
       "\n",
       "[5 rows x 32 columns]"
      ]
     },
     "execution_count": 5,
     "metadata": {},
     "output_type": "execute_result"
    }
   ],
   "source": [
    "#Create a new Dataframe named MainDF without the four columns using the copy method followed by dropping the unwanted columns.\n",
    "#Note: the deep parameter will allow for modification of our new dataframe without altering the \"rawData\" dataframe.\n",
    "MainDF = rawData.copy(deep = True)\n",
    "MainDF.drop(columns=[\"CensusTract\", \"Borough\", \"IncomeErr\", \"IncomePerCapErr\"], inplace = True)\n",
    "\n",
    "#Create a variable named \"columns\" for the number of columns shown in our MainDF.\n",
    "columns = 32\n",
    "\n",
    "#Confirm that our work has been without error by outputting the dataframe.\n",
    "MainDF.head()"
   ]
  },
  {
   "cell_type": "code",
   "execution_count": 6,
   "metadata": {},
   "outputs": [
    {
     "data": {
      "text/plain": [
       "County          1.000000\n",
       "TotalPop        1.000000\n",
       "Men             1.000000\n",
       "Women           1.000000\n",
       "Hispanic        0.982003\n",
       "White           0.982003\n",
       "Black           0.982003\n",
       "Native          0.982003\n",
       "Asian           0.982003\n",
       "Citizen         1.000000\n",
       "Income          0.969543\n",
       "IncomePerCap    0.978772\n",
       "Poverty         0.980618\n",
       "ChildPoverty    0.972312\n",
       "Professional    0.980157\n",
       "Service         0.980157\n",
       "Office          0.980157\n",
       "Construction    0.980157\n",
       "Production      0.980157\n",
       "Drive           0.980157\n",
       "Carpool         0.980157\n",
       "Transit         0.980157\n",
       "Walk            0.980157\n",
       "OtherTransp     0.980157\n",
       "WorkAtHome      0.980157\n",
       "MeanCommute     0.971850\n",
       "Employed        1.000000\n",
       "PrivateWork     0.980157\n",
       "PublicWork      0.980157\n",
       "SelfEmployed    0.980157\n",
       "FamilyWork      0.980157\n",
       "Unemployment    0.980618\n",
       "dtype: float64"
      ]
     },
     "execution_count": 6,
     "metadata": {},
     "output_type": "execute_result"
    }
   ],
   "source": [
    "#Visualize the proportion of non-null values per column by using the count function and dividing it by the maximum number of\n",
    "#non-null values\n",
    "MainDF.count()/total\n",
    "\n",
    "#Note many columns are showing null-values but with marginal amounts (lowest is 4% of null values in a column)"
   ]
  },
  {
   "cell_type": "code",
   "execution_count": 7,
   "metadata": {},
   "outputs": [
    {
     "name": "stdout",
     "output_type": "stream",
     "text": [
      "<class 'pandas.core.frame.DataFrame'>\n",
      "Int64Index: 2124 entries, 1 to 2165\n",
      "Data columns (total 32 columns):\n",
      "County          2124 non-null object\n",
      "TotalPop        2124 non-null int64\n",
      "Men             2124 non-null int64\n",
      "Women           2124 non-null int64\n",
      "Hispanic        2124 non-null float64\n",
      "White           2124 non-null float64\n",
      "Black           2124 non-null float64\n",
      "Native          2124 non-null float64\n",
      "Asian           2124 non-null float64\n",
      "Citizen         2124 non-null int64\n",
      "Income          2101 non-null float64\n",
      "IncomePerCap    2118 non-null float64\n",
      "Poverty         2124 non-null float64\n",
      "ChildPoverty    2107 non-null float64\n",
      "Professional    2124 non-null float64\n",
      "Service         2124 non-null float64\n",
      "Office          2124 non-null float64\n",
      "Construction    2124 non-null float64\n",
      "Production      2124 non-null float64\n",
      "Drive           2124 non-null float64\n",
      "Carpool         2124 non-null float64\n",
      "Transit         2124 non-null float64\n",
      "Walk            2124 non-null float64\n",
      "OtherTransp     2124 non-null float64\n",
      "WorkAtHome      2124 non-null float64\n",
      "MeanCommute     2106 non-null float64\n",
      "Employed        2124 non-null int64\n",
      "PrivateWork     2124 non-null float64\n",
      "PublicWork      2124 non-null float64\n",
      "SelfEmployed    2124 non-null float64\n",
      "FamilyWork      2124 non-null float64\n",
      "Unemployment    2124 non-null float64\n",
      "dtypes: float64(26), int64(5), object(1)\n",
      "memory usage: 547.6+ KB\n"
     ]
    }
   ],
   "source": [
    "#We believe a reasonable action to take is dropping any row where half the data or more is missing.\n",
    "#This can be performed by dropping where the threshold of non-null values is half the number of columns present.\n",
    "MainDF.dropna(thresh = (columns/2), inplace = True)\n",
    "\n",
    "#The variable \"total\" must be updated to reflect the new maximum number of non-null values per column.\n",
    "total = 2124\n",
    "\n",
    "#Output the dataframe to determine the number of columns that have null-values.\n",
    "#There are four columns will null values: Income, IncomePerCap, ChildPoverty, and MeanCommute\n",
    "MainDF.info()"
   ]
  },
  {
   "cell_type": "code",
   "execution_count": 8,
   "metadata": {},
   "outputs": [
    {
     "name": "stdout",
     "output_type": "stream",
     "text": [
      "           Income  IncomePerCap  ChildPoverty  MeanCommute\n",
      "County                                                    \n",
      "Bronx     39311.0       19532.0          37.0         42.0\n",
      "Kings     54264.0       27869.0          27.0         41.0\n",
      "New York  83351.0       69588.0          18.0         30.0\n",
      "Queens    62336.0       27596.0          18.0         42.0\n",
      "Richmond  72021.0       32022.0          16.0         42.0\n"
     ]
    }
   ],
   "source": [
    "#Create a new DataFrame grouped by County holding only the four columns with null values and determine their means.\n",
    "#These values will be used to fill the null values.\n",
    "#Note: We chose not to take a mean for each column and use that value for filling because it may drastically by county.\n",
    "#Ex. The average income in the Bronx is $39,000 meanwhile the income in New York is $83,000.\n",
    "fillValues = MainDF.groupby(['County']).mean()[[\"Income\", \"IncomePerCap\", \"ChildPoverty\", \"MeanCommute\"]]\n",
    "\n",
    "#Dividing the dataframe with two forward slashes by one will simply truncate the value so it does not reflect decimal values.\n",
    "fillValues = fillValues // 1\n",
    "\n",
    "#Output the four columns average when grouped by \"County\".\n",
    "print(fillValues)"
   ]
  },
  {
   "cell_type": "code",
   "execution_count": 9,
   "metadata": {},
   "outputs": [],
   "source": [
    "#Create a list of variables that will hold the fill values for each of the four columns and their respective county.\n",
    "#Note: four columns and five counties will lead to the creation of twenty variables.\n",
    "#Note: It was much simpler to initialize the variables using their indexes.\n",
    "IncomeBronx = fillValues.iloc[0,0]\n",
    "IncomeKings = fillValues.iloc[1,0]\n",
    "IncomeNY = fillValues.iloc[2,0]\n",
    "IncomeQueens = fillValues.iloc[3,0]\n",
    "IncomeRichmond = fillValues.iloc[4,0]\n",
    "CapBronx = fillValues.iloc[0,1]\n",
    "CapKings = fillValues.iloc[1,1]\n",
    "CapNY = fillValues.iloc[2,1]\n",
    "CapQueens = fillValues.iloc[3,1]\n",
    "CapRichmond = fillValues.iloc[4,1]\n",
    "ChildBronx = fillValues.iloc[0,2]\n",
    "ChildKings = fillValues.iloc[1,2]\n",
    "ChildNY = fillValues.iloc[2,2]\n",
    "ChildQueens = fillValues.iloc[3,2]\n",
    "ChildRichmond = fillValues.iloc[4,2]\n",
    "CommuteBronx = fillValues.iloc[0,3]\n",
    "CommuteKings = fillValues.iloc[1,3]\n",
    "CommuteNY = fillValues.iloc[2,3]\n",
    "CommuteQueens = fillValues.iloc[3,3]\n",
    "CommuteRichmond = fillValues.iloc[4,3]"
   ]
  },
  {
   "cell_type": "code",
   "execution_count": 10,
   "metadata": {},
   "outputs": [],
   "source": [
    "#General Overview for four repetitive functions\n",
    "\n",
    "#Create functions that will take in two parameters: the \"County\" and one of the four columns with null values.\n",
    "#The function will then execute on each row.\n",
    "#If the row is showing a non-null value for the column of interest, then it will simply return its non-value.\n",
    "#If the row is showing a null value for the column of interest, then it will fill that row with the appropriate variable for\n",
    "#its respective county and column.\n",
    "\n",
    "\n",
    "\n",
    "\n",
    "#The function \"fillIncome\" will be used to update the \"Income\" column by filling in rows with null values with the average\n",
    "#income for their respective county.\n",
    "\n",
    "#The parameter block is composed of two columns: the county and the income.\n",
    "def fillIncome(Block):\n",
    "    #Set up local variables for a row's county and income values.\n",
    "    county, income = Block\n",
    "    #If there is a null(missing) value and they hail from the Bronx then update the row with the average income for the Bronx.\n",
    "    if (county == \"Bronx\") & (np.isnan(income)):\n",
    "        return IncomeBronx\n",
    "    #If there is a null(missing) value and they reside in Kings then update the row with the average income for the Kings.\n",
    "    elif (county == \"Kings\") & (np.isnan(income)):\n",
    "        return IncomeKings\n",
    "    #If there is a null(missing) value and they reside in New York then update the row with the average income for the New York.\n",
    "    elif (county == \"New York\") & (np.isnan(income)):\n",
    "        return IncomeNY\n",
    "    #If there is a null(missing) value and they reside in Queens then update the row with the average income for the Queens.\n",
    "    elif (county == \"Queens\") & (np.isnan(income)):\n",
    "        return IncomeQueens\n",
    "    #If there is a null(missing) value and they reside in Richmond then update the row with the average income for the Richmond.\n",
    "    elif (county == \"Richmond\") & (np.isnan(income)):\n",
    "        return IncomeRichmond\n",
    "    else:\n",
    "    #All previous tests failed meaning that there was no null(missing) value and therefore we can simply return the non-null\n",
    "    #value that is present\n",
    "        return income\n",
    "\n",
    "    \n",
    "    #The function \"fillCap\" will be used to update the \"IncomePerCap\" column by filling in rows with null values with the\n",
    "    #average income for their respective county.\n",
    "def fillCap(Block):\n",
    "    county, cap = Block\n",
    "    if (county == \"Bronx\") & (np.isnan(cap)):\n",
    "        return CapBronx\n",
    "    elif (county == \"Kings\")& (np.isnan(cap)):\n",
    "        return CapKings\n",
    "    elif (county == \"New York\") & (np.isnan(cap)):\n",
    "        return CapNY\n",
    "    elif (county == \"Queens\") & (np.isnan(cap)):\n",
    "        return CapQueens\n",
    "    elif (county == \"Richmond\") & (np.isnan(cap)):\n",
    "        return CapRichmond\n",
    "    else:\n",
    "        return cap\n",
    "\n",
    "    #The function \"fillChild\" will be used to update the \"ChildPoverty\" column by filling in rows with null values with the\n",
    "    #average income for their respective county.\n",
    "def fillChild(Block):\n",
    "    county, child = Block\n",
    "    if (county == \"Bronx\") & np.isnan(child):\n",
    "        return ChildBronx\n",
    "    elif (county == \"Kings\") & np.isnan(child):\n",
    "        return ChildKings\n",
    "    elif (county == \"New York\") & np.isnan(child):\n",
    "        return ChildNY\n",
    "    elif (county == \"Queens\") & np.isnan(child):\n",
    "        return ChildQueens\n",
    "    elif (county == \"Richmond\") & np.isnan(child):\n",
    "        return ChildRichmond\n",
    "    else:\n",
    "        return child\n",
    "\n",
    "    #The function \"fillCommute\" will be used to update the \"MeanCommute\" column by filling in rows with null values with the\n",
    "    #average income for their respective county.\n",
    "def fillCommute(Block):\n",
    "    county, commute = Block\n",
    "    if (county == \"Bronx\") & np.isnan(commute):\n",
    "        return CommuteBronx\n",
    "    elif (county == \"Kings\") & np.isnan(commute):\n",
    "        return CommuteKings\n",
    "    elif (county == \"New York\") & np.isnan(commute):\n",
    "        return CommuteNY\n",
    "    elif (county == \"Queens\") & np.isnan(commute):\n",
    "        return CommuteQueens\n",
    "    elif (county == \"Richmond\") & np.isnan(commute):\n",
    "        return CommuteRichmond\n",
    "    else:\n",
    "        return commute"
   ]
  },
  {
   "cell_type": "code",
   "execution_count": 11,
   "metadata": {},
   "outputs": [],
   "source": [
    "#We will apply the created functions to their respective columns of interest ex. fillIncome applied to the \"Income\" column.\n",
    "#Note: We will overwrite the output to columns of interest as it would be more efficient than creating new columns and dropping\n",
    "#the older columns.\n",
    "#Note: The county and column of interst are passed as parameters and we set axis to 1 to refer to the column values.\n",
    "\n",
    "#This applied function will fill null values with the average \"Income\" by county and also leave non-null values unaffected.\n",
    "MainDF[\"Income\"] = MainDF[[\"County\", \"Income\"]].apply(fillIncome, axis = 1)\n",
    "\n",
    "#This applied function will fill null values with the average \"IncomePerCap\" by county and also leave non-null values unaffected.\n",
    "MainDF[\"IncomePerCap\"] = MainDF[[\"County\", \"IncomePerCap\"]].apply(fillCap, axis = 1)\n",
    "\n",
    "#This applied function will fill null values with the average \"ChildPoverty\" by county and also leave non-null values unaffected.\n",
    "MainDF[\"ChildPoverty\"] = MainDF[[\"County\", \"ChildPoverty\"]].apply(fillChild, axis = 1)\n",
    "\n",
    "#This applied function will fill null values with the average \"MeanCommute\" by county and also leave non-null values unaffected.\n",
    "MainDF[\"MeanCommute\"] = MainDF[[\"County\", \"MeanCommute\"]].apply(fillCommute, axis = 1)\n"
   ]
  },
  {
   "cell_type": "code",
   "execution_count": 12,
   "metadata": {},
   "outputs": [],
   "source": [
    "#Lastly, convert the column \"County\" from an object to a category type for later use with the creation of plots.\n",
    "MainDF['County'] = MainDF['County'].astype('category')"
   ]
  },
  {
   "cell_type": "code",
   "execution_count": 13,
   "metadata": {},
   "outputs": [
    {
     "name": "stdout",
     "output_type": "stream",
     "text": [
      "<class 'pandas.core.frame.DataFrame'>\n",
      "Int64Index: 2124 entries, 1 to 2165\n",
      "Data columns (total 32 columns):\n",
      "County          2124 non-null category\n",
      "TotalPop        2124 non-null int64\n",
      "Men             2124 non-null int64\n",
      "Women           2124 non-null int64\n",
      "Hispanic        2124 non-null float64\n",
      "White           2124 non-null float64\n",
      "Black           2124 non-null float64\n",
      "Native          2124 non-null float64\n",
      "Asian           2124 non-null float64\n",
      "Citizen         2124 non-null int64\n",
      "Income          2124 non-null float64\n",
      "IncomePerCap    2124 non-null float64\n",
      "Poverty         2124 non-null float64\n",
      "ChildPoverty    2124 non-null float64\n",
      "Professional    2124 non-null float64\n",
      "Service         2124 non-null float64\n",
      "Office          2124 non-null float64\n",
      "Construction    2124 non-null float64\n",
      "Production      2124 non-null float64\n",
      "Drive           2124 non-null float64\n",
      "Carpool         2124 non-null float64\n",
      "Transit         2124 non-null float64\n",
      "Walk            2124 non-null float64\n",
      "OtherTransp     2124 non-null float64\n",
      "WorkAtHome      2124 non-null float64\n",
      "MeanCommute     2124 non-null float64\n",
      "Employed        2124 non-null int64\n",
      "PrivateWork     2124 non-null float64\n",
      "PublicWork      2124 non-null float64\n",
      "SelfEmployed    2124 non-null float64\n",
      "FamilyWork      2124 non-null float64\n",
      "Unemployment    2124 non-null float64\n",
      "dtypes: category(1), float64(26), int64(5)\n",
      "memory usage: 533.3 KB\n"
     ]
    }
   ],
   "source": [
    "#Confirm whether all values non-null values have been filled and if the column \"County\" was converted to a category type.\n",
    "MainDF.info()\n",
    "\n",
    "#Confirmed. The number of rows is 2124 with all of their fields having non-null values."
   ]
  },
  {
   "cell_type": "code",
   "execution_count": 14,
   "metadata": {},
   "outputs": [],
   "source": [
    "#Another challenge noted is that many columns are defined in percentages, e.g. Percentages are given for the five ethnicities,\n",
    "#the five job types, the six modes of commuting to work, and the four job sectors in which one is employed. This presents an\n",
    "#for statistical testing because the population per block(row) are not equally distributed and thus taking averages of \n",
    "#percentages will give equal weight for both small and largely populated blocks.\n",
    "\n",
    "\n",
    "#Conversion is necessary to raw numbers per column which can be done by using the total population when addressing ethnicity,\n",
    "#and the total number of employed individuals when the job type, mode of commuting, and the job sector.\n",
    "\n",
    "\n",
    "\n",
    "#Create a new dataframe called \"ConvertedMain\" which will hold the same data as MainDF but will undergo conversion from \n",
    "#percentages to decimal values.\n",
    "ConvertedMain = MainDF.copy(deep = True)"
   ]
  },
  {
   "cell_type": "code",
   "execution_count": 15,
   "metadata": {},
   "outputs": [],
   "source": [
    "#This function will perform the conversion from a percentage to a decimal value.\n",
    "def percentageToValue(Block):\n",
    "    #The two columns passed are its population number and the percentage for the column of interest.\n",
    "    population, percentage = Block\n",
    "    #The math is simply dividing the percentage by one hundred and multiplying by the population.\n",
    "    value = (percentage/100) * population\n",
    "    #We perform the code below to truncate any decimal values.\n",
    "    value = percentage // 1\n",
    "    #Return the decimal value for each row\n",
    "    return value"
   ]
  },
  {
   "cell_type": "code",
   "execution_count": 16,
   "metadata": {},
   "outputs": [],
   "source": [
    "#Apply the \"percentageToValue\" function to the ethnicity columns.\n",
    "#Note: our population parameter will come from the \"TotalPop\" column because all people within the block have an ethnicity.\n",
    "#Note: we will overwrite the column of interest rather than adding a new column and dropping the older column\n",
    "ConvertedMain[\"Hispanic\"] = ConvertedMain[[\"TotalPop\", \"Hispanic\"]].apply(percentageToValue, axis = 1)\n",
    "ConvertedMain[\"White\"] = ConvertedMain[[\"TotalPop\", \"White\"]].apply(percentageToValue, axis = 1)\n",
    "ConvertedMain[\"Black\"] = ConvertedMain[[\"TotalPop\", \"Black\"]].apply(percentageToValue, axis = 1)\n",
    "ConvertedMain[\"Native\"] = ConvertedMain[[\"TotalPop\", \"Native\"]].apply(percentageToValue, axis = 1)\n",
    "ConvertedMain[\"Asian\"] = ConvertedMain[[\"TotalPop\", \"Asian\"]].apply(percentageToValue, axis = 1)\n",
    "\n",
    "\n",
    "#Apply the \"percentageToValue\" function to the job type columns.\n",
    "#Note: our population parameter will come from the \"Employed\" column rather than the \"TotalPop\" column because not everyone\n",
    "#residing in the block is employed. Using the \"TotalPop\" would inflate the values because in reality the total number of\n",
    "#employed individuals is lower.\n",
    "ConvertedMain[\"Professional\"] = ConvertedMain[[\"Employed\", \"Professional\"]].apply(percentageToValue, axis = 1)\n",
    "ConvertedMain[\"Service\"] = ConvertedMain[[\"Employed\", \"Service\"]].apply(percentageToValue, axis = 1)\n",
    "ConvertedMain[\"Office\"] = ConvertedMain[[\"Employed\", \"Office\"]].apply(percentageToValue, axis = 1)\n",
    "ConvertedMain[\"Construction\"] = ConvertedMain[[\"Employed\", \"Construction\"]].apply(percentageToValue, axis = 1)\n",
    "ConvertedMain[\"Production\"] = ConvertedMain[[\"Employed\", \"Production\"]].apply(percentageToValue, axis = 1)\n",
    "\n",
    "#Apply the \"percentageToValue\" function to the mode of commuting columns.\n",
    "#Note: our population parameter will come from the \"Employed\" column rather than the \"TotalPop\" column because not everyone\n",
    "#residing in the block is employed. Using the \"TotalPop\" would inflate the values because in reality the total number of\n",
    "#employed individuals is lower.\n",
    "ConvertedMain[\"Drive\"] = ConvertedMain[[\"Employed\", \"Drive\"]].apply(percentageToValue, axis = 1)\n",
    "ConvertedMain[\"Carpool\"] = ConvertedMain[[\"Employed\", \"Carpool\"]].apply(percentageToValue, axis = 1)\n",
    "ConvertedMain[\"Transit\"] = ConvertedMain[[\"Employed\", \"Transit\"]].apply(percentageToValue, axis = 1)\n",
    "ConvertedMain[\"Walk\"] = ConvertedMain[[\"Employed\", \"Walk\"]].apply(percentageToValue, axis = 1)\n",
    "ConvertedMain[\"OtherTransp\"] = ConvertedMain[[\"Employed\", \"OtherTransp\"]].apply(percentageToValue, axis = 1)\n",
    "ConvertedMain[\"WorkAtHome\"] = ConvertedMain[[\"Employed\", \"WorkAtHome\"]].apply(percentageToValue, axis = 1)\n",
    "\n",
    "#Apply the \"percentageToValue\" function to the job sector columns.\n",
    "#Note: our population parameter will come from the \"Employed\" column rather than the \"TotalPop\" column because not everyone\n",
    "#residing in the block is employed. Using the \"TotalPop\" would inflate the values because in reality the total number of\n",
    "#employed individuals is lower.\n",
    "ConvertedMain[\"PrivateWork\"] = ConvertedMain[[\"Employed\", \"PrivateWork\"]].apply(percentageToValue, axis = 1)\n",
    "ConvertedMain[\"PublicWork\"] = ConvertedMain[[\"Employed\", \"PublicWork\"]].apply(percentageToValue, axis = 1)\n",
    "ConvertedMain[\"SelfEmployed\"] = ConvertedMain[[\"Employed\", \"SelfEmployed\"]].apply(percentageToValue, axis = 1)\n",
    "ConvertedMain[\"FamilyWork\"] = ConvertedMain[[\"Employed\", \"FamilyWork\"]].apply(percentageToValue, axis = 1)"
   ]
  },
  {
   "cell_type": "code",
   "execution_count": 17,
   "metadata": {},
   "outputs": [
    {
     "data": {
      "text/html": [
       "<div>\n",
       "<style scoped>\n",
       "    .dataframe tbody tr th:only-of-type {\n",
       "        vertical-align: middle;\n",
       "    }\n",
       "\n",
       "    .dataframe tbody tr th {\n",
       "        vertical-align: top;\n",
       "    }\n",
       "\n",
       "    .dataframe thead th {\n",
       "        text-align: right;\n",
       "    }\n",
       "</style>\n",
       "<table border=\"1\" class=\"dataframe\">\n",
       "  <thead>\n",
       "    <tr style=\"text-align: right;\">\n",
       "      <th></th>\n",
       "      <th>County</th>\n",
       "      <th>TotalPop</th>\n",
       "      <th>Men</th>\n",
       "      <th>Women</th>\n",
       "      <th>Hispanic</th>\n",
       "      <th>White</th>\n",
       "      <th>Black</th>\n",
       "      <th>Native</th>\n",
       "      <th>Asian</th>\n",
       "      <th>Citizen</th>\n",
       "      <th>...</th>\n",
       "      <th>Walk</th>\n",
       "      <th>OtherTransp</th>\n",
       "      <th>WorkAtHome</th>\n",
       "      <th>MeanCommute</th>\n",
       "      <th>Employed</th>\n",
       "      <th>PrivateWork</th>\n",
       "      <th>PublicWork</th>\n",
       "      <th>SelfEmployed</th>\n",
       "      <th>FamilyWork</th>\n",
       "      <th>Unemployment</th>\n",
       "    </tr>\n",
       "  </thead>\n",
       "  <tbody>\n",
       "    <tr>\n",
       "      <th>1</th>\n",
       "      <td>Bronx</td>\n",
       "      <td>5403</td>\n",
       "      <td>2659</td>\n",
       "      <td>2744</td>\n",
       "      <td>75.0</td>\n",
       "      <td>2.0</td>\n",
       "      <td>16.0</td>\n",
       "      <td>0.0</td>\n",
       "      <td>4.0</td>\n",
       "      <td>3639</td>\n",
       "      <td>...</td>\n",
       "      <td>2.0</td>\n",
       "      <td>0.0</td>\n",
       "      <td>0.0</td>\n",
       "      <td>43.0</td>\n",
       "      <td>2308</td>\n",
       "      <td>80.0</td>\n",
       "      <td>16.0</td>\n",
       "      <td>2.0</td>\n",
       "      <td>0.0</td>\n",
       "      <td>7.7</td>\n",
       "    </tr>\n",
       "    <tr>\n",
       "      <th>2</th>\n",
       "      <td>Bronx</td>\n",
       "      <td>5915</td>\n",
       "      <td>2896</td>\n",
       "      <td>3019</td>\n",
       "      <td>62.0</td>\n",
       "      <td>3.0</td>\n",
       "      <td>30.0</td>\n",
       "      <td>0.0</td>\n",
       "      <td>0.0</td>\n",
       "      <td>4100</td>\n",
       "      <td>...</td>\n",
       "      <td>1.0</td>\n",
       "      <td>0.0</td>\n",
       "      <td>2.0</td>\n",
       "      <td>45.0</td>\n",
       "      <td>2675</td>\n",
       "      <td>71.0</td>\n",
       "      <td>25.0</td>\n",
       "      <td>2.0</td>\n",
       "      <td>0.0</td>\n",
       "      <td>9.5</td>\n",
       "    </tr>\n",
       "    <tr>\n",
       "      <th>3</th>\n",
       "      <td>Bronx</td>\n",
       "      <td>5879</td>\n",
       "      <td>2558</td>\n",
       "      <td>3321</td>\n",
       "      <td>65.0</td>\n",
       "      <td>1.0</td>\n",
       "      <td>32.0</td>\n",
       "      <td>0.0</td>\n",
       "      <td>0.0</td>\n",
       "      <td>3536</td>\n",
       "      <td>...</td>\n",
       "      <td>8.0</td>\n",
       "      <td>1.0</td>\n",
       "      <td>1.0</td>\n",
       "      <td>38.8</td>\n",
       "      <td>2120</td>\n",
       "      <td>75.0</td>\n",
       "      <td>21.0</td>\n",
       "      <td>3.0</td>\n",
       "      <td>0.0</td>\n",
       "      <td>8.7</td>\n",
       "    </tr>\n",
       "    <tr>\n",
       "      <th>4</th>\n",
       "      <td>Bronx</td>\n",
       "      <td>2591</td>\n",
       "      <td>1206</td>\n",
       "      <td>1385</td>\n",
       "      <td>55.0</td>\n",
       "      <td>9.0</td>\n",
       "      <td>29.0</td>\n",
       "      <td>0.0</td>\n",
       "      <td>2.0</td>\n",
       "      <td>1557</td>\n",
       "      <td>...</td>\n",
       "      <td>3.0</td>\n",
       "      <td>2.0</td>\n",
       "      <td>6.0</td>\n",
       "      <td>45.4</td>\n",
       "      <td>1083</td>\n",
       "      <td>76.0</td>\n",
       "      <td>15.0</td>\n",
       "      <td>7.0</td>\n",
       "      <td>0.0</td>\n",
       "      <td>19.2</td>\n",
       "    </tr>\n",
       "    <tr>\n",
       "      <th>5</th>\n",
       "      <td>Bronx</td>\n",
       "      <td>8516</td>\n",
       "      <td>3301</td>\n",
       "      <td>5215</td>\n",
       "      <td>61.0</td>\n",
       "      <td>1.0</td>\n",
       "      <td>31.0</td>\n",
       "      <td>0.0</td>\n",
       "      <td>3.0</td>\n",
       "      <td>5436</td>\n",
       "      <td>...</td>\n",
       "      <td>4.0</td>\n",
       "      <td>1.0</td>\n",
       "      <td>0.0</td>\n",
       "      <td>46.0</td>\n",
       "      <td>2508</td>\n",
       "      <td>71.0</td>\n",
       "      <td>21.0</td>\n",
       "      <td>7.0</td>\n",
       "      <td>0.0</td>\n",
       "      <td>17.2</td>\n",
       "    </tr>\n",
       "  </tbody>\n",
       "</table>\n",
       "<p>5 rows × 32 columns</p>\n",
       "</div>"
      ],
      "text/plain": [
       "  County  TotalPop   Men  Women  Hispanic  White  Black  Native  Asian  \\\n",
       "1  Bronx      5403  2659   2744      75.0    2.0   16.0     0.0    4.0   \n",
       "2  Bronx      5915  2896   3019      62.0    3.0   30.0     0.0    0.0   \n",
       "3  Bronx      5879  2558   3321      65.0    1.0   32.0     0.0    0.0   \n",
       "4  Bronx      2591  1206   1385      55.0    9.0   29.0     0.0    2.0   \n",
       "5  Bronx      8516  3301   5215      61.0    1.0   31.0     0.0    3.0   \n",
       "\n",
       "   Citizen  ...  Walk  OtherTransp  WorkAtHome  MeanCommute  Employed  \\\n",
       "1     3639  ...   2.0          0.0         0.0         43.0      2308   \n",
       "2     4100  ...   1.0          0.0         2.0         45.0      2675   \n",
       "3     3536  ...   8.0          1.0         1.0         38.8      2120   \n",
       "4     1557  ...   3.0          2.0         6.0         45.4      1083   \n",
       "5     5436  ...   4.0          1.0         0.0         46.0      2508   \n",
       "\n",
       "   PrivateWork  PublicWork  SelfEmployed  FamilyWork  Unemployment  \n",
       "1         80.0        16.0           2.0         0.0           7.7  \n",
       "2         71.0        25.0           2.0         0.0           9.5  \n",
       "3         75.0        21.0           3.0         0.0           8.7  \n",
       "4         76.0        15.0           7.0         0.0          19.2  \n",
       "5         71.0        21.0           7.0         0.0          17.2  \n",
       "\n",
       "[5 rows x 32 columns]"
      ]
     },
     "execution_count": 17,
     "metadata": {},
     "output_type": "execute_result"
    }
   ],
   "source": [
    "#Output the dataframe to confirm that the columns reflect decimal values rather than percentages.\n",
    "ConvertedMain.head()"
   ]
  },
  {
   "cell_type": "markdown",
   "metadata": {},
   "source": [
    "## 1. Let's Consider our Population - Demographics"
   ]
  },
  {
   "cell_type": "markdown",
   "metadata": {},
   "source": [
    "Questions <br> <br>\n",
    "How many people reside in each county? <br>\n",
    "Are there more males or females on average? <br>\n",
    "Which counties have the most and least number of blocks? <br>\n",
    "Which counties are most congested and which are the least congested? <br>\n",
    "Is our Population normally distributed? <br>"
   ]
  },
  {
   "cell_type": "code",
   "execution_count": 18,
   "metadata": {},
   "outputs": [],
   "source": [
    "#Include libraries for visualization and set inline to view output on Jupyter.\n",
    "import matplotlib.pyplot as plt\n",
    "import seaborn as sns\n",
    "%matplotlib inline\n",
    "\n",
    "#sns.set function. to use template styles. \n",
    "sns.set()"
   ]
  },
  {
   "cell_type": "code",
   "execution_count": 19,
   "metadata": {},
   "outputs": [
    {
     "data": {
      "text/html": [
       "<div>\n",
       "<style scoped>\n",
       "    .dataframe tbody tr th:only-of-type {\n",
       "        vertical-align: middle;\n",
       "    }\n",
       "\n",
       "    .dataframe tbody tr th {\n",
       "        vertical-align: top;\n",
       "    }\n",
       "\n",
       "    .dataframe thead th {\n",
       "        text-align: right;\n",
       "    }\n",
       "</style>\n",
       "<table border=\"1\" class=\"dataframe\">\n",
       "  <thead>\n",
       "    <tr style=\"text-align: right;\">\n",
       "      <th></th>\n",
       "      <th>County</th>\n",
       "      <th>TotalPop</th>\n",
       "      <th>Men</th>\n",
       "      <th>Women</th>\n",
       "      <th>Citizen</th>\n",
       "    </tr>\n",
       "  </thead>\n",
       "  <tbody>\n",
       "    <tr>\n",
       "      <th>1</th>\n",
       "      <td>Bronx</td>\n",
       "      <td>5403</td>\n",
       "      <td>2659</td>\n",
       "      <td>2744</td>\n",
       "      <td>3639</td>\n",
       "    </tr>\n",
       "    <tr>\n",
       "      <th>2</th>\n",
       "      <td>Bronx</td>\n",
       "      <td>5915</td>\n",
       "      <td>2896</td>\n",
       "      <td>3019</td>\n",
       "      <td>4100</td>\n",
       "    </tr>\n",
       "    <tr>\n",
       "      <th>3</th>\n",
       "      <td>Bronx</td>\n",
       "      <td>5879</td>\n",
       "      <td>2558</td>\n",
       "      <td>3321</td>\n",
       "      <td>3536</td>\n",
       "    </tr>\n",
       "    <tr>\n",
       "      <th>4</th>\n",
       "      <td>Bronx</td>\n",
       "      <td>2591</td>\n",
       "      <td>1206</td>\n",
       "      <td>1385</td>\n",
       "      <td>1557</td>\n",
       "    </tr>\n",
       "    <tr>\n",
       "      <th>5</th>\n",
       "      <td>Bronx</td>\n",
       "      <td>8516</td>\n",
       "      <td>3301</td>\n",
       "      <td>5215</td>\n",
       "      <td>5436</td>\n",
       "    </tr>\n",
       "  </tbody>\n",
       "</table>\n",
       "</div>"
      ],
      "text/plain": [
       "  County  TotalPop   Men  Women  Citizen\n",
       "1  Bronx      5403  2659   2744     3639\n",
       "2  Bronx      5915  2896   3019     4100\n",
       "3  Bronx      5879  2558   3321     3536\n",
       "4  Bronx      2591  1206   1385     1557\n",
       "5  Bronx      8516  3301   5215     5436"
      ]
     },
     "execution_count": 19,
     "metadata": {},
     "output_type": "execute_result"
    }
   ],
   "source": [
    "#Create a dataframe to group columns necessary to analyze the demographics.\n",
    "Demographics = ConvertedMain[[\"County\", \"TotalPop\", \"Men\", \"Women\", \"Citizen\"]].copy(deep = True)\n",
    "Demographics.head()"
   ]
  },
  {
   "cell_type": "code",
   "execution_count": 20,
   "metadata": {},
   "outputs": [
    {
     "data": {
      "text/html": [
       "<div>\n",
       "<style scoped>\n",
       "    .dataframe tbody tr th:only-of-type {\n",
       "        vertical-align: middle;\n",
       "    }\n",
       "\n",
       "    .dataframe tbody tr th {\n",
       "        vertical-align: top;\n",
       "    }\n",
       "\n",
       "    .dataframe thead tr th {\n",
       "        text-align: left;\n",
       "    }\n",
       "\n",
       "    .dataframe thead tr:last-of-type th {\n",
       "        text-align: right;\n",
       "    }\n",
       "</style>\n",
       "<table border=\"1\" class=\"dataframe\">\n",
       "  <thead>\n",
       "    <tr>\n",
       "      <th></th>\n",
       "      <th colspan=\"4\" halign=\"left\">sum</th>\n",
       "      <th colspan=\"4\" halign=\"left\">mean</th>\n",
       "      <th colspan=\"4\" halign=\"left\">std</th>\n",
       "    </tr>\n",
       "    <tr>\n",
       "      <th></th>\n",
       "      <th>Citizen</th>\n",
       "      <th>Men</th>\n",
       "      <th>TotalPop</th>\n",
       "      <th>Women</th>\n",
       "      <th>Citizen</th>\n",
       "      <th>Men</th>\n",
       "      <th>TotalPop</th>\n",
       "      <th>Women</th>\n",
       "      <th>Citizen</th>\n",
       "      <th>Men</th>\n",
       "      <th>TotalPop</th>\n",
       "      <th>Women</th>\n",
       "    </tr>\n",
       "    <tr>\n",
       "      <th>County</th>\n",
       "      <th></th>\n",
       "      <th></th>\n",
       "      <th></th>\n",
       "      <th></th>\n",
       "      <th></th>\n",
       "      <th></th>\n",
       "      <th></th>\n",
       "      <th></th>\n",
       "      <th></th>\n",
       "      <th></th>\n",
       "      <th></th>\n",
       "      <th></th>\n",
       "    </tr>\n",
       "  </thead>\n",
       "  <tbody>\n",
       "    <tr>\n",
       "      <th>Bronx</th>\n",
       "      <td>813841</td>\n",
       "      <td>665314</td>\n",
       "      <td>1420654</td>\n",
       "      <td>755340</td>\n",
       "      <td>2429.0</td>\n",
       "      <td>1986.0</td>\n",
       "      <td>4240.0</td>\n",
       "      <td>2254.0</td>\n",
       "      <td>1597.0</td>\n",
       "      <td>1118.0</td>\n",
       "      <td>2395.0</td>\n",
       "      <td>1301.0</td>\n",
       "    </tr>\n",
       "    <tr>\n",
       "      <th>Kings</th>\n",
       "      <td>1600119</td>\n",
       "      <td>1227036</td>\n",
       "      <td>2593184</td>\n",
       "      <td>1366148</td>\n",
       "      <td>2133.0</td>\n",
       "      <td>1636.0</td>\n",
       "      <td>3457.0</td>\n",
       "      <td>1821.0</td>\n",
       "      <td>850.0</td>\n",
       "      <td>667.0</td>\n",
       "      <td>1379.0</td>\n",
       "      <td>751.0</td>\n",
       "    </tr>\n",
       "    <tr>\n",
       "      <th>New York</th>\n",
       "      <td>1156884</td>\n",
       "      <td>769410</td>\n",
       "      <td>1629454</td>\n",
       "      <td>860044</td>\n",
       "      <td>4117.0</td>\n",
       "      <td>2738.0</td>\n",
       "      <td>5798.0</td>\n",
       "      <td>3060.0</td>\n",
       "      <td>2220.0</td>\n",
       "      <td>1432.0</td>\n",
       "      <td>3087.0</td>\n",
       "      <td>1710.0</td>\n",
       "    </tr>\n",
       "    <tr>\n",
       "      <th>Queens</th>\n",
       "      <td>1367889</td>\n",
       "      <td>1115459</td>\n",
       "      <td>2301139</td>\n",
       "      <td>1185680</td>\n",
       "      <td>2104.0</td>\n",
       "      <td>1716.0</td>\n",
       "      <td>3540.0</td>\n",
       "      <td>1824.0</td>\n",
       "      <td>1160.0</td>\n",
       "      <td>938.0</td>\n",
       "      <td>1943.0</td>\n",
       "      <td>1034.0</td>\n",
       "    </tr>\n",
       "    <tr>\n",
       "      <th>Richmond</th>\n",
       "      <td>333158</td>\n",
       "      <td>228703</td>\n",
       "      <td>472481</td>\n",
       "      <td>243778</td>\n",
       "      <td>3084.0</td>\n",
       "      <td>2117.0</td>\n",
       "      <td>4374.0</td>\n",
       "      <td>2257.0</td>\n",
       "      <td>1488.0</td>\n",
       "      <td>988.0</td>\n",
       "      <td>2065.0</td>\n",
       "      <td>1096.0</td>\n",
       "    </tr>\n",
       "    <tr>\n",
       "      <th>All</th>\n",
       "      <td>5271891</td>\n",
       "      <td>4005922</td>\n",
       "      <td>8416912</td>\n",
       "      <td>4410990</td>\n",
       "      <td>2482.0</td>\n",
       "      <td>1886.0</td>\n",
       "      <td>3962.0</td>\n",
       "      <td>2076.0</td>\n",
       "      <td>1512.0</td>\n",
       "      <td>1036.0</td>\n",
       "      <td>2193.0</td>\n",
       "      <td>1189.0</td>\n",
       "    </tr>\n",
       "  </tbody>\n",
       "</table>\n",
       "</div>"
      ],
      "text/plain": [
       "              sum                               mean                           \\\n",
       "          Citizen      Men TotalPop    Women Citizen     Men TotalPop   Women   \n",
       "County                                                                          \n",
       "Bronx      813841   665314  1420654   755340  2429.0  1986.0   4240.0  2254.0   \n",
       "Kings     1600119  1227036  2593184  1366148  2133.0  1636.0   3457.0  1821.0   \n",
       "New York  1156884   769410  1629454   860044  4117.0  2738.0   5798.0  3060.0   \n",
       "Queens    1367889  1115459  2301139  1185680  2104.0  1716.0   3540.0  1824.0   \n",
       "Richmond   333158   228703   472481   243778  3084.0  2117.0   4374.0  2257.0   \n",
       "All       5271891  4005922  8416912  4410990  2482.0  1886.0   3962.0  2076.0   \n",
       "\n",
       "             std                           \n",
       "         Citizen     Men TotalPop   Women  \n",
       "County                                     \n",
       "Bronx     1597.0  1118.0   2395.0  1301.0  \n",
       "Kings      850.0   667.0   1379.0   751.0  \n",
       "New York  2220.0  1432.0   3087.0  1710.0  \n",
       "Queens    1160.0   938.0   1943.0  1034.0  \n",
       "Richmond  1488.0   988.0   2065.0  1096.0  \n",
       "All       1512.0  1036.0   2193.0  1189.0  "
      ]
     },
     "execution_count": 20,
     "metadata": {},
     "output_type": "execute_result"
    }
   ],
   "source": [
    "#Create a pivot table to analyze the sum, mean, and standard deviation of the columns\n",
    "#using aggfunc parameters np.sum and np.mean\n",
    "pivotDemo = pd.pivot_table(ConvertedMain, index= 'County', values= [\"TotalPop\", \"Men\", \"Women\", \"Citizen\"], aggfunc= [ np.sum, np.mean, np.std],margins=True)\n",
    "#truncate values to remove the decimal\n",
    "pivotDemo = pivotDemo // 1\n",
    "pivotDemo\n",
    "\n",
    "#Note: Total population = 8.4 million, Bronx = 1.4 million, Kings = 2.6 million\n",
    "#NY = 1.6 million, Queens = 2.3 million, Richmond = .5 million\n",
    "#Women > Men (400 thousand)\n",
    "#Most congested = NY (5,800), Least congested = Kings  & Queens (3500 each)\n",
    "#New York has a larger standard deviation(spread) than Kings and Queens for the TotalPop, 3000 vs 1400 & 2000\n",
    "#Despite NY being less populated, it's spread is higher between population between the blocks"
   ]
  },
  {
   "cell_type": "code",
   "execution_count": 21,
   "metadata": {},
   "outputs": [
    {
     "data": {
      "text/plain": [
       "<seaborn.axisgrid.FacetGrid at 0x170715de438>"
      ]
     },
     "execution_count": 21,
     "metadata": {},
     "output_type": "execute_result"
    },
    {
     "data": {
      "image/png": "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\n",
      "text/plain": [
       "<Figure size 360x360 with 1 Axes>"
      ]
     },
     "metadata": {
      "needs_background": "light"
     },
     "output_type": "display_data"
    }
   ],
   "source": [
    "# Representation of the population mean per County:\n",
    "sns.factorplot(x='County',y='TotalPop',data=Demographics,kind='bar')\n",
    "\n",
    "\n"
   ]
  },
  {
   "cell_type": "code",
   "execution_count": 22,
   "metadata": {},
   "outputs": [],
   "source": [
    "#Create list for the Counties within our dataframe using the unique function.\n",
    "Counties = list(Demographics[\"County\"].unique())\n",
    "#Create list for the \"sum\" values of \"TotalPop\" for each county with data gathered from our pivotDemo.\n",
    "Sum = list(pivotDemo[\"sum\"][\"TotalPop\"])\n",
    "#Remove the margin value.\n",
    "del Sum[-1]\n"
   ]
  },
  {
   "cell_type": "code",
   "execution_count": 23,
   "metadata": {},
   "outputs": [
    {
     "data": {
      "text/plain": [
       "Text(0, 0.5, 'Total Population')"
      ]
     },
     "execution_count": 23,
     "metadata": {},
     "output_type": "execute_result"
    },
    {
     "data": {
      "image/png": "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\n",
      "text/plain": [
       "<Figure size 432x288 with 1 Axes>"
      ]
     },
     "metadata": {
      "needs_background": "light"
     },
     "output_type": "display_data"
    }
   ],
   "source": [
    "#Representation of the total population per county.\n",
    "#Create the object\n",
    "plt.figure()\n",
    "#Use Counties as the x and Sum as the y values. Increase width for visual effect.\n",
    "ax = sns.stripplot(Counties, Sum, linewidth = 20);\n",
    "#Give an appropriate title\n",
    "plt.title('Sum of TotalPopulation of Blocks Per County')\n",
    "#Set x label\n",
    "plt.xlabel('New York Counties')\n",
    "#Set y label\n",
    "plt.ylabel('Total Population')\n"
   ]
  },
  {
   "cell_type": "code",
   "execution_count": 24,
   "metadata": {},
   "outputs": [
    {
     "name": "stdout",
     "output_type": "stream",
     "text": [
      "Kings       750\n",
      "Queens      650\n",
      "Bronx       335\n",
      "New York    281\n",
      "Richmond    108\n",
      "Name: County, dtype: int64\n"
     ]
    },
    {
     "data": {
      "text/plain": [
       "Text(0.5, 1.0, 'Number of Blocks per County')"
      ]
     },
     "execution_count": 24,
     "metadata": {},
     "output_type": "execute_result"
    },
    {
     "data": {
      "image/png": "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\n",
      "text/plain": [
       "<Figure size 432x288 with 1 Axes>"
      ]
     },
     "metadata": {
      "needs_background": "light"
     },
     "output_type": "display_data"
    }
   ],
   "source": [
    "#Use the count function to determine the number of blocks per county\n",
    "print(ConvertedMain['County'].value_counts())\n",
    "\n",
    "\n",
    "#Create a bar graph to represent the number of blocks per county:\n",
    "#call the hist function, pass it the county column of the dataframe\n",
    "plt.hist(ConvertedMain['County'])\n",
    "\n",
    "#X-axis label\n",
    "plt.xlabel ('New York City Counties')\n",
    "\n",
    "#Y-axis label\n",
    "plt.ylabel('Number of blocks')\n",
    "\n",
    "#Set title\n",
    "plt.title(\"Number of Blocks per County\")"
   ]
  },
  {
   "cell_type": "code",
   "execution_count": 25,
   "metadata": {},
   "outputs": [
    {
     "name": "stdout",
     "output_type": "stream",
     "text": [
      "stat = 954.85 p = 4.529638812870035e-208\n",
      "Probably not Gaussian\n"
     ]
    },
    {
     "data": {
      "image/png": "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\n",
      "text/plain": [
       "<Figure size 432x288 with 1 Axes>"
      ]
     },
     "metadata": {
      "needs_background": "light"
     },
     "output_type": "display_data"
    }
   ],
   "source": [
    "#Let us also see how the population is distributed:\n",
    "#To help visualize whether it is normal we inlcude the library norm which\n",
    "#will plot a normal distribution on top of our data\n",
    "#Note: Black line is the normal distribution and blue line is that of the data\n",
    "from scipy.stats import norm\n",
    "sns.distplot(Demographics['TotalPop'], fit = norm, axlabel = \"TotalPop\")\n",
    "#Note:The mean of each block is approximately 4000 and it is skewed to the right\n",
    "\n",
    "#Include the library to perform hypothesis testing: normal distribution\n",
    "from scipy.stats import normaltest\n",
    "import scipy.stats as stats\n",
    "#Set local variables for the test statistic and p value that are calculated\n",
    "#by performing a normaltest on the \"TotalPop\"\n",
    "stat, p = normaltest(Demographics[\"TotalPop\"])\n",
    "print(\"stat = {0:.2f} p = {1}\".format(stat, p))\n",
    "if p > 0.05:\n",
    "  print('Probably Gaussian')\n",
    "else:\n",
    "  print('Probably not Gaussian')\n",
    "#Large sample sizes tend to fail the normality test\n",
    "#There is strong evidence(from statistical testing) to reject the null hypothesis and suggest that the total population \n",
    "#is not normally distributed."
   ]
  },
  {
   "cell_type": "markdown",
   "metadata": {},
   "source": [
    "## 2. Wealth and Ethnic Disparities - Disparities"
   ]
  },
  {
   "cell_type": "markdown",
   "metadata": {},
   "source": [
    "We would like to consider deeper topics such as what are the wealth and ethnic disparities among counties, if any? Thus, we created a second pivot table with a new set of questions. <br> <br>\n",
    "Questions <br> <br>\n",
    "What are the distribution of ethnicities per county?<br>\n",
    "What are the disparities in median household income and income per capita per county? <br>\n",
    "What are the disparities of Poverty and ChildPoverty per county? <br>\n",
    "What are some, if any, correlations regarding income? <br>"
   ]
  },
  {
   "cell_type": "code",
   "execution_count": 26,
   "metadata": {},
   "outputs": [],
   "source": [
    "#Create a dataframe to group columns necessary to analyze ethnic and income\n",
    "#disparities between the counties.\n",
    "Disparities = ConvertedMain[[\"County\", \"TotalPop\", \"Hispanic\", \"White\", \"Black\", \"Native\", \"Asian\", \"Income\", \"IncomePerCap\", \"Poverty\", \"ChildPoverty\"]].copy(deep = True)\n"
   ]
  },
  {
   "cell_type": "code",
   "execution_count": 27,
   "metadata": {},
   "outputs": [
    {
     "data": {
      "text/html": [
       "<div>\n",
       "<style scoped>\n",
       "    .dataframe tbody tr th:only-of-type {\n",
       "        vertical-align: middle;\n",
       "    }\n",
       "\n",
       "    .dataframe tbody tr th {\n",
       "        vertical-align: top;\n",
       "    }\n",
       "\n",
       "    .dataframe thead tr th {\n",
       "        text-align: left;\n",
       "    }\n",
       "\n",
       "    .dataframe thead tr:last-of-type th {\n",
       "        text-align: right;\n",
       "    }\n",
       "</style>\n",
       "<table border=\"1\" class=\"dataframe\">\n",
       "  <thead>\n",
       "    <tr>\n",
       "      <th></th>\n",
       "      <th colspan=\"10\" halign=\"left\">sum</th>\n",
       "    </tr>\n",
       "    <tr>\n",
       "      <th></th>\n",
       "      <th>Asian</th>\n",
       "      <th>Black</th>\n",
       "      <th>ChildPoverty</th>\n",
       "      <th>Hispanic</th>\n",
       "      <th>Income</th>\n",
       "      <th>IncomePerCap</th>\n",
       "      <th>Native</th>\n",
       "      <th>Poverty</th>\n",
       "      <th>TotalPop</th>\n",
       "      <th>White</th>\n",
       "    </tr>\n",
       "    <tr>\n",
       "      <th>County</th>\n",
       "      <th></th>\n",
       "      <th></th>\n",
       "      <th></th>\n",
       "      <th></th>\n",
       "      <th></th>\n",
       "      <th></th>\n",
       "      <th></th>\n",
       "      <th></th>\n",
       "      <th></th>\n",
       "      <th></th>\n",
       "    </tr>\n",
       "  </thead>\n",
       "  <tbody>\n",
       "    <tr>\n",
       "      <th>Bronx</th>\n",
       "      <td>1152.0</td>\n",
       "      <td>9522.0</td>\n",
       "      <td>12638.0</td>\n",
       "      <td>17448.0</td>\n",
       "      <td>13169252.0</td>\n",
       "      <td>6543369.0</td>\n",
       "      <td>40.0</td>\n",
       "      <td>9859.0</td>\n",
       "      <td>1420654</td>\n",
       "      <td>4196.0</td>\n",
       "    </tr>\n",
       "    <tr>\n",
       "      <th>Kings</th>\n",
       "      <td>7981.0</td>\n",
       "      <td>23201.0</td>\n",
       "      <td>20340.0</td>\n",
       "      <td>13322.0</td>\n",
       "      <td>40698683.0</td>\n",
       "      <td>20902487.0</td>\n",
       "      <td>76.0</td>\n",
       "      <td>16120.0</td>\n",
       "      <td>2593184</td>\n",
       "      <td>27661.0</td>\n",
       "    </tr>\n",
       "    <tr>\n",
       "      <th>New York</th>\n",
       "      <td>3335.0</td>\n",
       "      <td>3670.0</td>\n",
       "      <td>5282.0</td>\n",
       "      <td>6242.0</td>\n",
       "      <td>23421892.0</td>\n",
       "      <td>19554385.0</td>\n",
       "      <td>39.0</td>\n",
       "      <td>4931.0</td>\n",
       "      <td>1629454</td>\n",
       "      <td>13508.0</td>\n",
       "    </tr>\n",
       "    <tr>\n",
       "      <th>Queens</th>\n",
       "      <td>14464.0</td>\n",
       "      <td>12344.0</td>\n",
       "      <td>11894.0</td>\n",
       "      <td>16619.0</td>\n",
       "      <td>40518964.0</td>\n",
       "      <td>17937722.0</td>\n",
       "      <td>88.0</td>\n",
       "      <td>9143.0</td>\n",
       "      <td>2301139</td>\n",
       "      <td>17494.0</td>\n",
       "    </tr>\n",
       "    <tr>\n",
       "      <th>Richmond</th>\n",
       "      <td>793.0</td>\n",
       "      <td>1128.0</td>\n",
       "      <td>1773.0</td>\n",
       "      <td>1956.0</td>\n",
       "      <td>7778293.0</td>\n",
       "      <td>3458424.0</td>\n",
       "      <td>3.0</td>\n",
       "      <td>1421.0</td>\n",
       "      <td>472481</td>\n",
       "      <td>6530.0</td>\n",
       "    </tr>\n",
       "    <tr>\n",
       "      <th>All</th>\n",
       "      <td>27725.0</td>\n",
       "      <td>49865.0</td>\n",
       "      <td>51930.0</td>\n",
       "      <td>55587.0</td>\n",
       "      <td>125587084.0</td>\n",
       "      <td>68396387.0</td>\n",
       "      <td>246.0</td>\n",
       "      <td>41476.0</td>\n",
       "      <td>8416912</td>\n",
       "      <td>69389.0</td>\n",
       "    </tr>\n",
       "  </tbody>\n",
       "</table>\n",
       "</div>"
      ],
      "text/plain": [
       "              sum                                                           \\\n",
       "            Asian    Black ChildPoverty Hispanic       Income IncomePerCap   \n",
       "County                                                                       \n",
       "Bronx      1152.0   9522.0      12638.0  17448.0   13169252.0    6543369.0   \n",
       "Kings      7981.0  23201.0      20340.0  13322.0   40698683.0   20902487.0   \n",
       "New York   3335.0   3670.0       5282.0   6242.0   23421892.0   19554385.0   \n",
       "Queens    14464.0  12344.0      11894.0  16619.0   40518964.0   17937722.0   \n",
       "Richmond    793.0   1128.0       1773.0   1956.0    7778293.0    3458424.0   \n",
       "All       27725.0  49865.0      51930.0  55587.0  125587084.0   68396387.0   \n",
       "\n",
       "                                            \n",
       "         Native  Poverty TotalPop    White  \n",
       "County                                      \n",
       "Bronx      40.0   9859.0  1420654   4196.0  \n",
       "Kings      76.0  16120.0  2593184  27661.0  \n",
       "New York   39.0   4931.0  1629454  13508.0  \n",
       "Queens     88.0   9143.0  2301139  17494.0  \n",
       "Richmond    3.0   1421.0   472481   6530.0  \n",
       "All       246.0  41476.0  8416912  69389.0  "
      ]
     },
     "execution_count": 27,
     "metadata": {},
     "output_type": "execute_result"
    }
   ],
   "source": [
    "#Create a pivot table to analyze the sum and mean and of the columns\n",
    "#using aggfunc parameters np.sum and np.mean\n",
    "pivotDisp = pd.pivot_table(ConvertedMain, index= 'County', values= [\"TotalPop\", \"Hispanic\", \"White\", \"Black\", \"Native\", \"Asian\", \"Income\", \"IncomePerCap\", \"Poverty\", \"ChildPoverty\"], aggfunc= [ np.sum],margins=True)\n",
    "pivotDisp = pivotDisp//1\n",
    "pivotDisp\n",
    "\n",
    "\n",
    "#Population: Asian = 1.1 million, Black = 1.8 million, Hispanic = 2.4 million, \n",
    "#Native = 15 thousand, White = 2.7 million\n",
    "#Income: See below for graphic\n",
    "#IncomePerCap: See below for graphic\n",
    "#Poverty: 41,476 (Overall)\n",
    "#Child Poverty: 51,930 (Overall)"
   ]
  },
  {
   "cell_type": "code",
   "execution_count": 28,
   "metadata": {},
   "outputs": [
    {
     "data": {
      "text/plain": [
       "<seaborn.axisgrid.FacetGrid at 0x1707195e5f8>"
      ]
     },
     "execution_count": 28,
     "metadata": {},
     "output_type": "execute_result"
    },
    {
     "data": {
      "image/png": "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\n",
      "text/plain": [
       "<Figure size 432x288 with 1 Axes>"
      ]
     },
     "metadata": {
      "needs_background": "light"
     },
     "output_type": "display_data"
    },
    {
     "data": {
      "image/png": "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\n",
      "text/plain": [
       "<Figure size 360x360 with 1 Axes>"
      ]
     },
     "metadata": {
      "needs_background": "light"
     },
     "output_type": "display_data"
    }
   ],
   "source": [
    "#Visualize the different distribution of ethnicities per counties with a provided estimate of error.\n",
    "\n",
    "#Use a bar chart to visualize the \"Asian\" population by county.\n",
    "#Create a list for the sum of Asian population per County from pivotDisp\n",
    "Asian = list(pivotDisp[\"sum\"][\"Asian\"])\n",
    "#Create a list of the counties from the pivotDisp (different way to create the\n",
    "#same list\n",
    "county = pivotDisp.index.tolist()\n",
    "\n",
    "#Remove margin values (totals)\n",
    "del Asian[-1]\n",
    "del county[-1]\n",
    "import matplotlib.pyplot as plt\n",
    "\n",
    "#Displays the total(sum of the) \"Asian\" population by County.\n",
    "plt.bar(county, Asian, width=0.8, bottom=None, align='center', data=None)\n",
    "#Displays the mean of the total \"Asian\" population by County.\n",
    "sns.catplot(x=\"County\", y= \"Asian\", kind=\"bar\", data = Disparities)\n",
    "\n"
   ]
  },
  {
   "cell_type": "code",
   "execution_count": 29,
   "metadata": {},
   "outputs": [
    {
     "data": {
      "text/plain": [
       "<seaborn.axisgrid.FacetGrid at 0x17071c7f588>"
      ]
     },
     "execution_count": 29,
     "metadata": {},
     "output_type": "execute_result"
    },
    {
     "data": {
      "image/png": "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\n",
      "text/plain": [
       "<Figure size 432x288 with 1 Axes>"
      ]
     },
     "metadata": {
      "needs_background": "light"
     },
     "output_type": "display_data"
    },
    {
     "data": {
      "image/png": "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\n",
      "text/plain": [
       "<Figure size 360x360 with 1 Axes>"
      ]
     },
     "metadata": {
      "needs_background": "light"
     },
     "output_type": "display_data"
    }
   ],
   "source": [
    "#Use a bar chart to visualize the \"Black\" population by county.\n",
    "#Create a list for the sum of Black population per County from pivotDisp\n",
    "Black = list(pivotDisp[\"sum\"][\"Black\"])\n",
    "\n",
    "\n",
    "#Remove margin values (totals)\n",
    "del Black[-1]\n",
    "\n",
    "\n",
    "#Displays the total(sum of the) \"Black\" population by County.\n",
    "plt.bar(county, Black, width=0.8, bottom=None, align='center', data=None)\n",
    "#Displays the mean of the total \"Asian\" population by County.\n",
    "sns.catplot(x=\"County\", y= \"Black\", kind=\"bar\", data = Disparities)"
   ]
  },
  {
   "cell_type": "code",
   "execution_count": 30,
   "metadata": {},
   "outputs": [
    {
     "data": {
      "text/plain": [
       "<seaborn.axisgrid.FacetGrid at 0x1706ef8dbe0>"
      ]
     },
     "execution_count": 30,
     "metadata": {},
     "output_type": "execute_result"
    },
    {
     "data": {
      "image/png": "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\n",
      "text/plain": [
       "<Figure size 432x288 with 1 Axes>"
      ]
     },
     "metadata": {
      "needs_background": "light"
     },
     "output_type": "display_data"
    },
    {
     "data": {
      "image/png": "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\n",
      "text/plain": [
       "<Figure size 360x360 with 1 Axes>"
      ]
     },
     "metadata": {
      "needs_background": "light"
     },
     "output_type": "display_data"
    }
   ],
   "source": [
    "#Use a bar chart to visualize the \"Hispanic\" population by county.\n",
    "#Create a list for the sum of Hispanic population per County from pivotDisp\n",
    "Hispanic = list(pivotDisp[\"sum\"][\"Hispanic\"])\n",
    "\n",
    "\n",
    "#Remove margin values (totals)\n",
    "del Hispanic[-1]\n",
    "\n",
    "\n",
    "#Displays the total(sum of the) \"Hispanic\" population by County.\n",
    "plt.bar(county, Hispanic, width=0.8, bottom=None, align='center', data=None)\n",
    "#Displays the mean of the total \"Hispanic\" population by County.\n",
    "sns.catplot(x=\"County\", y= \"Hispanic\", kind=\"bar\", data = Disparities)"
   ]
  },
  {
   "cell_type": "code",
   "execution_count": 31,
   "metadata": {},
   "outputs": [
    {
     "data": {
      "text/plain": [
       "<seaborn.axisgrid.FacetGrid at 0x17071c7f5f8>"
      ]
     },
     "execution_count": 31,
     "metadata": {},
     "output_type": "execute_result"
    },
    {
     "data": {
      "image/png": "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\n",
      "text/plain": [
       "<Figure size 432x288 with 1 Axes>"
      ]
     },
     "metadata": {
      "needs_background": "light"
     },
     "output_type": "display_data"
    },
    {
     "data": {
      "image/png": "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\n",
      "text/plain": [
       "<Figure size 360x360 with 1 Axes>"
      ]
     },
     "metadata": {
      "needs_background": "light"
     },
     "output_type": "display_data"
    }
   ],
   "source": [
    "#Use a bar chart to visualize the \"Native\" population by county.\n",
    "#Create a list for the sum of Native population per County from pivotDisp\n",
    "Native = list(pivotDisp[\"sum\"][\"Native\"])\n",
    "\n",
    "\n",
    "#Remove margin values (totals)\n",
    "del Native[-1]\n",
    "\n",
    "\n",
    "#Displays the total(sum of the) \"Native\" population by County.\n",
    "plt.bar(county, Native, width=0.8, bottom=None, align='center', data=None)\n",
    "#Displays the mean of the total \"Native\" population by County.\n",
    "sns.catplot(x=\"County\", y= \"Native\", kind=\"bar\", data = Disparities)"
   ]
  },
  {
   "cell_type": "code",
   "execution_count": 32,
   "metadata": {},
   "outputs": [
    {
     "data": {
      "text/plain": [
       "<seaborn.axisgrid.FacetGrid at 0x17071cb8a90>"
      ]
     },
     "execution_count": 32,
     "metadata": {},
     "output_type": "execute_result"
    },
    {
     "data": {
      "image/png": "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\n",
      "text/plain": [
       "<Figure size 432x288 with 1 Axes>"
      ]
     },
     "metadata": {
      "needs_background": "light"
     },
     "output_type": "display_data"
    },
    {
     "data": {
      "image/png": "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\n",
      "text/plain": [
       "<Figure size 360x360 with 1 Axes>"
      ]
     },
     "metadata": {
      "needs_background": "light"
     },
     "output_type": "display_data"
    }
   ],
   "source": [
    "#Use a bar chart to visualize the \"WhiteWhite\" population by county.\n",
    "#Create a list for the sum of White population per County from pivotDisp\n",
    "White = list(pivotDisp[\"sum\"][\"White\"])\n",
    "\n",
    "\n",
    "#Remove margin values (totals)\n",
    "del White[-1]\n",
    "\n",
    "\n",
    "#Displays the total(sum of the) \"White\" population by County.\n",
    "plt.bar(county, White, width=0.8, bottom=None, align='center', data=None)\n",
    "#Displays the mean of the total \"White\" population by County.\n",
    "sns.catplot(x=\"County\", y= \"White\", kind=\"bar\", data = Disparities)"
   ]
  },
  {
   "cell_type": "code",
   "execution_count": 33,
   "metadata": {},
   "outputs": [
    {
     "data": {
      "text/plain": [
       "<seaborn.axisgrid.FacetGrid at 0x17071d0feb8>"
      ]
     },
     "execution_count": 33,
     "metadata": {},
     "output_type": "execute_result"
    },
    {
     "data": {
      "image/png": "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\n",
      "text/plain": [
       "<Figure size 360x360 with 1 Axes>"
      ]
     },
     "metadata": {
      "needs_background": "light"
     },
     "output_type": "display_data"
    }
   ],
   "source": [
    "#Visualize the different distribution of average \"Median Household Income\" per counties with a provided estimate of error.\n",
    "\n",
    "#Displays the mean of the total \"Median Household Income\" by County.\n",
    "sns.catplot(x=\"County\", y= \"Income\", kind=\"bar\", data = Disparities)\n",
    "\n",
    "#New York, Richmond, and Queens demonstrating median household incomes greater than the national average(60,000).\n",
    "#Bronx and Kings showing values below the national average median household income."
   ]
  },
  {
   "cell_type": "code",
   "execution_count": 34,
   "metadata": {},
   "outputs": [
    {
     "data": {
      "text/plain": [
       "<seaborn.axisgrid.FacetGrid at 0x17071da0748>"
      ]
     },
     "execution_count": 34,
     "metadata": {},
     "output_type": "execute_result"
    },
    {
     "data": {
      "image/png": "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\n",
      "text/plain": [
       "<Figure size 360x360 with 1 Axes>"
      ]
     },
     "metadata": {
      "needs_background": "light"
     },
     "output_type": "display_data"
    }
   ],
   "source": [
    "#Visualize the different distribution of average \"Income Per Capita\" per counties with a provided estimate of error.\n",
    "\n",
    "#Displays the mean of the total \"Income Per Capita\" by County.\n",
    "sns.catplot(x=\"County\", y= \"IncomePerCap\", kind=\"bar\", data = Disparities)\n",
    "\n",
    "#New York demonstrating Income Per Capita greater than the national average(51,000).\n",
    "#All remaining counties showing values below the national average median household income.\n",
    "\n",
    "# ***We can infer that New York County residents are on average paid more than other counties with \n",
    "#one individual working per household.\n",
    "#Also, Richmond and Queens typically will on average have two people working per household. "
   ]
  },
  {
   "cell_type": "code",
   "execution_count": 35,
   "metadata": {},
   "outputs": [],
   "source": [
    "#let us create a function that will take care of returning x and y values on passing it the data frame as data argument\n",
    "# we will just pass the data to it\n",
    "def ecdf(data):\n",
    "    \"\"\"Compute ECDF for a one-dimensional array of measurements.\"\"\"\n",
    "\n",
    "\n",
    "    # Number of data points: n\n",
    "    n = len(data)\n",
    "\n",
    "\n",
    "    # x-data for the ECDF: x\n",
    "    x = np.sort(data)\n",
    "\n",
    "\n",
    "    # y-data for the ECDF: y\n",
    "    y = np.arange(1, n+1) / n\n",
    "\n",
    "\n",
    "    return x, y"
   ]
  },
  {
   "cell_type": "code",
   "execution_count": 36,
   "metadata": {},
   "outputs": [
    {
     "data": {
      "text/html": [
       "<div>\n",
       "<style scoped>\n",
       "    .dataframe tbody tr th:only-of-type {\n",
       "        vertical-align: middle;\n",
       "    }\n",
       "\n",
       "    .dataframe tbody tr th {\n",
       "        vertical-align: top;\n",
       "    }\n",
       "\n",
       "    .dataframe thead th {\n",
       "        text-align: right;\n",
       "    }\n",
       "</style>\n",
       "<table border=\"1\" class=\"dataframe\">\n",
       "  <thead>\n",
       "    <tr style=\"text-align: right;\">\n",
       "      <th></th>\n",
       "      <th>County</th>\n",
       "      <th>TotalPop</th>\n",
       "      <th>Men</th>\n",
       "      <th>Women</th>\n",
       "      <th>Hispanic</th>\n",
       "      <th>White</th>\n",
       "      <th>Black</th>\n",
       "      <th>Native</th>\n",
       "      <th>Asian</th>\n",
       "      <th>Citizen</th>\n",
       "      <th>...</th>\n",
       "      <th>Walk</th>\n",
       "      <th>OtherTransp</th>\n",
       "      <th>WorkAtHome</th>\n",
       "      <th>MeanCommute</th>\n",
       "      <th>Employed</th>\n",
       "      <th>PrivateWork</th>\n",
       "      <th>PublicWork</th>\n",
       "      <th>SelfEmployed</th>\n",
       "      <th>FamilyWork</th>\n",
       "      <th>Unemployment</th>\n",
       "    </tr>\n",
       "  </thead>\n",
       "  <tbody>\n",
       "    <tr>\n",
       "      <th>1</th>\n",
       "      <td>Bronx</td>\n",
       "      <td>5403</td>\n",
       "      <td>2659</td>\n",
       "      <td>2744</td>\n",
       "      <td>75.0</td>\n",
       "      <td>2.0</td>\n",
       "      <td>16.0</td>\n",
       "      <td>0.0</td>\n",
       "      <td>4.0</td>\n",
       "      <td>3639</td>\n",
       "      <td>...</td>\n",
       "      <td>2.0</td>\n",
       "      <td>0.0</td>\n",
       "      <td>0.0</td>\n",
       "      <td>43.0</td>\n",
       "      <td>2308</td>\n",
       "      <td>80.0</td>\n",
       "      <td>16.0</td>\n",
       "      <td>2.0</td>\n",
       "      <td>0.0</td>\n",
       "      <td>7.7</td>\n",
       "    </tr>\n",
       "    <tr>\n",
       "      <th>2</th>\n",
       "      <td>Bronx</td>\n",
       "      <td>5915</td>\n",
       "      <td>2896</td>\n",
       "      <td>3019</td>\n",
       "      <td>62.0</td>\n",
       "      <td>3.0</td>\n",
       "      <td>30.0</td>\n",
       "      <td>0.0</td>\n",
       "      <td>0.0</td>\n",
       "      <td>4100</td>\n",
       "      <td>...</td>\n",
       "      <td>1.0</td>\n",
       "      <td>0.0</td>\n",
       "      <td>2.0</td>\n",
       "      <td>45.0</td>\n",
       "      <td>2675</td>\n",
       "      <td>71.0</td>\n",
       "      <td>25.0</td>\n",
       "      <td>2.0</td>\n",
       "      <td>0.0</td>\n",
       "      <td>9.5</td>\n",
       "    </tr>\n",
       "    <tr>\n",
       "      <th>3</th>\n",
       "      <td>Bronx</td>\n",
       "      <td>5879</td>\n",
       "      <td>2558</td>\n",
       "      <td>3321</td>\n",
       "      <td>65.0</td>\n",
       "      <td>1.0</td>\n",
       "      <td>32.0</td>\n",
       "      <td>0.0</td>\n",
       "      <td>0.0</td>\n",
       "      <td>3536</td>\n",
       "      <td>...</td>\n",
       "      <td>8.0</td>\n",
       "      <td>1.0</td>\n",
       "      <td>1.0</td>\n",
       "      <td>38.8</td>\n",
       "      <td>2120</td>\n",
       "      <td>75.0</td>\n",
       "      <td>21.0</td>\n",
       "      <td>3.0</td>\n",
       "      <td>0.0</td>\n",
       "      <td>8.7</td>\n",
       "    </tr>\n",
       "    <tr>\n",
       "      <th>4</th>\n",
       "      <td>Bronx</td>\n",
       "      <td>2591</td>\n",
       "      <td>1206</td>\n",
       "      <td>1385</td>\n",
       "      <td>55.0</td>\n",
       "      <td>9.0</td>\n",
       "      <td>29.0</td>\n",
       "      <td>0.0</td>\n",
       "      <td>2.0</td>\n",
       "      <td>1557</td>\n",
       "      <td>...</td>\n",
       "      <td>3.0</td>\n",
       "      <td>2.0</td>\n",
       "      <td>6.0</td>\n",
       "      <td>45.4</td>\n",
       "      <td>1083</td>\n",
       "      <td>76.0</td>\n",
       "      <td>15.0</td>\n",
       "      <td>7.0</td>\n",
       "      <td>0.0</td>\n",
       "      <td>19.2</td>\n",
       "    </tr>\n",
       "    <tr>\n",
       "      <th>5</th>\n",
       "      <td>Bronx</td>\n",
       "      <td>8516</td>\n",
       "      <td>3301</td>\n",
       "      <td>5215</td>\n",
       "      <td>61.0</td>\n",
       "      <td>1.0</td>\n",
       "      <td>31.0</td>\n",
       "      <td>0.0</td>\n",
       "      <td>3.0</td>\n",
       "      <td>5436</td>\n",
       "      <td>...</td>\n",
       "      <td>4.0</td>\n",
       "      <td>1.0</td>\n",
       "      <td>0.0</td>\n",
       "      <td>46.0</td>\n",
       "      <td>2508</td>\n",
       "      <td>71.0</td>\n",
       "      <td>21.0</td>\n",
       "      <td>7.0</td>\n",
       "      <td>0.0</td>\n",
       "      <td>17.2</td>\n",
       "    </tr>\n",
       "  </tbody>\n",
       "</table>\n",
       "<p>5 rows × 32 columns</p>\n",
       "</div>"
      ],
      "text/plain": [
       "  County  TotalPop   Men  Women  Hispanic  White  Black  Native  Asian  \\\n",
       "1  Bronx      5403  2659   2744      75.0    2.0   16.0     0.0    4.0   \n",
       "2  Bronx      5915  2896   3019      62.0    3.0   30.0     0.0    0.0   \n",
       "3  Bronx      5879  2558   3321      65.0    1.0   32.0     0.0    0.0   \n",
       "4  Bronx      2591  1206   1385      55.0    9.0   29.0     0.0    2.0   \n",
       "5  Bronx      8516  3301   5215      61.0    1.0   31.0     0.0    3.0   \n",
       "\n",
       "   Citizen  ...  Walk  OtherTransp  WorkAtHome  MeanCommute  Employed  \\\n",
       "1     3639  ...   2.0          0.0         0.0         43.0      2308   \n",
       "2     4100  ...   1.0          0.0         2.0         45.0      2675   \n",
       "3     3536  ...   8.0          1.0         1.0         38.8      2120   \n",
       "4     1557  ...   3.0          2.0         6.0         45.4      1083   \n",
       "5     5436  ...   4.0          1.0         0.0         46.0      2508   \n",
       "\n",
       "   PrivateWork  PublicWork  SelfEmployed  FamilyWork  Unemployment  \n",
       "1         80.0        16.0           2.0         0.0           7.7  \n",
       "2         71.0        25.0           2.0         0.0           9.5  \n",
       "3         75.0        21.0           3.0         0.0           8.7  \n",
       "4         76.0        15.0           7.0         0.0          19.2  \n",
       "5         71.0        21.0           7.0         0.0          17.2  \n",
       "\n",
       "[5 rows x 32 columns]"
      ]
     },
     "execution_count": 36,
     "metadata": {},
     "output_type": "execute_result"
    }
   ],
   "source": [
    "#let us generate dataframe for each county\n",
    "ConvertedMain_Bronx = ConvertedMain.loc[ConvertedMain['County'] == 'Bronx']\n",
    "\n",
    "ConvertedMain_Kings = ConvertedMain.loc[ConvertedMain['County'] == 'Kings']\n",
    "\n",
    "ConvertedMain_NewYork = ConvertedMain.loc[ConvertedMain['County'] == 'New York']\n",
    "\n",
    "ConvertedMain_Queens = ConvertedMain.loc[ConvertedMain['County'] == 'Queens']\n",
    "\n",
    "ConvertedMain_Richmomnd = ConvertedMain.loc[ConvertedMain['County'] == 'Richmond']\n",
    "#show the head of one of them\n",
    "ConvertedMain_Bronx.head()"
   ]
  },
  {
   "cell_type": "code",
   "execution_count": 37,
   "metadata": {},
   "outputs": [
    {
     "data": {
      "image/png": "iVBORw0KGgoAAAANSUhEUgAAAYoAAAEJCAYAAACKWmBmAAAABHNCSVQICAgIfAhkiAAAAAlwSFlzAAALEgAACxIB0t1+/AAAADh0RVh0U29mdHdhcmUAbWF0cGxvdGxpYiB2ZXJzaW9uMy4xLjEsIGh0dHA6Ly9tYXRwbG90bGliLm9yZy8QZhcZAAAgAElEQVR4nOydaWBU1dmAnzszWckKiYSwrwcRkFUUULFK64K1Ci5gFapWu9harWIXtS5V+1nbz7Z+tm6tWovWouJS3AVLRCKLLFW8GAIBQoCEZRKyz8z9fsxkMjN3ZjKBmUwm8z78ueece++cczPcd97zbpphGAiCIAhCKCzxnoAgCILQvRFBIQiCIIRFBIUgCIIQFhEUgiAIQlhEUAiCIAhhscV7AsdIGjAVqAKccZ6LIAhComAF+gFrgeZIL4q5oFBK5QCrgTm6ru8MGJsAPAXkAP8BvqfruiOC204FVkV5qoIgCMnC6UBJpCfHVFAopaYBTwKjQpzyPHCdrutrlFJPA98F/hzBravaDg4ePHrc80xk+vTJSupnIOtP7vWDPIPOrN9i0cjP7wU+79BIiLVG8V3gh8DfAweUUoOBDF3X13i6ngHuITJB4d1ucrkkYLAzz2BfpZ29u+wUD8qlqH9uRNeUVdrRdx1GDcpnRAfXNG4vo1H/kgw1mozhIyKe1/Fc27Z+5/4yHHu/xFY8GmvfEaZ2T0X+D8gzCFx/ub2Crw5vZ2T+cIblDg52Sae27GMqKHRdvw5AKRVsuBh/qVYFDIjlfJKVthd934xUPnt/O06nC6vVwoXzx3coLFZurGTFayWMObKdDVYw5p3PyFMnAOYXe+P2MvY8/BCGoxXNlsKAWxf7vfDbXtxaehZG01G/F7j/tVb6fvN0ek2aEfYF79xfxuFtO3DmDgWg4c2HwNVKiyWFtOkLaF69xNvOnLO4RwsLIXICX6IRvFQTinJ7BX/87AkcLgc2i40fT7z+uNcVT2O2BfAVgxrg6uxNCguzozahRGH3zsNUbD/I4OF9oND9DL7ceYgt22sYN7yA0UN6e9vZmak8+doWTqjbzwAMnOn9AHA6nOz/cjfjJrhlc+2XOrX//ZycsSeRM9ot2L/ceYgVr5Vw+e53sHr+NK6/bSdt5H0AlP3uIVwOBxabjZPuu5vmPTswnA4wDAynA8ueHaSl1lC78X00WwrNe8vA6cD9Z9dotaXQ78q7SR+g2PORz7WtDupLV2Kp+tg7HkjTHp2qfz9Eg9OBZrWRNX4WuNzX43Kg7fnMr51m30H+2Ikx/9vEg2T4P7CtppzPD2zjpBNGMapgmGk80mewraacP218AofTgc1qY9HES3lm47+87btm/STo/bs7vusvqd6D0+XAwMBpONnbsodphWOP6/7xFBR7cFvf2ygC9nb2JtXVdVGbUCKwr9LOGy9s9moFZ3zrJErLDlCypQqny8BmtXBN0WGOrF3Ll5mD2JKvGHdI5+s1pdSmF7Cx+FxcmgXNcNHy+hJ2DUkHCKoJrNlcSf/6fVhwobVNwOmkqnQDAK7WVjAMXA4HVaUbyFCj0SwahgvARcO+TbTo/w2xErcwqfliA2lpxbgGDEWz2jCMFtAgNdt/PJDmLzZgOFu9QqmxsRUsNrdwsNgwBkyEXVu97ebcoT3yu1JYmN0j1+VLSWUp/9z2KoZhBP2F3Jln8OnOLbQ63S9Rh9PBqu1r/dqf7thCvlEYq6XEhMD1F6cOwOr5v2DVrBSnDvCOWywaffpkdfoz4iYodF2vUEo1KaVm6Lr+MXAV8Fa85pMI7Ku0s7akAofD/eve4XDx/MubMBoO8LXa7aBBiyWFvC8/Jw8YUr+XvJY6TrF/gQWD/KZqJu19m8MZReQ37iO35SCN+pcAGA6fl67+JRnDR6AG5bM2ux+uQ5vQPBqFxWrFph3EWjAYzZbiFi4aWBvLMSoq6T3SSUsdpGaDzR5KSABoYLFhKx4NQMbwEQy4dTH16z9G27uK1F4uv/FAbMWjabGkeAVB6qgZpI6a4WeTsPYekBQ2ip5CsC2h0qp1rN67Fpfn++dwOfjq8PZj3koZmT8cm8WG0+XAarEx4YTxlNl3etsj84dHc0lxYVjuYH488fqobqd1uaBQSi0H7tJ1fR1wJfCkx4V2A/DHrp5PorCv0s7rSzbhdHp25wzQDBdD7DqnHVzr3Rpq28vTPMcn1e/AguHVCHJbDpLnOIzhcqFZbWQo94tYs6VgeLZx2vpG9M/l29d8g+pVForK15GKg/SMQ2i7V+CqtNF33tepL3mb1CwXloMbcB50C4jUULsAmoWU0WdiKRhsslGAW1hkDB+Bc/+MDl/w1r4jyJyzmDT7Dppzh3rP8z3f2neECIg4E+n+f+C++ryR32TpV6/T6mr1O0/TtON6mQd7iRZnFfUoGwW41xnNtWgJmmZ8CLADevbWU5sReuSBL9A3H2SPbSBoGhgu8hv2MuzwRnKbqjEIHmJvANrgYWh797g1Bs3CCVdeRdqAASbvomAeR879ZTSVvoRr37ag87MUDsNVXR52DdYRp2Ec2Y+WlUfayedH/cWdDFsv4YjH+o/15R/OqPrOzg95o/wdDAwsaKj8EXx5uAzDx4xp0SxcPupiZvaf5netfAciX7/P1tNQYGekn5Gokdk9mrJKO2+tqaB6y1bO3r+GI1YblcXnugcNA80wGO4jJKDNPAxYrR4DrgvNYmXgggUAJiEQ6H6amgVkH0Tb+zHOLHAe2kPzqmfx9zfwR8vMa7cLBI5lFZA6cQ6pJ846nkchxBjflz7QoQDozMv/q8PbcbQZVTvYMgq3JaRpFk7rN5Vp/Sb3mF/8iYYIim7Gyo2VPP+OTlFDNVdWvoUF2Jk1DkOzeLWJfnXbyPEREkfGzaB3GuT2SiVn+gygY8Hg66rq2LUZZ8UG71jrl//BLSDCaJsWG2kTzocJ59Oy7WM0CLmlJMSXUBqA70vfolnQ0HAazrAC4Hhe/uG2jJJlSyhREUHRDSirtLN6SxX2+hY2ldXgMmD2gTVYcGsJqc4m95Hh1htqrOlsyxxItrORERedh/r62aZ7hgpYc+4vo3njcpwVnxFSEBihYnE0Uk4+Dy01008YZIhQiCvhtoLCaQC+L32X4fR+G8IJgON9+YcjcF892vvswrEjgiLOtGkQvoGVxY3V9G09DIA9vZD9vYbgtl67LRGDZk6nJXcWAwblM3HCgIj2J1u2rqRl87sY9kg8kDWwWMHlERhZfbAWDIqJjUHomHAawbKdm1mx45OQmkA4DcD3pa95NAqX4QwrAI735S8kJiIo4kSbFvHRpr0E+hNcsL8EDahNL2SDJ+4BNNDAZrUwblzfiNNvtGxdSfPaV6HJHuHMNNJOXyiupXGmTTj0SunF0q9eN2kE7ZpCa1hNIJwGEPjSh45tFG3Xycs/uRBBEQf+taKMtz/dZRIQABNrt9HbUYcGHM4ocgsJzR3EPmBIPlNnDo5YSDR8+DjOsk86PM9SNAotLQtLZi4po2YEdTUVuo5yewV/2PA4DsOBBQuG55+vIGjXFNoJpgl0pAEE2+4RhEBEUHQxKzdW8lbprqBj/fpk8o0a3dtO8bVNaBrDVEFEQiISLULrPRDNmkLK6DPEM6mb8VrZchyG25PMhQsLFjT8BYFXUzCcaGhhvYJEAxCOFxEUXczy1TuD9lutGovGpWOUttsmDgTYJpobw5fqcO4vo3HVsxiHdoc8R+s9iIzTrxZtoRtSbq/gvYoVlNl3+PWPLRjNkJxBfhpBm6awt2UPxakDRBAIMUUERReycmMlNbX+RaUGFvbilDF9GaUdwXjqEcAtJILZJooHmbWJpj06jZ++h9Fg93NxDUbKyeeTPu2yqK1HiB5t+Yxchjkv5uzBZ4XUFKYVjk3qYDOhaxBB0QW0Ga7Xb6s2jV117mhG9M9l+603exPER2qbcO4vY+9r9xM23gHRIro7y8qW896ulUHHZg+aJdqCEHdEUMSYlRsr+fvbetBX+agBuYzon0v10pdwHjns7Y/UNtHw9h8IKyQyckmbcrHYILopbVtNm2u+MI0Nzh7I9OJTTOkqBCEeiKCIIWWVdv7+TnAhYbHAvLPcv/Dt/1npN1aX1sd9oLlT+dXsM5c5PPrKvdAcesvBOuI0Mr92wzHNW4g94baa5qu5IiCEboUIihiyekuVyQVWA86cUMz0cf28ZUVdjY3ecXt6IbWpfbxCIhhHX7kXoyZIMr7cYqxZvbENmyJaRDegLU02aH4eSeX2itD2iEGzREgI3Q4RFDFke6XZPfWqcxWzJvT3tquXvkSbNPE3YruxWjXUuL7e3Ewt21ZDsOjqtGyyL38g+osQjomSylJe1F/xZj9dU7WOmybd4I2BCBQSstUkdGdEUMSIsko7u6vr/fr69cn0ExIAR1Z84D32N2LDgKFuI3ahrZqG1x+AIL9A28g896Yozl44VnyL7fimyHYY7cFyI/OHk2JJweFqRQuROlsQuhMiKGLEW2sqTH2zpw70azduL8NobneX9RqxPbQZsY8u/V1IIWHN7kPa174vHk1xps0w/d+aL73V2Hyxae3BcrGoQCYIsUQERYwoD9h2ykyzmrSJ6qUv+bVbrel+7eZGB879ZRiHgkdyawXDGHzDb8WPPs6U2yt4ZP1fcGLOuquhMa5gDLMHzzKlyhABISQKIihiQFmlHXuDfwnH3Kw003lN28v82inOJl+FgtTWQzS89kjQz5Dgue5DadV6k5DQ0JhRPE2K7Qg9AhEUMSCSbaeqJx8Hl/8WRV36CfhKirotJZBivr8Iifjhm9W1vrWekfnDqW0xa3RXqEvE7iD0GERQxIDAbaeczBTTtlPd2k/92vb0QqpyRnrbFs1FX8wCRysYJkIiTgTGPmho2Cw2Tuw9yu+88QVjREgIPQpLx6cInWHlxkrTttPwgKjqIx+tbC8K5OFwRj9cXm3CYHiKTmGKf8oPrWAYWZfcFe0pCxFQbq/gn7p/7ENb6u+c1CysmtWd4VWzMnvwWfGbqCDEANEoosx7a82ZW8871X+P+tDyN03nZPZpEyZul8retoP+J1hTRUjEkdfKlpu8mTQ0rBYb0/pNYVq/KeLFJPRYRFBEmfpGf20iJzPFG4HdhqPWHIiXMnYS/NeO20bhotnw94BKm74g2lMVIiBU6u/huUM4qc9oU+pvQeiJiKCIImWVdmoDtp2KemeaTwwwYmOxkFqnA0W4NQqNNK2pfbj/WEnJEQd8K80F8q0RF4hgEJIGsVFEkaUrykx9xQW9Or7QcHGw6oinoQGGV6OwjjiNXhfcGr1JChHjW2nOF0n9LSQbolFEiZUbK9m2x39LSQOmj+tnPtnlnynQnlbI9pY2jycDCwZ9bftIO32RaBJxYlnZctN2U15qDucNnS0eTULSIYIiSgQzYl91rjLZJ458tNKUjqMqezgurLTZJ4anbqN4ylQREnGi3F7B+7s+MvVfO+4q0SSEpEQERZRoafV3dw0WOwFQ/c8lfm17eiF7c/y1iVFj+5I+7eJYTVXogPcqVvol9APZbhKSG7FRRAmrxb9+RG6vVNM51Utfwmhp8es7nFGE0VYbG4MR+QcZ9HUREvGi3F7B5prP/fr69+rHt0acH6cZCUL8EUERBVZurOTAkSa/PpvN/GgDK9kBpKW0ZYx1ezsVTZsRkzkKkVFatd7UNzR3UBxmIgjdBxEUx0lZpZ2/v62b+k8/udjU52psMvWl9k2nTUiAO2OsEB9KKkvZeGCzqX9avylxmI0gdB/ERnGcLF1RZqqJPWpArrlAURAjNhqeeIl2jSItQ/4k8WBZ2XLe27XS1D++YIzYJoSkR95Kx0FZpd3kEgsw7yxzEaFgaTtSesEhRx9PSzSKrqZNgxiQ3T+ol5PkbRIENzEVFEqpBcAduJNlP6Lr+v8FjE8CHgdSgd3At3VdP2K6UTclWDrx86YNMrnEQvC0HS39feMn3PWxiweZrxWiT0llKS/oLwOw9fBXpvHxBSeZig0JQrISMxuFUqo/cD8wE5gAXK+UGhNw2h+Au3RdPxnQgYQKQQ6WTvzSINoEYMoWC3AotQgXbR5PoMYVURREyAjRZ8XuVX5tzfM30NCYPWgWN4xfKEJCEDzEUqM4B/hQ1/VDAEqppcA84F6fc6xAjuc4EzgUw/lElUjSifvhNNdRbrdPuCkoyorW9IQQlNsrKK1ax76GA379w3IHm5L8CYLgJpaCohio8mlXAacEnHML8K5S6hGgHkiY3AiRpBNvI7A2NgAWaO09ChraBYXYJ2KLJPkThGMjloLCAn4OQe78FB6UUhnA08A5uq5/qpS6BXgOuKAzH1JYmB2FqXaeo43+gXP52amcNmFA0HPLVrxv6ss8AdJPPRuWbvH2FRRmHdN64vUMuguRrv8ZvSSokJhafDLTRoyN9rS6jGT/+4M8g1ivP5aCYg9wuk+7CNjr0x4LNOq63lYT9HHgvs5+SHW1uV5xrFm5sZK6Bv8XzpCinJBzcTW3mPpyR+XyVfVRv76a6qOdXk9hYXZcnkF3IdL1LytbztrKTaZ+q2bljH4zE/YZJvvfH+QZdGb9FotGnz6d3+KOpaB4H7hbKVWIe1tpLnC9z3gZMFAppXRd14GLgLUxnE/UWLVpr6kv1LZTKNKmXkxas//jlxiK2FBSWRo0RmJm8alM6zdZtpwEoQNi9mbSdb1SKfVLYAVu99enPFtMy3F7Oq1TSi0CXlJKacAB4Duxmk80cTj8DdMn5KUHdYkFT6BdIBqknjiLmre3+XWLjSL6lNsreGvHe6b++WqupAsXhAiJ6U9YXdeXAEsC+s73OX4LeCuWc4gFtfX+W0lOV2BsdjsHX1li6kvJgs837mXrpnZbv8RQRJ9lZct5f9dHpkyww3OHiJAQhE4gex2dpKzSbnKLTU2xhjzf2WC2TzinnUXJu2UYPu8viaGILqG2myxY+NaITvlLCELSI4KikwSLxp49dWDoC4IoG7WDz8K1s716msWiocb1jcb0BEJvN4lNQhCODREUnWTfoQa/dqgCRQAtW1cG7Q80Wo+f2l+0iShRbq/gkQ1/wWn4R8IPzx3C/NGXxGlWgpDYSJrxTuIMiLAOVqCojeZ1r5o7NbPROi09JSpzE+C1suUmISHbTYJwfIhG0QnKKu2mAkWOMIbs+p3mRIBYrSaNQtxio0NJZSll9h1+fXmpOVLrWhCOE3lDdYLVW6pMfUW9M0Oef9R8OtbcfI4GaBTiFnt8lNsreK9iBVtqtprGzhs6W4SEIBwnIig6wd6aelNfuEA7l9nhiT7nz6FJNIqosa2mnEfW/wUn5uy8swfNEjdYQYgCYqPoBHWN/m6xfXLSQgba1a9dGbQ/78xZJg1CNIpj56Oda0xCQkNjvprLt0acH+IqQRA6g/yU7QQ2i+bXzkwL/fgO/NMcaGfx2L3FRnH8lNsr+OrwdrYdKjeNXaEuEU1CEKKIvKE6QWBEdkNzaE2gtda875R35mkA1OzzTwYoGkXnKKks5Z/bXsUVWIMcd41rERKCEF1EUERIZyKynfvLfBKqt1Nw+Q3sq7Sjb9nn7ZPUHZ2jpLKUF/VXTGk5wFOdTmpcC0LUEUERIZ2JyG5c9VzI++zdZcfpbH/JSeqOyCipLGX13lJ21VUGFRIWzcLloy4WDydBiAEiKCKkMxHZxpFKc6fF7TcQaI+Q8qcds6xsedC8TRoa3xx9DkaLVUqYCkIMEUERIYGG7HAR2fVVZldNUtzR12Kf6Bzl9gre3/WRqb9Ng7j45HOSumiNIHQFIigiJFJDtnN/GXVBFIr0QYPFPtFJSipLeWvHe6atpvEFJzF78CzRIAShixBBEQGdMWQ3rnqOIGWZKZx3GVvFPhERbZHWm2u+MI0Nzx3CDeMXxmFWgpC8iKCIgKUrykx9oQzZxqE9Qfszho8grc6/hKrYJ8yEc321alZJ7icIcUAERQeUVdrZtsc/uV+fnLSghmzn/jJa6oL4xXrsExKRHZ5wrq+y3SQI8UMERQcEc4u9YPqQoOc2rnqO2t3mfmuOe3tJIrJDU1JZygv6y6b+wdkDmV58igTRCUIckTdVB+za7+9Rk5lmDe0We2gPrQ3m/j7nzwFEowhFmyYRyPiCMdwwflHXT0gQBD8kKWAHtDr8t5IyQuR3clezc5kjsjWNvDNnAaJRBKPcXhF0u8mKVaKsBaGbIG+qMJRV2qltCMwYmx703JbP3gx+E0u7LBaNwsxrZcvF/VUQujkiKMIQrFBRcUGvoOcaDYc7vJ9oFP6U2ytMFemKMgvF/VUQuhmy9RSGYIWKpo/rF/xkl5NDZi9atLQ077FoFP6UVq039Z018Iw4zEQQhHCIoAjDwVr/+tg5mSkhCxUBNAdRKvLOmOU9Fo3Cnx12f4+ygvQ+4t0kCN2Q5H5TdUBTQJqOFFtwudpU+pL7wOz+T+G8y7zHolG4t5tKq9ZR23KUynr/rb1eKRlxmpUgCOEQQRGClRsrqW/2T+43qG920HNbt64MfhOrf5qPZNcoyu0VIetbA0wvFm1CELojyfWm6gSrNu019Z13aggvnNam4P0BJHvm2NKq9UGFhIbGOYPOlG0nQeimiKAIgSMgfuKEvPTQ9okgeYkCkcyxZpsEwMziU5nWb7K4wgpCN0YERQgC04g7XUEMEJ0g2SvblVSWmmwS4wvGMH/0JXGakSAIkSJeT11Esle2W7F7lalPIq8FITEQjSIEmWk2DtLs1w5Gi8eQXb8/yKCt/ZpA+0Rgu6fS5uW0r+GAX//w3CGy3SQICYIIihAEbj05Qmw9Na97FYCj5iBu0gcl94swXG0JqSshCIlDTAWFUmoBcAeQAjyi6/r/BYwr4HEgH9gHXKHrese5MGJMWaWdg7XNfn3ZGSnBT25yZ5d1tZiHfGMoAreaevrWU7m9gn/qr+IyZUl02yZEmxCExCFmNgqlVH/gfmAmMAG4Xik1xmdcA14HfqPr+snAZ8DPYjWfzhCsBkWoHE8YoY3cGcNHeI+TzTX2vYqVQYWEVZOssIKQaMRSozgH+FDX9UMASqmlwDzgXs/4JKBe1/W3Pe0HgLwYzidi9h0yF5UImeMpWDg2+GWNTTbX2HJ7BZtrPvfr69+rH5P7nszI/OGiTQhCghFLQVEM+O7cVwGn+LRHAPuUUk8DE4GtwI9iOJ+IsVk0v3aoGIqWUBHZAFr7PZLJNbbcXsHSba+Z+ofmDuIbQ74WhxkJgnC8xFJQWPD/ua3hX9bHBswCztB1fZ1S6j7g98CiznxIYWHwtBrHRYCgSEuzBf2cnf9YBoB9l/kW1rQ07zUFhf72iKEjCqI675g8g06yraacj3as4cMdq3Ea/tHXGhrnnngGhQWxmWd3WH88Sfb1gzyDWK8/loJiD3C6T7sI8M2LsQ/4Stf1dZ72C8DSzn5IdXVdxyd1kuYAjydcRtDPcTXUAtBYbb5HzhmzvNfUVAe4xlYfjdq8CwuzY/IMIqXN/XVN1XochtnuoqFxhbqEfKMwJvOM9/rjTbKvH+QZdGb9FotGnz6dd6SJpaB4H7hbKVUI1ANzget9xlcDhUqpk3Vd3wRcCJgLFHQxZZV2Dhzxz90UyjW2zZBtBMlx5+vx1FOTAYZzfwUYnD2AeaMuEpuEICQ4MfN60nW9EvglsALYCCzRdf1TpdRypdQUXdcbgYuBJ5VSnwNfA34aq/lESrCqdkW9M0OcHUKABGSN7YnpxZeVLecF/eWQQsKqWUVICEIPIaY/bXVdXwIsCeg73+e4FH8Dd9wJVtUuZNbYCOlJGkW5vYL3KlawueYLv34NjRnF0xiY3Z/61nrxbhKEHkTivrFiRF1jq1+7T05aUI8nb7GiCOgpGkW4raYr1CWSJlwQeigiKAIIdI0NleMpZLEiMAXh9QSNYlnZct7btTLo2OxBs0RICEIPJqyNQim1wef43NhPJ/4E5ngKbHvxFCtqicDZINE1ilBCYnD2QOaruXxrxPnmiwRB6DF09NPW9+f1A8DboU5MOjxaQ+1u85Aly9+nOZE1inJ7Be/v+sjUP1/NFS1CEJKEjryeAgPmejzWCLee2mg1Z/ug4KKL/dqJnOfpvYqVGAHeXbLVJAjJRWfcY4+vxFsCECyGwmYL9Yg8jyPQrqtp5J05y9tM5DxPJZWlQXM2yVaTICQXHe2B5CmlLsatTeQqpfzqVuq6/krMZhYHgmWNPf3k4s7dxOIvWBI1z1NbmvBAhuYOisNsBEGIJx0Jil3Aj32OfZP2GUCPEhS79vtbpjPTrMya0D/E2RqRKFmJWgI1WJpwK1am9ZsSpxkJghAvwgoKXddnddE8uiUZYe0Tke3EJaLHU7Atp95p+Xxn7AIJohOEJKRD9xulVBawABgHNACbgX/puh6kplti09k62ZGQaB5PJZWlvBhkR3FMn1EiJAQhSekojmIE8AXuhH6Nnu5rAV0p1ePeGp2tkx2UgGC7RNIo2vI3BXo5yZaTICQ3Hf28vQf4ha7rz/t2KqWuBf4HuCJWE+tqjqVOdv3+IGNaQC2LBNEoSipLgwbVjS84idmDZ4k2IQhJTEfuseMDhQSArutPAyo2U4oPx1In+6g50Syp/fy9pBIlhmLF7lWmvvlqLjeMXyhCQhCSnI4ERbi3Wo+KqziWOtmuVvNI36sWtt8zQWIoSipL2ddwwK9veO4QCaoTBAHoXGR2j+aY6mQHPh2LhYzhI7zNRIihKKks5QX9ZVP/t0ZcEIfZCILQHelow3yAUuqPIcZCBRgkJIGGa6s1uAxt+ezN0DfpwD7RnWIo2kqYrt671jQ2vmCMbDcJguClI0Hxf2HGHovmROJNoEYR2G7DaDgc8T27q8dTSWUp/9RfNQXUgdvDafbgs+IwK0EQuisdBdzdE9inlErTdb052PmJTMTpxV3uAtn2XeYhLS3Nr90dPZ5CbTVpaIwrGCMeToIgmAj75lJKpQJPAst03Zv452WlVDXwXV3Xu8dP5DjQWG3uyztjll+7O2kU4baaBmcPkPrWgiCEpCNj9r1ADvCxT98NQD5wd4zmFBcCo7BDpxd3b0kZTvNI4bzL/NrdRaMoqSzlf9f/mZK9pUHzN4mQEAQhHB0JijnAAl3Xvb6Tuq5XAlcDF9P6QqkAACAASURBVIe8KgEJNGaHisoO6QhmMT/KwBiKwHZXUG6v4EX9FZOA0NAYX3ASP5n8PRESgiCEpaOfuC26rjcGduq6XquU6lF2ikiM2U2lL4W+gdE9PYlLq9abUnLIVpMgCJ2hI43CqZTKDuz09IXIb5GYRGLMbv38g9A30MyCJdAdNh7usTvs5ohzERKCIHSGjgTFC8BTSilvLgvP8VOA2XUmgWl1mF1FTTjCJMwNIijibcwut1dQWe+fZ6Qos1CEhCAInaKjradHgL8A+5RSn+MWLCcC/8Bt6O4RlFXaqW3wz8fRJyf9uO8bb2N2adV6U99ZA8/o0jkIgpD4dBRH4QKuV0rdD0zGXSG6VNf1IOnwEpfVW8zLCZkQsBPEU6Mot1fwxUHdr68gvY/kbxIEodN0FEcxSNf1XbquVwAVAWPn6rr+dkxn10Xsrak39YVOCBg58dIoyu0V/GHD4zgMf8HUKyWjSz5fEISeRUc2imVtB0qpQJvEA9GfTnw4WNvk187JTAmaELDNNbalLshQBO6xsdYoyu0VvLPzQ14rW24SEgDTi0WbEASh83T0E9fXQjsszFiPIsVmfuk3fPi497h2t/kaa46/YOnqFOOhtAiAvNQczhs6W7adBEE4JjoSFEaI42DthCWSWtnO8k+9x63mnSr6nD/Hr90VKcbL7RWUVO+hOHUApVXrgwoJDY1rx10lnk6CIBwzndEoeiwRRWW7fHJ2BBnOO3OWXzvWKcZ9M8DaNBtj+pgLDlo0C5ePuliEhCAIx0VHgsKilMrHLTCsPscA1pjOrAuJLMW4RmfSd0Tb46ncXsFXh7czMn84AC/qr3gjrts0CatmxWU40bAwvfgUpvWbLEJCEITjpiNBMQ6ooV04HPQZ6zFbTxGnGA9FkGC7aHo8+dofbJqNU/tNMaXlyEnN4ieTvucVJiIgBEGIFh3FUXTkFRUWpdQC4A7c6T4e0XU9aCEkpdQFwKO6rg89ns/rTkRTo3ivYqVXa3AYDmpb6rBqVpyeFLZWrEzrN4VhuYNFQAiCEHVi5tivlOoPtAXqNQOrlVIrdF3/IuC8vsDDxNEeEokxu7MKVLQ0inJ7BZtrPjf1/2TS9yitWkdGRirj88aLgBAEIWbEMgLsHOBDXdcPASillgLzMKf+eAq4B/hNDOcSlsCtpkBjdsvWld7jSCrbQfRiKIKl4chJzfJqD4WF2VRXBwvsEARBiA7HtbXUAcWAb26MKmCA7wlKqR8DG4A1MZxHWMoq7Rys9c+Ynp3hnxi3ed2r3uNIKttFK4YiWBoOgGn9pnT6XoIgCMdKLDUKC/77NRq0V89RSo0F5gJnEyBAOkNhoSkLeqd44s0vTH3DB+b53beuqf0Xu6mynaYx5vvX+nXpm/fj8tFKJpwyiHETOrfEbTXlPLLhL147RBtTi09m2oixfn3H+wwSHVl/cq8f5BnEev2xFBR7gNN92kXAXp/2pUA/YB2QChQrpVbpuu57TYcc77ZLRVWtqW/iiAL/+4YrSmSxmObgcDn9LumVm9qpeZbbK1i67TWTkNDQOKPfTL97JfvWk6w/MdfvdDo4fLgaR7jU/RFisVhwuSIoE9BDCbZ+i8VKRkYWWVm5aD5emRaLRp8+nY/piqWgeB+4WylVCNTj1h6ubxvUdf1XwK8AlFJDgJWdFRLRIDBm4oS89BB5nkIQRIgcq8dTSWUpq/eWsudoVVAhcYW6RIzWQo/g8OFq0tMz6dWryO9FdizYbBYckdST6aEErt8wDJxOB3V1Rzh8uJrevU847s+ImY3CU1v7l8AKYCOwRNf1T5VSy5VS3WaTPdBwbbV28pEEERTH4vG0rGw5L+gvU1G3J6SQkFxNQk/B4WihV6+c4xYSghlN07DZUsjL60NLS1PHF0RATPNe67q+BFgS0Hd+kPN2AkNiOZdQRBaVHWbrKQqV7UoqS3lv10pTv1Wzclq/qRJhLfRIREjEFk0LNBMfO11bcq0bEu+o7GVly4MKifEFJzF78CwREIIgxJ2kFxQd4RtDESmRaBTl9greq1jB5hqz19XsQbP41giT4iUIQozYsGEdt99+M/37D8QwDByOVi66aC6XXTY/3lPrFiS9oOgoKrvlsze9x5EG23WkUYSrHTFfzRVbhCDEAaVO5NFHnwCgoaGeb3/7MqZOncbQoYGleJKPpBcUHaUYNxoOe48jCbaD8FHZ5fYK/rH1X0GFxOxBs0RICEIHlFXa0XcdRg3K75yHYidobm7GYrGQlZXFvHkXMmbMWL76Suexx55i9eoSXnzxeTRNQ6kTufnmxWRmZnLRRd9g1qyz2bx5I1arjXvvfRCr1cq1117Fo48+Qf/+A7juuqu44YYbmT59ZkzmHStiGZmdEHRozPapQ2EKtgMK513m1w4XlV1ur+CR9X9hX8MBv2vyUnOYr+bKdpMgdEBZpZ3fvvAZr/ynnN++8Blllfao3VvXt7Jo0QIWLryCefMuZOLEyRQUFAJw6qnTeeGFVzh06BDPPfdXHn30CZ577p+kp2fwt789CcDBgweZPPkU/va3JZx88kRefvkl+vYt4vvf/xEPP/wgf/3rE4wdOz7hhASIoDg+Y7bVXJIjXGW70qr1ODG7vl477irRJAQhAvRdh3E4XRgGOJ0u9F2HO74oQpQ6kWeeWcKzz77I66+/w+7du3j++WcAGDPGnQ1h48b1zJhxOrm5eQB885sXs359e/XLadNOA2DYsOHU1bmDeS+44JukpaXz/vvvcOONN0dtvl1J0guKjgnjwhdBDEVbZbtQeZskiE4QIkcNysdmtWDR3DFPalB+TD6nV68svva12WzZsgmANI8t0mWqfmngdLb/+Gs7T9M0DM/7obm5mQMH9uF0Oqmu3h+T+caapBcU1oCtpuApxkMQYVR225bToWb/Xz/jC8aIJiEInWBE/1xumz+Ri88Yxm3zJ8bMRuF0Ovnss/WMGjXar3/ixMmUlPyH2lr3ltfrry9j4sTw8cNPPfUXJk+eyo9+dDP333+Pn2BJFJLamF1WaefAEf/IRZutE7IzwhiK0qo1QbecZg8+K/LPEgQBcAuLWAiINhuFpoHD4WDEiFFceeVC3n773+2fPWIkV131HW688XocDgdKnchtt/085D3/+98trFjxPs899yKZmb146603efHF57nyyoVRn38sSWpB8daaClPf6ScXR36DIIIimMdTldOsbsqWkyB0HyZNmsJ7760KOrZ06Rt+7Qsv/BYXXvgt03klJeu8x+effyHnn3+h6fqHHnokGtPtcpJ662nXfv+sm5lpVmZN6B9wVuQh8Psq7Xy5ub0Eh9WqQe9Gttt3+J03PHeobDkJgpAwJLWgCCQjwD7RVPqS9ziSYDt9y358s/0OHNYb3TCXMe3X6/izOQqCIHQVSS0oAg3Xge1Wn/QdkQTbNdT759Y/6Kpmh928vSUV6gRBSCSS2kbRUVQ2re2G7o6C7fZV2tldfsjbduFkY+oaGuuP+F0zvmCM2CYEQUgoklqj6DAqO1xlu4BgO/9AO4PDhbtpzPYXEuLpJAhCIpLUGsVxpxj3od0t1sAAGjP9S6xaNAuXj7pYtAlBEBKOpNYoOsatIbREUJK46nC1R0RogIHNmeodG5w9gJsnfV88nQShm7JhwzpuvNFbqZmGhnquv34Rf/rT/7Jo0YI4zqx7kNQaRbgU4879Zd7j2t3mawM9nvY07wF6eYWFw+o2bGtozBt1kWgSgpAgNDQ08NOf/oiJEyfz/e//KN7T6RYktaAIZ8xuXPWc97i1wXxtoMdT7dF6bPRCQ8PAhc2ZKttNghADnPvLcOz9ElvxaKx9R0T13o2Njdx2201MmjSV7373+wDMnDmFkpJ1PP3049TUVLN79y7279/HnDkXsXDhtTgcDn772wfYvHkjhYUnoGkaCxdey4ABA7n33jtpbGzEYtG46abbGDt2XFTn21UktaAIZ8w2jlS2D7gwEZhevMnSQBZ4NQpbqsbNk74vQkIQoohzfxkNbz4ErlZaLClkzlmMrf+oqNy7ubmJxYt/wvbtZTz44MNBzykr+4rHHnuKo0fruOyyb3HJJZfxzjv/pqmpkSVLXmb//n1cffUVALz55mtMnz6TBQuuZs2a1WzevDFhBUVS2yjCGrNdYRJ3BUkvbnO4bRKax0aRa8kTISEIUcax90twtbo9El0OdztKbN36BZMnT+Wcc77Ob37z66DnTJo0hZSUFPLze5OTk0N9/VHWri1l9uzz0DSNoqJ+TJ48FYApU07hhRee5+67f0ltrZ25cy8Les9EIKkFRVMIL6fO1skut1dw0HkQaNcoUtLNwkQQhOPDVjwaLCmgWcBic7ejxNix41m06DpuvPFmysu3s2zZy6ZzUlPbnVTaUolbLFYMw7ztMH78BJ5//iWmTTuNDz54l9tvT8xaFJDEgmLlxkrqm/21hkF9swFoXvdqp+5VWrWejIYcoF2jSHdlRGWegiC0Y+07gsw5i0mdcgmZcxZH1UZhs7l34tPT07nzznt57LE/smNHeYfXTZlyCu+//y6GYVBTU81nn61H0zQee+wPvPPOW5x33hxuvvl2tm0z16NJFJLWRrFq015T33mneraKGmtNY+Gw728hv2Yg4NYoDM3gZDX8uOcoCIIZa98RUTdiB3LSSWO5/PIF3H33Lzo896KLLqGs7Cuuvvpy+vQpoKioH2lpacydezn33HMHy5e/gcVi4Y477onpnGNJ0goKh8NfVTwhL90nx33kGWMBWqot2AyL1+Optd8hJqmvRWmmgiDEmkmTpjBpkn8OtmuvvYFrr73Br+1LW/rw1atLmDnzDG6//ZccPXqU73znSgYMGEhOTi6PPfZU7CffBSStoAg0ZDv9XGXd20chCUjtcZQ68jjBa59oyToa/DpBEHocQ4YM5b777uLJJ/8MwHXX3UBOTmwq78WLpBUUkdJRVHa5vQKX3f0Y2zSKHHrWl0QQhNAUF/fnz39+Ot7TiClJa8zuKMV4G8Gisi1Z2d7jdzd+YrJPnHLSmOhNVBAEIc4kraDoMMW4h2BR2QUXXew9PrrPieaxT4BBY98DTFIqmlMVBEGIK0krKMKnGPcRGoHu0ZpG3pmzvE2HrdlzhSd+Ir9zhnBBEITuTtIKilBR2Q0fPh7+Qkv7I1tWthzHEXdgXZtGkaOJfUIQhJ5F0gqKUDh3rIvovHJ7BR9/vkniJwRB6PEkraAIacx2Rla86LWy5eTWFPvZJ7KGusQ+IQgJRlXVXmbOnMLatWv8+ufNu5CqKnNg7rGwZMnf+e53F+Jyte9ll5eXMWfObA4c2B/xfS6++PxOnR8tYioolFILlFJfKKW+Ukr9MMj4RUqpjUqpTUqpZUqp/FjOx5fQxuyObQzLypZTueewnzaBBt+YMTXa0xQEoQuw2Wz8z//cT0NDfUzuf/nl7uJHL7/8EgAul4vf/ObX/PCHN3HCCX1j8pnRJGaCQinVH7gfmAlMAK5XSo3xGc8B/gxcoOv6ycBm4O5YzScQp9PfSm2zaH7FisLx/q6P6FXXx0+bGHhiDkX9xT4hCLGm3F7BOzs/pNxeEbV7FhQUMnXqNP70p0eCjv/9789wzTVXsnDhfB577A8YhsHixTfzyScfA/D44//HT3/6YwBqamq46ir/TLFWq5Vf/OJXPPvsU1RXH+CVV16iT58CzjtvDgAVFTu58cbrWbjwCr73vWv48sutANx7750sXnwzV145j08+KfHer6JiJ5df/i22bv08as8gHLHUKM4BPtR1/ZCu6/XAUmCez3gK8ENd19sKP2wGBsVwPl7KKu0cONLk1+dwGX7FikLhcDkxMLwV7AwMNDSGDeoXk7kKgtBOub2CP372BG+Uv8MfP3siqsLixht/wqeffmLaglqzZjW6vpUnn3yOv/3tH1RXV/Puu28xffoM1q9fC8CmTZ9RUbEDp9NJaelqTjttpun+Q4cO49JL5/PQQ/ezdOk/Wby4PY/UPff8kssvX8Czz77ID37wY+6883YcDvc2eO/evfnHP5Z677lvXxW//OVt3HnnvZx44klRW384YhmZXQxU+bSrgFPaGrquHwReBVBKZQA/A/7U2Q8pLMzu+KQA/vWROSPk4H45GPsq/frsu8zXGh4vWv9ssWCzWI9pLtEgXp/bXZD1J976DxywYLN1/nfqdns5DpcDAwOny8F2ezmj+gw9pnu1YbW6r83NzeEXv7iTBx/8Nf/4x0vesQ0b1rJ16+dcd91VADQ3N9OvXz/mzr2U2267mebmRjQNRo4cxfbt2/j000+49NLLg85p4cLvMH/+PBYtupbCwgIAjh6t48CB/Zx1ljs/3KRJk8jMzKSqag+aBmPHjvO71x133M64ceOZMGGCty/U+i0WS1S+H7EUFBb8N/w1gtSKU0rl4hYYm3Rdf7azH1Jd3UGOjSBs333Y1Pe1if3h3/7Ta6z2P8cAvhqYRkZdntc+AQZWq4XcPunHNJfjpbAwOy6f212Q9Sfm+l0ulykxZyQMzx2GzWLD6XJgtdgYnjsMMCf57Axt29AOh4vJk6cxdeo0Hnnk994xh8PBpZdewRVXfBuAuro6rFYrmZmZOJ0uPvjgfcaOPZnevXtTWlrK1q1fcOKJ40LMyUKfPgWccEKRd7ylxWFag8vlorm5FcOAlJRUv7FbblnME088xscff8y0aadhs1lCrt/lcvl9PywWjT59sjr9jGK59bQH8N2PKQL8XAiUUv2AVbi3na6L4Vz8qGts9Wv3yUnzyRzbjuFTrsIAnMB7M3LJq+nvY5/QUOOKxD4hCF3AsNzB/Hji9cwZ9g1+PPH6mFSRbNuCOniwBoBJk6byzjvLaWhowOFw8POf/5SVKz8A4NRTp/Pss08zceJkJk2ayssv/5OTThqHNUgVzFDk5ORSUHACJSUfAbBp00Zqa2sZMmRo0PPHjBnLT3/6M373u9/Q1NQU9JxoE0uN4n3gbqVUIVAPzAWubxtUSlmBN4CXdF0PXncwRgRGZYfK8xSIoRGgTYDVqqHGdX+vBUHoKQzLHRzTMsO9emVx++13cMstNwIwc+YZlJVt4/rrF+FyOZk2bbrXCD19+kxefPF5xo+fQEZGBg5HK9Onm+0THfGrX/2a3/3uNzzxxGOkpqZx//2/9RZSCsbkyVMZN248Tz/9ODfdFPvKeZphxC7lhFJqAfALIBV4Stf1h5RSy4G7gIHAy7i1iTbW6boeiWYxBNgBx7b1dNtjH3Owttnb7pOTxm9/MIO6J76D725Z1aft1xiAQ4NXTz2L3tWDvbaJMRP6cea50Snufiwk6tZDtJD1J+b69+2roKgoOi/7cFsvyUC49Qc+Z5+tp6HAzog/4/imGB5d15cASwL6zvccriPBAv5q0wrJrxZtQhCE5CKhXtTRInSK8XZtIlgdin3Zw9GweLWJgcN6i21CEIQeT1IKimBR2U2lL/n1BatD4bAF2DZ6pUZ9boIgCN2NpBQUwVKMt37+gV9fq08kf5tYqS486mm7ewqKOu9mJgiCkGgkpaAImmLc0eJ/UoCN/1B6IUdt7sDxtq2n5sbIEggKgiAkMlIzOwLs6YVsLj6XrNp2uWqzWSgeJPYJQRB6PkkpKDLTbByk3T12eGoNBCmF6q5ZB4czinBpFjRPsPmAoflMnTlYDNmCICQFSSkoauv9t5lmutaEONNNirMJ0NoTAKoCERKC0MNobGzkqaf+zOrVJaSmppGVlcW1197ApElT4j21uJN0gmLlxkrsDf4pPIo54NeuD6gL0mpNBwyPRiG2CUGIJ43by2jUvyRDjSZj+Iio3NMwDH7+858yePAQ/v73l7DZbGzb9iWLF9/MPfc8wMknT4zK5yQqSSco3ltr9nu1BuQqPFrVvu0E7RpFW29aRtI9NkHoFjRuL2PPww9hOFrRbCkMuHUx2er4MyNs3ryJXbsqePjhP3pTZ4waNZqrr76Gv/3tSRwOB9dccz2TJk2hqmovP/rRDSxd+gaHDh3kt799gP3792OxWLjhhh8ydeo0Ghoa+P3v/4fy8u24XC6uvPJqZs8+l+XL36C0dDW1tbXs3VvJ1KmncuutP+PAgf3ce++dNDY2YrFo3HTTbYwdO+641xUtku6N19Lq9GvnZKaYXL9aHNCW0svArVEYmng7CUK8adS/xHC0gmFgOB006l9GRVBs3fpfRo1SpvxKEyZM4i9/eZRRo4KXOP7DHx7mggu+ycyZZ1JTU8MPfnAtzzyzhGef/StKncgdd9xDff1Rvve9axgzZiwAW7Zs5vnnX8JisbJgwVy2b5/HRx99yPTpM1mw4GrWrFnN5s0bRVDEk0BDdm6vVHdaWA8V6TY0w18QWJ1NXiEBiEYhCHEiQ41Gs6VgOB1oVhsZanRU7msYoGmaqb+lpRnDCJ1Hat26T6moqOCppx4HwOFwUFm5h3XrPqW5uYl///t1AJqamtixw10HZ9y48WRm9gKguLg/tbV2pkw5hV/+cjHbtulMnz6TuXMvC/6BcSLp3njBa2W3923ITmcKR71te3ohNVn+6X5FoxCE+JAxfAQDbl0cdRvFmDEn8a9/vYDD4cBms3H48GHy8vL4/PMtKHWinxBpqzwH7noVf/zjn8nJcTu31NTUkJ+fj8vl5M4770N5BNmhQwfJycnl3XffIjU1ze+zDcNg/PgJPP/8S6xeXcIHH7zL8uVv8Mgjj0VlbdEg6QLuAqOy5xj+EdktdQYWj9ywpxfyWfG5HM7wlNXQJH5CEOJNxvAR9D5/TtSEBMD48RMYPHgIjz76vzgcDt56602+//1reeaZp1m06Dpyc/PYsWM7AKtWrfReN3nyFF555V8A7NhRztVXX05zcxOTJk1l2bKlgFt4LFw4n/3794X8/Mce+wPvvPMW5503h5tvvp1t2/SorS0aJJ2gCIzKVi7/sqjqiyZPOaL2+Ak092MaMCSfC+ePF9dYQehhaJrGgw/+DtD49rcvZfnyN9A0jQEDBlBa+gnz51/Fq68u5ZprrqS5uX3r+uabF/PFF/9l4cIr+NWvfs6dd95LZmYvrrnmuzQ3N3PVVZdx003f4wc/+DH9+w8I+flz517OypUfsGjRAn7xi1u54457umDVkRPTehQxZAjHWI8isBbF7/Kew7fcbMV6SHG6BcWenJHohTM87k8aZ5w7kpMmFB/35KNJotYjiBay/sRcf6LUo3C5XHzyycdMnz4zqA2jO9AV9SiSTqPwTTE+xFaNxVdIpNvQfJ53XVofz5F4OwlCMmKxWJgx4/RuKyS6iqQTFL5R2fMy1+D759+Qne49tqcXUpU90tu2WjWxTQiCkJQklaAIjMruZzniN16RluI9PpxRhKFZwPNLQo0rEtuEIAhJSVIJisCobM3HLbYi3ca+VBuap8sbjW1I7QlBEJKbpBIUvlHZV/ZahUVrT9OxITud6ZuOeiOyvfYJTewTgiAkN0klKHwN2RNSKvA1UOxPsTKurAmA2vRC9nrtE4bYJwRBSGqSKjLbNyrbEpAI0G6zYmt1j1dlD8fQrGKfEIQkoapqL/PnX8KQIcMAMAwX9fX1nHfeHGbMOJ1ly17mZz+7M+i1Gzas469/fYJHH32iK6fs5dRTJ1FSsi6mn5FUgsLpDO5rXJFu48TPG7Hi9nbyahOGgdVmQY3r23WTFAQhLhQUFPLMM0u87Zqaaq644mLOPvvrIYVEspA0gqKs0s6BI01Bxz7Ky+T0T9xBS0f8vJ0M0SYEoZuxr9LO3l12igflxvT/Zk1NDYZhoOtbefjhB3n00Sf46iudhx56gObmJnJycrnrrvsAOHLkCLfe+mMqK/cwaNBg7rvvfzh4sIaf//xWBg8ezI4d5YwaNZqxY8fz1ltvUldXywMPPMyQIUP573+38Ic/PExLSwt5eXncdtsvGDBgIDfeeD1jxpzEpk0bOXLkMD/5yW2cdtoMqqr2elOSn3TS2Jit35eksVGs3lLlPR5iq8Y35VNVqs277eTv7aSJt5MgdCP2Vdp544XNfPqfHbzxwmb2Vdqjdu+ammoWLVrAggVzueCCs3nyyT/zwAMPU1h4gvece+65k0WLruO55/7J2Wd/nX/960UA9u/fxy233M4//rGUQ4cOsm7dpwBs3/4VV165kGeeeYEtWzaxb18Vjz/+N8455xu8/vortLa2cvfdv+CWWxbz7LMvcNFFc7n77l96P6+11cHjj/+NH/3oFp588s8A/O//PsT551/IM88sYdy4k6O2/nAkjaDYW1PvPZ6TsR4N2JVu49XCLIorWsTbSRASgL277DidLgzDvZW8d1f0BEXb1tPzz/+Lb3zjfAzDxdSp07zjR44c4eDBGmbMOB2Aiy+exw9/eBMAI0aMpLi4PxaLhcGDh2K3u2O0evfuw6hRo7FYLBQWnsDkyVMBKCrqR11dHbt3V5Cdnc2JJ54EwNe+dg579uzm6FF3Butp004DYNiw4dTV1QLw2WfrOfvs2QB8/evnmWpoxIKkERR1je2BdoOsB6lIt/FkcT6lORlM/aIBEG8nQejuFA/KxWq1oGlgtcYmk7PFYuEHP7iJ6uoDvPDC3739NpvNL5VHc3MzlZV7ALBard5+TdNoy6GXktIexBt4HoDLFSzXnoHL5XblT01NNd0TNO91mqaZ7hkLkkZQNLW0awY2nGzIScehAZpGRqPbyO3v7aSJfUIQuhlF/XO5cP54TjljaEwzOdtsNn74w5/wzDNPc+jQQQCysrIoLDyBTz9dA8A77yzn6acfP67PGTRoMHa7na1bPwfggw/eo2/fft76FsGYMuUU3nlnOQAfffShXzbbWJEUxuyVGys5XOfO8dQWaLfLJ12HxSXeToKQKBT1j60Ru41TT53O2LHjeOqpv1BQUAjAXXfdx8MPP8hjj/2R3Nw87rzzXnbt2nnMn5Gamsq99z7I73//EE1NjeTk5HLvvQ+GveaW0vDuggAACmVJREFUWxZz33138frrrzJ69IneanmxJCnSjN/37Fp2VLnPezjvedbnprLshGwApm+sZ+SOXpTnT+BwZrG79oThYszE/px57vHX4o01iZpmOlrI+hNz/YmSZjwR6Io040mhUfg+RA0Xq/MyAMg4mk/mweFsKB6F4dluwnBhtWiiTQiCIHhICkHRllp8TsZ69mTYOJBqI+NoHsO3TmNftgXQ3HYJw0XvxirOvOECsU0IgiB46PHG7CWvf05mg4NTU3ZzdvrnvO1Wuyjalw9Ge5lTDAOL4WJ05kEREoIgCD7EVKNQSi0A7gBSgEd0Xf+/gPEJwFNADvAf4Hu6rkctcGHdxr0c+aKaAQCtA/ivpYid6U6KalqZuWUHm4oVLkAzXBTXfUW/uu2MuvmGaH28IAhhMAwj6SvHxRLDcOGX+fQ4iJlGoZTqD9wPzAQmANcrpcYEnPY8cKOu66Nwr+i7x/u55fYK3tn5IWU7PuZAybuemhMWXFgobypmyhcNzFpbR35TNZP2vs3wQxuYvPdtRlevobAgnYzhI453CoIgdIDNlkp9fS0J6kzTrTEMA4ejlSNHakhNTe/4ggiIpUZxDvChruuHAJRSS4F5wL2e9mAgQ9f1NZ7znwHuAf58rB9Ybq/gj589gcPlwOZycWmaFevRgbhwi4qR23aT19geoZ3bVE1uU7W7oWn0vWrhsX60IAidID+/kMOHqzl69EjHJ3eAxWLB5Uper6dg67dYrGRkZJGVFZ1t9FgKimKgyqddBZzSwfiAzn5IYWG297ikeg9OlwMDA4cGB/NqOaflbfY7isg+so+Uxmo0IPArlZKXx+ifLyZntOrsx3cLfJ9BMiLrT8z1FxXlx3sKQoTEUlBYAF+9MvAd3dF4RPj6kBenDsBqsYHLgdUwGNrQQoGtgQJbNc1ZcMSqYbgAi4bmcrk/XbNQ9P0bae5TnJD+6InqRx8tZP3JvX6QZ9CZ9fvEUXSKWAqKPcDpPu0iYG/AeL8w451mWO5gfjzxer46vJ3hRhpZji+oOXyQXvm9KZj4NbKOQqP+JRlqNNB+LHYJQRCE0MRSULwP3K2UKgTqgbnA9W2Duq5XKKWalFIzdF3/GLgKeCvCe3uzYFks/lb9EflDGJE/xN0YPtNvLAXoNXKkt+17nMgEPoNkQ9af3OsHeQaRrt/nvE5lEoxpCg+Pe+wvgFTgKV3XH1JKLQfu0nV9nVLqZOBJ3O6xG4Dv6LoeSYarmcCqWM1bEAShh3M6UBLpyYma6ykNmIrbAO6M81wEQRASBSvuLf+1QMRpZxNVUAiCIAhdRI9P4SEIgiAcHyIoBEEQhLCIoBAEQRDCIoJCEARBCIsICkEQBCEsIigEQRCEsIigEARBEMKSsKVQOyqKlGgopVYAJwCtnq4bgOEEWaNS6hzg90AG8E9d1+/w9ActBKWUGoS79scJgA5cqev60a5aWziUUjnAamCOrus7o7U2pVQe8A9gGFANXKbr+j6lVCrwNDAFaAQW6Lr+ZRcu2Y8g6/8b7swDbfnw79F1/dVYP5euWm8gSqlfAZd5mv/WdX1xMn0HQqy/230HElKjiLAoUsKglNKAUcDJuq5P0HV9Au6kiaY1KqUygL8CFwEnAlOVUud5bhWqENRjwGO6ro8G1gF3dtHSwqKUmoY7jcAoTzuaa/s1sErX9RNxp4n5g6f/x0C9p/8nuOugxIXA9XuYApzR9j3wvCC64rl0OZ4X39eBibi/45OVUvNJku9AiPVfTDf8DiSkoMCnKJKu6/VAW1GkRKWtEMa7SqlNSqkbCb3GU4CvdF3f4Skb+zxwaYhCUJcqpVKAMzzXe/u7YlER8F3gh7RnDY7m2i7A/asJ4AXgPM/53n5d1/8DFHp+ecUDv/UrpTKBQcBflVKblVL3KKUsdM1ziQdVwE91XW/Rdb0V2IpbaCbLdyDY+gfRDb8DiSooolL0qBuRD3wAXAycDXwP95cl2BpDrT1UfwFQ61OLvNs8K13Xr9N13Te5YzTX5r3GM14LFIa5V5cTZP1FwIfANcCpuBO3XUvXPJcuR9f1z9tecEqpkbi3YFwkyXcgxPrfpht+BxLVRhGVokfdBV3XPwE+aWsrpZ7GvRf5a5/T2tYYau2R9kP3fVbRXFtg3uWO7hV3dF0vx/1jAQCl1J+Aq3H/Koz1c4kbSqmTgH8DtwEO/Lfievx3wHf9uq7rdMPvQKJqFFEvehRPlFIzlVJn+3RpwE6CrzHU2kP1HwBylVJt+ef70X2fVTTXVuk5D6WUDcgGDoa5V9xRSo1TSs316dJwOzd0xXOJC0qpGbi16Z/puv4sSfYdCFx/d/0OJKqgeB84WylV6NnXnYtbZUtU8oDfKqXSlVLZwELg2wRfYymglFIjPF+CBcBbuq5XAE2eLx54CkF59j5XAZd7+q8m8gJRXU0017bc08YzvspzvrdfKTUTaNJ1fVeM1xUpGvCIUirfs2d8PfAqXfNcuhyl1EBgGW6voxc93UnzHQix/m75HUjIrSdd1yuVUr8EVtBeFOnTOE/rmNF1/U2PB8xnuPPF/5+u6x+HWqNSahHwMpCO+4/eZrC6EnjS43K5Afijp/8HwLNKqTuAXcD8LllYJ9F1vSmKa7sTeEYp9TlwxHM9wJ+Axz39zbj/Y3ULdF3frJR6EPgYt0v0y7quvwBR/ZuHei7x4Fbc6/m9Um3+HPwFWERyfAdCrb/bfQekHoUgCIIQlkTdehIEQRC6CBEUgiAIQlhEUAiCIAhhEUEhCIIghEUEhSAIghCWhHSPFYRY4fFRvwm3n7oNt2vyG8Bduq43R/mzpgLX6rr+vWje9//bu58Xm8I4juPvUVhIShE72XybkCRJlhaSJUubKSv8BZSlnZ1hmsQ/wKzFzmIym2lKM/W1IKaQHxsWSupafJ9r7oycITPNXbxfdet0zj33x+rb8zzn+XylteaIQlruDnACONVSfI9RoY131+G7DjAkuVtSF/dRSE1E7APmgb2Z+WXg/B7gJJUIME5FQveona5XW/Z/D9iVmZ/aPT0qaO0gFRf/sh1vpnqNvKE2Ve0ApqiMow+Zea3dfwE4l5m/cn+kjeKIQlpyFJgfLBIAmfk+Mx9SO14/A4eongGHqd21qzkO3MzMI8B94EZmLgLXqfiEMaoAjbXsHajohok1+E/Sf7NQSEv6qZt/cga4lZm9tl4x0c6t5nVmzrXjWWDnyje066+AsxExSkVBP/6XHy+tFxezpSUzwGhEbM/Mr/2TUR0VJ6kcrsG52k3UVFLfSHv/lhWf+23guMfvMc9941QfghfAZGY6L6yh4IhCajLzLdX5614LWOv3tL5NTTk9Aq5ExEhEbKWmh5602z9S01FQT0z9jR8sLzQPqLaY56m2l9JQsFBIy10CFoDpiJijRhkLwEWq1/Ju4Hl7JbVQTbs2HhGzVE/jd6zuGbA/IqYAMvM7VSym+4vi0jDwqSdpSETENuApcHmgB7K04RxRSEMgIk4Di1TTGYuEhoojCklSJ0cUkqROFgpJUicLhSSpk4VCktTJQiFJ6mShkCR1+gknEpCq8WXIuAAAAABJRU5ErkJggg==\n",
      "text/plain": [
       "<Figure size 432x288 with 1 Axes>"
      ]
     },
     "metadata": {
      "needs_background": "light"
     },
     "output_type": "display_data"
    }
   ],
   "source": [
    "# Compute ECDFs passing the different data for the different counties:\n",
    "\n",
    "#comput x, y for each county by calling the ecdf function and passing the county of interest\n",
    "x_Bronx, y_Bronx = ecdf(ConvertedMain_Bronx['IncomePerCap'])\n",
    "x_Kings, y_Kings = ecdf(ConvertedMain_Kings['IncomePerCap'])\n",
    "x_NewYork, y_NewYork = ecdf(ConvertedMain_NewYork['IncomePerCap'])\n",
    "x_Queens, y_Queens = ecdf(ConvertedMain_Queens['IncomePerCap'])\n",
    "x_Richmond, y_Richmond = ecdf(ConvertedMain_Richmomnd['IncomePerCap'])\n",
    "\n",
    "# Plot all ECDFs on the same plot\n",
    "_ = plt.plot(x_Bronx, y_Bronx, marker = '.', linestyle = 'none')\n",
    "_ = plt.plot(x_Kings, y_Kings, marker = '.', linestyle = 'none')\n",
    "_ = plt.plot(x_NewYork, y_NewYork, marker = '.', linestyle = 'none')\n",
    "_ = plt.plot(x_Queens, y_Queens, marker = '.', linestyle = 'none')\n",
    "_ = plt.plot(x_Richmond, y_Richmond, marker = '.', linestyle = 'none')\n",
    "\n",
    "# Make nice margins\n",
    "plt.margins(0.02)\n",
    "\n",
    "# Annotate the plot\n",
    "plt.legend(('Bronx', 'Kings', 'New York', 'Queens', 'Richmond'), loc='lower right')\n",
    "_ = plt.xlabel('County')\n",
    "_ = plt.ylabel('ECDF')\n",
    "\n",
    "# Display the plot\n",
    "plt.show()\n",
    "\n",
    "#Note: The ECDF shows a median IncomePerCap well-above 50,000 for New York and signficantly\n",
    "#less than 50,000 for the remaining counties."
   ]
  },
  {
   "cell_type": "code",
   "execution_count": 38,
   "metadata": {},
   "outputs": [
    {
     "data": {
      "text/plain": [
       "<BarContainer object of 5 artists>"
      ]
     },
     "execution_count": 38,
     "metadata": {},
     "output_type": "execute_result"
    },
    {
     "data": {
      "image/png": "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\n",
      "text/plain": [
       "<Figure size 432x288 with 1 Axes>"
      ]
     },
     "metadata": {
      "needs_background": "light"
     },
     "output_type": "display_data"
    }
   ],
   "source": [
    "#Visualize the different distribution of people within \"Poverty\" per counties with a provided estimate of error.\n",
    "\n",
    "#Create a list for the sum of Poverty population per County from pivotDisp\n",
    "Poverty = list(pivotDisp[\"sum\"][\"Poverty\"])\n",
    "\n",
    "#Remove margin values (totals)\n",
    "del Poverty[-1]\n",
    "\n",
    "#Displays the total(sum of the) \"Poverty\" population by County.\n",
    "plt.bar(county, Poverty, width=0.8, bottom=None, align='center', data=None)\n",
    "\n",
    "#Kings, Bronx, and Queens county showing a staggering amount of poverty."
   ]
  },
  {
   "cell_type": "code",
   "execution_count": 39,
   "metadata": {},
   "outputs": [
    {
     "data": {
      "text/plain": [
       "<BarContainer object of 5 artists>"
      ]
     },
     "execution_count": 39,
     "metadata": {},
     "output_type": "execute_result"
    },
    {
     "data": {
      "image/png": "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\n",
      "text/plain": [
       "<Figure size 432x288 with 1 Axes>"
      ]
     },
     "metadata": {
      "needs_background": "light"
     },
     "output_type": "display_data"
    }
   ],
   "source": [
    "#Visualize the different distribution of people within \"Child Poverty\" per counties with a provided estimate of error.\n",
    "\n",
    "#Create a list for the sum of Child Poverty population per County from pivotDisp\n",
    "ChildPoverty = list(pivotDisp[\"sum\"][\"ChildPoverty\"])\n",
    "\n",
    "#Remove margin values (totals)\n",
    "del ChildPoverty[-1]\n",
    "\n",
    "#Displays the total(sum of the) \"Child Poverty\" population by County.\n",
    "plt.bar(county, ChildPoverty, width=0.8, bottom=None, align='center', data=None)\n",
    "\n",
    "#Kings, Bronx, and Queens county showing a staggering amount of child poverty. These values coincide with their poverty levels."
   ]
  },
  {
   "cell_type": "code",
   "execution_count": 40,
   "metadata": {},
   "outputs": [
    {
     "name": "stdout",
     "output_type": "stream",
     "text": [
      "stat = 0.89 p = 0.0\n",
      "Probably dependent\n"
     ]
    }
   ],
   "source": [
    "# Pearson's correlation test between Poverty and Child Poverty\n",
    "#import the library\n",
    "from scipy.stats import pearsonr\n",
    "#Use the Poverty and Child Poverty columns from the Disparities dataframe\n",
    "stat, p = pearsonr(Disparities[\"Poverty\"], Disparities[\"ChildPoverty\"])\n",
    "print(\"stat = {0:.2f} p = {1}\".format(stat, p))\n",
    "if p > 0.05:\n",
    "  print('Probably independent')\n",
    "else:\n",
    " print('Probably dependent')\n",
    "\n",
    "#There is strong evidence(from statistical testing) to reject the null hypothesis and suggest that the two columns(poverty &\n",
    "# childpoverty) are dependent."
   ]
  },
  {
   "cell_type": "code",
   "execution_count": 41,
   "metadata": {},
   "outputs": [
    {
     "data": {
      "image/png": "iVBORw0KGgoAAAANSUhEUgAAAYcAAAEXCAYAAABGeIg9AAAABHNCSVQICAgIfAhkiAAAAAlwSFlzAAALEgAACxIB0t1+/AAAADh0RVh0U29mdHdhcmUAbWF0cGxvdGxpYiB2ZXJzaW9uMy4xLjEsIGh0dHA6Ly9tYXRwbG90bGliLm9yZy8QZhcZAAAgAElEQVR4nOy9eZicV32g+55vq7331mpJXmQfGwM2NjgsA5hgGDMJCSTkzh0IDCSQ4T5D4JmEmck2S5KZLJNMcskGcyEMJBDCsDmBxGa3cTDGRsbGRtKxLdlSSy313l17fev943xVql7VLaml7tZ5n8duddVX3zl1uur8zm8XSZJgMBgMBkM31qWegMFgMBg2HkY4GAwGg2ERRjgYDAaDYRFGOBgMBoNhEUY4GAwGg2ERRjgYDAaDYRHOpZ6AYX2RUr4Y+F1gEH0YGAHer5T64Tne70XAzyul3p3+/hXgzUqpyQs03/8KDCml3nOW61Y1rpQyAZ4AIiABXOCTSqnfvRDzPcvY7wQ8pdRfrPdYXWPeAPw34Fr0+50Ffl0p9U9SyiuBJ5RSxSVe926gTyn1e1LKZ4E3KaW+t+CaNwHvUUrdvuDxK4EjwONdDwvgA0qpj16Yd7Y8Usr/DDymlPq79R7rcsIIhy2MlDIDfAl4rVLqkfSxnwXullJepZSKzuG2NwJXdP3+mvOf6TmxlnFf1RYiUsoe4FEp5eNKqS+tz9Q6/DO0YLooSCkl8HXgHUqpL6ePvRr4kpTyZUBtudcqpT50nsM3lFI3d81lN/CElPJ7SqkfnOe9z8aPAgfXeYzLDiMctjZ5oA/oPil+EigDNhBJKX8O+GX0yXoS+NfASeCPgRcDJfQp8J3AceC3gF4p5f/uuuc3pZT/AoiBPwP2ok/of6uU+p30ZHk/cAi4Mh3jb4F7gB9J7/8epdT93ZOXUt6Y3m8QfQr+n0qpv+oauz3ujwEvVEq982wLopQqSym/B1yP3jR/AXhv+v7HgPekP0eA65RSp9O5fBf4r+jN9/eBV6Zr+H3gvel9nwW+Czwf+DXgJ4DXSCkb6RjvUUp9Nb3fR4DHlVIf6Hq/vwOUlFK/mP7+unTMlwF/mv4MgKNoAVBd8PZ+BfjfbcGQvt+vSyn/FdBIH7KllB8CbgN6gf+glPrcchqblPK3gLcAU8BTZ1vfrnFPSimfAq4DfiCl/E/AvwJC4En0OvcADwC7lFK+lNJGf8buAEaBDwDPQ3+Wvg78e6VUKKVsAX8H3AT8DfBC4A/Sw9CfAT+ilHoynf/XgD81WsXaMT6HLYxSagb4D8A9UsqjUsq/Bt4BfC39Mt6E3ujuVEo9H/h74NfRG/Yu4CVKqecAHwd+RSk1Avxn4H6l1DuUUu9Ih3pV+txfAx9VSt2K3nzukFL+X+k1VwC/rZS6DjiFFiD3pafNXwE+LaV023OXUjrpfP40ndvrgN+RUr5k4bhKqQ+tRjCk95Xojf0+KeWPpuvzKqVUe6O5Cy08vwD8bPqaG4AdwJfTuYbArelrRoHf6xriCaXUDUqpL6Tz/2Ol1J8DHwTeld6vhBYcH18wvY8A/7eU0kt/fzvwYeAlwO3ATenaHkULoIW8EPj2wgeVUncrpY6mv2aBryqlbgHeD/yPFdbqJ4GfBm4GXooWJqtCSvkSYD/wXSnlO9B/vxelf8sngI+lG/gP0WsB8FrgGaXUIfTh5ED6fl8ADAG/lF7nAV9USkml1G8C30MLjk+i1/Sd6RyuQQun9dYQtyRGOGxxlFJ/BGxHn1xPAf8R+L6Ushd4NfDldGNHKfX/KqXerZT6DvAbwL+RUv4h8Cbmax+LkFIW0Jvub0spHwUeRAuAtqkhBL7T9ZIZpdTfpOPejT65d2941wFZpdTn02tGgc8Bd57DMnxTSvmolPJx9ObxfqXUw+m9Pq2UmkjH+BiwG63dfASt4YAWqB9VSsXAjwM/iV7DR4E3AM/pGmue9tPFx9BaxDBa6HxJKTXbfUG6gf8A+AkpZT/aXPK3aFt+hN5ofxv4nFLqgSXGiDn7d9pXSn0u/fejwLYVrr0D+LxSqqKUCoGV/Ae5dI0flVI+gfZzvSX9bL0OrdG0zVofAF6dCsGPoIUg6HX+cPrvH0d//h4FDqAPG8/rGm+5df4L4G3pQeMXgI+co/n0sseYlbYwqZ35pUqpP0Cfnr4kpfw19MntNegNO+m6PgfsA65Bf4H/J1p9P0x6il4BG20eeqlSqp7ebwhook99rXSDaRMueL2F3gC777ew8JeFNjGslY7PYYk5+wseE4CrlLpfSulIKW8D3ow+vbdf875UoCGlLKJP420WmnoAUErNSik/g17HNwP/dpm5fhh4G1qg39U2HaVa3svQAuPTUso/WMLR/SDaFDjvpJw6bI+gtYqg66kkfb8r0f38wr9ZN/N8DgtY+Le00HuPAD4D/FGqnb2SM4LCBn4m1SKQUvYtuMdy6/yklPIHaAH+ZrQWbDgHjOawtZkAfkNK+c+6HtuJNg88DnwTbfrZmT73b9Bmhteg1fYPolX2N6C/rKA3iO4NOkJvpmX05vRL0Pkyfxv9JV2KYSnlnem1r0dvWt3RLoeBQEr5U+k1u9Amjq92j7u6ZViWe9BmnOF0jHegbetPp89/BG3r/0Fbu0Kblt4jpfSklBZ6M18u8mnhWv05WoOzlFIPLfOaLwC3ok1QH07n9eNom/sDSqn/CvwV8KIlXvsHwLuklK9tP5Cu8fuAx5YZbyXuBn5GStmXvte3nsM9QK/zz6XaJeg1+JZSqqWUaqK1o4+hNaJ6es2XgX8npRSpL+Hv0X6KpVhqnf8AeCjVOA3ngBEOW5jUpvsGtK3+qJTyIPB/0M5MpZR6HPj3aJ/EY2gzy7uBDwG3p2aYR9CnzqvSDeJB4Gop5efTYT6Dtt8/F31Se3H6uu8Cn0rtwEvRBN6ajvvrwBu61X+lVJDO/X3pSfBrwG8ppb65cFwp5btTB+9a1+eraNv2N6SUP0SbkX48NR+BNkHdjBYSbX4beBbtiD6IPv3+8jJD3A28W0r5q+l4jwEz6PVdbk4t4NPMFyB3o23zT6TO9JcCv7nEa59Gm2PeL6X8Qfqe/iPweqXUmqOmlFL/iDYlfQ/995xb6z1S/hL993tISnkIuAXt5G7zYbTZqHud3wsU0AeGH6Q/l/OP/D3wu1LKthnwS2gz6PlGYF3WCFOy23CxkSvE229lUgfpvYDsOiEbLjCpM/wjwHOVUmaDO0eM5mAwXATSkNBvA79oBMP6IaX8ONpM9fNGMJwfRnMwGAwGwyLWNVopzUZ9AG3HfVZKeQfwR0AOHUL4G+l1bbtuD/At4N0LIlsMBoPBcBFZN7OSlPJHgH9Cx6u3wyQ/io5euQF4UZoBCvAJdPbodWgH37vWa14Gg8FgODvrqTm8Cx3L/dfp77cBTymlngGQUn4CHSZ3EMgppR5Mr/sYOhLjg6scJ4MO6zvF/Dh5g8FgMCyPjQ5tfxhoLXxy3YRDu5yBrlYA6HIMp7ouOYUuqbDc46vlRSyfLWkwGAyGlXk52sozj4sZrWQxP8NRcCbdf6nHV8ups19iMBgMhmVYcg+9mOUzTqBVmDY70EXLlnt8tUQAU1NV4njtkVfDwyUmJiprft1WxqzJYsyaLMasyWI205pYlmBwsAjLmOMvpubwXXRRzP1pad43A3crpY4BzbQOEOgU/bsv4rwMBoPBsICLJhzSGipvR1fWPIiunfPZ9Om3AH8spTyMTnv/k4s1L4PBYDAsZt3NSkqpK7v+/XV0g46F1zyGjmYyGAwGwwbAlM8wGAwGwyJMPweDwbDhGBmvcEBNMFVuMtiT5VY5zJ5tpUs9rcsKozkYDIYNxch4hXseOk6tGTBQylBrBtzz0HFGxjdHFNBWwQgHg8GwoTigJshnHApZFyEEhaxLPuNwQHdzNVwkjHAwGAwbiqlyk3xmvsU7n3GYKjcv0YwuT4xwMBgMG4rBniz11vyizPVWyGBPdplXGNYDIxwMBsOG4lY5TL0VUmsGJElCrRlQb4Xcqlt9Gy4SRjgYDIYNxZ5tJe68bS+FrMt0pUUh63LnbXtNtNJFxoSyGgybmK0a8rlnW2lLvI/NjNEcDIZNign5NKwnRjgYDJsUE/JpWE+McDAYNikm5NOwnhjhYDBsUkzIp2E9McLBYNikmJBPw3pihIPBsEkxIZ+G9cSEshoMmxgT8mlYL4zmYDAYDIZFGOFgMBgMhkUY4WAwGAyGRRjhYDAYDIZFGOFgMBgMhkUY4WAwGAyGRRjhYDAYDIZFGOFgMBgMhkUY4WAwGAyGRZgMaYPBsKHZqg2NNjpGOBgMW4ittpG2GxrlM868hkamhtT6Y8xKBsMWYSt2hjMNjS4dRjgYDFuErbiRmoZGlw4jHAyGLcJW3EhNQ6NLh/E5GAybgNX4EgZ7stSaAYWs23lss2+kt8ph7nnoOKAFXb0VUm+FvOKmXZd4ZlsfozkYDBuc1foStmJnONPQ6NJhNAeDYYPT7UsAOj8PqIl5m2R7I+3WMF5x065Nv5GahkaXhksiHKSUPwv8avrr3Uqp90spbwY+AvQA3wLerZQKl7uHwXC5MFVuMlDKzHtsOV/CVt9It1qo7kbmopuVpJR54E+AVwI3AS+XUt4BfAJ4j1LqOkAA77rYczMYNiLGKavZiqG6G5lL4XOw03ELgJv+FwA5pdSD6TUfA37mEszNYNhwXGxfwsh4hbvuP8pf/sNB7rr/6IbZfLdiqO5G5qKblZRSFSnlfwIOA3XgPsAHTnVddgq4Yi33HRwsnvOchoeNWroQsyaLuVRrMjxcor+/wHceP8X4TJ1tg0Ve8rydXLWr94KP9czoHPc+dopizuWKHT3UGwH3PnaKN95eWHK8i7kmNT9iaKCAJUTnsVzeY3K2saE+rxtpLufDRRcOUsrnAz8H7APm0Oak1wJJ12UCiNdy36mpKnGcnP3CBQwPl5iY2Bgno42CWZPFXOo1KboWr7ll97zH1mM+X3vwWSwSRJLQqPsIwCLhaw8+yxtefvW8ay/2mhQ8m8np2rxQ3Xbo7kb5vF7qz8lasCyx4qH6Ujik/znwdaXUOICU8mPA+4GdXdfsAEYv/tQMhq3N2Ry6a3F+X2xMzsPF5VL4HB4D7pBSFqSUAng92rTUlFK+LL3mrcDdl2BuBsOWZTUO3Y3s/DY5DxeXS+Fz+IqU8gXAAbQj+iHg94AvAB+WUvYAj6AjmgwGwwLONZxzNfkSG/10vtVDdTcSlyTPQSn1+8DvL3j4MeC2SzAdg2HTcD4lrFdjMtqqiXSGtWMypA2GTcRqs6UXMjJeYWK2gTo+Q5yAawt6ixn6ixm2D+TnXWtO5wYwwsFg2FSci8O4rW14tkWtGWIJgY8OD5wuN7nluqH1nbRhU2KEg+GCYUobrD/nUnm1rW1MzTXpL3o0gxg/iAijhP27ezg5WedFF2Pyhk2FqcpquCCY0gYXh4XZ0qena6jjsxwfry6bzTxVbhIEEaen6lQbOhKpv+RRyLps789viDBVw8bDCAfDBcGUNrg4dIdzHh+vMDpZZ/dQgT3DhWUFsmMJnjwxh7AEQkAUJ0xXfIRINkyYqmHjYcxKhgvCRk6e2mq0HcZ33X+Uod5gSed0++dUucmJ8SpBGFHMOpRrfqf+QBjFGypM1bCxMMLBcEHYil3INjrLCeRjY2Um5hqdcNejo2Vsy8KxLfI5lyCMcTywLdskkRmWxQgHwwVhoydPnY3N6ExfTiA3WhFDvbnO46W8S70ZkvFsbtqvI5O6X3fX/Uc31fs2XByMz8FwQdjMpQ02ozN9ZLzCXLXFD45M8fjRKeaqrU4p73zq72mzcyAPCVTq/ryS37uH8hf0fW/UUt+Gc8NoDoYLxmZNnjrXxLL1ZCVNpjtL+oa9fYxM1Dh4bIYbrxzoZDd3awa9xQy7hvPMVn2mK61O1vOFfN/nk7lt2JgY4WC47DkfZ/p6mKPOttHO29SzLn2lM+al9tgLTXy2bfGW11w3b25feXjkggURbEQBazg/jHAwXPacizN9ZLzCNw6c4OCxGYo5l73bihfstHy2jfZswmzPthI3XzPI1x85yWzVp6/o8epbdi+a04UMIpgqN7EFHB6v0mhF5DI2O/pzTPnRmu9l2BgY4WC47FmrM/3hQ6f54gPHmK22cCyLlh1yZLTM/t29ndyO8xEO3Zt/ueYzOlWj3gwQwuJWOXzWTX1kvMKjR6bYs62I3KPfz6NHpgA4OVnvaDm7h/Kdx883iMCxBGpkllzGIetZBGHMkyfmkHv6znkdDJcW45A2XPasxZk+Ml7hiw8cA3S6QEJCpRESxzGjU7ULktvR7qlQrvk8fXKOIIxxbRvHFtzz0HEyrkAdn+Xhw2McOjbN2HR9Xk/ppRIS4yjhiw8cm+d8fvTIFDdfM3hBgghE2rqz5YdMzbWYmG1QqQdUG8F5rYXh0mE0B4OB1TvTD6gJojimlPOot0LiOMES0PRjbDu8ILkdu4fyWjOptEhIsIQgihOG+rKUqy2+M1Zl11Ce2YpPpRHQaNV4/Uv3sWdbiZHxCt9/agISyGUddg7k6S1mmK40ieJkkanq5GSdW+Vwx2/STqBbq4AIopjdg3mePFkmiRNc1yKXcTg+XmVkvGL8DpsQIxwMhjUwVW5SzLkEUUwpp0/clgA/ium1vfPO7WibhHYN5ZkuN/DDBAEM9GSwLYvj4zU8R7BjoMCOgQKgcxZOTtbZkTqyHdsiSRKCMObIaJnt/TlOTdYRAg4fn2HXYIGegrdkwtxa/SZth/zxsQqVekAp71LMacEThDEZ1zZO6U2KEQ4GQxdniz4a7MkShjEnJ2u4jkV/0WOm6hPFCfu2l3jVEo7ftdBtEnr6ZBnbjrEtQRAluI5FFMUktj3vNW1TVvu1+7aXePrkHK4jiJOEw8dnQUDWtRifaXBivMZwX5btA7lFCXNriTJ6ZnSuE1V11Y4SDx+ewA8iXNvCsgRBGHPNrh5TQmWTYoSDwcDS0Udj03U+/MWDDPZmeM7Vw1x/RU/Heb17qMB0pUnTj+kteLz+pft40Q07znsex8er1Bo+TT+i5UfESYwlbMJQawKWJbCs+a7Ctimr7cgWQtCTdzl6qkLTj7AEbO/PMlcLSIAo0sJtfLbO9v78vIQ5WH0463cePzUvpHZbf47pSouZSosdg3n2bS9h24LeLse5YfNghIPhsqedV3B6qk4x3cgOH58lIcFzbBrNiGrd75hb2olmjmNxw77zz21oayvHxsocPVkhn7XpLWRwnYCWnxDF2u/gOhZX7SgxU/WpNYNFEUbt5Le5aotnTldSTSNCCMHEbItcxqYVxiSJdqb35D2m5lqMzzTmdYNb6DdZTpsan6nPEyxX7igRRQlREiP39G26EiqG+RjhYLjsaZtjwigh61kIIWgFOj6/t+DR8COKeY96w+eAmuANL796kTB4+NDpRXkFq9EkuhPeGk2dH1CpB9i2RSnv4AcRUZQw0JehUvepWxYvuXEbrSBZssfzPQ8d56mTZWxLYFkCYVl4jkXTj6i1Qkp5DwFYlqC3kCGMGpycrFHMu0uGs66UkLetP8/4VPWsmdjG37A5McLBcNnTNsfkMrYOG3UEURwjEIRRQi6jbfzLmVsePnSaz9x7hKzn0JsWufvMvUcAVhQQI+MVPvnVJzuO3LmaT8azqLcEk3NNsq5N1rOoNSOCKKGU8+greZyYrC/pMG6H5D729BSOJbAtkW7oIbYQRFECSUKUaKEXRDEDPVnyWW0aWkrYrJSQd8eLr+RTXz7UWZvlMrENmxMjHAyXPe2ksp0DeY6MlgGwhCBOdMTN3m1FYHGiWdvUcujYDI4tyGf116n98x8fPN5JOnMsgRCCIIrnJaBV6j7FrC6j3e614Dk2GQcGe7OMzzYY7Mnwwuu3deZbawbLOoz3bCtxxXCBejMkn3Vo+iGVeoIfxiRArREw3JfrOIy39RXYPpDnDS+/esm1WSkb+6pdvR0T21KCxbC5McLBcNnTdjLnMw5X7ywxMlHDsiwytmDXUJ6egke17nfMLQtNLY2WPpnnPIeMp7UMS8DpmQb7mwG2ADUyC4Dc00etGfDFB46xayhPKe+l2oqFbQtafoRjW7iOdjoHQUStKfj+U5PkMjY7B/R8ltJg2k71ybkmc1Ufx4YkBj9KAHBtiBKYLDfYOVBg91AByxad5LmlOFs29mYttmg4O0Y4GLYkaymI1zbHHFATHJtr4DoW+3aU6Ct4JEnCdKXF3p29vPC6oU4Htm5TSy7j0PIjKo2gIxxmqj45z6aQdTk8XsUSUG9FfP+pSXYM5mm0AmYrPruGCjx9cg7Q2opt6Uxj17WJ4wTHtgjCpFOS4vCxWWwbbNvmrvuPdt7XyHiFz913hPGZBr15DwuYKrdIACGgkHFwHIumH+LaFgmC7QP5szrTN3ufDsO5Y4SDYctxLuWj249PzDUY6s11bYQRd962l1tu3MXERCXNQJ4kSWLyWZddgwWu2lHi4LEZmq2QJE5o+BF+EHHjlbqu0FxVax2WEJ3kND/UDuXr9/Wzf3cvo1M14iQhk3F4wf4hegoeh4/PpI16IsIoIYpiynUfyxK8UGoN5PP3HaWv6HH0VIVK3SefdXBdi4HeLOV6gB/GZFwLLxVaGdcmSWDv9uKypqSF62JMR5cnRjgYthyrLR+9ULuYq7aWfd0tN54xJzm2gEQ7r58+Ocf+3b1cs7OH0ek6c/WAvqLHc6/spy81vQRRDEAUx4RRwtRckziKaUQxtaZ2Ru+xi2Q9G4HAtrUQqdR9XNvmuj1FKo2A8Zk6URyTYPHM6TJBGDNb8cl4Np4jCCPtt3Btq6PBCNCO6A6COInXVOLDmI4uT4xwMGw5VtOfYSnt4uCxGW7Y2wdd9vXu17WFzt5tRY6MlnEdC8cWHBurUMq7PP/qwXkO5weeGOPQ3Axz1RapfCCfsRECEsCxLcIwZtpPwz5fuaszzvHxKq0gRhAxMacd400/xrbAImGq3ML3IzxX3yOKtTkqCCJOTNSwBASRLr0BOvEN9H2KOXdFP4PBAKsQDlLKR4C/AP5GKVVf/ykZDOdH24kaRQmjUzUarRDHtti3/czpdyntophzGZmo0Vc6c6rudr52MpCzgmt29XBquk6jGeKHIT15D9sWlPJa0DzwxBjTlQZzVW0GiuOEBGgF2vlcyDoEUcLRUxVecO3QItv/xFyD/bt7eHa0wuRsEz/UeRdRrDd9fB19FMVaQBQzLrPVFullWLb2NSQJZD1tSoqThGLO5adfuThPw2BYyGpKdv8i8HLgiJTyz6SUz13nORkM58WtcpjJ2SaHj8/gBxGOZdFohUxXmp2+xlPl5qKyEXu3Fak2AmrNYF6v5fYpu11KG3TC1/V7+7lubx+9xQxDfdlOiewoSnh2rMLpae3cHujJ4NgCzxHYFkRxQq0ZkvdskiRe1Lu5Lbh2DBTIZR1c1wYEVqpyJInWPADiBCwErSAmidGahQAhLHryLgMlD9e1ed41g/zoLVfwb3/qeRekzIdh63NWzUEp9W3g21LKPuDNwN9JKUeBP1FKfWa9J2gwrJU920r0FT3KdT9NYrPYu70Px7E6foelQjQdx+LGKweWTQhbLnInn3U7gqbdgyEMI72JJwn1ZpQm1mnB4AcxQ70ZMp6TahHLd3qLE9jWl2VKQKURkMs6VBtaQFlCP9/wI5K041rGFuwYLHR8DkmcMFcP+Pkfe85FWHnDVmJVPodUMLwV+HlgDvg/wFullK9VSr1rHednMJwTYZzw3KsGOk1oQG/Ubf/Bchv92SKalorcadc0KmRdRqd0tVbHsQmjBCFEepK3EXGCJwQC8Fzt0G6burp9G92CK5exqTZ01FEQJlgiTrUPLRjgjBYB0Aq1w3ugN0PWc5hLBeRf/sPBC9bj2nB5sBqfwyeAHwO+BPw/SqnvpI9/EBgHjHAwbAi6o48mZhuEYbxsQbnlNnqAu+4/umx+xHKRO5+77whH62XGput4jo1tQT5r4wcxjqVLZzsCHZKaxMxUfa7d3UNPwVs0t27BVco6HB+rIBDkMzrnIYrbXejmY1kQx1BrhgghcByfejPi2t2959SrwXB5sxrN4SDw75RKW0SlKKVCKeXLzmVQKeXrgf8CFICvKKXeJ6W8A/gjIAd8Win1G+dyb8PlycLooyCMODKqk8u29eeWTN5auNGPjFf4/H1HKdd9gjBidLLGsdMVXvrc7cw+cpLjp+aWPX0LdLE+ncMQ4Tk2V+4oUmtGTM01SYBMxkHuLJF1bZ48MceJiRqFrIvjWPPm1i24nhyZY6CUIUmgXA9IkmjRexfp/2xLkPMs6q2IIIoJooRrd/dy9e5eYG29GgyG1QiHlyulfqf7ASnlg0qpFyulDq11QCnl1cCHgB8BxoBvSClfB/wv4JXACPAPUsrXKaXuXuv9DZcfCwvY2SSMzbWoNQIeOzLJ3u0lrt/bv2Ly1sh4hY/+wyHGZxpkPJuevN5IRyYqfPqbVYZ6c9SbPqOTNQ4fm2HnYJ4wThjsyVKu+WQ9G0sIhvtzVGoBcZIwMl7jOVcOsGu4gN8KOTVd5/AxXUajkHUQgk600sK5tQXXsbEyM+UWk3NN3LQQ31TZ72gNbQ1Cu6x1r4f+ksPLnruD7x4a56pdPfPe50q9GtaSVW7Y+iwrHKSUnwWuA66RUv6g6ykXaJ3HmG9EawYn0nH+JXAt8JRS6pn0sU8APwMY4WBYkbbG0C5gN11uMlNpkXFt8hmbVhAzXW6yeyjfKTPxjQMnOHqqDOiQ1Bv29fHokSmm5pq4jiBBl7/oL3n4QUyjFTLUm8MSgsnZBrVWyOhUjVuuHaLWDPjhs9NYQoepxnGCZQGx9nvMVFu8+pbdfOrrTxGECQJdBK/WDMi6NruGC50ezp//1hEarYh8Vjcb2j2UZ2quxVzVx3UsBFCphzi29mO4jtUZM060gAijGLmnl3orpK+o25YuVxdpqXU813ahhq3HSprD+4ErgQ+jw1nbhGhT07myH/CllH8P7EX7Mn4InOq65hRwxVpuOjhYPOcJDQ+bD/9CNsuafPWRkwz15anUQ/wgotaM0vpEupdBIedQzDnc//gYN9ZPiL4AACAASURBVOzfxhe/c4zTUzVyGQcSeOrkHE+emGP/Fb0gBH4YkSQxQgjK9RA/iLGELuE9Vw8IogTHEvhBzPGJOtfv6yeXcRidrNGTd3HSmkhxErNzMM+eHT08M1aj6UeEaWVU29KNe4Io5tRUnS995zi5jM1sNcASMFNp0lP0+MFD02wbyDFbbWFZFo5tEcUxcQKJAMKE/pLHbLVFEEI24/DcqwcY7M1RbQS88fb9PHRwjEQI8jmXeiMgRnDHi69c9Pdtr2Mxr30gxSJU6z6HT5S55cbl6yhtls/JxWSrrMmywkEp9SzwrJTyIaXUfRd4zFcAtwNV4O+BBvP9awKI13LTqakqcbzQRXd2hodLTExU1vy6rcxmWpPjp7RNfqgnw9Mn5wjCCFtAEEXYoaBUcnEswfhMna89+CxTsw1c2+rY6T3HYmKmwbFTZeK0vIVtCYIgoumfse9PzDQQaTKbEIIkAd8PeOjgaRrNkDBKmK36eK7exJMEmn5A6IccODJJGCWE6Sc6irUG0U5ie2pkht6Ch9UWGmHM6ckaLT+gWhMM9mSZrfnUmwFJAiS6WU8YxcyUffpKHvu2ldidhsGKJOH2m3ayZ1uJvKvDd0+cLjPYk+X2m3ZSdK1Ff9/2OtZqXUaBJOH4qbllPwub6XNysdhMa2JZYsVD9Wp8Ds+VUgql1Np33qU5DXyt7eCWUn4BbULq9rTtAEYv0HiGLUw77LOn4LF/dy+Tc420BLbNQClDxrOpN7WJZarcpN4M8UPdXc1xLIqp7X+q3KS/lGGm0sIPY7rLEVkCKvWAXMZCCL25e65FpREShjF+2jUuTqDpx0BMIasji6oNrW3oXf0MCfoEJEgIwoiJ2SZDvRlcx8K1LeZqPn4QMV2ukvEsWq2QROgkujCChIRC1iFOoN6MuO0525dMblttXaSzleY2XH6sRjicAn4opXwQfdIHQCn13nMc80vAx9PciQrwOuCzwK9IKfcDz6CT7T56jvc3XEbMC/vMu+zf1ctTJ+fIZSwqdZ/TUyFRHHPFtiInxqvMVVu4ro1ray1gqtwin7GpNkM8RzuiT8+ccdh6jsC2LZqtiHorxklfl6RpynGSsJTCWmvGQMDjR6eBpFNbqZsELVBcRyeszdUDEDBTbtHwI1xbm68c+8wcEsDzLBxLZ0WDNlMdOjbLjsHCOTuUTWluw0JWIxy+k/53QVBKfVdK+T+Af0I7t78KfBA4DHwOyAL/iBYYhsuIc4mWWZivcPXuXoo5m0eenk79BVDM6U5rfhARpyd1SzhAkjqQLZ6zt49TM3XK9RAB2Lbur4AQ5DIWQRgRRjrKyHMsZqo+kaXLcC9HI93MVyJOs6hJEsr1kHLVT4vyaQ3Bcy1sC+JY4HkWIHAdkSbYnRFO31NjzFRaDPVlz8mhbEpzGxYikuTs1iIpZQ7tSP4hkN1gBfiuBJ4xPocLx6VYk+5omdVmLC98/QE1wbGxMurZWcI4IUoSkkTXG8q4OmO5p+Dih3HHw9VfytBX8vipV1zDn3/+cRqtiHor6FiB2tnIlgUkkE/NLkEUY6eOaT9c3j22VLLawuctcUaLaBfLE0ILiHxGF/Qb7MlQrgXUmyG1ZoBtic61bef2cF+OF8r57UQLWXdVfRvOBfPdWcxmWpMun8NVwLMLn19NhvSPAF9ARym9FHhMSvl6pdQDF3aqhsuZ5XowfPORk522mMtpE92CZWyqTnPBZh3F0PR1raN2mOttN2ynp+B1qrd+48AJZqstEGkPhHZpiijduCO9iYM+zddbAa01hUwsRgiwBYSxvnfOs8llbOqtiCiKiWOAhDBMCKOE3qLHUG+GQ8dmSZIE29bObyF0+G2l5s+7/0o5DQbD2VhNVdY/BO4AptLchLcCH1jXWRkuOxZWSS3XfJ4ameU7B8d4/OgUjiUWVS9tc0BNEEUxI+NVxmf1ZrjQ2hMn4Di6rlEYJTx1Ypax6TqTs02mK02Oj1dxHZs4mu8f6E4203kFEXMVv6NNeO5ZvkLLWJ0cS2slbWXXEjpHoVzXjuggSojiRDuiEwiCmL6iR08xQ38pQyHn4jk2nqsd755jLfR5G4ey4bxYjXDIK6U6eQ1KqX/ENAkyrJKR8Qp33X+Uv/yHg9x1/9FFG3ub7nLY7cqmM1WfnKudtUdGy0RRQj7jcGB+JReOjZUZnagTpHkEsCg4qIMuqR0zNt3g+09P6u5qUczYdJ2mH9JlcZpHgjYlhWFMlDqjHdvCc1b+Ci03jwRdB0kIgWOd6dMQRsxzcAdRQj5nM9iXYcdAgTtv28vzrh4kl3EY7M0y1JPFsnT3uELOXbbcuMGwVlYjHAIpZT/pd0ZKKdd3SoatQtvcU2sG85ykSwmIW+Uw9Za2p5+c1EFxURRTKuiy1q5jMTpVW9JU0mhFkGYMuyts1kmS6LBSISjkHEhiTk03+OGzs9Rb2n60nHtZgI5OInUiAy0/7pTP7r5uuRkI0Q5fTQWAgKG+DD1Fb0mBZAnwPJvr9/TzvjfdzBterpv0vOqW3Wzv1wUF660AgD3DJX7qFVdRyLpMV1oUsq7JbjacF6vRAP47cB+wQ0r5KeC1wC+s66wMW4LV9nKG+dEyc7WAvoKH1ZfFtvRW69q6Yc9SppJ81qXWCAjCmP6ix9jMYju7JdondbBEkpbAnn9NtILnuJOX0NVoJ2GxZpBwxtTkp6GmCdoEJdLn8lmXejPAti168h6nppaO70gSaLYivntojN5ipuNv2bOtxE+98uolI7tetPxbMBjWxGqa/XxRSnkIeA26fMtvnUvBPcPlx2p6OXfTFhiHj89QqQe4jqDeCMnnHJIkwbF19dLrruidV1a7r+CRcSxmqi2CZSKHRCocLAuCSGdQr4buaCPB/EzN5chlHIIw1mMFMWGsx3ZsQTHn0t+T7STnNX0d7eTael7dtAVSGCWcnq5xz0ONjjaw2uQ2g+FcWU200qeA/08p9cGLMB/DFmKtWbdtM5RnW1Tr2umbJLpOEUJw45UDnSJ57QJxY9N1njlVxo9i+ouZTsmLhQ5pAbiu1TnNn412eKljCxxLdHwEcRQv60dokyQJPXmXyXJTO8Jt0vaeCeV6wLb+HMO9OZLehOG+HHOVFmEslhRYlqV7QM9WffZsK5py24aLxmp8DvcBvyulfFpK+atSStOA1rAqdg/lUcdnefjwGIeOTTM2XV/RSdqOOpqt+ZQKHhlPl6toBjFveuXVvO3O6zk5We+Yqir1gJOTNTzXpienBVC9FelIIKGjgdq+gjCG3oKrfQKr+NRbQlDK6iJ6rSAm41rYaTXU5dPe9HNNP2Ky3CSKEmxbm70yntOphzQyXqO/lOFlz92hu71lbYQl6CsuPqtlXJv+kqertZrQVMNFZDVmpQ8BH5JS3gC8A3hASvmYUuqN6z47w6ajnYx2+PgMpybr6YYq8IMWjVbE61+6b9mT71S5yWzF7ziWizkXEqg0fE5O1tkxXuH7T01AArmsQ9MPdUtOW9D0Y5539SAnJ2okSUI+69AKYsIkIvVBU64FnWS2lbAA1xXUmhGWLUjihEYrJorjsya1eZ7VyVEQAlzbpq+oK53OVHySWCfi2bbg0SNT3HnbXm6Vw3zuviNU6gF+UNfd4uKEXMZmoCeDben1MKGphovJWkJSc0CG1ZteDZcZI+MVPnffESZnG0yk+QaOLejvyWIJwa6hPCcn68s6TQd7shwdLVPMnflYBlFMMedybKzMxFwjrXiqC9pNzDRwHUtrDgU3vUeGsZkGcQL5jE2dhNCPcSxt1mlXY+12LC8kBhpphptnW7ieRcsPdVLaCmpDLmMhEBQKGUo5l7maTxQn8yKaHEc7pLud8294+dX89Cuv4YCaoLeYYXK2QV/BY6ba6piyhvuyptaR4aKyGp/DLwFvRwuGvwRerJQaW+d5GTYIa6l39I0DJxifaVBtBJ3aP1GcMFf12dafS7UCe9kxjo9XKVd9ZqstXWzOssi4NlfuKDFTbTHUm2Pf9hIHj01Ta4QIoYWHEIJWK2au2mLP9iK1RkAriKg1dO8Dx4J8xiWMYlqRDntdTaEVgbb369BVgW0lnWzmpEu4WIBtC4IwIetZXL2zRDHncejYDJW6T7tETRwn5DIupZzL4eMzNJohCOZFIS1cj3ozIJex2TFQMJ3ZDBeV1WgOtwLvVUrdu85zMWww1tod7OipMpYlaPoRac06kgTqzZAoimn6Edfv619yjCiKmSk38aOIMEywLV37pd7Ucfx9RY98xkEIQc5z8IOYJNEhqb1Fj4xjc3y8Sinvks+5NCutM9nHliCKEzKeTZIknWqmS5H2CSKO9Ybf9jkEYZzWOxLkMw6OLQiimHorIo6TtAmQLsx3errB/t0eN+zr58kTs1Tr+j30lDx2DuQZSzUe2xYIIeatabcw3rutaASC4ZKxGp/DW6SUPyKl/C+kVVQvcPMfwwZlLXkKGkGt4etObMmZ5jYAk3NNBlLNY+EYURQzOlmn0gjIZxxaVkQriHEtgefa2JauiXTgyQlsSzBX9ekreth2hjjd9OvNACEswlC3BdUdlfXp3g8TgjDED7QGYFmCnGtRby6umpokZ2ooRVFCpT6/yF27TLcfJrT8iCRJcG0tUez0ZxBGPHZkkqxnY1sWb3nNtewYLHDPQ8c5PVXHtbVHPIwS9u/uwbZFJ+vbtOo0bBTOGrchpfxZdPnsfqAH+Bsp5bvWe2KGS8/Cekewcp7CNbt6aAURllicUNYMIl5y47ZFm1y3EzqJk07Sm21BLuuyvT9PFCeEccxMpUU57Yh2crLGyESFybkGp6fqJAlcvbPEsbEqUWrS6g5n1V3X9IacJAmWEGQzNpm03pJAm58yrn6R54iOkAiipJMVHSXah1Bt6O5vcayFj+7uBuVqi4m5JnNVn7lqiziOeeAJbYW987a9hFFCEEW4jsX+3b30FLzOmnYLYyEEhay7ZLkQg+FisBqz0i8DtymlTgFIKX8P+Aq6t7RhC7PWPIUb9vXx8KEx6mkfA0vo2kG5jG6i0woWW/q7ndCOYxHHiQ4BtQRhGBNEMUGUYAGtVkQQxDr/ASCGJIrIeAmT5YhC1qXhhzqEtV2rYsGQAv1cw4/IezZ9vXn8MMZzrU6TnVLeIQgSwiial9OQlnnqJKt1J8d5ttAd5CItJBzHwrb1C8Zm6nzzkZO87c7recG1Q8uu6VqTBg2G9WQ1eQ5WWzAAKKVGMdFKlwXd9Y5WKuY2Ml7h43cf4rP3HSWXdRBWmjxmW/QXXfqKGa69om/JTe5WOYxtCRqtiFLalAcBtrCwLJFmPCfM1QJiIIyTeft9lIAfJPTkPIIohljnNLSCKC15fYZS3iXj6bBQS0ClGXJ8vEa1EXD1zl5ue852hnqzFLIevUUPz7U62odtQamQwbIsPEeQcS0yrqWFmi1ohbr/dIKOdvLDmGo9YHSqwdRck+8eHOOu+4+yeyi/7Jp2Fx9sY8JXDZeK1QiHKSnlT7Z/kVK+AZhZvykZNgrtekcrFXNrO5SPj1cpZl1KeY+c65D1bDzHIkawf3cvjmMtucnt2Vbi9S/dB4AfRgz2ZOgreERJQj5jc82uHuK0YunyJDoXYqJK0o4kWnD5zoFcp6xFoxXhh7oRkADqjZAnjk4xOdsk49oIISjmPbb357FS21IcQ7Ue4Ie6yY9jW4RRjGNZuI5YslVo+6EgSmj4EWPTdR49MsXN1wwuuaarFcYGw8VgNWalXwT+Tkr5Z6SVi4E3rOusDJuGbz5yktNTdcZmGmRcXUiut+RRqQcM9mbSLGGxZIx+d2TONbt6EEIwU22SbTkM9GRJgNlaq2P7X44whjjQm7aFPrkjzggI1xb0FT2ePDHX6dUgUpOTbekPdaURcHq6DiSd7mqea+HaoqMR6KQ2QRAlZG0o5FwQEIR6IMeC5ZrCCeD0dJ39V/RycrK+ZHc206rTsJFYTbTSD9My3dehC+8dVkqFZ3mZYQtwtlDWkfEKP3x2mkLWIevaBFHMdKXFQClDPqNP4H4UMTJeJZexO47V9mu7711vhUzMNhAI9mwrzmsV6rmLcyMWEieQpOUqco7OTfAciyjWuQ5HRysdTaFdTdV1hO6oJnRi3XS5SZwmMMRxTC7r4bk2YRQjhEXWs4nihHozJIxibtzTz8nJOi0/RIiEJBEIkkURULontWCm0prnQ1guh8QIA8NGYFnhIKUcAj4ISOAbwK9tsN7RhnWmO3qmXPMZnapRqft88qtP8pbXXMcBNaFLXADFvMNMRbepnK22GOjJ4to6AkkngrmMTdc7wuUbB05wekqXishlbHYO5Kmk+QD7dujNsZB1qdYDpsutVc03AaIImvEZl1gURR0HcruYXpv2id9zEoIwwXUsChmHWiNgpuqzd3uRMNLO6qznMldtYQnBtr4sCEE243L93n6Onpo7M8cgXFQK3HV0PgOc8SGsNYfkbKwlWdFgWA0raQ4fBo4AHwXeBvw+2sRkuExoR8+0O7O5jkUxLXh3z0PHqTcD9gwXOHqqgutY9BVdZio+1WaEbelaSj0Fl1LqLH72dAXbFvzFFx6nUg/oK2UoZLUf4MhomSCIcF2Lcs3nmVNlZiot6s2AKNaF9FZyO7TNRN09Flr+/DyGpfwCAh2KaluQzdg4tkUh51BrRjzxzCxZz6aYd7nxmkG81L7VjjZqm4ZGxit8/r6jjM3UKeVcJmabhOlgtiWIkwRbQDHvdsxrq80hWc2mf6EFjcEAKwuH/e3ielLKe4HvXpQZGTYM7VDW0akabhpmOl5pkcQJp6fqOgHNtbEsmJprEsUJcRyzvT9LMedxYqJGue7T9CPCKMEPIjzXwhYWtm0xV/VxbYuMp81GU+UmYVUnxAFkXKsTtpoAngN+16m83V5zqaY7sLoSGW106GxEoxUQRm2ndsL+3X2MTjV4/OlJ9u/qwUkL4HX7T9rNd775yEmOjJbpKTjUW5HWFpIE27ZxHZvrrujjVbfsZs+2El95eOSsYaur3fTXnqxoMJydlYSD3/6HUqohpTThq5uYczE73CqHueeh41TqehOfKrdAwGApQ5IkTM41OT1Vw7Z1DaRWEBJEutxEtaGdu0GgK5Qmia6zVGtGuE5MT96lXA8ZnaxRyrvEcUKzNf+k3/C1d7fd+TOKRdoUR1+Vz7pUGwEWZ7QKIZYWFEuRcS0GezKcmmro5LRwvr8gAU5ONLhiOM9kucX3n5qkt+hx9c6eRffas63E2+68ftXrvZocktVu+iY/wrAerCQcFsaIrOUgZthAnKvZoR0988mvPsnopNYeegouWc+h2gi6NAFBOW3OY1s6JNWyLFpNfawPw3ieSSiKEmarfuowTnMCGuGyBU/PRAAliK7g61bqTOi+t21BuIpjjJOWxBBCMNibYWquNS+pDQE5z6YZRkyWW52+0zfvH2J8psGHv3iQwd4M+7b3LCloz+ZYbgteYJ7zvVsjWe2mv9ZkRYNhNayU57BNSvlL7f+W+N2wSTifsgx7tpV49S27CaOYWjPg9FSdk5M15iotHQaaQCJ03D9oM0+1ERKFMXGasNa9eVucsf1HcUIh5zDcl+tEEaW3WYWggFYQL/IjrEYwgK6PFMUJk7MNClkX1znzVbAsQc6zdUXWSJftsASU8l6nwRBAoxl1BO3IeGV1A6esJodktUlxJj/CsB6spDl8FXjeMr8bLWITcT5mh5HxSqc2UNvh66cF53IZR/c/dsX8RjgJNNOQnTgNH21v+jrrOen0dPYcW1coTXME2lnNq/2ALezxLMTSjueFxAnEabRSvRlQzDmdaKmh3izVpjaRWVY7HDZh12Ch439xbF2C43zs+xdCu2jfx+RHGC40ywoHpdQ7LuZEDOvH+ZgdDqgJynWfgZ5sp0JpkiQ0WlEa/6+N/EmXzd8WOqTUSh3GOp9Al9SIErCtBBLBruE8N+/Xp9ux6RpztXDNp4729Y4Fop3NHK7+LgKYrekqr1ZaTbbeiijlHOZqAbYrGChm2Lezh568x5HROXKeQxDF5DLakb5e9v21bPomP8JwoVlLJzjDJqX7BBqGMcfHq1QbAc/Z18/IeGXFTWWq3CQII4pZF9e2qDQCgiBOW3kK8lmHWkPbchIgnyaKWZaOZAqjBMcW1JohUZKQdW2EZRPGMTsG8pwYL/PkifK8bmnnQhSDSJJVaQ3dOLZIneXw3KsGGJ+tM1X2sW2PF13fz6tu2Q3AvY+dotYMgIRTU3WiOGG4L8tctbVsaZALgdn0DZcKIxwuA9on0G8+cpKDx2Yo5lxu2NuH41hndUwP9mQZnawRRDEZzybj2VQbAfVmSMbVgqAZhFhC4HkC2xK0gpisZxFEMX4Q02jHvSXQaOlObPmMzchYmbGZ1qqji1ZiuXDW5RBozSabcXBti0LWYfdwMc29cBeVt3jj7QU+9zVFtRERJwm9RRdLCNTILNv6c7zilaZ9p2FrYYTDJuJ8smD3bCvRU/B4flr0rc2xU2X+2189TBzrZjX7d/Xw7jfdTNHVToJb5TDHTlcYm6mTJDZ+EDFdaeE5Fpawma0GCKBUcGk0I+IE+ose5bqPH+ruaN2n+QTIOrqL2ulp7eh1HIG/BlPQhcKxLaIo7jif247cV9y0a9Fa3/HiK+ktZrjluiGiKGF0qkajFZLLOAyUsuZ0b9hyrFQ+4xUrvVAp9a0LPx3DclyILNiFjumnT8zy9GgFAbiObmR/+PgsH/jbR3jbP5cdk0Z3gle1EZJxLMIoYWK20XE4V5OQ3YM5ZqoBM5UWUVdHtYXEifZbtCOZ1uIjuFAIofMGdg7mmKsFFHIehazbcfYuXOsv3Ps0M+Ume4YLCCHoKXiATpSbrqyuvIfBsJlYSXP48/RnHtgH/BAI0RFLB4Gb13dqhm4OqAniKGFkvNo5sfYXM2uKkul2TJdrPmpkFkidukLgOPokfXKiNu++3QleH/jsoxw9WSFhfhvQKIg5Nl5jR38OP3BotEKSBJba9/0FpUsvpmjIpD0a4gT2bC8smadw1/1HFyWfJUJwcrxCvRWafALDZcFK0UrPA5BSfhp4q1LqgfT3W4BfP9+BpZR/CAwppd4upbwZ+Ai6Dem3gHdfTpVfV2MuOj5eZWKmjufaOlomjDkxUaW1XI3oJWg7pqv1gBMT1U75agA/iBFC5yFEcbQo+mZkvMI3HznJoWdnCcJ4yQ09SXSv5/ZzGzHe2U+d6dsHsrzvTUufb5YM/c255DJ2J+9gpdBSg2ErsJpmP7ItGACUUo8A+89nUCnlq4F/3fXQJ4D3KKWuQ1spLpse1W1zUa0ZzDMXLUyqqjcDhBA6WUvofgNCCOrNYFVjfPzuQ3zkSwf54dEpHj48zqmpJQrsJmf8A65tzXv95+87yuHjM9grNFdIEl3yIo6XFh6XGtsSZDyLvqJHkohlE9eWTD5rBOzb3nPWxDWDYauwGod0Q0r5duCv0Rv3O4HZcx1QSjkA/Hfgd4CbpJT7gJxS6sH0ko8Bv4kuF77lWW39nFzGpt4ICcIYJ21AQ6IfX0nzGBmv8Ln7jjA+00iznEPitMmNa53phwxnTvqlnEvSFfrTznVoJ71B0ql7tBT+BtT5BPq0XyroKKPdQ4VlTXJLJZ/FCG6/aacJLTVcNqxGc/h54L1AC2gAbwfOJ0Huf6HNUu1Wo7uAU13PnwKuOI/7byqmyk3ymfkyeqmkqn3be9g1nMd1LJq+No3sGs7TX8yuqHkcUBNU6gG5jK6HZFuiU/bCtu15ZSoEMNTj8eLn7+yUnG7PMQgjXDvtmezY2GfpznapsYT+r11DCQH5rE0x57J/dy/b+nPLJq4tVdrijbfvN0LBcFmxmk5wB4Fb0hM/Sqnpcx1MSvlOYEQp9fVUGwEtoLqtEIK00+NaGBwsnuu0GB6+dF/6vTt7qdZ9Cnmv81i17rN3Z++8ed3x4iv5wr1Ps32wSD7nUm8EVBsBGdem5GQopq8vFvXrD58oc8uNu6j5EYkQFDIOcaxNK8IS+IGufZTxdOTRFdtKXL+vn/6eLNW6z2DX+Ht39jIxqzfSnkIW17E5HSfUmhtDRSjlXZqtkChKOu1BhYB81sF1dF5GMefyoy/a13lNte5TKmb46iMnGZ+ps60/z0uet5OrdvUC+jNxy43Gl3A2LuV3Z6OyVdZkpVDWL7KET1F3DAWl1E+cw3j/EtgppXwUGACK6Rg7u67ZAYyu9cZTU1XitabHov+QExNrK5p2Ibn+ih7dOKfhz3NyvvC6oXnzKroWt9+0kwNqghOnywz2ZLn9pp2dvgC12plwyrlKk0efHOf4qTkmZhsEfkg9SdJyFon2XdgCy9JNLXV3swyuBeNTVWLEvPH7cjaTs3Xmqn7nA3EOS71u9BU9gqzN+EwTxxadDm/NVkQUJsSRdqbce+A4xZzLQClL049ISAj8kHzGYXyqyqe+fGhZH8Kl/pxsRMyaLGYzrYlliRUP1StpDp+90JNRSr2m/e9Uc7hdKfUOKeUTUsqXKaW+DbwVuPtCj71ROd/6Od3hqXPVFs+erjA+0yDjadOPZ1scS/MR4jhJK6QmZFxBT0H3UXjVC3bRCpJ5CV9F12JkvMI3DpzgB0enqdaDFTuxXSosAS+4dpjHj07RU4jpL2VotEJmqy3doyGOKeUd9u/pZbbiU2kENFo1tvfn6CtlTYMcg2EZVhIOX1BKldvmpHXmLcCHpZQ9wCPAn1yEMTcMZ3NyruRw7m7IMzpRZ67ud0wqamSOJEnIZ3XFUSEEIkk6Poec5/AvXryXF92wY9541SDm43cf4uCxGRqtkGYrZA0RsxcV1xY8fnSK0akafQWvIyh78h5+GDE+0+TaPX3sGCiwY6AA6DafT47MsWuoMO9e51NAz/RwNpwrG/Wzs5JwuBe4BZhEm366XZAJYJ/PwEqpj6Ejk1BKPQbcdj732yys9YNwtszo7oY8UaLLZg/35Xx3GgAAIABJREFU5ch4NmMzDV1DSAiy3v/f3pkHWXbd9f1zzl3e2vsyS2tmJI00RyNZQh5FdgwYA7KNzRIwwbiwk2AMOPxBAQFDVYJjEqogBFJmixOnLAyuMrYp2yC8BGEsY+xgYwnJsiRrdC3NjGZGPUtP7/22u+eP896b1/sy3e+97j6fqlnees89ffv+zvkt35/N4ZECYaSD2UdGixSyziLD0KhleO7iLDU/wpboFp9dahikuK7EeqA/R5JCWO8jMVfz6/0eUmYXAnKuTV9R1y7oBIB02wraTA9nw1bp5mtnrSK4U/V/N5LRZNgAW7kQNpLqemS0h5H+HOpIP95FXaQGWg5DCEGUpjh1raQ4TpiaqzFb8qn5MeevznPsQC9jw3mePDPFlakKaZowXw66Kq7QQAqwLEGapNi2xT3HBzk4WGCu5HPm0rzudZ3q8866Fr15h4ofcebSPMcP99JXzFDxI2491LttBW2mh7Nhq3TztbNutpJSKgf8KDBKy+7B87z37uC49iRbuRA22yry8FCBF8bnAB1wShIQCHIZGz+ImZr3EQLKlZBUwNlLC7w0USYIE44eKDBX9lkor19Y1ymE0IJ5btYi60iyjsVzF2ao+jFxnFCuhpT9mGLe4faxXoo5tzkfl6cq2Lak4ke84RVHAbalQY7p4WzYKt187WykCO6j6LqDZ6CrlRG6nq1cCBtt1NOIPeQzNscP93JhooSUkowj6n0HQiZmq4Rh0myfJiWkFoRRTBilPP/SPHGS6FoIS3REEG894gTiOMbK2FRrEV999iq2JXEsSRDGSKl3DANFlyvTVW4bc7ltrI/xyRKz5YA76uJ6rbuuG8X0cDZslW6+djZiHF4GnPA8r0s9z7uHrVwIW20VeexAD0dHU+YqoZbekClRlCAtCML6TT8BohhLUq+6TogTSJOUtEuL3HTLUYlE94BO4pQwiYmimBSBDWRcWZcaEVyaKnPH0QEsq2fFPg2rsZJkd0PGfCkb/RkZDEvp5mtnI/GEq4Cz7rsM67KVRvAbaUQPi29mthTMLOgOZUdGChwZLZKmgv6iiyUkS+/7cVK/4TbabLJy45xO2wsB9ORtDg4WCCJdr1HIOViWJEq0G811LLJ1YUI/jLk8Weax567iXZhlbDi/oeOspHf1V198YVUtpo3+jAyGpXTztSPSVdpnKaV+uf7f70BLXDwENJ3RXRRzuBk4t1uK4HYiba010J3P2Dxzbpq5sk9PziWp6y9NzWkJjFI1WjHQbEu90l6qmVRvEY2sLyNESsfqHXIZi1zGIo5TKrUIKbUQoVuvgs5ldGe6w8MFenIOz12YRQg4PFSgv8fFsuSyX7yVfh6Pe9eW7fDSehrwRnce+4HdVPDVLnbTnLQUwd0CvLj09bXcSnfX/52v/7mj5bXuc0bvEnZCuG1poLtSi/CDmDgJ6Ms7XJ2pUqoEiyS6l5KkKbVg+Y+1sXbopFEAvWs40J/h2nxAEqfkMjZRnFALdNtOxxaUq3rtUvW1tEhP3kEd6W+msJZrIY971wA9Z+evzjM15zM2XGB0INfMHqvUQvryLs9NlKj6MbmMxc1jfZTLwWrDMxj2HGulsi4T11NKZTzPM22vuoTGqvefnr1KX8FhbLhIb8EljBOkkERRzEwphTQlXSditN6mq5OGIedKBnqzTC+E9BVc4lgX8i1UI+w0JQhivcNBIEXKlekqcZwyOrA4lpPP2Jy/Os+LV+ZZqIRMzdZIBQRRTC5jN7u7XbpW5up0lVzG1r2wo4Rnz05x/FBvJ07fYOgIq8YclFKuUupDSqk3tTz9SaXUnyqlTO/pDtPqF+8vuFT9mBfG55gvBziWJE4SojglSRLKfrR5JcMuwbUld90yyH0nRshmbO47McLJYwMU8y75jEU+YyOlxHVsBooO2YxD1rWREubLIWcuzTNX0uuZih8xs+AzMVPVX15Xbi1XI85dnge0AfFbdMxFPdKixfw6HXUxGNrHWgHp30R3ZvvHluf+PTAA/JcdHJNhA7S6kg4NXQ+0jk+WyGdtchktxx2Eybq7hm5BCt1nohUh4Mp0lYmZKv1Fl4of0VtwuePoAK+88yAvPzFC1rUY7c+RIJpxiKxrN9uRXp6qNIP/fpiQc22SJCWIYiq1iChOmJzT6cQVP8KxJepIP44tqQb68cuODxGu5ZczGPYYaxmHHwTe6nneROMJz/PGgX8HvGnVTxl2jIsTCzz05bP8yWef5evPXyNsWeFaUjBfDhifrDBYdLlppIdsxibrWrj1FMxuXfcKwJZQyNrL3Ft+mDAzX+PFyws8cGpsxWyvXMbWPa2jhEajOksKMo4OYM+Wg2YWiGtb+GHE9IKPbemU1zhJqAURV6crzepp25bccXSAl98+wh1HB3Btqytyzw2GdrGWeyjwPK+69Mm6GJ+JO7SZx05f4WOPPE+pFjWVruZKPreP9XF1toZjSwZ7MwghmK+GlCphUwKj4Q3pxiwCAWQdSSJ03EMKPd6oXqtnWYIoSfGjiINDBd4wVFhW1fz3T4zz3IWZ6xXhIiWKU4b7shw9sLi+4fjhXr727FXiJAVSkjSFVOA6kpmSz9tedwJg1U5wBsN+YS3jECulejzPW5SXpZTqwdQ9tJXHTl/hg589jR+l9SIw7QNfqEY8e36mqTYaxSk9OYsXLs0Rx9eDzKtkK3ccIcASEKcpaQrllv6iEugpOFhSEkQxAz1ZHveu8SOvvnVZttf3nBpjZsHn2myF2VKAZUkKWZuDg/llBUUnj/Xzj09fvp6iK3Tzo5NH+8hl3eZ3L5VRX6sIzmDYi6xlHD4KPKiUeofneWUApVQBeBD4ZDsGZ9CupE9/5TxBnDZX1UmqK5pFmlILE8I4Jp91OHaghye+NbHIMHQzIoUYiOsyHQ23V4ouxAujhMTSgeCjo8U123r+6GtubaanVn09HwcG88vqSMYnK4z0Z6n4MUmSYtuSrCOZKYXcNNq76DtbP7eb8tcNhu1gLePwB8D7gStKqW+iF3MngT9HB6sN28hqxXGPe9fqLpAGAiHSekc37Vt3bIuqH3FpqkylFu8Kw2BJQS5jEdR1nUgbEh7XB18LYgo5iTrSh21L+rKLN6wrzdl6RWpT8zVuv6m/qeDqWHpnUqqGa1aqGwz7jVX3yZ7nJZ7nvROtrfS7wG+jNZZ+zugsbS8ryTU8/OgFLk4sMDVfoyfn4Fii7h7SN88khTTRPvqJmSozCz5XpytLDEn3MtjjIoUgjrVLKQXCWBs8gf4jpeDU7cNNme3Wm/dac7YWQ71ZbFty21hfMxtJCMFdNw92hWSBwdAtrFuv4HneeeB8G8ayb1lLynuoN0sYxRRnHWbLAUlyvfNSQ4G0mHep+pFWXN0FuPWrTkqxLIMqrQfQXUeSzzpESUrfEiVV2LoOfqt6rTrS3xQ6+55TY9t6jgbDbscUs3UBFyZKlKsBtUBX6h4eKtCTd5iar/H6+4/w8KNVbjvSx4UrC0wt+CQJjPZn8cOIvkIWx5EUc/rmeOlaWWc0dSmuLTg4lCdJwIoT5kqLX0/RBiJJEt7yPceXtTBtcP7qPNVaTDXQ8haHBvP0Ftx1dfA307PbYNjPGOPQYR47fYUzL80RJwlZ1yZOUl4Yn2NsuMCBQV3clrEtzkyUSdEicgO9WY6OFvnas1dJlySoxkl37x6klEzN+WRsSYwW9GvshhrYFtxyqG9Vw3BxYoGpOZ1NnctYhFHCmUvzHB7ONzO31mIn9K0Mhr3GvjUOj52+wiNPjLNQDenJOTxwamzVm9FO0chEymUsqgGEcUJQjslnbcYny5w6MczDj14giXX+znw5oFSNGO7TPvYwSpgr62Iu17bI1m+U3UySJPhBSrn+WApwbC217ToWw71ZFqoB6ujAqt/xuHeNgaLLi1dLzJZSXFvi2JJLkxV+4FU3t+U8DIa9zr40Do+dvsLHv3iGrGsz0JNhvhTw8S+eAWirgdCZSAn9xQzZMKJUjaj6EfPlgFzG5pEnxsnYkpmSNgquY5OkKd96aR51RIDQPQ0sKajUAubK6ZrKq91AsqTowrYEcQJRnDDYowPPlpRrZg5dmCgxveDTk3coV0IWqiFJktJfzKz6GYPBsDn2pXF45Ilxsq5NPmsjhSSftZvPt9M4TM3XKOYcwjhBoDuxBWGMEIKenMNCJeRSJaCv4JIkKZYlSGOoBhFPnZlu9jfoyblcnUlI03j9g3YQx75ewSxoxBZ08NmxJBU/xg9iDg7leNy7xpWpMuOTlWXpvZVaiBACWwoSdDA6jhPiJOXhRy90TbMUg2E3sy+Nw2xJ9zloJedazJbao9ffyM+/cLVEkiRU64JwUZwg61oXtTBuCsRV/QjbloRhTC3QBiCME5I0gVTgBzFhFLe9ElqKzRXbRVFKq7BpxpX0FTL0FVyuzVXJuha3Hu7hwECeK9NlvvLMZY4f7lvUa+ENrzhKLmNRqUbMlgOkqMcrhCDjSPIZe92MJYPBsD77Ug+gv+hSDRavsqtBTH/R3fFjt+bnj/ZnmC0FzJYC/CAijBKEgKG+LLYlmVmoEYRJXYZb6MY2iS6Aoy7/kKQplVqsez/v+OiXsMkDpmhjktTrGoo5h76iy0BPpimAN1sKWKiEzJYCsq7NTMnX7UCzTvPGf+xAL4dH8rrXdaoL6npyNn3FDPmMvW7GksFgWJ99aRweODVGLYio1CKSNKFSi6gFEQ+0Ide9kZ8fxylXZ2r0FV0sCUIKbEvSW3DJOBazCz5VP0aIlCTVux0pdW2AlIJCxtZqppbsmKDeeuGNhvz2SmqwPVmLrGPjWpIzl+aQAopZhzBKmn0pcq6u/G7QuPHfp0awLMlQX5ah3ix9BRcpJYeHClT8aEX11FZF24e+fHbdYjmDYb+zL43D/ScP8ubvPk4+azOz4JPP2rz5u1fPqd9OpuZr5DM2l6bKOLauTyjmtUEY7svghwnT8zX8enezbMapVxM3Vt0pSZJS8SOihGbPgm4kTq5nI+UzFkO9GQZ7MvTmbQ4OFxnqzxDECbce7mWwN0uUpFrSwpYEUVKvYbju+Wzc+Bu1CkdHi5RqujXo8cO9WJZYVkkNW6+mNhj2M/sy5gDaQNx/8mDbBdWGerOUayFzJZ8wSonihDTVvQjK9d7PjRt+GqekfkTVhziuB3HpTuntVmwJxbxLqRriWIKRgRy3Huqjt+BSroWLJLT/5LPPMtiTIefanLmku7FFUUy1GlKuhgz1ZZkr+di2XKSwemS0h59848lF+korVVLD1qupDYb9zL41Dp3iPjXCX/7DWUrVSAdn05RqoDNtgijR8hG0+OdbhOi63Sg0sGxJHKe86dU389JkhXzGJp+xm815WiW0G8ayr5jh+OFeXryywOScTyZjc+uhIjOlkGfPz3DXzYMrZiFtpKBtar7GYM/iNFcTmzAY1mZfupU6yZHRHvqLLv1FlyhOqQaxVlhFGwNL7h4j0IpAu5BkXTgvShK+cWaae48PUcg6TC/4zW5srTfz+9RIs7tbb8FFSkFf0eXe24a5abSXu28d4p7jQ/QW3C2v8od6s1T8xZIiq8UmDAaDxhiHDhAlKadOjNBfdJupq40Uzy4OIayJkEA9cyiKErKOxUIl4MkzU9ynRvjpH7hzxUY9jfhBw4BEcYo60k9v4Xrm2I2u8lsNUGt7USPRbTCsjnErdYCh3ixXpstcm602K5p3idL2ijQ6uglby4pLKcllbWxLcGWqwoOfOc3Lbx9e1ninQatr6KEvn6VcDzI3uNFVvhHbMxg2jzEOHWBsOM/n//li10tdrIaAZt8FyxJIIfDDBNDd6gZ7M0RRQhwL8hlJmiaLitg2IqkN1/s3L41TbAUjtmcwbI6OGAel1G8AP15/+FnP835NKfVa4L1ADvgLz/Pe3YmxtYPT52ep+d0tdbEWKTq2YFsSAWQyNhASxCmWdV2ORErtK8tnnQ1nCJlVvsHQHbTdONSNwOuBl6PvMw8rpX4C+O/Aa4CLwGeVUm/0PO9v2j2+naI15fLJ5yfXLSDrdvSuJyGXsTkwkKPmO0zO1UjTlNlyQNbRuk9RnHLsgL6xbzR2YFb5BkPn6URA+jLwK57nBZ7nhcBp4ATwvOd55zzPi4APA2/uwNh2hKVFWEG0e3cNS5FCaztNzfvIepV3uRIyNVejXAu5bayvGVw2GUIGw+6h7TsHz/O+2fi/Uup2tHvpj9FGo8Fl4KY2D23HWFqE5ViScJcbCCH0HykEU/M1avVezFLoauhsxqZUDan6ET15Z9tiBwaDoT10LCCtlLoL+Czwq0CE3j00EKwv3bOIoaHilscyMrKzLoxyEDM8WGimrR4aLnL+8jzRLk5RsoTAsgRlPySKdOWeJQBSEgTFggtCUPZjKmHC6FCRV919iFsO9wFw7tIcX336MhMzFUYH8oteW48b+eyNsNPXyW7EzMly9sqcdCog/R3AJ4Ff8jzvY0qp1wCHWt5yELi0me+cmiqRbOJm+54PfIWXpq77v28ayvKbP/vtzcetMYLWXgJboeBaTE6XmzuHm4bzXLq2QBTsXuMgZYpIU2xLEkVaHTWOUzJZG8sSTM/VGOnP0ldw+K67D/K4d40PfuoZKvVag6ofMzZcYHQgx8RUiY/+7ekN9WFouOgaVdeb+eyN0G6ZlZ1ku67tteZkO39/tkKnjt/O6+RGz1FKseaiuu0xB6XUEeAh4K2e532s/vTX9EvqNqWUBbwV2LFg9FLDAPDSVI33fOArwPYLtS0twpqaqxHuojxWxxKL+jA4ttZOktIiiqGYs6knJml3WZoShAmDPVlsKXj40Qtcna5wbaZCpRZxZbpKEMaMT5ZZqISL5LjXo9VFt1TK27A+7RAh7LTQYaeP3w7acY6d2Dm8C8gC71VKNZ57P/B29G4iC/xf4BM7NYClhmHp89sl1NZs6jNRYma+Ri2IcR3J1HwN17FI03hX1Dok9b4JDQQwMx9gW/qRtGSzJiGMUnIZGOhxkZZACEE+Y3NxooTrWDi2ZHbBJ4oTCjmHS1NlegvuhjOZjE7SjdEOEcJOCx12+vjtoB3n2ImA9C8Cv7jKy9/WzrGsxlZuQEu3eGPDeb7yzFWuzVWZma9h2xZ51yaNEyq13RWMjpd4v4K6TFEYgyDFr4Vksg45LIIwwXUsbhvr43vvu4nPPXaRnnyGqh+Rc/Xl5jhaktuxZLNfw0YzmRpCfY1fhs181tAe49ppA97p47eDdpyjqZBegc3egFr94I0t3l9+6RxhHJMkkHFsEDBTrhGEuzPOYInlRgJASl3zEMcJSQKHhwu84wdONlcvjbnMZWzCKMGxJbmMTRRpfaNcxlpRrXU1dqqCer/QDuPaaQPe6eO3g3ac474U3rtpaOUJbDy/WaG2lfzgsyWf2YWAuXLAQjUgjBKd1bNLEIDryKbSqrREPRvpOhKdyhomKX4Q01tw+f5/ubLq6kAxQxDGVGoREsHRAwUACjl3RbXW1Vgq1LeZzxraI0LYaaHDTh+/HbTjHEXa7q7028/NwLlOZStdnFjgwc+cJk0T8lmH3rzD+GSZy1PVGzmnjiLqfxWyNkGYEMcJcarrGlovl4wjiaIEISGfcbjjWD+WJZfdrFtjL5VaSC5jcexAb9szWG4Ek620HJOttJxdmq10C/Di0tf3rXFocCM/zIY76cpUBVLwo5iZBZ84Tgh20S5hJfIZC9exqAURQZg0jULjrHKuJK4HqkcGchRzDnccHVjW6W2zPHb6Co88Mc5sKaC/6PLAqbG2tG9dj71kHLYLMyfL2U1zsp5x2Jdupe2i4U46OlokjHWbT0sKgkg379ltOJagkJEIARU/plILkULgOhJL6p1DIWuTdS0sS5KmKbYtkUJwaDAP3FhQ7LHTV/j4F89QqUX05R0qtYiPf/EMj52+sp2naTAYNoAxDjfA1HyNfMZutrhMkxQpBFLoFfZuMhCWhJ68jbQsrPpVEUQpFT/GDxJAYFuC3rxDX8HBdSxsyyLjWBw/3EtfUWdO3EhQ7JEnxsm6NvmsjZCCfNYm69o88sT4Np2lwWDYKMY43ACt7Sf7ihkODuXpLbi4tp7W3eRYGu7LgZDEcVLXSLr+Wlr/O4pTrs5UgZR8xibjWoz0Z7FtuS1BsdlSQM61Fj2Xcy1mS8FWT8tgMGwRk8q6RS5OLDBX8nn2/AzFnMPR0SKuJTk/U9lV8QYhtDvJtgSlakzFj7GkzlBqhHCEAGlJsrYkCBNmSiE3H8xyeDhPHCVcnCgtihEsDYptNHDWX3Sp1KJmPwiAahDTX3SXvddgMOwsZuewBRqBaNuWnDzaD8DXn5/k3OUFUnbXjiFN0VXLpRpSCCypxx8nDdXVerpqmBDFKRlHYluSO44OkHUsLlwrc2S0yCtPjnJktMiTZ6YWlfBvpsz/gVNj1IKISi0iTVIqtYhaEPHAqbE2zojBYACzc9gSi0rXsw5SSiZmqiTNSMPuMQ9SQF/BxQ8TbFto6W0pcFxB1Y9JUrClLnZLkpRqFFPI6cKbi9fKFHPOmiX8mynzb2QltWYr/dC3H+uKbCWDYb9hjMMWaJSuz5cDnrswow1DwwXT2aFtGtuSxCn05l0cR3LTUIEXLi8Qxwmk2niQ6h1DEGrzl3V1VXOpGnLnsYFF37c0W6kxV3Mln8vTFap+TM61yGUXxxYa3H/yoDEGBkMXYNxKW2CoN8vETJVvnLnGtdkareUVu2fPoEmShMnZKpeny1yZqlDMu9x1y6DuD20JMo4km7FBSAo5h+G+DCm6Cvyumwex7cWX0NJspaHeLFdnKpy5NE8YJWRdScWPmJrz95RKpsGw1zA7hy1wnxrhA59+loVytKXCu3Yj6/UJC9Vo+Yv1sucgTJBScPrFGZCCrGvRV3CJ6+fXaPfZWuTWiCfA6jpHeq60nLZjyaZU+dhwYU+pZBoMew2zc9gCR0Z7yGUsoiTdNTuFFN13ob/o4tqi6f6K4xTLkmRcC1sKKkFEFCXccXSAmw9ev3GPT5aWpapuROfoyGgPw/05chmLahDh2JLbxvoYHcjtKZVMg2GvYXYOW8QP410Tek5S3YQn69pa8gKwLS25DbqWoK/g6nNJwbIlvQWdPnr8cC+XpyrMlgMKWYfv+rbDy27+663+j44WlylIlmvhnlLJNBj2GsY4bJHSSi6aDiCErm6O1mkREYQpYRiSzVjEde1t24Kca3NgMN+U09b/Xg8W9xUz2LbkjhvQSzIy2wbD7sMYh01ycWKBT//jOWbm/a7YNbi2xJIC0oRolfhHzpVUg6RZg5HP2vihbr6Tc7WGUZqmjPbnqAYRGdehXAuX3ci3qgLZcD+1fnbpDsRgMHQXxjhsgosTC/zlP5zlhfG5rjAMAh0zEELg2pI0SujJW5SqMVF9dyAFBFGCFDQb7RSyNnHi1tt/psyXA3J1Qb3vf9UxBgYKfP6fXlx0IweWNTR6+NELm+rDYIyBwbB7MMZhEzzuXWO+EjQrhzudqJQCUZKShDE9eYd81iKbcZAyYnbBx5YCBERxihCQcSwKWZuX3z7C7EKN0xdmuef40KIdAsAth/uWuZAe+vLZjvXl7XRvAINhP2KylTbBhYkSk7NVan7UccPQSppCpabHdHg4TzFnk8vaZDI2hZyDbUuEEIRRTLkW8fXnr/HU2WkcWy7qXpfP2DzuXVvxGA0F2lba0Zd3M/IbBoNh+zDGYYNcnFhgcrZKEMbUU/W7Bp19JPGjhCtTFWpBwh039UGKLjxzLAQpfpSQdSS2lPhBTBjFzJevK56udbNvVaBt0I6+vCu1YF3LiBkMhu3BuJVWYakrY3xiAT+I8LtUcdUPYzJIphd8Dg8X6O/Ncp/KcGmqTNWPSFLdgMiyLOI0wXUk5WrMU2enuPuWQfqKmTVv9u3KOFo67xcmShwZKSx6Tzt2LAbDfsfsHFZgqSvj7PgcX39hisk5v9NDW5UkhWqQUK1FWAKeOjPF+asLHBrMc+JIP7mMzctvH+bWQz0kCRRyDlJAzY84Mz7Plenymr0YNlLwdqOs5EKanK0yMbO4H3c7diwGw37H7BxWoNWVMVfyOXd5vqtiDGuRADOlgCMjeWZKIc+en+Gumwe589gAti25OFHCsSVOXROpFsTEacJsKeBtrzux5s1+pzOOVlJwPTycZ3yyTDHvmBoJg6GNGOOwAq2qq0+fm6bsr1Nh1kWkKZSqIZPzkntvG2lWJjfcQguVkGLWJowSpBDcc+sQPXm9G+h0BlBj3ls5MJDHD2MKWcfUSBgMbcQYhyVcnFjgzPgcX5utrVpU1u0EUczkbI25kk9vwWVqvtZ0C/35332LhUqAa1tYUnDm0hy2JTl2oPM326He7DKZjYofcexA75aqs00KrMGwdUzMoYWLEwt8+HMe0wu71zAIIIlTHMfi8nRlkX/+yGgPb3vdCUb79WpcCLClpOpHTC/UOp4eep8aoeJHlGvhDfekNimwBsONYXYOLTzu6f4MGccmCMNOD2fTNArzkhR6czYLFX1zPXFTHw99+WxzBW1bglzGJopTchnJ0QP92LbsuIT2dspsbKYDncFgWI4xDi1MzdcIwpiMs3KXsm6joQrrSEGcps0mpbYliJKUnrzLvceHePLM1CLZiwsTJe48NkBf8bp/P03TrkgP3a6g90rxC5MCazBsHGMcWhjqzeI6FkG4OwLQKeDaujFP1Y8RUmBLcBybmw/1NlfhS1fQxZzDhYkSd7cYh72WHrpa/GKoN2tiEQbDBjAxhxbuUyOM9Gep7JLspEbMYKgvx6GhfF3eQhuLRg3CSrIXR0YKlKoh5VrI7EKNp89O8dSZKebLwZ7xya8WvxgbzptYhMGwAYxxaOHIaA+vve+mrlBc3Qg5V5LPWji2JAVGB3LcfesQrzx5oLkSXkn2wnEs7jw2QBQlnL4wC8CdxwawLMHDj17g3KW5dp/KtrNa0d74ZMXIcRjTP3sXAAAKZ0lEQVQMG8C4lZbw6OmJTg9hXQRQyNn05h2klBwZLS4qEGvN7llN9qLhcrrn+NAi1wvAV5++zOtOjbXzlHaEleIXn3vsoolFGAwboKuMg1LqrcC7AQf4A8/z3rdTx/rtD32NFy6XFz23W9p+pkC5GlHI6vaej52eIEpS8hkLyxK876+eob/o8sCpMe4/eZA3vOIof//EOE++MAXopj5fePwlTl+Ypa/gMDZcBODc5Xmm52ukTPD8+SkKWYcoSdf0y2/Ef99NPv61YhHbQTed637EzP/20TVuJaXUGPBbwHcC9wLvVErduRPHWskwwO4wDA1SYGLG59JUhaHeLHnXYnreZ7YUkLEFlVrEx794hsdOXwHAj2JOHOnj1kO9jE+W8S7OknMkVT/m2fPTPHVmksm5GiCQEp4+N80z56axBKv65TdSS9Bt9QbbWUuxlG471/2Gmf/tpWuMA/Ba4Aue5017nlcGPgH82E4caCXDsBsRAqpBjONISrUISwrSFMp+TD5rk3VtHnlifFHG0uXpCrmMTS5jkwr9PVU/plQNkfXmQFIIXNsiSlKuzFRX9ctvRE672yS3d1JAsNvOdb9h5n976Sa30mHgcsvjy8ArNvrhoaHitg9oN5AkKa5jEycpti2J44QkAdexsW3JzIJPOYgZHiwghSCMU/I5B1LtTrnzlgG++sxlkhSyrqXlNuZqZFyLMIwJ45RCIUMu7zI5W2Vk5PpNtPV7Gyx930be025GRno4ddfmhfvWG283nutO003n1S3z301zciN0k3GQLPbsCLTI6IaYmiqR7FLJixtBSkEQ6l1DFCUIqd1CQRhRqUX05BwKrsXkdJlC1sGxBJWqrv52bIlrCQZ7MgigmHOwpMCxLWpBhJQCxxKUy37TT3/t2vUteuv3Nlj6vo28ZzcwMtKz7nj3yrlulI3MSTvphvnvtjlZCynFmovqbnIrvQQcanl8ELi0Ewe67VBh/Td1OVZ9cZRzLcIwoZjVuwchoJCxqNQiakHEA6fGFvnZDw3mqfoRVT/i4ECOci2kJ+8w0p+l6keEYUI2IwmiGFuK5ntW8stvxH+/kz7+bmM/nWs3YuZ/exFp2h2r7XpA+v+hXUll4CvAOz3Pe3Sdj94MnNvszqHbspUKWYuevEulGlLxY9JU3+htS2JZAj+43p7UknB4pMArT44yMVPj7OV5QNCTsynVQmpBsihbCRZncTiWJE3TRZlIAF94/CXOXp7Hti2Getw9ma20VTa6ItwL57pRunGV3On578Y5WY2WncMtwItLX+8a4wDNVNb/BLjAg57n/e4GPnYzWzAODXbTD7NdmDlZjpmT5Zg5Wc5umpP1jEM3xRzwPO8jwEc6PQ6DwWDY73RTzMFgMBgMXYIxDgaDwWBYhjEOBoPBYFhGV8UctogFOriyVW7ks3sVMyfLMXOyHDMny9ktc9IyzhW7m3VVttIW+U7gy50ehMFgMOxSXo0uI1jEXjAOGeB+tNzG7ujSYzAYDJ3HQhcePwb4S1/cC8bBYDAYDNuMCUgbDAaDYRnGOBgMBoNhGcY4GAwGg2EZxjgYDAaDYRnGOBgMBoNhGcY4GAwGg2EZxjgYDAaDYRl7QT5jy9T7R7wbcIA/8DzvfR0eUttRSv0G8OP1h5/1PO/XlFKvBd4L5IC/8Dzv3R0bYAdRSv0PYNjzvLcrpe4FHgR6gS8BP+d5XtTRAbYRpdQPAb8BFIDPeZ73i/v9OlFK/RvgP9Yf/o3nee/aS9fJvt051DvP/RZafuNe4J1KqTs7O6r2Uv/lfj3wcvQc3KeU+gngg8APAyeB+5VSb+zcKDuDUuoB4Cdbnvow8POe551ANw382Y4MrAMopW4F3g/8CHAPcKp+Tezb60QplQf+CHgN8G3Aq+u/T3vmOtm3xgF4LfAFz/OmPc8rA58AfqzDY2o3l4Ff8Twv8DwvBE4DJ4DnPc87V1/xfBh4cycH2W6UUoPohcNv1x8fA3Ke5/1T/S1/xv6akzehdwYv1a+TtwAV9vd1YqHvnwW058EBQvbQdbKf3UqH0TfHBpfR/av3DZ7nfbPxf6XU7Wj30h+zfF5uavPQOs3/AX4dOFJ/vNK1sp/m5DYgUEp9CjgKfAb4Jvt4TjzPW1BK/WfgObSh/AcgYA/NyX7eOUigVVhKAEmHxtJRlFJ3AX8H/Cpwln08L0qpnwEuep73SMvT+/1asdE77Z8GXgW8EriVfTwnSql7gHcAx9CLhxjtot0zc7Kfdw4voaVqGxwELnVoLB1DKfUdwCeBX/I872NKqdeglRob7Ld5eQtwSCn1JDAIFNG/8Pt5Tq4An/c87xqAUuqv0O6SVhXk/TYn3wc84nneBIBS6s+Ad7GHrpP9vHP4PPCAUmqkHlz618DDHR5TW1FKHQEeAt7qed7H6k9/Tb+kblNKWcBbgb/p1Bjbjed5r/M872We590LvAf4lOd5PwXU6oYU4N+yj+YE7Ub6PqVUf/2aeCM6RrdvrxPgG8BrlVIFpZQAfgjtWtoz18m+NQ6e542j/cp/DzwJfMTzvEc7O6q28y4gC7xXKfVkfbX89vqfTwLPon2qn+jUALuItwG/r5R6Dr2b+KMOj6dteJ73NeB30Q1hngXOA/+bfXydeJ73OeCjwOPAU+iA9O+wh64T08/BYDAYDMvYtzsHg8FgMKyOMQ4Gg8FgWIYxDgaDwWBYhjEOBoPBYFiGMQ4Gg8FgWMZ+LoIzGFZEKXUzcAZ4uuVpAfyh53kf3OFjvwf4hud5f72TxzEY1sMYB4NhZar1QjigqeL7jFLqnz3Pe2oHj/u96LoBg6GjGONgMGwAz/PGlVLPAyeUUj8M/AQQAd8Cfh6t3/8V4LDneUG9avgCWpPoEvCHwN3oYqlHgF/1PC9SSvnAX6Nlnz8C/Avg95RSGeB/Aq/0PO9bAEqpzwN/bHYVhnZgYg4GwwZQSr0KrU56Ei0fcb/nefcAzwB/Vr+BfxP4V/WPvB4453neaeD3gcc9z7sP3TtjGPjl+vtc4NOe5ynP8/4r8M9ow/HnwIeAn6kf/zhaTv0zO36yBgNm52AwrEauLicC+vdkEi2N8FPAn9Z7gIDeEfy6UspFdwB7O1pG4qeAD9Tf84PAK5RSP9347iXH+vIqY/hfwJeUUr8OvBN40PO8eJX3GgzbijEOBsPKLIo5NKhLerdqzkj075EAPo7WqTqJ7hD29vp7LODN9V0ESqn+Jd9RWmkAnud9Syn1FLrb2lvRUtkGQ1swbiWDYXM8DLxDKVWoP/4F4Eue5/me59WAj6E7gH3S87xK/T1/C/wHpZSoxxI+hY5TrESEjks0eB/we8CjnuftWvlnw+7DGAeDYXP8CVru/VGl1GngFNrd1OAD6I6CD7Y89wvodpJPoxU8n0arnK7Ep4D/ppRq9K/+DFrd8/3bdQIGw0YwqqwGQxdTD4Q/CLzM8zzzy2poGybmYDB0KUqpDwHfDbzFGAZDuzE7B4PBYDAsw8QcDAaDwbAMYxwMBoPBsAxjHAwGg8GwDGMcDAaDwbAMYxwMBoPBsAxjHAwGg8GwjP8PIRn4UPVLFCwAAAAASUVORK5CYII=\n",
      "text/plain": [
       "<Figure size 432x288 with 1 Axes>"
      ]
     },
     "metadata": {
      "needs_background": "light"
     },
     "output_type": "display_data"
    },
    {
     "data": {
      "text/html": [
       "<div>\n",
       "<style scoped>\n",
       "    .dataframe tbody tr th:only-of-type {\n",
       "        vertical-align: middle;\n",
       "    }\n",
       "\n",
       "    .dataframe tbody tr th {\n",
       "        vertical-align: top;\n",
       "    }\n",
       "\n",
       "    .dataframe thead th {\n",
       "        text-align: right;\n",
       "    }\n",
       "</style>\n",
       "<table border=\"1\" class=\"dataframe\">\n",
       "  <thead>\n",
       "    <tr style=\"text-align: right;\">\n",
       "      <th></th>\n",
       "      <th>TotalPop</th>\n",
       "      <th>Hispanic</th>\n",
       "      <th>White</th>\n",
       "      <th>Black</th>\n",
       "      <th>Native</th>\n",
       "      <th>Asian</th>\n",
       "      <th>Income</th>\n",
       "      <th>IncomePerCap</th>\n",
       "      <th>Poverty</th>\n",
       "      <th>ChildPoverty</th>\n",
       "    </tr>\n",
       "  </thead>\n",
       "  <tbody>\n",
       "    <tr>\n",
       "      <th>TotalPop</th>\n",
       "      <td>1.000000</td>\n",
       "      <td>0.182856</td>\n",
       "      <td>-0.034156</td>\n",
       "      <td>-0.095852</td>\n",
       "      <td>-0.053550</td>\n",
       "      <td>-0.003979</td>\n",
       "      <td>-0.073688</td>\n",
       "      <td>0.064757</td>\n",
       "      <td>0.152784</td>\n",
       "      <td>0.132579</td>\n",
       "    </tr>\n",
       "    <tr>\n",
       "      <th>Hispanic</th>\n",
       "      <td>0.182856</td>\n",
       "      <td>1.000000</td>\n",
       "      <td>-0.494868</td>\n",
       "      <td>-0.149746</td>\n",
       "      <td>-0.016800</td>\n",
       "      <td>-0.175075</td>\n",
       "      <td>-0.483082</td>\n",
       "      <td>-0.384723</td>\n",
       "      <td>0.509348</td>\n",
       "      <td>0.513286</td>\n",
       "    </tr>\n",
       "    <tr>\n",
       "      <th>White</th>\n",
       "      <td>-0.034156</td>\n",
       "      <td>-0.494868</td>\n",
       "      <td>1.000000</td>\n",
       "      <td>-0.623190</td>\n",
       "      <td>-0.049286</td>\n",
       "      <td>-0.013869</td>\n",
       "      <td>0.547227</td>\n",
       "      <td>0.552431</td>\n",
       "      <td>-0.423375</td>\n",
       "      <td>-0.450873</td>\n",
       "    </tr>\n",
       "    <tr>\n",
       "      <th>Black</th>\n",
       "      <td>-0.095852</td>\n",
       "      <td>-0.149746</td>\n",
       "      <td>-0.623190</td>\n",
       "      <td>1.000000</td>\n",
       "      <td>0.001934</td>\n",
       "      <td>-0.429787</td>\n",
       "      <td>-0.235111</td>\n",
       "      <td>-0.271892</td>\n",
       "      <td>0.137346</td>\n",
       "      <td>0.153054</td>\n",
       "    </tr>\n",
       "    <tr>\n",
       "      <th>Native</th>\n",
       "      <td>-0.053550</td>\n",
       "      <td>-0.016800</td>\n",
       "      <td>-0.049286</td>\n",
       "      <td>0.001934</td>\n",
       "      <td>1.000000</td>\n",
       "      <td>0.053282</td>\n",
       "      <td>-0.027734</td>\n",
       "      <td>-0.015050</td>\n",
       "      <td>0.014548</td>\n",
       "      <td>0.006285</td>\n",
       "    </tr>\n",
       "    <tr>\n",
       "      <th>Asian</th>\n",
       "      <td>-0.003979</td>\n",
       "      <td>-0.175075</td>\n",
       "      <td>-0.013869</td>\n",
       "      <td>-0.429787</td>\n",
       "      <td>0.053282</td>\n",
       "      <td>1.000000</td>\n",
       "      <td>0.052983</td>\n",
       "      <td>-0.009058</td>\n",
       "      <td>-0.136770</td>\n",
       "      <td>-0.126583</td>\n",
       "    </tr>\n",
       "    <tr>\n",
       "      <th>Income</th>\n",
       "      <td>-0.073688</td>\n",
       "      <td>-0.483082</td>\n",
       "      <td>0.547227</td>\n",
       "      <td>-0.235111</td>\n",
       "      <td>-0.027734</td>\n",
       "      <td>0.052983</td>\n",
       "      <td>1.000000</td>\n",
       "      <td>0.818171</td>\n",
       "      <td>-0.713532</td>\n",
       "      <td>-0.693781</td>\n",
       "    </tr>\n",
       "    <tr>\n",
       "      <th>IncomePerCap</th>\n",
       "      <td>0.064757</td>\n",
       "      <td>-0.384723</td>\n",
       "      <td>0.552431</td>\n",
       "      <td>-0.271892</td>\n",
       "      <td>-0.015050</td>\n",
       "      <td>-0.009058</td>\n",
       "      <td>0.818171</td>\n",
       "      <td>1.000000</td>\n",
       "      <td>-0.494416</td>\n",
       "      <td>-0.506039</td>\n",
       "    </tr>\n",
       "    <tr>\n",
       "      <th>Poverty</th>\n",
       "      <td>0.152784</td>\n",
       "      <td>0.509348</td>\n",
       "      <td>-0.423375</td>\n",
       "      <td>0.137346</td>\n",
       "      <td>0.014548</td>\n",
       "      <td>-0.136770</td>\n",
       "      <td>-0.713532</td>\n",
       "      <td>-0.494416</td>\n",
       "      <td>1.000000</td>\n",
       "      <td>0.887862</td>\n",
       "    </tr>\n",
       "    <tr>\n",
       "      <th>ChildPoverty</th>\n",
       "      <td>0.132579</td>\n",
       "      <td>0.513286</td>\n",
       "      <td>-0.450873</td>\n",
       "      <td>0.153054</td>\n",
       "      <td>0.006285</td>\n",
       "      <td>-0.126583</td>\n",
       "      <td>-0.693781</td>\n",
       "      <td>-0.506039</td>\n",
       "      <td>0.887862</td>\n",
       "      <td>1.000000</td>\n",
       "    </tr>\n",
       "  </tbody>\n",
       "</table>\n",
       "</div>"
      ],
      "text/plain": [
       "              TotalPop  Hispanic     White     Black    Native     Asian  \\\n",
       "TotalPop      1.000000  0.182856 -0.034156 -0.095852 -0.053550 -0.003979   \n",
       "Hispanic      0.182856  1.000000 -0.494868 -0.149746 -0.016800 -0.175075   \n",
       "White        -0.034156 -0.494868  1.000000 -0.623190 -0.049286 -0.013869   \n",
       "Black        -0.095852 -0.149746 -0.623190  1.000000  0.001934 -0.429787   \n",
       "Native       -0.053550 -0.016800 -0.049286  0.001934  1.000000  0.053282   \n",
       "Asian        -0.003979 -0.175075 -0.013869 -0.429787  0.053282  1.000000   \n",
       "Income       -0.073688 -0.483082  0.547227 -0.235111 -0.027734  0.052983   \n",
       "IncomePerCap  0.064757 -0.384723  0.552431 -0.271892 -0.015050 -0.009058   \n",
       "Poverty       0.152784  0.509348 -0.423375  0.137346  0.014548 -0.136770   \n",
       "ChildPoverty  0.132579  0.513286 -0.450873  0.153054  0.006285 -0.126583   \n",
       "\n",
       "                Income  IncomePerCap   Poverty  ChildPoverty  \n",
       "TotalPop     -0.073688      0.064757  0.152784      0.132579  \n",
       "Hispanic     -0.483082     -0.384723  0.509348      0.513286  \n",
       "White         0.547227      0.552431 -0.423375     -0.450873  \n",
       "Black        -0.235111     -0.271892  0.137346      0.153054  \n",
       "Native       -0.027734     -0.015050  0.014548      0.006285  \n",
       "Asian         0.052983     -0.009058 -0.136770     -0.126583  \n",
       "Income        1.000000      0.818171 -0.713532     -0.693781  \n",
       "IncomePerCap  0.818171      1.000000 -0.494416     -0.506039  \n",
       "Poverty      -0.713532     -0.494416  1.000000      0.887862  \n",
       "ChildPoverty -0.693781     -0.506039  0.887862      1.000000  "
      ]
     },
     "execution_count": 41,
     "metadata": {},
     "output_type": "execute_result"
    }
   ],
   "source": [
    "#Plot a scatterplot between Poverty and Child Poverty for each block within New York City\n",
    "#set the scatterplot\n",
    "plt.scatter(Disparities[\"Poverty\"], Disparities[\"ChildPoverty\"], alpha=.5) \n",
    "#assign a title\n",
    "plt.title('Scatterplot: Poverty vs Child Poverty')\n",
    "#assign a x label\n",
    "plt.xlabel('Poverty')\n",
    "#assign a y label\n",
    "plt.ylabel('Child Poverty')\n",
    "plt.show()\n",
    "\n",
    "#For the dataframe disparities, show all the possible correlations between the columns\n",
    "Disparities.corr(method ='pearson')\n",
    "#Note that ChildPoverty and Poverty are highly positively correlated (r = .88)\n",
    "#Several other strong correlations appear\n",
    "#Income and IncomePerCap (r = .81)\n",
    "#Poverty and Income (r = -.71)\n",
    "#Poverty IncomePerCap (r = -.49)\n",
    "#ChildPoverty and Income (r = -.69)\n",
    "#ChildPoverty and IncomePerCap (r = -.50)\n",
    "\n",
    "#Generally poverty(general or child) is more correlated with Median Household Income compared to IncomePerCap."
   ]
  },
  {
   "cell_type": "markdown",
   "metadata": {},
   "source": [
    "## 3. Indicators of Wealth - Indicators"
   ]
  },
  {
   "cell_type": "markdown",
   "metadata": {},
   "source": [
    "Previously we learned that there were wealth disparities present between the counties of New York (New York County being the most affluent, the Bronx being the least affluent, and the remaining counties showing comparable levels of wealth between the two extremes). Let us see if there are any other indicators that will continue to demonstrate such wealth disparities. <br> <br>\n",
    "Questions <br> <br>\n",
    "What are the mean and total values of job types(Professional, Office, Service, Construction, and Production) worked for each county?<br>\n",
    "What are the mean and total values of \"commuting means\"(Driving, Carpool, Transit, Walking, Other, WorkAtHome) taken for each county?<br>\n",
    "Is there any a correlation between Income and the \"MeanCommute\" time to work? <br><br><br>\n",
    "Draw a conclusion if possible: Are the job types and \"commuting means\" suspected of higher social status(e.g.professional or WorkAtHome) present in greater amounts for the more affluent county(New York) and diminished in less affluent counties(Bronx)? In short, did we find additional indicators that New York county is wealthier whereas the Bronx is financially deficient? <br>"
   ]
  },
  {
   "cell_type": "code",
   "execution_count": 42,
   "metadata": {},
   "outputs": [],
   "source": [
    "#Create a dataframe to group columns necessary to analyze job type\n",
    "#disparities between the counties.\n",
    "JobType = ConvertedMain[[\"County\", \"Employed\", \"Professional\", \"Service\", \"Office\", \"Construction\", \"Production\"]].copy(deep = True)\n",
    "\n",
    "#Create a pivot table to analyze the sum of the columns\n",
    "#using aggfunc parameters np.sum\n",
    "pivotJobType = pd.pivot_table(ConvertedMain, index= 'County', values= [ \"Employed\", \"Professional\", \"Service\", \"Office\", \"Construction\", \"Production\"], aggfunc= [ np.sum],margins=True)\n",
    "pivotJobType = pivotJobType//1\n",
    "pivotJobType\n",
    "\n",
    "\n",
    "\n",
    "#Create lists variables that sum each of the job types grouped by county\n",
    "\n",
    "Professional = list(pivotJobType[\"sum\"][\"Professional\"])\n",
    "del Professional[-1]\n",
    "\n",
    "Service = list(pivotJobType[\"sum\"][\"Service\"])\n",
    "del Service[-1]\n",
    "\n",
    "Office = list(pivotJobType[\"sum\"][\"Office\"])\n",
    "del Office[-1]\n",
    "\n",
    "Construction = list(pivotJobType[\"sum\"][\"Construction\"])\n",
    "del Construction[-1]\n",
    "\n",
    "Production = list(pivotJobType[\"sum\"][\"Production\"])\n",
    "del Production[-1]\n"
   ]
  },
  {
   "cell_type": "code",
   "execution_count": 43,
   "metadata": {},
   "outputs": [
    {
     "data": {
      "text/plain": [
       "<seaborn.axisgrid.FacetGrid at 0x17072fe3748>"
      ]
     },
     "execution_count": 43,
     "metadata": {},
     "output_type": "execute_result"
    },
    {
     "data": {
      "image/png": "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\n",
      "text/plain": [
       "<Figure size 432x288 with 1 Axes>"
      ]
     },
     "metadata": {
      "needs_background": "light"
     },
     "output_type": "display_data"
    },
    {
     "data": {
      "image/png": "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\n",
      "text/plain": [
       "<Figure size 360x360 with 1 Axes>"
      ]
     },
     "metadata": {
      "needs_background": "light"
     },
     "output_type": "display_data"
    }
   ],
   "source": [
    "#Use a bar chart to visualize the \"Professional\" workforce by county.\n",
    "\n",
    "#Displays the total(sum of the) \"Professional\" population by County.\n",
    "plt.bar(county, Professional, width=0.8, bottom=None, align='center', data=None)\n",
    "#Displays the mean of the total \"Professional\" population by County.\n",
    "sns.catplot(x=\"County\", y= \"Professional\", kind=\"bar\", data = JobType)\n",
    "\n",
    "\n",
    "#Note: New York County is demonstrating the highest total of \"professional\" \n",
    "#workers, meanwhile the Bronx has the least \"professional\" workers."
   ]
  },
  {
   "cell_type": "code",
   "execution_count": 44,
   "metadata": {},
   "outputs": [
    {
     "data": {
      "text/plain": [
       "<seaborn.axisgrid.FacetGrid at 0x17072fe3a90>"
      ]
     },
     "execution_count": 44,
     "metadata": {},
     "output_type": "execute_result"
    },
    {
     "data": {
      "image/png": "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\n",
      "text/plain": [
       "<Figure size 432x288 with 1 Axes>"
      ]
     },
     "metadata": {
      "needs_background": "light"
     },
     "output_type": "display_data"
    },
    {
     "data": {
      "image/png": "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\n",
      "text/plain": [
       "<Figure size 360x360 with 1 Axes>"
      ]
     },
     "metadata": {
      "needs_background": "light"
     },
     "output_type": "display_data"
    }
   ],
   "source": [
    "#Use a bar chart to visualize the \"Service\" workforce by county.\n",
    "\n",
    "#Displays the total(sum of the) \"Service\" population by County.\n",
    "plt.bar(county, Service, width=0.8, bottom=None, align='center', data=None)\n",
    "#Displays the mean of the total \"Service\" population by County.\n",
    "sns.catplot(x=\"County\", y= \"Service\", kind=\"bar\", data = JobType)\n",
    "\n",
    "#Note: Kings and Queens have a comparable lead of \"Service\" workers.\n",
    "#Note: The Bronx shows the highest \"Service\" workers on average per block.\n",
    "#Note: The Bronx shows a significantly greater number of average and total\n",
    "#\"Service\" workers than New York"
   ]
  },
  {
   "cell_type": "code",
   "execution_count": 45,
   "metadata": {},
   "outputs": [
    {
     "data": {
      "text/plain": [
       "<seaborn.axisgrid.FacetGrid at 0x17072f03710>"
      ]
     },
     "execution_count": 45,
     "metadata": {},
     "output_type": "execute_result"
    },
    {
     "data": {
      "image/png": "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\n",
      "text/plain": [
       "<Figure size 432x288 with 1 Axes>"
      ]
     },
     "metadata": {
      "needs_background": "light"
     },
     "output_type": "display_data"
    },
    {
     "data": {
      "image/png": "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\n",
      "text/plain": [
       "<Figure size 360x360 with 1 Axes>"
      ]
     },
     "metadata": {
      "needs_background": "light"
     },
     "output_type": "display_data"
    }
   ],
   "source": [
    "#Use a bar chart to visualize the \"Office\" workforce by county.\n",
    "\n",
    "#Displays the total(sum of the) \"Office\" population by County.\n",
    "plt.bar(county, Office, width=0.8, bottom=None, align='center', data=None)\n",
    "#Displays the mean of the total \"Office\" population by County.\n",
    "sns.catplot(x=\"County\", y= \"Office\", kind=\"bar\", data = JobType)\n",
    "\n",
    "#Note: New York shows the highest \"Office\" workers on average per block.\n",
    "#Note: Kings and Queens shows have a comparable lead on total \"Office\" workers.\n",
    "#Note: New York demonstrates approximately 50% more \"Office\" workers on average\n",
    "#and total than the Bronx"
   ]
  },
  {
   "cell_type": "code",
   "execution_count": 46,
   "metadata": {},
   "outputs": [
    {
     "data": {
      "text/plain": [
       "<seaborn.axisgrid.FacetGrid at 0x17071c733c8>"
      ]
     },
     "execution_count": 46,
     "metadata": {},
     "output_type": "execute_result"
    },
    {
     "data": {
      "image/png": "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\n",
      "text/plain": [
       "<Figure size 432x288 with 1 Axes>"
      ]
     },
     "metadata": {
      "needs_background": "light"
     },
     "output_type": "display_data"
    },
    {
     "data": {
      "image/png": "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\n",
      "text/plain": [
       "<Figure size 360x360 with 1 Axes>"
      ]
     },
     "metadata": {
      "needs_background": "light"
     },
     "output_type": "display_data"
    }
   ],
   "source": [
    "#Use a bar chart to visualize the \"Construction\" workforce by county.\n",
    "\n",
    "#Displays the total(sum of the) \"Construction\" population by County.\n",
    "plt.bar(county, Construction, width=0.8, bottom=None, align='center', data=None)\n",
    "#Displays the mean of the total \"Construction\" population by County.\n",
    "sns.catplot(x=\"County\", y= \"Construction\", kind=\"bar\", data = JobType)\n",
    "\n",
    "#Note: Richmond shows the highest \"Construction\" workers on average per block.\n",
    "#Note: Kings and Queens shows have a significant lead on total \"Construction\" \n",
    "#workers.\n",
    "#Note: The Bronx has approximately twice the number of construction workers \n",
    "#on average and total than New York.\n"
   ]
  },
  {
   "cell_type": "code",
   "execution_count": 47,
   "metadata": {},
   "outputs": [
    {
     "data": {
      "text/plain": [
       "<seaborn.axisgrid.FacetGrid at 0x17072fda0b8>"
      ]
     },
     "execution_count": 47,
     "metadata": {},
     "output_type": "execute_result"
    },
    {
     "data": {
      "image/png": "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\n",
      "text/plain": [
       "<Figure size 432x288 with 1 Axes>"
      ]
     },
     "metadata": {
      "needs_background": "light"
     },
     "output_type": "display_data"
    },
    {
     "data": {
      "image/png": "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\n",
      "text/plain": [
       "<Figure size 360x360 with 1 Axes>"
      ]
     },
     "metadata": {
      "needs_background": "light"
     },
     "output_type": "display_data"
    }
   ],
   "source": [
    "#Use a bar chart to visualize the \"Production\" workforce by county.\n",
    "\n",
    "#Displays the total(sum of the) \"Productionn\" population by County.\n",
    "plt.bar(county, Production, width=0.8, bottom=None, align='center', data=None)\n",
    "#Displays the mean of the total \"Production\" population by County.\n",
    "sns.catplot(x=\"County\", y= \"Production\", kind=\"bar\", data = JobType)\n",
    "\n",
    "#Note: Bronx and Queens shows have a significant lead on the average \n",
    "#\"Production\" workers per block\n",
    "#Note: Kings and Queens shows have a significant lead on total \"Production\" \n",
    "#workers.\n",
    "#Note: The Bronx demonstrates approximately 50% more \"Production\" workers on \n",
    "#average and total than the New York\n"
   ]
  },
  {
   "cell_type": "markdown",
   "metadata": {},
   "source": [
    "Summary one: New York County has a propensity to house more \"Professional\" and \"Office\" workers among all counties. The Bronx houses significantly greater \"Service\", \"Construction\", and \"Production\" workers relative to New York with leading average per block in \"Service\" and \"Production\". <br><br>\n",
    "\n",
    "Does this fit our previous data that New York is wealthier and the Bronx is least wealthy?"
   ]
  },
  {
   "cell_type": "code",
   "execution_count": 48,
   "metadata": {},
   "outputs": [],
   "source": [
    "#Create a dataframe to group columns necessary to analyze \"means of commuting\"\n",
    "#disparities between the counties.\n",
    "Commuting = ConvertedMain[[\"County\", \"Employed\", \"Drive\", \"Carpool\", \"Transit\", \"Walk\", \"OtherTransp\", \"WorkAtHome\"]].copy(deep = True)\n",
    "\n",
    "#Create a pivot table to analyze the sum of the columns\n",
    "#using aggfunc parameters np.sum\n",
    "pivotCommuting = pd.pivot_table(ConvertedMain, index= 'County', values= [ \"Employed\", \"Drive\", \"Carpool\", \"Transit\", \"Walk\", \"OtherTransp\", \"WorkAtHome\", \"MeanCommute\"], aggfunc= [ np.sum],margins=True)\n",
    "pivotCommuting = pivotCommuting//1\n",
    "pivotCommuting\n",
    "\n",
    "#Create lists variables that sum each of the commuting means grouped by county\n",
    "Drive = list(pivotCommuting[\"sum\"][\"Drive\"])\n",
    "del Drive[-1]\n",
    "\n",
    "Carpool = list(pivotCommuting[\"sum\"][\"Carpool\"])\n",
    "del Carpool[-1]\n",
    "\n",
    "Transit = list(pivotCommuting[\"sum\"][\"Transit\"])\n",
    "del Transit[-1]\n",
    "\n",
    "Walk = list(pivotCommuting[\"sum\"][\"Walk\"])\n",
    "del Walk[-1]\n",
    "\n",
    "OtherTransp = list(pivotCommuting[\"sum\"][\"OtherTransp\"])\n",
    "del OtherTransp[-1]\n",
    "\n",
    "WorkAtHome = list(pivotCommuting[\"sum\"][\"WorkAtHome\"])\n",
    "del WorkAtHome[-1]\n",
    "\n",
    "MeanCommute = list(pivotCommuting[\"sum\"][\"MeanCommute\"])\n",
    "del MeanCommute[-1]\n"
   ]
  },
  {
   "cell_type": "code",
   "execution_count": 49,
   "metadata": {},
   "outputs": [
    {
     "data": {
      "text/plain": [
       "<seaborn.axisgrid.FacetGrid at 0x1707301dc18>"
      ]
     },
     "execution_count": 49,
     "metadata": {},
     "output_type": "execute_result"
    },
    {
     "data": {
      "image/png": "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\n",
      "text/plain": [
       "<Figure size 432x288 with 1 Axes>"
      ]
     },
     "metadata": {
      "needs_background": "light"
     },
     "output_type": "display_data"
    },
    {
     "data": {
      "image/png": "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\n",
      "text/plain": [
       "<Figure size 360x360 with 1 Axes>"
      ]
     },
     "metadata": {
      "needs_background": "light"
     },
     "output_type": "display_data"
    }
   ],
   "source": [
    "#Use a bar chart to visualize the \"Drive\" commuting by county.\n",
    "\n",
    "#Displays the total(sum of the) \"Drive\" population by County.\n",
    "plt.bar(county, Drive, width=0.8, bottom=None, align='center', data=None)\n",
    "#Displays the mean of the total \"Drive\" population by County.\n",
    "sns.catplot(x=\"County\", y= \"Drive\", kind=\"bar\", data = Commuting)\n",
    "\n",
    "\n",
    "#Note: New York County has the least total and average \"Drivers\".\n",
    "#Note: Richmond has the highest average \"Drivers\".\n",
    "#Note: Queens has the greatest total \"Drivers\"."
   ]
  },
  {
   "cell_type": "code",
   "execution_count": 50,
   "metadata": {},
   "outputs": [
    {
     "data": {
      "text/plain": [
       "<seaborn.axisgrid.FacetGrid at 0x17072fc7160>"
      ]
     },
     "execution_count": 50,
     "metadata": {},
     "output_type": "execute_result"
    },
    {
     "data": {
      "image/png": "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\n",
      "text/plain": [
       "<Figure size 432x288 with 1 Axes>"
      ]
     },
     "metadata": {
      "needs_background": "light"
     },
     "output_type": "display_data"
    },
    {
     "data": {
      "image/png": "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\n",
      "text/plain": [
       "<Figure size 360x360 with 1 Axes>"
      ]
     },
     "metadata": {
      "needs_background": "light"
     },
     "output_type": "display_data"
    }
   ],
   "source": [
    "#Use a bar chart to visualize the \"Carpool\" commuting by county.\n",
    "\n",
    "#Displays the total(sum of the) \"Carpool\" population by County.\n",
    "plt.bar(county, Carpool, width=0.8, bottom=None, align='center', data=None)\n",
    "#Displays the mean of the total \"Carpool\" population by County.\n",
    "sns.catplot(x=\"County\", y= \"Carpool\", kind=\"bar\", data = Commuting)\n",
    "\n",
    "\n",
    "#Note: The trend mirrors that of the \"Drivers\"."
   ]
  },
  {
   "cell_type": "code",
   "execution_count": 51,
   "metadata": {},
   "outputs": [
    {
     "data": {
      "text/plain": [
       "<seaborn.axisgrid.FacetGrid at 0x170732e1128>"
      ]
     },
     "execution_count": 51,
     "metadata": {},
     "output_type": "execute_result"
    },
    {
     "data": {
      "image/png": "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\n",
      "text/plain": [
       "<Figure size 432x288 with 1 Axes>"
      ]
     },
     "metadata": {
      "needs_background": "light"
     },
     "output_type": "display_data"
    },
    {
     "data": {
      "image/png": "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
