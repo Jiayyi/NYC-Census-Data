{
 "cells": [
  {
   "cell_type": "markdown",
   "metadata": {},
   "source": [
    "# Data Science Project\n",
    "## New York City - Census Data\n",
    "    \n",
    "**Danny Lam**<br>\n",
    "**Julio Gutierrez**<br>\n",
    "**Yannick Brossel**"
   ]
  },
  {
   "attachments": {},
   "cell_type": "markdown",
   "metadata": {},
   "source": [
    "<img src=\"NYC_map.png\">"
   ]
  },
  {
   "cell_type": "code",
   "execution_count": 1,
   "metadata": {},
   "outputs": [],
   "source": [
    "#Include libraries to import the dataset into a dataframe, compute calcuations, and also ignore warnings, respectively.\n",
    "import pandas as pd\n",
    "import numpy as np\n",
    "import warnings\n",
    "warnings.filterwarnings(\"ignore\") \n"
   ]
  },
  {
   "cell_type": "code",
   "execution_count": 2,
   "metadata": {},
   "outputs": [
    {
     "data": {
      "text/html": [
       "<div>\n",
       "<style scoped>\n",
       "    .dataframe tbody tr th:only-of-type {\n",
       "        vertical-align: middle;\n",
       "    }\n",
       "\n",
       "    .dataframe tbody tr th {\n",
       "        vertical-align: top;\n",
       "    }\n",
       "\n",
       "    .dataframe thead th {\n",
       "        text-align: right;\n",
       "    }\n",
       "</style>\n",
       "<table border=\"1\" class=\"dataframe\">\n",
       "  <thead>\n",
       "    <tr style=\"text-align: right;\">\n",
       "      <th></th>\n",
       "      <th>CensusTract</th>\n",
       "      <th>County</th>\n",
       "      <th>Borough</th>\n",
       "      <th>TotalPop</th>\n",
       "      <th>Men</th>\n",
       "      <th>Women</th>\n",
       "      <th>Hispanic</th>\n",
       "      <th>White</th>\n",
       "      <th>Black</th>\n",
       "      <th>Native</th>\n",
       "      <th>...</th>\n",
       "      <th>Walk</th>\n",
       "      <th>OtherTransp</th>\n",
       "      <th>WorkAtHome</th>\n",
       "      <th>MeanCommute</th>\n",
       "      <th>Employed</th>\n",
       "      <th>PrivateWork</th>\n",
       "      <th>PublicWork</th>\n",
       "      <th>SelfEmployed</th>\n",
       "      <th>FamilyWork</th>\n",
       "      <th>Unemployment</th>\n",
       "    </tr>\n",
       "  </thead>\n",
       "  <tbody>\n",
       "    <tr>\n",
       "      <th>0</th>\n",
       "      <td>36005000100</td>\n",
       "      <td>Bronx</td>\n",
       "      <td>Bronx</td>\n",
       "      <td>7703</td>\n",
       "      <td>7133</td>\n",
       "      <td>570</td>\n",
       "      <td>29.9</td>\n",
       "      <td>6.1</td>\n",
       "      <td>60.9</td>\n",
       "      <td>0.2</td>\n",
       "      <td>...</td>\n",
       "      <td>NaN</td>\n",
       "      <td>NaN</td>\n",
       "      <td>NaN</td>\n",
       "      <td>NaN</td>\n",
       "      <td>0</td>\n",
       "      <td>NaN</td>\n",
       "      <td>NaN</td>\n",
       "      <td>NaN</td>\n",
       "      <td>NaN</td>\n",
       "      <td>NaN</td>\n",
       "    </tr>\n",
       "    <tr>\n",
       "      <th>1</th>\n",
       "      <td>36005000200</td>\n",
       "      <td>Bronx</td>\n",
       "      <td>Bronx</td>\n",
       "      <td>5403</td>\n",
       "      <td>2659</td>\n",
       "      <td>2744</td>\n",
       "      <td>75.8</td>\n",
       "      <td>2.3</td>\n",
       "      <td>16.0</td>\n",
       "      <td>0.0</td>\n",
       "      <td>...</td>\n",
       "      <td>2.9</td>\n",
       "      <td>0.0</td>\n",
       "      <td>0.0</td>\n",
       "      <td>43.0</td>\n",
       "      <td>2308</td>\n",
       "      <td>80.8</td>\n",
       "      <td>16.2</td>\n",
       "      <td>2.9</td>\n",
       "      <td>0.0</td>\n",
       "      <td>7.7</td>\n",
       "    </tr>\n",
       "    <tr>\n",
       "      <th>2</th>\n",
       "      <td>36005000400</td>\n",
       "      <td>Bronx</td>\n",
       "      <td>Bronx</td>\n",
       "      <td>5915</td>\n",
       "      <td>2896</td>\n",
       "      <td>3019</td>\n",
       "      <td>62.7</td>\n",
       "      <td>3.6</td>\n",
       "      <td>30.7</td>\n",
       "      <td>0.0</td>\n",
       "      <td>...</td>\n",
       "      <td>1.4</td>\n",
       "      <td>0.5</td>\n",
       "      <td>2.1</td>\n",
       "      <td>45.0</td>\n",
       "      <td>2675</td>\n",
       "      <td>71.7</td>\n",
       "      <td>25.3</td>\n",
       "      <td>2.5</td>\n",
       "      <td>0.6</td>\n",
       "      <td>9.5</td>\n",
       "    </tr>\n",
       "    <tr>\n",
       "      <th>3</th>\n",
       "      <td>36005001600</td>\n",
       "      <td>Bronx</td>\n",
       "      <td>Bronx</td>\n",
       "      <td>5879</td>\n",
       "      <td>2558</td>\n",
       "      <td>3321</td>\n",
       "      <td>65.1</td>\n",
       "      <td>1.6</td>\n",
       "      <td>32.4</td>\n",
       "      <td>0.0</td>\n",
       "      <td>...</td>\n",
       "      <td>8.6</td>\n",
       "      <td>1.6</td>\n",
       "      <td>1.7</td>\n",
       "      <td>38.8</td>\n",
       "      <td>2120</td>\n",
       "      <td>75.0</td>\n",
       "      <td>21.3</td>\n",
       "      <td>3.8</td>\n",
       "      <td>0.0</td>\n",
       "      <td>8.7</td>\n",
       "    </tr>\n",
       "    <tr>\n",
       "      <th>4</th>\n",
       "      <td>36005001900</td>\n",
       "      <td>Bronx</td>\n",
       "      <td>Bronx</td>\n",
       "      <td>2591</td>\n",
       "      <td>1206</td>\n",
       "      <td>1385</td>\n",
       "      <td>55.4</td>\n",
       "      <td>9.0</td>\n",
       "      <td>29.0</td>\n",
       "      <td>0.0</td>\n",
       "      <td>...</td>\n",
       "      <td>3.0</td>\n",
       "      <td>2.4</td>\n",
       "      <td>6.2</td>\n",
       "      <td>45.4</td>\n",
       "      <td>1083</td>\n",
       "      <td>76.8</td>\n",
       "      <td>15.5</td>\n",
       "      <td>7.7</td>\n",
       "      <td>0.0</td>\n",
       "      <td>19.2</td>\n",
       "    </tr>\n",
       "  </tbody>\n",
       "</table>\n",
       "<p>5 rows × 36 columns</p>\n",
       "</div>"
      ],
      "text/plain": [
       "   CensusTract County Borough  TotalPop   Men  Women  Hispanic  White  Black  \\\n",
       "0  36005000100  Bronx   Bronx      7703  7133    570      29.9    6.1   60.9   \n",
       "1  36005000200  Bronx   Bronx      5403  2659   2744      75.8    2.3   16.0   \n",
       "2  36005000400  Bronx   Bronx      5915  2896   3019      62.7    3.6   30.7   \n",
       "3  36005001600  Bronx   Bronx      5879  2558   3321      65.1    1.6   32.4   \n",
       "4  36005001900  Bronx   Bronx      2591  1206   1385      55.4    9.0   29.0   \n",
       "\n",
       "   Native  ...  Walk  OtherTransp  WorkAtHome  MeanCommute  Employed  \\\n",
       "0     0.2  ...   NaN          NaN         NaN          NaN         0   \n",
       "1     0.0  ...   2.9          0.0         0.0         43.0      2308   \n",
       "2     0.0  ...   1.4          0.5         2.1         45.0      2675   \n",
       "3     0.0  ...   8.6          1.6         1.7         38.8      2120   \n",
       "4     0.0  ...   3.0          2.4         6.2         45.4      1083   \n",
       "\n",
       "   PrivateWork  PublicWork  SelfEmployed  FamilyWork  Unemployment  \n",
       "0          NaN         NaN           NaN         NaN           NaN  \n",
       "1         80.8        16.2           2.9         0.0           7.7  \n",
       "2         71.7        25.3           2.5         0.6           9.5  \n",
       "3         75.0        21.3           3.8         0.0           8.7  \n",
       "4         76.8        15.5           7.7         0.0          19.2  \n",
       "\n",
       "[5 rows x 36 columns]"
      ]
     },
     "execution_count": 2,
     "metadata": {},
     "output_type": "execute_result"
    }
   ],
   "source": [
    "#Read in the csv dataset using pandas.\n",
    "rawData = pd.read_csv(\"nyc_census_tracts.csv\")\n",
    "#Output the dataframe to the screen for analysis.\n",
    "rawData.head()"
   ]
  },
  {
   "cell_type": "code",
   "execution_count": 3,
   "metadata": {},
   "outputs": [
    {
     "name": "stdout",
     "output_type": "stream",
     "text": [
      "<class 'pandas.core.frame.DataFrame'>\n",
      "RangeIndex: 2167 entries, 0 to 2166\n",
      "Data columns (total 36 columns):\n",
      "CensusTract        2167 non-null int64\n",
      "County             2167 non-null object\n",
      "Borough            2167 non-null object\n",
      "TotalPop           2167 non-null int64\n",
      "Men                2167 non-null int64\n",
      "Women              2167 non-null int64\n",
      "Hispanic           2128 non-null float64\n",
      "White              2128 non-null float64\n",
      "Black              2128 non-null float64\n",
      "Native             2128 non-null float64\n",
      "Asian              2128 non-null float64\n",
      "Citizen            2167 non-null int64\n",
      "Income             2101 non-null float64\n",
      "IncomeErr          2101 non-null float64\n",
      "IncomePerCap       2121 non-null float64\n",
      "IncomePerCapErr    2121 non-null float64\n",
      "Poverty            2125 non-null float64\n",
      "ChildPoverty       2107 non-null float64\n",
      "Professional       2124 non-null float64\n",
      "Service            2124 non-null float64\n",
      "Office             2124 non-null float64\n",
      "Construction       2124 non-null float64\n",
      "Production         2124 non-null float64\n",
      "Drive              2124 non-null float64\n",
      "Carpool            2124 non-null float64\n",
      "Transit            2124 non-null float64\n",
      "Walk               2124 non-null float64\n",
      "OtherTransp        2124 non-null float64\n",
      "WorkAtHome         2124 non-null float64\n",
      "MeanCommute        2106 non-null float64\n",
      "Employed           2167 non-null int64\n",
      "PrivateWork        2124 non-null float64\n",
      "PublicWork         2124 non-null float64\n",
      "SelfEmployed       2124 non-null float64\n",
      "FamilyWork         2124 non-null float64\n",
      "Unemployment       2125 non-null float64\n",
      "dtypes: float64(28), int64(6), object(2)\n",
      "memory usage: 609.5+ KB\n"
     ]
    }
   ],
   "source": [
    "#We made note of the data showing up to 2167 values per column with several columns appearing to have null values.\n",
    "#Four columns seem redundant or irrelevant : CensusTract for exact block location, Borough which mirrors County column,\n",
    "#IncomeErr and IncomePerCapErr which are standard error values\n",
    "#Also, object types that should be transformed to category as necessary.\n",
    "rawData.info()\n",
    "\n",
    "#Create a variable \"total\" which is the number of rows and reflects the maximum number of non-null values.\n",
    "total = 2167"
   ]
  },
  {
   "cell_type": "code",
   "execution_count": 4,
   "metadata": {},
   "outputs": [
    {
     "name": "stdout",
     "output_type": "stream",
     "text": [
      "['Bronx' 'Kings' 'New York' 'Queens' 'Richmond']\n",
      "['Bronx' 'Brooklyn' 'Manhattan' 'Queens' 'Staten Island']\n"
     ]
    }
   ],
   "source": [
    "#View the distinct values using unique function in the County column and the Borough column to confirm redundancy.\n",
    "print(rawData[\"County\"].unique())\n",
    "print(rawData[\"Borough\"].unique())"
   ]
  },
  {
   "cell_type": "code",
   "execution_count": 5,
   "metadata": {},
   "outputs": [
    {
     "data": {
      "text/html": [
       "<div>\n",
       "<style scoped>\n",
       "    .dataframe tbody tr th:only-of-type {\n",
       "        vertical-align: middle;\n",
       "    }\n",
       "\n",
       "    .dataframe tbody tr th {\n",
       "        vertical-align: top;\n",
       "    }\n",
       "\n",
       "    .dataframe thead th {\n",
       "        text-align: right;\n",
       "    }\n",
       "</style>\n",
       "<table border=\"1\" class=\"dataframe\">\n",
       "  <thead>\n",
       "    <tr style=\"text-align: right;\">\n",
       "      <th></th>\n",
       "      <th>County</th>\n",
       "      <th>TotalPop</th>\n",
       "      <th>Men</th>\n",
       "      <th>Women</th>\n",
       "      <th>Hispanic</th>\n",
       "      <th>White</th>\n",
       "      <th>Black</th>\n",
       "      <th>Native</th>\n",
       "      <th>Asian</th>\n",
       "      <th>Citizen</th>\n",
       "      <th>...</th>\n",
       "      <th>Walk</th>\n",
       "      <th>OtherTransp</th>\n",
       "      <th>WorkAtHome</th>\n",
       "      <th>MeanCommute</th>\n",
       "      <th>Employed</th>\n",
       "      <th>PrivateWork</th>\n",
       "      <th>PublicWork</th>\n",
       "      <th>SelfEmployed</th>\n",
       "      <th>FamilyWork</th>\n",
       "      <th>Unemployment</th>\n",
       "    </tr>\n",
       "  </thead>\n",
       "  <tbody>\n",
       "    <tr>\n",
       "      <th>0</th>\n",
       "      <td>Bronx</td>\n",
       "      <td>7703</td>\n",
       "      <td>7133</td>\n",
       "      <td>570</td>\n",
       "      <td>29.9</td>\n",
       "      <td>6.1</td>\n",
       "      <td>60.9</td>\n",
       "      <td>0.2</td>\n",
       "      <td>1.6</td>\n",
       "      <td>6476</td>\n",
       "      <td>...</td>\n",
       "      <td>NaN</td>\n",
       "      <td>NaN</td>\n",
       "      <td>NaN</td>\n",
       "      <td>NaN</td>\n",
       "      <td>0</td>\n",
       "      <td>NaN</td>\n",
       "      <td>NaN</td>\n",
       "      <td>NaN</td>\n",
       "      <td>NaN</td>\n",
       "      <td>NaN</td>\n",
       "    </tr>\n",
       "    <tr>\n",
       "      <th>1</th>\n",
       "      <td>Bronx</td>\n",
       "      <td>5403</td>\n",
       "      <td>2659</td>\n",
       "      <td>2744</td>\n",
       "      <td>75.8</td>\n",
       "      <td>2.3</td>\n",
       "      <td>16.0</td>\n",
       "      <td>0.0</td>\n",
       "      <td>4.2</td>\n",
       "      <td>3639</td>\n",
       "      <td>...</td>\n",
       "      <td>2.9</td>\n",
       "      <td>0.0</td>\n",
       "      <td>0.0</td>\n",
       "      <td>43.0</td>\n",
       "      <td>2308</td>\n",
       "      <td>80.8</td>\n",
       "      <td>16.2</td>\n",
       "      <td>2.9</td>\n",
       "      <td>0.0</td>\n",
       "      <td>7.7</td>\n",
       "    </tr>\n",
       "    <tr>\n",
       "      <th>2</th>\n",
       "      <td>Bronx</td>\n",
       "      <td>5915</td>\n",
       "      <td>2896</td>\n",
       "      <td>3019</td>\n",
       "      <td>62.7</td>\n",
       "      <td>3.6</td>\n",
       "      <td>30.7</td>\n",
       "      <td>0.0</td>\n",
       "      <td>0.3</td>\n",
       "      <td>4100</td>\n",
       "      <td>...</td>\n",
       "      <td>1.4</td>\n",
       "      <td>0.5</td>\n",
       "      <td>2.1</td>\n",
       "      <td>45.0</td>\n",
       "      <td>2675</td>\n",
       "      <td>71.7</td>\n",
       "      <td>25.3</td>\n",
       "      <td>2.5</td>\n",
       "      <td>0.6</td>\n",
       "      <td>9.5</td>\n",
       "    </tr>\n",
       "    <tr>\n",
       "      <th>3</th>\n",
       "      <td>Bronx</td>\n",
       "      <td>5879</td>\n",
       "      <td>2558</td>\n",
       "      <td>3321</td>\n",
       "      <td>65.1</td>\n",
       "      <td>1.6</td>\n",
       "      <td>32.4</td>\n",
       "      <td>0.0</td>\n",
       "      <td>0.0</td>\n",
       "      <td>3536</td>\n",
       "      <td>...</td>\n",
       "      <td>8.6</td>\n",
       "      <td>1.6</td>\n",
       "      <td>1.7</td>\n",
       "      <td>38.8</td>\n",
       "      <td>2120</td>\n",
       "      <td>75.0</td>\n",
       "      <td>21.3</td>\n",
       "      <td>3.8</td>\n",
       "      <td>0.0</td>\n",
       "      <td>8.7</td>\n",
       "    </tr>\n",
       "    <tr>\n",
       "      <th>4</th>\n",
       "      <td>Bronx</td>\n",
       "      <td>2591</td>\n",
       "      <td>1206</td>\n",
       "      <td>1385</td>\n",
       "      <td>55.4</td>\n",
       "      <td>9.0</td>\n",
       "      <td>29.0</td>\n",
       "      <td>0.0</td>\n",
       "      <td>2.1</td>\n",
       "      <td>1557</td>\n",
       "      <td>...</td>\n",
       "      <td>3.0</td>\n",
       "      <td>2.4</td>\n",
       "      <td>6.2</td>\n",
       "      <td>45.4</td>\n",
       "      <td>1083</td>\n",
       "      <td>76.8</td>\n",
       "      <td>15.5</td>\n",
       "      <td>7.7</td>\n",
       "      <td>0.0</td>\n",
       "      <td>19.2</td>\n",
       "    </tr>\n",
       "  </tbody>\n",
       "</table>\n",
       "<p>5 rows × 32 columns</p>\n",
       "</div>"
      ],
      "text/plain": [
       "  County  TotalPop   Men  Women  Hispanic  White  Black  Native  Asian  \\\n",
       "0  Bronx      7703  7133    570      29.9    6.1   60.9     0.2    1.6   \n",
       "1  Bronx      5403  2659   2744      75.8    2.3   16.0     0.0    4.2   \n",
       "2  Bronx      5915  2896   3019      62.7    3.6   30.7     0.0    0.3   \n",
       "3  Bronx      5879  2558   3321      65.1    1.6   32.4     0.0    0.0   \n",
       "4  Bronx      2591  1206   1385      55.4    9.0   29.0     0.0    2.1   \n",
       "\n",
       "   Citizen  ...  Walk  OtherTransp  WorkAtHome  MeanCommute  Employed  \\\n",
       "0     6476  ...   NaN          NaN         NaN          NaN         0   \n",
       "1     3639  ...   2.9          0.0         0.0         43.0      2308   \n",
       "2     4100  ...   1.4          0.5         2.1         45.0      2675   \n",
       "3     3536  ...   8.6          1.6         1.7         38.8      2120   \n",
       "4     1557  ...   3.0          2.4         6.2         45.4      1083   \n",
       "\n",
       "   PrivateWork  PublicWork  SelfEmployed  FamilyWork  Unemployment  \n",
       "0          NaN         NaN           NaN         NaN           NaN  \n",
       "1         80.8        16.2           2.9         0.0           7.7  \n",
       "2         71.7        25.3           2.5         0.6           9.5  \n",
       "3         75.0        21.3           3.8         0.0           8.7  \n",
       "4         76.8        15.5           7.7         0.0          19.2  \n",
       "\n",
       "[5 rows x 32 columns]"
      ]
     },
     "execution_count": 5,
     "metadata": {},
     "output_type": "execute_result"
    }
   ],
   "source": [
    "#Create a new Dataframe named MainDF without the four columns using the copy method followed by dropping the unwanted columns.\n",
    "#Note: the deep parameter will allow for modification of our new dataframe without altering the \"rawData\" dataframe.\n",
    "MainDF = rawData.copy(deep = True)\n",
    "MainDF.drop(columns=[\"CensusTract\", \"Borough\", \"IncomeErr\", \"IncomePerCapErr\"], inplace = True)\n",
    "\n",
    "#Create a variable named \"columns\" for the number of columns shown in our MainDF.\n",
    "columns = 32\n",
    "\n",
    "#Confirm that our work has been without error by outputting the dataframe.\n",
    "MainDF.head()"
   ]
  },
  {
   "cell_type": "code",
   "execution_count": 6,
   "metadata": {},
   "outputs": [
    {
     "data": {
      "text/plain": [
       "County          1.000000\n",
       "TotalPop        1.000000\n",
       "Men             1.000000\n",
       "Women           1.000000\n",
       "Hispanic        0.982003\n",
       "White           0.982003\n",
       "Black           0.982003\n",
       "Native          0.982003\n",
       "Asian           0.982003\n",
       "Citizen         1.000000\n",
       "Income          0.969543\n",
       "IncomePerCap    0.978772\n",
       "Poverty         0.980618\n",
       "ChildPoverty    0.972312\n",
       "Professional    0.980157\n",
       "Service         0.980157\n",
       "Office          0.980157\n",
       "Construction    0.980157\n",
       "Production      0.980157\n",
       "Drive           0.980157\n",
       "Carpool         0.980157\n",
       "Transit         0.980157\n",
       "Walk            0.980157\n",
       "OtherTransp     0.980157\n",
       "WorkAtHome      0.980157\n",
       "MeanCommute     0.971850\n",
       "Employed        1.000000\n",
       "PrivateWork     0.980157\n",
       "PublicWork      0.980157\n",
       "SelfEmployed    0.980157\n",
       "FamilyWork      0.980157\n",
       "Unemployment    0.980618\n",
       "dtype: float64"
      ]
     },
     "execution_count": 6,
     "metadata": {},
     "output_type": "execute_result"
    }
   ],
   "source": [
    "#Visualize the proportion of non-null values per column by using the count function and dividing it by the maximum number of\n",
    "#non-null values\n",
    "MainDF.count()/total\n",
    "\n",
    "#Note many columns are showing null-values but with marginal amounts (lowest is 4% of null values in a column)"
   ]
  },
  {
   "cell_type": "code",
   "execution_count": 7,
   "metadata": {},
   "outputs": [
    {
     "name": "stdout",
     "output_type": "stream",
     "text": [
      "<class 'pandas.core.frame.DataFrame'>\n",
      "Int64Index: 2124 entries, 1 to 2165\n",
      "Data columns (total 32 columns):\n",
      "County          2124 non-null object\n",
      "TotalPop        2124 non-null int64\n",
      "Men             2124 non-null int64\n",
      "Women           2124 non-null int64\n",
      "Hispanic        2124 non-null float64\n",
      "White           2124 non-null float64\n",
      "Black           2124 non-null float64\n",
      "Native          2124 non-null float64\n",
      "Asian           2124 non-null float64\n",
      "Citizen         2124 non-null int64\n",
      "Income          2101 non-null float64\n",
      "IncomePerCap    2118 non-null float64\n",
      "Poverty         2124 non-null float64\n",
      "ChildPoverty    2107 non-null float64\n",
      "Professional    2124 non-null float64\n",
      "Service         2124 non-null float64\n",
      "Office          2124 non-null float64\n",
      "Construction    2124 non-null float64\n",
      "Production      2124 non-null float64\n",
      "Drive           2124 non-null float64\n",
      "Carpool         2124 non-null float64\n",
      "Transit         2124 non-null float64\n",
      "Walk            2124 non-null float64\n",
      "OtherTransp     2124 non-null float64\n",
      "WorkAtHome      2124 non-null float64\n",
      "MeanCommute     2106 non-null float64\n",
      "Employed        2124 non-null int64\n",
      "PrivateWork     2124 non-null float64\n",
      "PublicWork      2124 non-null float64\n",
      "SelfEmployed    2124 non-null float64\n",
      "FamilyWork      2124 non-null float64\n",
      "Unemployment    2124 non-null float64\n",
      "dtypes: float64(26), int64(5), object(1)\n",
      "memory usage: 547.6+ KB\n"
     ]
    }
   ],
   "source": [
    "#We believe a reasonable action to take is dropping any row where half the data or more is missing.\n",
    "#This can be performed by dropping where the threshold of non-null values is half the number of columns present.\n",
    "MainDF.dropna(thresh = (columns/2), inplace = True)\n",
    "\n",
    "#The variable \"total\" must be updated to reflect the new maximum number of non-null values per column.\n",
    "total = 2124\n",
    "\n",
    "#Output the dataframe to determine the number of columns that have null-values.\n",
    "#There are four columns will null values: Income, IncomePerCap, ChildPoverty, and MeanCommute\n",
    "MainDF.info()"
   ]
  },
  {
   "cell_type": "code",
   "execution_count": 8,
   "metadata": {},
   "outputs": [
    {
     "name": "stdout",
     "output_type": "stream",
     "text": [
      "           Income  IncomePerCap  ChildPoverty  MeanCommute\n",
      "County                                                    \n",
      "Bronx     39311.0       19532.0          37.0         42.0\n",
      "Kings     54264.0       27869.0          27.0         41.0\n",
      "New York  83351.0       69588.0          18.0         30.0\n",
      "Queens    62336.0       27596.0          18.0         42.0\n",
      "Richmond  72021.0       32022.0          16.0         42.0\n"
     ]
    }
   ],
   "source": [
    "#Create a new DataFrame grouped by County holding only the four columns with null values and determine their means.\n",
    "#These values will be used to fill the null values.\n",
    "#Note: We chose not to take a mean for each column and use that value for filling because it may drastically by county.\n",
    "#Ex. The average income in the Bronx is $39,000 meanwhile the income in New York is $83,000.\n",
    "fillValues = MainDF.groupby(['County']).mean()[[\"Income\", \"IncomePerCap\", \"ChildPoverty\", \"MeanCommute\"]]\n",
    "\n",
    "#Dividing the dataframe with two forward slashes by one will simply truncate the value so it does not reflect decimal values.\n",
    "fillValues = fillValues // 1\n",
    "\n",
    "#Output the four columns average when grouped by \"County\".\n",
    "print(fillValues)"
   ]
  },
  {
   "cell_type": "code",
   "execution_count": 9,
   "metadata": {},
   "outputs": [],
   "source": [
    "#Create a list of variables that will hold the fill values for each of the four columns and their respective county.\n",
    "#Note: four columns and five counties will lead to the creation of twenty variables.\n",
    "#Note: It was much simpler to initialize the variables using their indexes.\n",
    "IncomeBronx = fillValues.iloc[0,0]\n",
    "IncomeKings = fillValues.iloc[1,0]\n",
    "IncomeNY = fillValues.iloc[2,0]\n",
    "IncomeQueens = fillValues.iloc[3,0]\n",
    "IncomeRichmond = fillValues.iloc[4,0]\n",
    "CapBronx = fillValues.iloc[0,1]\n",
    "CapKings = fillValues.iloc[1,1]\n",
    "CapNY = fillValues.iloc[2,1]\n",
    "CapQueens = fillValues.iloc[3,1]\n",
    "CapRichmond = fillValues.iloc[4,1]\n",
    "ChildBronx = fillValues.iloc[0,2]\n",
    "ChildKings = fillValues.iloc[1,2]\n",
    "ChildNY = fillValues.iloc[2,2]\n",
    "ChildQueens = fillValues.iloc[3,2]\n",
    "ChildRichmond = fillValues.iloc[4,2]\n",
    "CommuteBronx = fillValues.iloc[0,3]\n",
    "CommuteKings = fillValues.iloc[1,3]\n",
    "CommuteNY = fillValues.iloc[2,3]\n",
    "CommuteQueens = fillValues.iloc[3,3]\n",
    "CommuteRichmond = fillValues.iloc[4,3]"
   ]
  },
  {
   "cell_type": "code",
   "execution_count": 10,
   "metadata": {},
   "outputs": [],
   "source": [
    "#General Overview for four repetitive functions\n",
    "\n",
    "#Create functions that will take in two parameters: the \"County\" and one of the four columns with null values.\n",
    "#The function will then execute on each row.\n",
    "#If the row is showing a non-null value for the column of interest, then it will simply return its non-value.\n",
    "#If the row is showing a null value for the column of interest, then it will fill that row with the appropriate variable for\n",
    "#its respective county and column.\n",
    "\n",
    "\n",
    "\n",
    "\n",
    "#The function \"fillIncome\" will be used to update the \"Income\" column by filling in rows with null values with the average\n",
    "#income for their respective county.\n",
    "\n",
    "#The parameter block is composed of two columns: the county and the income.\n",
    "def fillIncome(Block):\n",
    "    #Set up local variables for a row's county and income values.\n",
    "    county, income = Block\n",
    "    #If there is a null(missing) value and they hail from the Bronx then update the row with the average income for the Bronx.\n",
    "    if (county == \"Bronx\") & (np.isnan(income)):\n",
    "        return IncomeBronx\n",
    "    #If there is a null(missing) value and they reside in Kings then update the row with the average income for the Kings.\n",
    "    elif (county == \"Kings\") & (np.isnan(income)):\n",
    "        return IncomeKings\n",
    "    #If there is a null(missing) value and they reside in New York then update the row with the average income for the New York.\n",
    "    elif (county == \"New York\") & (np.isnan(income)):\n",
    "        return IncomeNY\n",
    "    #If there is a null(missing) value and they reside in Queens then update the row with the average income for the Queens.\n",
    "    elif (county == \"Queens\") & (np.isnan(income)):\n",
    "        return IncomeQueens\n",
    "    #If there is a null(missing) value and they reside in Richmond then update the row with the average income for the Richmond.\n",
    "    elif (county == \"Richmond\") & (np.isnan(income)):\n",
    "        return IncomeRichmond\n",
    "    else:\n",
    "    #All previous tests failed meaning that there was no null(missing) value and therefore we can simply return the non-null\n",
    "    #value that is present\n",
    "        return income\n",
    "\n",
    "    \n",
    "    #The function \"fillCap\" will be used to update the \"IncomePerCap\" column by filling in rows with null values with the\n",
    "    #average income for their respective county.\n",
    "def fillCap(Block):\n",
    "    county, cap = Block\n",
    "    if (county == \"Bronx\") & (np.isnan(cap)):\n",
    "        return CapBronx\n",
    "    elif (county == \"Kings\")& (np.isnan(cap)):\n",
    "        return CapKings\n",
    "    elif (county == \"New York\") & (np.isnan(cap)):\n",
    "        return CapNY\n",
    "    elif (county == \"Queens\") & (np.isnan(cap)):\n",
    "        return CapQueens\n",
    "    elif (county == \"Richmond\") & (np.isnan(cap)):\n",
    "        return CapRichmond\n",
    "    else:\n",
    "        return cap\n",
    "\n",
    "    #The function \"fillChild\" will be used to update the \"ChildPoverty\" column by filling in rows with null values with the\n",
    "    #average income for their respective county.\n",
    "def fillChild(Block):\n",
    "    county, child = Block\n",
    "    if (county == \"Bronx\") & np.isnan(child):\n",
    "        return ChildBronx\n",
    "    elif (county == \"Kings\") & np.isnan(child):\n",
    "        return ChildKings\n",
    "    elif (county == \"New York\") & np.isnan(child):\n",
    "        return ChildNY\n",
    "    elif (county == \"Queens\") & np.isnan(child):\n",
    "        return ChildQueens\n",
    "    elif (county == \"Richmond\") & np.isnan(child):\n",
    "        return ChildRichmond\n",
    "    else:\n",
    "        return child\n",
    "\n",
    "    #The function \"fillCommute\" will be used to update the \"MeanCommute\" column by filling in rows with null values with the\n",
    "    #average income for their respective county.\n",
    "def fillCommute(Block):\n",
    "    county, commute = Block\n",
    "    if (county == \"Bronx\") & np.isnan(commute):\n",
    "        return CommuteBronx\n",
    "    elif (county == \"Kings\") & np.isnan(commute):\n",
    "        return CommuteKings\n",
    "    elif (county == \"New York\") & np.isnan(commute):\n",
    "        return CommuteNY\n",
    "    elif (county == \"Queens\") & np.isnan(commute):\n",
    "        return CommuteQueens\n",
    "    elif (county == \"Richmond\") & np.isnan(commute):\n",
    "        return CommuteRichmond\n",
    "    else:\n",
    "        return commute"
   ]
  },
  {
   "cell_type": "code",
   "execution_count": 11,
   "metadata": {},
   "outputs": [],
   "source": [
    "#We will apply the created functions to their respective columns of interest ex. fillIncome applied to the \"Income\" column.\n",
    "#Note: We will overwrite the output to columns of interest as it would be more efficient than creating new columns and dropping\n",
    "#the older columns.\n",
    "#Note: The county and column of interst are passed as parameters and we set axis to 1 to refer to the column values.\n",
    "\n",
    "#This applied function will fill null values with the average \"Income\" by county and also leave non-null values unaffected.\n",
    "MainDF[\"Income\"] = MainDF[[\"County\", \"Income\"]].apply(fillIncome, axis = 1)\n",
    "\n",
    "#This applied function will fill null values with the average \"IncomePerCap\" by county and also leave non-null values unaffected.\n",
    "MainDF[\"IncomePerCap\"] = MainDF[[\"County\", \"IncomePerCap\"]].apply(fillCap, axis = 1)\n",
    "\n",
    "#This applied function will fill null values with the average \"ChildPoverty\" by county and also leave non-null values unaffected.\n",
    "MainDF[\"ChildPoverty\"] = MainDF[[\"County\", \"ChildPoverty\"]].apply(fillChild, axis = 1)\n",
    "\n",
    "#This applied function will fill null values with the average \"MeanCommute\" by county and also leave non-null values unaffected.\n",
    "MainDF[\"MeanCommute\"] = MainDF[[\"County\", \"MeanCommute\"]].apply(fillCommute, axis = 1)\n"
   ]
  },
  {
   "cell_type": "code",
   "execution_count": 12,
   "metadata": {},
   "outputs": [],
   "source": [
    "#Lastly, convert the column \"County\" from an object to a category type for later use with the creation of plots.\n",
    "MainDF['County'] = MainDF['County'].astype('category')"
   ]
  },
  {
   "cell_type": "code",
   "execution_count": 13,
   "metadata": {},
   "outputs": [
    {
     "name": "stdout",
     "output_type": "stream",
     "text": [
      "<class 'pandas.core.frame.DataFrame'>\n",
      "Int64Index: 2124 entries, 1 to 2165\n",
      "Data columns (total 32 columns):\n",
      "County          2124 non-null category\n",
      "TotalPop        2124 non-null int64\n",
      "Men             2124 non-null int64\n",
      "Women           2124 non-null int64\n",
      "Hispanic        2124 non-null float64\n",
      "White           2124 non-null float64\n",
      "Black           2124 non-null float64\n",
      "Native          2124 non-null float64\n",
      "Asian           2124 non-null float64\n",
      "Citizen         2124 non-null int64\n",
      "Income          2124 non-null float64\n",
      "IncomePerCap    2124 non-null float64\n",
      "Poverty         2124 non-null float64\n",
      "ChildPoverty    2124 non-null float64\n",
      "Professional    2124 non-null float64\n",
      "Service         2124 non-null float64\n",
      "Office          2124 non-null float64\n",
      "Construction    2124 non-null float64\n",
      "Production      2124 non-null float64\n",
      "Drive           2124 non-null float64\n",
      "Carpool         2124 non-null float64\n",
      "Transit         2124 non-null float64\n",
      "Walk            2124 non-null float64\n",
      "OtherTransp     2124 non-null float64\n",
      "WorkAtHome      2124 non-null float64\n",
      "MeanCommute     2124 non-null float64\n",
      "Employed        2124 non-null int64\n",
      "PrivateWork     2124 non-null float64\n",
      "PublicWork      2124 non-null float64\n",
      "SelfEmployed    2124 non-null float64\n",
      "FamilyWork      2124 non-null float64\n",
      "Unemployment    2124 non-null float64\n",
      "dtypes: category(1), float64(26), int64(5)\n",
      "memory usage: 533.3 KB\n"
     ]
    }
   ],
   "source": [
    "#Confirm whether all values non-null values have been filled and if the column \"County\" was converted to a category type.\n",
    "MainDF.info()\n",
    "\n",
    "#Confirmed. The number of rows is 2124 with all of their fields having non-null values."
   ]
  },
  {
   "cell_type": "code",
   "execution_count": 14,
   "metadata": {},
   "outputs": [],
   "source": [
    "#Another challenge noted is that many columns are defined in percentages, e.g. Percentages are given for the five ethnicities,\n",
    "#the five job types, the six modes of commuting to work, and the four job sectors in which one is employed. This presents an\n",
    "#for statistical testing because the population per block(row) are not equally distributed and thus taking averages of \n",
    "#percentages will give equal weight for both small and largely populated blocks.\n",
    "\n",
    "\n",
    "#Conversion is necessary to raw numbers per column which can be done by using the total population when addressing ethnicity,\n",
    "#and the total number of employed individuals when the job type, mode of commuting, and the job sector.\n",
    "\n",
    "\n",
    "\n",
    "#Create a new dataframe called \"ConvertedMain\" which will hold the same data as MainDF but will undergo conversion from \n",
    "#percentages to decimal values.\n",
    "ConvertedMain = MainDF.copy(deep = True)"
   ]
  },
  {
   "cell_type": "code",
   "execution_count": 15,
   "metadata": {},
   "outputs": [],
   "source": [
    "#This function will perform the conversion from a percentage to a decimal value.\n",
    "def percentageToValue(Block):\n",
    "    #The two columns passed are its population number and the percentage for the column of interest.\n",
    "    population, percentage = Block\n",
    "    #The math is simply dividing the percentage by one hundred and multiplying by the population.\n",
    "    value = (percentage/100) * population\n",
    "    #We perform the code below to truncate any decimal values.\n",
    "    value = percentage // 1\n",
    "    #Return the decimal value for each row\n",
    "    return value"
   ]
  },
  {
   "cell_type": "code",
   "execution_count": 16,
   "metadata": {},
   "outputs": [],
   "source": [
    "#Apply the \"percentageToValue\" function to the ethnicity columns.\n",
    "#Note: our population parameter will come from the \"TotalPop\" column because all people within the block have an ethnicity.\n",
    "#Note: we will overwrite the column of interest rather than adding a new column and dropping the older column\n",
    "ConvertedMain[\"Hispanic\"] = ConvertedMain[[\"TotalPop\", \"Hispanic\"]].apply(percentageToValue, axis = 1)\n",
    "ConvertedMain[\"White\"] = ConvertedMain[[\"TotalPop\", \"White\"]].apply(percentageToValue, axis = 1)\n",
    "ConvertedMain[\"Black\"] = ConvertedMain[[\"TotalPop\", \"Black\"]].apply(percentageToValue, axis = 1)\n",
    "ConvertedMain[\"Native\"] = ConvertedMain[[\"TotalPop\", \"Native\"]].apply(percentageToValue, axis = 1)\n",
    "ConvertedMain[\"Asian\"] = ConvertedMain[[\"TotalPop\", \"Asian\"]].apply(percentageToValue, axis = 1)\n",
    "\n",
    "\n",
    "#Apply the \"percentageToValue\" function to the job type columns.\n",
    "#Note: our population parameter will come from the \"Employed\" column rather than the \"TotalPop\" column because not everyone\n",
    "#residing in the block is employed. Using the \"TotalPop\" would inflate the values because in reality the total number of\n",
    "#employed individuals is lower.\n",
    "ConvertedMain[\"Professional\"] = ConvertedMain[[\"Employed\", \"Professional\"]].apply(percentageToValue, axis = 1)\n",
    "ConvertedMain[\"Service\"] = ConvertedMain[[\"Employed\", \"Service\"]].apply(percentageToValue, axis = 1)\n",
    "ConvertedMain[\"Office\"] = ConvertedMain[[\"Employed\", \"Office\"]].apply(percentageToValue, axis = 1)\n",
    "ConvertedMain[\"Construction\"] = ConvertedMain[[\"Employed\", \"Construction\"]].apply(percentageToValue, axis = 1)\n",
    "ConvertedMain[\"Production\"] = ConvertedMain[[\"Employed\", \"Production\"]].apply(percentageToValue, axis = 1)\n",
    "\n",
    "#Apply the \"percentageToValue\" function to the mode of commuting columns.\n",
    "#Note: our population parameter will come from the \"Employed\" column rather than the \"TotalPop\" column because not everyone\n",
    "#residing in the block is employed. Using the \"TotalPop\" would inflate the values because in reality the total number of\n",
    "#employed individuals is lower.\n",
    "ConvertedMain[\"Drive\"] = ConvertedMain[[\"Employed\", \"Drive\"]].apply(percentageToValue, axis = 1)\n",
    "ConvertedMain[\"Carpool\"] = ConvertedMain[[\"Employed\", \"Carpool\"]].apply(percentageToValue, axis = 1)\n",
    "ConvertedMain[\"Transit\"] = ConvertedMain[[\"Employed\", \"Transit\"]].apply(percentageToValue, axis = 1)\n",
    "ConvertedMain[\"Walk\"] = ConvertedMain[[\"Employed\", \"Walk\"]].apply(percentageToValue, axis = 1)\n",
    "ConvertedMain[\"OtherTransp\"] = ConvertedMain[[\"Employed\", \"OtherTransp\"]].apply(percentageToValue, axis = 1)\n",
    "ConvertedMain[\"WorkAtHome\"] = ConvertedMain[[\"Employed\", \"WorkAtHome\"]].apply(percentageToValue, axis = 1)\n",
    "\n",
    "#Apply the \"percentageToValue\" function to the job sector columns.\n",
    "#Note: our population parameter will come from the \"Employed\" column rather than the \"TotalPop\" column because not everyone\n",
    "#residing in the block is employed. Using the \"TotalPop\" would inflate the values because in reality the total number of\n",
    "#employed individuals is lower.\n",
    "ConvertedMain[\"PrivateWork\"] = ConvertedMain[[\"Employed\", \"PrivateWork\"]].apply(percentageToValue, axis = 1)\n",
    "ConvertedMain[\"PublicWork\"] = ConvertedMain[[\"Employed\", \"PublicWork\"]].apply(percentageToValue, axis = 1)\n",
    "ConvertedMain[\"SelfEmployed\"] = ConvertedMain[[\"Employed\", \"SelfEmployed\"]].apply(percentageToValue, axis = 1)\n",
    "ConvertedMain[\"FamilyWork\"] = ConvertedMain[[\"Employed\", \"FamilyWork\"]].apply(percentageToValue, axis = 1)"
   ]
  },
  {
   "cell_type": "code",
   "execution_count": 17,
   "metadata": {},
   "outputs": [
    {
     "data": {
      "text/html": [
       "<div>\n",
       "<style scoped>\n",
       "    .dataframe tbody tr th:only-of-type {\n",
       "        vertical-align: middle;\n",
       "    }\n",
       "\n",
       "    .dataframe tbody tr th {\n",
       "        vertical-align: top;\n",
       "    }\n",
       "\n",
       "    .dataframe thead th {\n",
       "        text-align: right;\n",
       "    }\n",
       "</style>\n",
       "<table border=\"1\" class=\"dataframe\">\n",
       "  <thead>\n",
       "    <tr style=\"text-align: right;\">\n",
       "      <th></th>\n",
       "      <th>County</th>\n",
       "      <th>TotalPop</th>\n",
       "      <th>Men</th>\n",
       "      <th>Women</th>\n",
       "      <th>Hispanic</th>\n",
       "      <th>White</th>\n",
       "      <th>Black</th>\n",
       "      <th>Native</th>\n",
       "      <th>Asian</th>\n",
       "      <th>Citizen</th>\n",
       "      <th>...</th>\n",
       "      <th>Walk</th>\n",
       "      <th>OtherTransp</th>\n",
       "      <th>WorkAtHome</th>\n",
       "      <th>MeanCommute</th>\n",
       "      <th>Employed</th>\n",
       "      <th>PrivateWork</th>\n",
       "      <th>PublicWork</th>\n",
       "      <th>SelfEmployed</th>\n",
       "      <th>FamilyWork</th>\n",
       "      <th>Unemployment</th>\n",
       "    </tr>\n",
       "  </thead>\n",
       "  <tbody>\n",
       "    <tr>\n",
       "      <th>1</th>\n",
       "      <td>Bronx</td>\n",
       "      <td>5403</td>\n",
       "      <td>2659</td>\n",
       "      <td>2744</td>\n",
       "      <td>75.0</td>\n",
       "      <td>2.0</td>\n",
       "      <td>16.0</td>\n",
       "      <td>0.0</td>\n",
       "      <td>4.0</td>\n",
       "      <td>3639</td>\n",
       "      <td>...</td>\n",
       "      <td>2.0</td>\n",
       "      <td>0.0</td>\n",
       "      <td>0.0</td>\n",
       "      <td>43.0</td>\n",
       "      <td>2308</td>\n",
       "      <td>80.0</td>\n",
       "      <td>16.0</td>\n",
       "      <td>2.0</td>\n",
       "      <td>0.0</td>\n",
       "      <td>7.7</td>\n",
       "    </tr>\n",
       "    <tr>\n",
       "      <th>2</th>\n",
       "      <td>Bronx</td>\n",
       "      <td>5915</td>\n",
       "      <td>2896</td>\n",
       "      <td>3019</td>\n",
       "      <td>62.0</td>\n",
       "      <td>3.0</td>\n",
       "      <td>30.0</td>\n",
       "      <td>0.0</td>\n",
       "      <td>0.0</td>\n",
       "      <td>4100</td>\n",
       "      <td>...</td>\n",
       "      <td>1.0</td>\n",
       "      <td>0.0</td>\n",
       "      <td>2.0</td>\n",
       "      <td>45.0</td>\n",
       "      <td>2675</td>\n",
       "      <td>71.0</td>\n",
       "      <td>25.0</td>\n",
       "      <td>2.0</td>\n",
       "      <td>0.0</td>\n",
       "      <td>9.5</td>\n",
       "    </tr>\n",
       "    <tr>\n",
       "      <th>3</th>\n",
       "      <td>Bronx</td>\n",
       "      <td>5879</td>\n",
       "      <td>2558</td>\n",
       "      <td>3321</td>\n",
       "      <td>65.0</td>\n",
       "      <td>1.0</td>\n",
       "      <td>32.0</td>\n",
       "      <td>0.0</td>\n",
       "      <td>0.0</td>\n",
       "      <td>3536</td>\n",
       "      <td>...</td>\n",
       "      <td>8.0</td>\n",
       "      <td>1.0</td>\n",
       "      <td>1.0</td>\n",
       "      <td>38.8</td>\n",
       "      <td>2120</td>\n",
       "      <td>75.0</td>\n",
       "      <td>21.0</td>\n",
       "      <td>3.0</td>\n",
       "      <td>0.0</td>\n",
       "      <td>8.7</td>\n",
       "    </tr>\n",
       "    <tr>\n",
       "      <th>4</th>\n",
       "      <td>Bronx</td>\n",
       "      <td>2591</td>\n",
       "      <td>1206</td>\n",
       "      <td>1385</td>\n",
       "      <td>55.0</td>\n",
       "      <td>9.0</td>\n",
       "      <td>29.0</td>\n",
       "      <td>0.0</td>\n",
       "      <td>2.0</td>\n",
       "      <td>1557</td>\n",
       "      <td>...</td>\n",
       "      <td>3.0</td>\n",
       "      <td>2.0</td>\n",
       "      <td>6.0</td>\n",
       "      <td>45.4</td>\n",
       "      <td>1083</td>\n",
       "      <td>76.0</td>\n",
       "      <td>15.0</td>\n",
       "      <td>7.0</td>\n",
       "      <td>0.0</td>\n",
       "      <td>19.2</td>\n",
       "    </tr>\n",
       "    <tr>\n",
       "      <th>5</th>\n",
       "      <td>Bronx</td>\n",
       "      <td>8516</td>\n",
       "      <td>3301</td>\n",
       "      <td>5215</td>\n",
       "      <td>61.0</td>\n",
       "      <td>1.0</td>\n",
       "      <td>31.0</td>\n",
       "      <td>0.0</td>\n",
       "      <td>3.0</td>\n",
       "      <td>5436</td>\n",
       "      <td>...</td>\n",
       "      <td>4.0</td>\n",
       "      <td>1.0</td>\n",
       "      <td>0.0</td>\n",
       "      <td>46.0</td>\n",
       "      <td>2508</td>\n",
       "      <td>71.0</td>\n",
       "      <td>21.0</td>\n",
       "      <td>7.0</td>\n",
       "      <td>0.0</td>\n",
       "      <td>17.2</td>\n",
       "    </tr>\n",
       "  </tbody>\n",
       "</table>\n",
       "<p>5 rows × 32 columns</p>\n",
       "</div>"
      ],
      "text/plain": [
       "  County  TotalPop   Men  Women  Hispanic  White  Black  Native  Asian  \\\n",
       "1  Bronx      5403  2659   2744      75.0    2.0   16.0     0.0    4.0   \n",
       "2  Bronx      5915  2896   3019      62.0    3.0   30.0     0.0    0.0   \n",
       "3  Bronx      5879  2558   3321      65.0    1.0   32.0     0.0    0.0   \n",
       "4  Bronx      2591  1206   1385      55.0    9.0   29.0     0.0    2.0   \n",
       "5  Bronx      8516  3301   5215      61.0    1.0   31.0     0.0    3.0   \n",
       "\n",
       "   Citizen  ...  Walk  OtherTransp  WorkAtHome  MeanCommute  Employed  \\\n",
       "1     3639  ...   2.0          0.0         0.0         43.0      2308   \n",
       "2     4100  ...   1.0          0.0         2.0         45.0      2675   \n",
       "3     3536  ...   8.0          1.0         1.0         38.8      2120   \n",
       "4     1557  ...   3.0          2.0         6.0         45.4      1083   \n",
       "5     5436  ...   4.0          1.0         0.0         46.0      2508   \n",
       "\n",
       "   PrivateWork  PublicWork  SelfEmployed  FamilyWork  Unemployment  \n",
       "1         80.0        16.0           2.0         0.0           7.7  \n",
       "2         71.0        25.0           2.0         0.0           9.5  \n",
       "3         75.0        21.0           3.0         0.0           8.7  \n",
       "4         76.0        15.0           7.0         0.0          19.2  \n",
       "5         71.0        21.0           7.0         0.0          17.2  \n",
       "\n",
       "[5 rows x 32 columns]"
      ]
     },
     "execution_count": 17,
     "metadata": {},
     "output_type": "execute_result"
    }
   ],
   "source": [
    "#Output the dataframe to confirm that the columns reflect decimal values rather than percentages.\n",
    "ConvertedMain.head()"
   ]
  },
  {
   "cell_type": "markdown",
   "metadata": {},
   "source": [
    "## 1. Let's Consider our Population - Demographics"
   ]
  },
  {
   "cell_type": "markdown",
   "metadata": {},
   "source": [
    "Questions <br> <br>\n",
    "How many people reside in each county? <br>\n",
    "Are there more males or females on average? <br>\n",
    "Which counties have the most and least number of blocks? <br>\n",
    "Which counties are most congested and which are the least congested? <br>\n",
    "Is our Population normally distributed? <br>"
   ]
  },
  {
   "cell_type": "code",
   "execution_count": 18,
   "metadata": {},
   "outputs": [],
   "source": [
    "#Include libraries for visualization and set inline to view output on Jupyter.\n",
    "import matplotlib.pyplot as plt\n",
    "import seaborn as sns\n",
    "%matplotlib inline\n",
    "\n",
    "#sns.set function. to use template styles. \n",
    "sns.set()"
   ]
  },
  {
   "cell_type": "code",
   "execution_count": 19,
   "metadata": {},
   "outputs": [
    {
     "data": {
      "text/html": [
       "<div>\n",
       "<style scoped>\n",
       "    .dataframe tbody tr th:only-of-type {\n",
       "        vertical-align: middle;\n",
       "    }\n",
       "\n",
       "    .dataframe tbody tr th {\n",
       "        vertical-align: top;\n",
       "    }\n",
       "\n",
       "    .dataframe thead th {\n",
       "        text-align: right;\n",
       "    }\n",
       "</style>\n",
       "<table border=\"1\" class=\"dataframe\">\n",
       "  <thead>\n",
       "    <tr style=\"text-align: right;\">\n",
       "      <th></th>\n",
       "      <th>County</th>\n",
       "      <th>TotalPop</th>\n",
       "      <th>Men</th>\n",
       "      <th>Women</th>\n",
       "      <th>Citizen</th>\n",
       "    </tr>\n",
       "  </thead>\n",
       "  <tbody>\n",
       "    <tr>\n",
       "      <th>1</th>\n",
       "      <td>Bronx</td>\n",
       "      <td>5403</td>\n",
       "      <td>2659</td>\n",
       "      <td>2744</td>\n",
       "      <td>3639</td>\n",
       "    </tr>\n",
       "    <tr>\n",
       "      <th>2</th>\n",
       "      <td>Bronx</td>\n",
       "      <td>5915</td>\n",
       "      <td>2896</td>\n",
       "      <td>3019</td>\n",
       "      <td>4100</td>\n",
       "    </tr>\n",
       "    <tr>\n",
       "      <th>3</th>\n",
       "      <td>Bronx</td>\n",
       "      <td>5879</td>\n",
       "      <td>2558</td>\n",
       "      <td>3321</td>\n",
       "      <td>3536</td>\n",
       "    </tr>\n",
       "    <tr>\n",
       "      <th>4</th>\n",
       "      <td>Bronx</td>\n",
       "      <td>2591</td>\n",
       "      <td>1206</td>\n",
       "      <td>1385</td>\n",
       "      <td>1557</td>\n",
       "    </tr>\n",
       "    <tr>\n",
       "      <th>5</th>\n",
       "      <td>Bronx</td>\n",
       "      <td>8516</td>\n",
       "      <td>3301</td>\n",
       "      <td>5215</td>\n",
       "      <td>5436</td>\n",
       "    </tr>\n",
       "  </tbody>\n",
       "</table>\n",
       "</div>"
      ],
      "text/plain": [
       "  County  TotalPop   Men  Women  Citizen\n",
       "1  Bronx      5403  2659   2744     3639\n",
       "2  Bronx      5915  2896   3019     4100\n",
       "3  Bronx      5879  2558   3321     3536\n",
       "4  Bronx      2591  1206   1385     1557\n",
       "5  Bronx      8516  3301   5215     5436"
      ]
     },
     "execution_count": 19,
     "metadata": {},
     "output_type": "execute_result"
    }
   ],
   "source": [
    "#Create a dataframe to group columns necessary to analyze the demographics.\n",
    "Demographics = ConvertedMain[[\"County\", \"TotalPop\", \"Men\", \"Women\", \"Citizen\"]].copy(deep = True)\n",
    "Demographics.head()"
   ]
  },
  {
   "cell_type": "code",
   "execution_count": 20,
   "metadata": {},
   "outputs": [
    {
     "data": {
      "text/html": [
       "<div>\n",
       "<style scoped>\n",
       "    .dataframe tbody tr th:only-of-type {\n",
       "        vertical-align: middle;\n",
       "    }\n",
       "\n",
       "    .dataframe tbody tr th {\n",
       "        vertical-align: top;\n",
       "    }\n",
       "\n",
       "    .dataframe thead tr th {\n",
       "        text-align: left;\n",
       "    }\n",
       "\n",
       "    .dataframe thead tr:last-of-type th {\n",
       "        text-align: right;\n",
       "    }\n",
       "</style>\n",
       "<table border=\"1\" class=\"dataframe\">\n",
       "  <thead>\n",
       "    <tr>\n",
       "      <th></th>\n",
       "      <th colspan=\"4\" halign=\"left\">sum</th>\n",
       "      <th colspan=\"4\" halign=\"left\">mean</th>\n",
       "      <th colspan=\"4\" halign=\"left\">std</th>\n",
       "    </tr>\n",
       "    <tr>\n",
       "      <th></th>\n",
       "      <th>Citizen</th>\n",
       "      <th>Men</th>\n",
       "      <th>TotalPop</th>\n",
       "      <th>Women</th>\n",
       "      <th>Citizen</th>\n",
       "      <th>Men</th>\n",
       "      <th>TotalPop</th>\n",
       "      <th>Women</th>\n",
       "      <th>Citizen</th>\n",
       "      <th>Men</th>\n",
       "      <th>TotalPop</th>\n",
       "      <th>Women</th>\n",
       "    </tr>\n",
       "    <tr>\n",
       "      <th>County</th>\n",
       "      <th></th>\n",
       "      <th></th>\n",
       "      <th></th>\n",
       "      <th></th>\n",
       "      <th></th>\n",
       "      <th></th>\n",
       "      <th></th>\n",
       "      <th></th>\n",
       "      <th></th>\n",
       "      <th></th>\n",
       "      <th></th>\n",
       "      <th></th>\n",
       "    </tr>\n",
       "  </thead>\n",
       "  <tbody>\n",
       "    <tr>\n",
       "      <th>Bronx</th>\n",
       "      <td>813841</td>\n",
       "      <td>665314</td>\n",
       "      <td>1420654</td>\n",
       "      <td>755340</td>\n",
       "      <td>2429.0</td>\n",
       "      <td>1986.0</td>\n",
       "      <td>4240.0</td>\n",
       "      <td>2254.0</td>\n",
       "      <td>1597.0</td>\n",
       "      <td>1118.0</td>\n",
       "      <td>2395.0</td>\n",
       "      <td>1301.0</td>\n",
       "    </tr>\n",
       "    <tr>\n",
       "      <th>Kings</th>\n",
       "      <td>1600119</td>\n",
       "      <td>1227036</td>\n",
       "      <td>2593184</td>\n",
       "      <td>1366148</td>\n",
       "      <td>2133.0</td>\n",
       "      <td>1636.0</td>\n",
       "      <td>3457.0</td>\n",
       "      <td>1821.0</td>\n",
       "      <td>850.0</td>\n",
       "      <td>667.0</td>\n",
       "      <td>1379.0</td>\n",
       "      <td>751.0</td>\n",
       "    </tr>\n",
       "    <tr>\n",
       "      <th>New York</th>\n",
       "      <td>1156884</td>\n",
       "      <td>769410</td>\n",
       "      <td>1629454</td>\n",
       "      <td>860044</td>\n",
       "      <td>4117.0</td>\n",
       "      <td>2738.0</td>\n",
       "      <td>5798.0</td>\n",
       "      <td>3060.0</td>\n",
       "      <td>2220.0</td>\n",
       "      <td>1432.0</td>\n",
       "      <td>3087.0</td>\n",
       "      <td>1710.0</td>\n",
       "    </tr>\n",
       "    <tr>\n",
       "      <th>Queens</th>\n",
       "      <td>1367889</td>\n",
       "      <td>1115459</td>\n",
       "      <td>2301139</td>\n",
       "      <td>1185680</td>\n",
       "      <td>2104.0</td>\n",
       "      <td>1716.0</td>\n",
       "      <td>3540.0</td>\n",
       "      <td>1824.0</td>\n",
       "      <td>1160.0</td>\n",
       "      <td>938.0</td>\n",
       "      <td>1943.0</td>\n",
       "      <td>1034.0</td>\n",
       "    </tr>\n",
       "    <tr>\n",
       "      <th>Richmond</th>\n",
       "      <td>333158</td>\n",
       "      <td>228703</td>\n",
       "      <td>472481</td>\n",
       "      <td>243778</td>\n",
       "      <td>3084.0</td>\n",
       "      <td>2117.0</td>\n",
       "      <td>4374.0</td>\n",
       "      <td>2257.0</td>\n",
       "      <td>1488.0</td>\n",
       "      <td>988.0</td>\n",
       "      <td>2065.0</td>\n",
       "      <td>1096.0</td>\n",
       "    </tr>\n",
       "    <tr>\n",
       "      <th>All</th>\n",
       "      <td>5271891</td>\n",
       "      <td>4005922</td>\n",
       "      <td>8416912</td>\n",
       "      <td>4410990</td>\n",
       "      <td>2482.0</td>\n",
       "      <td>1886.0</td>\n",
       "      <td>3962.0</td>\n",
       "      <td>2076.0</td>\n",
       "      <td>1512.0</td>\n",
       "      <td>1036.0</td>\n",
       "      <td>2193.0</td>\n",
       "      <td>1189.0</td>\n",
       "    </tr>\n",
       "  </tbody>\n",
       "</table>\n",
       "</div>"
      ],
      "text/plain": [
       "              sum                               mean                           \\\n",
       "          Citizen      Men TotalPop    Women Citizen     Men TotalPop   Women   \n",
       "County                                                                          \n",
       "Bronx      813841   665314  1420654   755340  2429.0  1986.0   4240.0  2254.0   \n",
       "Kings     1600119  1227036  2593184  1366148  2133.0  1636.0   3457.0  1821.0   \n",
       "New York  1156884   769410  1629454   860044  4117.0  2738.0   5798.0  3060.0   \n",
       "Queens    1367889  1115459  2301139  1185680  2104.0  1716.0   3540.0  1824.0   \n",
       "Richmond   333158   228703   472481   243778  3084.0  2117.0   4374.0  2257.0   \n",
       "All       5271891  4005922  8416912  4410990  2482.0  1886.0   3962.0  2076.0   \n",
       "\n",
       "             std                           \n",
       "         Citizen     Men TotalPop   Women  \n",
       "County                                     \n",
       "Bronx     1597.0  1118.0   2395.0  1301.0  \n",
       "Kings      850.0   667.0   1379.0   751.0  \n",
       "New York  2220.0  1432.0   3087.0  1710.0  \n",
       "Queens    1160.0   938.0   1943.0  1034.0  \n",
       "Richmond  1488.0   988.0   2065.0  1096.0  \n",
       "All       1512.0  1036.0   2193.0  1189.0  "
      ]
     },
     "execution_count": 20,
     "metadata": {},
     "output_type": "execute_result"
    }
   ],
   "source": [
    "#Create a pivot table to analyze the sum, mean, and standard deviation of the columns\n",
    "#using aggfunc parameters np.sum and np.mean\n",
    "pivotDemo = pd.pivot_table(ConvertedMain, index= 'County', values= [\"TotalPop\", \"Men\", \"Women\", \"Citizen\"], aggfunc= [ np.sum, np.mean, np.std],margins=True)\n",
    "#truncate values to remove the decimal\n",
    "pivotDemo = pivotDemo // 1\n",
    "pivotDemo\n",
    "\n",
    "#Note: Total population = 8.4 million, Bronx = 1.4 million, Kings = 2.6 million\n",
    "#NY = 1.6 million, Queens = 2.3 million, Richmond = .5 million\n",
    "#Women > Men (400 thousand)\n",
    "#Most congested = NY (5,800), Least congested = Kings  & Queens (3500 each)\n",
    "#New York has a larger standard deviation(spread) than Kings and Queens for the TotalPop, 3000 vs 1400 & 2000\n",
    "#Despite NY being less populated, it's spread is higher between population between the blocks"
   ]
  },
  {
   "cell_type": "code",
   "execution_count": 21,
   "metadata": {},
   "outputs": [
    {
     "data": {
      "text/plain": [
       "<seaborn.axisgrid.FacetGrid at 0x170715de438>"
      ]
     },
     "execution_count": 21,
     "metadata": {},
     "output_type": "execute_result"
    },
    {
     "data": {
      "image/png": "[encoded data removed]",
      "text/plain": [
       "<Figure size 360x360 with 1 Axes>"
      ]
     },
     "metadata": {
      "needs_background": "light"
     },
     "output_type": "display_data"
    }
   ],
   "source": [
    "# Representation of the population mean per County:\n",
    "sns.factorplot(x='County',y='TotalPop',data=Demographics,kind='bar')\n",
    "\n",
    "\n"
   ]
  },
  {
   "cell_type": "code",
   "execution_count": 22,
   "metadata": {},
   "outputs": [],
   "source": [
    "#Create list for the Counties within our dataframe using the unique function.\n",
    "Counties = list(Demographics[\"County\"].unique())\n",
    "#Create list for the \"sum\" values of \"TotalPop\" for each county with data gathered from our pivotDemo.\n",
    "Sum = list(pivotDemo[\"sum\"][\"TotalPop\"])\n",
    "#Remove the margin value.\n",
    "del Sum[-1]\n"
   ]
  },
  {
   "cell_type": "code",
   "execution_count": 23,
   "metadata": {},
   "outputs": [
    {
     "data": {
      "text/plain": [
       "Text(0, 0.5, 'Total Population')"
      ]
     },
     "execution_count": 23,
     "metadata": {},
     "output_type": "execute_result"
    },
    {
     "data": {
      "image/png": "[encoded data removed]",
      "text/plain": [
       "<Figure size 432x288 with 1 Axes>"
      ]
     },
     "metadata": {
      "needs_background": "light"
     },
     "output_type": "display_data"
    }
   ],
   "source": [
    "#Representation of the total population per county.\n",
    "#Create the object\n",
    "plt.figure()\n",
    "#Use Counties as the x and Sum as the y values. Increase width for visual effect.\n",
    "ax = sns.stripplot(Counties, Sum, linewidth = 20);\n",
    "#Give an appropriate title\n",
    "plt.title('Sum of TotalPopulation of Blocks Per County')\n",
    "#Set x label\n",
    "plt.xlabel('New York Counties')\n",
    "#Set y label\n",
    "plt.ylabel('Total Population')\n"
   ]
  },
  {
   "cell_type": "code",
   "execution_count": 24,
   "metadata": {},
   "outputs": [
    {
     "name": "stdout",
     "output_type": "stream",
     "text": [
      "Kings       750\n",
      "Queens      650\n",
      "Bronx       335\n",
      "New York    281\n",
      "Richmond    108\n",
      "Name: County, dtype: int64\n"
     ]
    },
    {
     "data": {
      "text/plain": [
       "Text(0.5, 1.0, 'Number of Blocks per County')"
      ]
     },
     "execution_count": 24,
     "metadata": {},
     "output_type": "execute_result"
    },
    {
     "data": {
      "image/png": "[encoded data removed]",
      "text/plain": [
       "<Figure size 432x288 with 1 Axes>"
      ]
     },
     "metadata": {
      "needs_background": "light"
     },
     "output_type": "display_data"
    }
   ],
   "source": [
    "#Use the count function to determine the number of blocks per county\n",
    "print(ConvertedMain['County'].value_counts())\n",
    "\n",
    "\n",
    "#Create a bar graph to represent the number of blocks per county:\n",
    "#call the hist function, pass it the county column of the dataframe\n",
    "plt.hist(ConvertedMain['County'])\n",
    "\n",
    "#X-axis label\n",
    "plt.xlabel ('New York City Counties')\n",
    "\n",
    "#Y-axis label\n",
    "plt.ylabel('Number of blocks')\n",
    "\n",
    "#Set title\n",
    "plt.title(\"Number of Blocks per County\")"
   ]
  },
  {
   "cell_type": "code",
   "execution_count": 25,
   "metadata": {},
   "outputs": [
    {
     "name": "stdout",
     "output_type": "stream",
     "text": [
      "stat = 954.85 p = 4.529638812870035e-208\n",
      "Probably not Gaussian\n"
     ]
    },
    {
     "data": {
      "image/png": "[encoded data removed]",
      "text/plain": [
       "<Figure size 432x288 with 1 Axes>"
      ]
     },
     "metadata": {
      "needs_background": "light"
     },
     "output_type": "display_data"
    }
   ],
   "source": [
    "#Let us also see how the population is distributed:\n",
    "#To help visualize whether it is normal we inlcude the library norm which\n",
    "#will plot a normal distribution on top of our data\n",
    "#Note: Black line is the normal distribution and blue line is that of the data\n",
    "from scipy.stats import norm\n",
    "sns.distplot(Demographics['TotalPop'], fit = norm, axlabel = \"TotalPop\")\n",
    "#Note:The mean of each block is approximately 4000 and it is skewed to the right\n",
    "\n",
    "#Include the library to perform hypothesis testing: normal distribution\n",
    "from scipy.stats import normaltest\n",
    "import scipy.stats as stats\n",
    "#Set local variables for the test statistic and p value that are calculated\n",
    "#by performing a normaltest on the \"TotalPop\"\n",
    "stat, p = normaltest(Demographics[\"TotalPop\"])\n",
    "print(\"stat = {0:.2f} p = {1}\".format(stat, p))\n",
    "if p > 0.05:\n",
    "  print('Probably Gaussian')\n",
    "else:\n",
    "  print('Probably not Gaussian')\n",
    "#Large sample sizes tend to fail the normality test\n",
    "#There is strong evidence(from statistical testing) to reject the null hypothesis and suggest that the total population \n",
    "#is not normally distributed."
   ]
  },
  {
   "cell_type": "markdown",
   "metadata": {},
   "source": [
    "## 2. Wealth and Ethnic Disparities - Disparities"
   ]
  },
  {
   "cell_type": "markdown",
   "metadata": {},
   "source": [
    "We would like to consider deeper topics such as what are the wealth and ethnic disparities among counties, if any? Thus, we created a second pivot table with a new set of questions. <br> <br>\n",
    "Questions <br> <br>\n",
    "What are the distribution of ethnicities per county?<br>\n",
    "What are the disparities in median household income and income per capita per county? <br>\n",
    "What are the disparities of Poverty and ChildPoverty per county? <br>\n",
    "What are some, if any, correlations regarding income? <br>"
   ]
  },
  {
   "cell_type": "code",
   "execution_count": 26,
   "metadata": {},
   "outputs": [],
   "source": [
    "#Create a dataframe to group columns necessary to analyze ethnic and income\n",
    "#disparities between the counties.\n",
    "Disparities = ConvertedMain[[\"County\", \"TotalPop\", \"Hispanic\", \"White\", \"Black\", \"Native\", \"Asian\", \"Income\", \"IncomePerCap\", \"Poverty\", \"ChildPoverty\"]].copy(deep = True)\n"
   ]
  },
  {
   "cell_type": "code",
   "execution_count": 27,
   "metadata": {},
   "outputs": [
    {
     "data": {
      "text/html": [
       "<div>\n",
       "<style scoped>\n",
       "    .dataframe tbody tr th:only-of-type {\n",
       "        vertical-align: middle;\n",
       "    }\n",
       "\n",
       "    .dataframe tbody tr th {\n",
       "        vertical-align: top;\n",
       "    }\n",
       "\n",
       "    .dataframe thead tr th {\n",
       "        text-align: left;\n",
       "    }\n",
       "\n",
       "    .dataframe thead tr:last-of-type th {\n",
       "        text-align: right;\n",
       "    }\n",
       "</style>\n",
       "<table border=\"1\" class=\"dataframe\">\n",
       "  <thead>\n",
       "    <tr>\n",
       "      <th></th>\n",
       "      <th colspan=\"10\" halign=\"left\">sum</th>\n",
       "    </tr>\n",
       "    <tr>\n",
       "      <th></th>\n",
       "      <th>Asian</th>\n",
       "      <th>Black</th>\n",
       "      <th>ChildPoverty</th>\n",
       "      <th>Hispanic</th>\n",
       "      <th>Income</th>\n",
       "      <th>IncomePerCap</th>\n",
       "      <th>Native</th>\n",
       "      <th>Poverty</th>\n",
       "      <th>TotalPop</th>\n",
       "      <th>White</th>\n",
       "    </tr>\n",
       "    <tr>\n",
       "      <th>County</th>\n",
       "      <th></th>\n",
       "      <th></th>\n",
       "      <th></th>\n",
       "      <th></th>\n",
       "      <th></th>\n",
       "      <th></th>\n",
       "      <th></th>\n",
       "      <th></th>\n",
       "      <th></th>\n",
       "      <th></th>\n",
       "    </tr>\n",
       "  </thead>\n",
       "  <tbody>\n",
       "    <tr>\n",
       "      <th>Bronx</th>\n",
       "      <td>1152.0</td>\n",
       "      <td>9522.0</td>\n",
       "      <td>12638.0</td>\n",
       "      <td>17448.0</td>\n",
       "      <td>13169252.0</td>\n",
       "      <td>6543369.0</td>\n",
       "      <td>40.0</td>\n",
       "      <td>9859.0</td>\n",
       "      <td>1420654</td>\n",
       "      <td>4196.0</td>\n",
       "    </tr>\n",
       "    <tr>\n",
       "      <th>Kings</th>\n",
       "      <td>7981.0</td>\n",
       "      <td>23201.0</td>\n",
       "      <td>20340.0</td>\n",
       "      <td>13322.0</td>\n",
       "      <td>40698683.0</td>\n",
       "      <td>20902487.0</td>\n",
       "      <td>76.0</td>\n",
       "      <td>16120.0</td>\n",
       "      <td>2593184</td>\n",
       "      <td>27661.0</td>\n",
       "    </tr>\n",
       "    <tr>\n",
       "      <th>New York</th>\n",
       "      <td>3335.0</td>\n",
       "      <td>3670.0</td>\n",
       "      <td>5282.0</td>\n",
       "      <td>6242.0</td>\n",
       "      <td>23421892.0</td>\n",
       "      <td>19554385.0</td>\n",
       "      <td>39.0</td>\n",
       "      <td>4931.0</td>\n",
       "      <td>1629454</td>\n",
       "      <td>13508.0</td>\n",
       "    </tr>\n",
       "    <tr>\n",
       "      <th>Queens</th>\n",
       "      <td>14464.0</td>\n",
       "      <td>12344.0</td>\n",
       "      <td>11894.0</td>\n",
       "      <td>16619.0</td>\n",
       "      <td>40518964.0</td>\n",
       "      <td>17937722.0</td>\n",
       "      <td>88.0</td>\n",
       "      <td>9143.0</td>\n",
       "      <td>2301139</td>\n",
       "      <td>17494.0</td>\n",
       "    </tr>\n",
       "    <tr>\n",
       "      <th>Richmond</th>\n",
       "      <td>793.0</td>\n",
       "      <td>1128.0</td>\n",
       "      <td>1773.0</td>\n",
       "      <td>1956.0</td>\n",
       "      <td>7778293.0</td>\n",
       "      <td>3458424.0</td>\n",
       "      <td>3.0</td>\n",
       "      <td>1421.0</td>\n",
       "      <td>472481</td>\n",
       "      <td>6530.0</td>\n",
       "    </tr>\n",
       "    <tr>\n",
       "      <th>All</th>\n",
       "      <td>27725.0</td>\n",
       "      <td>49865.0</td>\n",
       "      <td>51930.0</td>\n",
       "      <td>55587.0</td>\n",
       "      <td>125587084.0</td>\n",
       "      <td>68396387.0</td>\n",
       "      <td>246.0</td>\n",
       "      <td>41476.0</td>\n",
       "      <td>8416912</td>\n",
       "      <td>69389.0</td>\n",
       "    </tr>\n",
       "  </tbody>\n",
       "</table>\n",
       "</div>"
      ],
      "text/plain": [
       "              sum                                                           \\\n",
       "            Asian    Black ChildPoverty Hispanic       Income IncomePerCap   \n",
       "County                                                                       \n",
       "Bronx      1152.0   9522.0      12638.0  17448.0   13169252.0    6543369.0   \n",
       "Kings      7981.0  23201.0      20340.0  13322.0   40698683.0   20902487.0   \n",
       "New York   3335.0   3670.0       5282.0   6242.0   23421892.0   19554385.0   \n",
       "Queens    14464.0  12344.0      11894.0  16619.0   40518964.0   17937722.0   \n",
       "Richmond    793.0   1128.0       1773.0   1956.0    7778293.0    3458424.0   \n",
       "All       27725.0  49865.0      51930.0  55587.0  125587084.0   68396387.0   \n",
       "\n",
       "                                            \n",
       "         Native  Poverty TotalPop    White  \n",
       "County                                      \n",
       "Bronx      40.0   9859.0  1420654   4196.0  \n",
       "Kings      76.0  16120.0  2593184  27661.0  \n",
       "New York   39.0   4931.0  1629454  13508.0  \n",
       "Queens     88.0   9143.0  2301139  17494.0  \n",
       "Richmond    3.0   1421.0   472481   6530.0  \n",
       "All       246.0  41476.0  8416912  69389.0  "
      ]
     },
     "execution_count": 27,
     "metadata": {},
     "output_type": "execute_result"
    }
   ],
   "source": [
    "#Create a pivot table to analyze the sum and mean and of the columns\n",
    "#using aggfunc parameters np.sum and np.mean\n",
    "pivotDisp = pd.pivot_table(ConvertedMain, index= 'County', values= [\"TotalPop\", \"Hispanic\", \"White\", \"Black\", \"Native\", \"Asian\", \"Income\", \"IncomePerCap\", \"Poverty\", \"ChildPoverty\"], aggfunc= [ np.sum],margins=True)\n",
    "pivotDisp = pivotDisp//1\n",
    "pivotDisp\n",
    "\n",
    "\n",
    "#Population: Asian = 1.1 million, Black = 1.8 million, Hispanic = 2.4 million, \n",
    "#Native = 15 thousand, White = 2.7 million\n",
    "#Income: See below for graphic\n",
    "#IncomePerCap: See below for graphic\n",
    "#Poverty: 41,476 (Overall)\n",
    "#Child Poverty: 51,930 (Overall)"
   ]
  },
  {
   "cell_type": "code",
   "execution_count": 28,
   "metadata": {},
   "outputs": [
    {
     "data": {
      "text/plain": [
       "<seaborn.axisgrid.FacetGrid at 0x1707195e5f8>"
      ]
     },
     "execution_count": 28,
     "metadata": {},
     "output_type": "execute_result"
    },
    {
     "data": {
      "image/png": "[encoded data removed]",
      "text/plain": [
       "<Figure size 432x288 with 1 Axes>"
      ]
     },
     "metadata": {
      "needs_background": "light"
     },
     "output_type": "display_data"
    },
    {
     "data": {
      "image/png": "[encoded data removed]",
      "text/plain": [
       "<Figure size 360x360 with 1 Axes>"
      ]
     },
     "metadata": {
      "needs_background": "light"
     },
     "output_type": "display_data"
    }
   ],
   "source": [
    "#Visualize the different distribution of ethnicities per counties with a provided estimate of error.\n",
    "\n",
    "#Use a bar chart to visualize the \"Asian\" population by county.\n",
    "#Create a list for the sum of Asian population per County from pivotDisp\n",
    "Asian = list(pivotDisp[\"sum\"][\"Asian\"])\n",
    "#Create a list of the counties from the pivotDisp (different way to create the\n",
    "#same list\n",
    "county = pivotDisp.index.tolist()\n",
    "\n",
    "#Remove margin values (totals)\n",
    "del Asian[-1]\n",
    "del county[-1]\n",
    "import matplotlib.pyplot as plt\n",
    "\n",
    "#Displays the total(sum of the) \"Asian\" population by County.\n",
    "plt.bar(county, Asian, width=0.8, bottom=None, align='center', data=None)\n",
    "#Displays the mean of the total \"Asian\" population by County.\n",
    "sns.catplot(x=\"County\", y= \"Asian\", kind=\"bar\", data = Disparities)\n",
    "\n"
   ]
  },
  {
   "cell_type": "code",
   "execution_count": 29,
   "metadata": {},
   "outputs": [
    {
     "data": {
      "text/plain": [
       "<seaborn.axisgrid.FacetGrid at 0x17071c7f588>"
      ]
     },
     "execution_count": 29,
     "metadata": {},
     "output_type": "execute_result"
    },
    {
     "data": {
      "image/png": "[encoded data removed]",
      "text/plain": [
       "<Figure size 432x288 with 1 Axes>"
      ]
     },
     "metadata": {
      "needs_background": "light"
     },
     "output_type": "display_data"
    },
    {
     "data": {
      "image/png": "[encoded data removed]",
      "text/plain": [
       "<Figure size 360x360 with 1 Axes>"
      ]
     },
     "metadata": {
      "needs_background": "light"
     },
     "output_type": "display_data"
    }
   ],
   "source": [
    "#Use a bar chart to visualize the \"Black\" population by county.\n",
    "#Create a list for the sum of Black population per County from pivotDisp\n",
    "Black = list(pivotDisp[\"sum\"][\"Black\"])\n",
    "\n",
    "\n",
    "#Remove margin values (totals)\n",
    "del Black[-1]\n",
    "\n",
    "\n",
    "#Displays the total(sum of the) \"Black\" population by County.\n",
    "plt.bar(county, Black, width=0.8, bottom=None, align='center', data=None)\n",
    "#Displays the mean of the total \"Asian\" population by County.\n",
    "sns.catplot(x=\"County\", y= \"Black\", kind=\"bar\", data = Disparities)"
   ]
  },
  {
   "cell_type": "code",
   "execution_count": 30,
   "metadata": {},
   "outputs": [
    {
     "data": {
      "text/plain": [
       "<seaborn.axisgrid.FacetGrid at 0x1706ef8dbe0>"
      ]
     },
     "execution_count": 30,
     "metadata": {},
     "output_type": "execute_result"
    },
    {
     "data": {
      "image/png": "[encoded data removed]",
      "text/plain": [
       "<Figure size 432x288 with 1 Axes>"
      ]
     },
     "metadata": {
      "needs_background": "light"
     },
     "output_type": "display_data"
    },
    {
     "data": {
      "image/png": "[encoded data removed]",
      "text/plain": [
       "<Figure size 360x360 with 1 Axes>"
      ]
     },
     "metadata": {
      "needs_background": "light"
     },
     "output_type": "display_data"
    }
   ],
   "source": [
    "#Use a bar chart to visualize the \"Hispanic\" population by county.\n",
    "#Create a list for the sum of Hispanic population per County from pivotDisp\n",
    "Hispanic = list(pivotDisp[\"sum\"][\"Hispanic\"])\n",
    "\n",
    "\n",
    "#Remove margin values (totals)\n",
    "del Hispanic[-1]\n",
    "\n",
    "\n",
    "#Displays the total(sum of the) \"Hispanic\" population by County.\n",
    "plt.bar(county, Hispanic, width=0.8, bottom=None, align='center', data=None)\n",
    "#Displays the mean of the total \"Hispanic\" population by County.\n",
    "sns.catplot(x=\"County\", y= \"Hispanic\", kind=\"bar\", data = Disparities)"
   ]
  },
  {
   "cell_type": "code",
   "execution_count": 31,
   "metadata": {},
   "outputs": [
    {
     "data": {
      "text/plain": [
       "<seaborn.axisgrid.FacetGrid at 0x17071c7f5f8>"
      ]
     },
     "execution_count": 31,
     "metadata": {},
     "output_type": "execute_result"
    },
    {
     "data": {
      "image/png": "[encoded data removed]",
      "text/plain": [
       "<Figure size 432x288 with 1 Axes>"
      ]
     },
     "metadata": {
      "needs_background": "light"
     },
     "output_type": "display_data"
    },
    {
     "data": {
      "image/png": "[encoded data removed]",
      "text/plain": [
       "<Figure size 360x360 with 1 Axes>"
      ]
     },
     "metadata": {
      "needs_background": "light"
     },
     "output_type": "display_data"
    }
   ],
   "source": [
    "#Use a bar chart to visualize the \"Native\" population by county.\n",
    "#Create a list for the sum of Native population per County from pivotDisp\n",
    "Native = list(pivotDisp[\"sum\"][\"Native\"])\n",
    "\n",
    "\n",
    "#Remove margin values (totals)\n",
    "del Native[-1]\n",
    "\n",
    "\n",
    "#Displays the total(sum of the) \"Native\" population by County.\n",
    "plt.bar(county, Native, width=0.8, bottom=None, align='center', data=None)\n",
    "#Displays the mean of the total \"Native\" population by County.\n",
    "sns.catplot(x=\"County\", y= \"Native\", kind=\"bar\", data = Disparities)"
   ]
  },
  {
   "cell_type": "code",
   "execution_count": 32,
   "metadata": {},
   "outputs": [
    {
     "data": {
      "text/plain": [
       "<seaborn.axisgrid.FacetGrid at 0x17071cb8a90>"
      ]
     },
     "execution_count": 32,
     "metadata": {},
     "output_type": "execute_result"
    },
    {
     "data": {
      "image/png": "[encoded data removed]",
      "text/plain": [
       "<Figure size 432x288 with 1 Axes>"
      ]
     },
     "metadata": {
      "needs_background": "light"
     },
     "output_type": "display_data"
    },
    {
     "data": {
      "image/png": "[encoded data removed]",
      "text/plain": [
       "<Figure size 360x360 with 1 Axes>"
      ]
     },
     "metadata": {
      "needs_background": "light"
     },
     "output_type": "display_data"
    }
   ],
   "source": [
    "#Use a bar chart to visualize the \"WhiteWhite\" population by county.\n",
    "#Create a list for the sum of White population per County from pivotDisp\n",
    "White = list(pivotDisp[\"sum\"][\"White\"])\n",
    "\n",
    "\n",
    "#Remove margin values (totals)\n",
    "del White[-1]\n",
    "\n",
    "\n",
    "#Displays the total(sum of the) \"White\" population by County.\n",
    "plt.bar(county, White, width=0.8, bottom=None, align='center', data=None)\n",
    "#Displays the mean of the total \"White\" population by County.\n",
    "sns.catplot(x=\"County\", y= \"White\", kind=\"bar\", data = Disparities)"
   ]
  },
  {
   "cell_type": "code",
   "execution_count": 33,
   "metadata": {},
   "outputs": [
    {
     "data": {
      "text/plain": [
       "<seaborn.axisgrid.FacetGrid at 0x17071d0feb8>"
      ]
     },
     "execution_count": 33,
     "metadata": {},
     "output_type": "execute_result"
    },
    {
     "data": {
      "image/png": "[encoded data removed]",
      "text/plain": [
       "<Figure size 360x360 with 1 Axes>"
      ]
     },
     "metadata": {
      "needs_background": "light"
     },
     "output_type": "display_data"
    }
   ],
   "source": [
    "#Visualize the different distribution of average \"Median Household Income\" per counties with a provided estimate of error.\n",
    "\n",
    "#Displays the mean of the total \"Median Household Income\" by County.\n",
    "sns.catplot(x=\"County\", y= \"Income\", kind=\"bar\", data = Disparities)\n",
    "\n",
    "#New York, Richmond, and Queens demonstrating median household incomes greater than the national average(60,000).\n",
    "#Bronx and Kings showing values below the national average median household income."
   ]
  },
  {
   "cell_type": "code",
   "execution_count": 34,
   "metadata": {},
   "outputs": [
    {
     "data": {
      "text/plain": [
       "<seaborn.axisgrid.FacetGrid at 0x17071da0748>"
      ]
     },
     "execution_count": 34,
     "metadata": {},
     "output_type": "execute_result"
    },
    {
     "data": {
      "image/png": "[encoded data removed]",
      "text/plain": [
       "<Figure size 360x360 with 1 Axes>"
      ]
     },
     "metadata": {
      "needs_background": "light"
     },
     "output_type": "display_data"
    }
   ],
   "source": [
    "#Visualize the different distribution of average \"Income Per Capita\" per counties with a provided estimate of error.\n",
    "\n",
    "#Displays the mean of the total \"Income Per Capita\" by County.\n",
    "sns.catplot(x=\"County\", y= \"IncomePerCap\", kind=\"bar\", data = Disparities)\n",
    "\n",
    "#New York demonstrating Income Per Capita greater than the national average(51,000).\n",
    "#All remaining counties showing values below the national average median household income.\n",
    "\n",
    "# ***We can infer that New York County residents are on average paid more than other counties with \n",
    "#one individual working per household.\n",
    "#Also, Richmond and Queens typically will on average have two people working per household. "
   ]
  },
  {
   "cell_type": "code",
   "execution_count": 35,
   "metadata": {},
   "outputs": [],
   "source": [
    "#let us create a function that will take care of returning x and y values on passing it the data frame as data argument\n",
    "# we will just pass the data to it\n",
    "def ecdf(data):\n",
    "    \"\"\"Compute ECDF for a one-dimensional array of measurements.\"\"\"\n",
    "\n",
    "\n",
    "    # Number of data points: n\n",
    "    n = len(data)\n",
    "\n",
    "\n",
    "    # x-data for the ECDF: x\n",
    "    x = np.sort(data)\n",
    "\n",
    "\n",
    "    # y-data for the ECDF: y\n",
    "    y = np.arange(1, n+1) / n\n",
    "\n",
    "\n",
    "    return x, y"
   ]
  },
  {
   "cell_type": "code",
   "execution_count": 36,
   "metadata": {},
   "outputs": [
    {
     "data": {
      "text/html": [
       "<div>\n",
       "<style scoped>\n",
       "    .dataframe tbody tr th:only-of-type {\n",
       "        vertical-align: middle;\n",
       "    }\n",
       "\n",
       "    .dataframe tbody tr th {\n",
       "        vertical-align: top;\n",
       "    }\n",
       "\n",
       "    .dataframe thead th {\n",
       "        text-align: right;\n",
       "    }\n",
       "</style>\n",
       "<table border=\"1\" class=\"dataframe\">\n",
       "  <thead>\n",
       "    <tr style=\"text-align: right;\">\n",
       "      <th></th>\n",
       "      <th>County</th>\n",
       "      <th>TotalPop</th>\n",
       "      <th>Men</th>\n",
       "      <th>Women</th>\n",
       "      <th>Hispanic</th>\n",
       "      <th>White</th>\n",
       "      <th>Black</th>\n",
       "      <th>Native</th>\n",
       "      <th>Asian</th>\n",
       "      <th>Citizen</th>\n",
       "      <th>...</th>\n",
       "      <th>Walk</th>\n",
       "      <th>OtherTransp</th>\n",
       "      <th>WorkAtHome</th>\n",
       "      <th>MeanCommute</th>\n",
       "      <th>Employed</th>\n",
       "      <th>PrivateWork</th>\n",
       "      <th>PublicWork</th>\n",
       "      <th>SelfEmployed</th>\n",
       "      <th>FamilyWork</th>\n",
       "      <th>Unemployment</th>\n",
       "    </tr>\n",
       "  </thead>\n",
       "  <tbody>\n",
       "    <tr>\n",
       "      <th>1</th>\n",
       "      <td>Bronx</td>\n",
       "      <td>5403</td>\n",
       "      <td>2659</td>\n",
       "      <td>2744</td>\n",
       "      <td>75.0</td>\n",
       "      <td>2.0</td>\n",
       "      <td>16.0</td>\n",
       "      <td>0.0</td>\n",
       "      <td>4.0</td>\n",
       "      <td>3639</td>\n",
       "      <td>...</td>\n",
       "      <td>2.0</td>\n",
       "      <td>0.0</td>\n",
       "      <td>0.0</td>\n",
       "      <td>43.0</td>\n",
       "      <td>2308</td>\n",
       "      <td>80.0</td>\n",
       "      <td>16.0</td>\n",
       "      <td>2.0</td>\n",
       "      <td>0.0</td>\n",
       "      <td>7.7</td>\n",
       "    </tr>\n",
       "    <tr>\n",
       "      <th>2</th>\n",
       "      <td>Bronx</td>\n",
       "      <td>5915</td>\n",
       "      <td>2896</td>\n",
       "      <td>3019</td>\n",
       "      <td>62.0</td>\n",
       "      <td>3.0</td>\n",
       "      <td>30.0</td>\n",
       "      <td>0.0</td>\n",
       "      <td>0.0</td>\n",
       "      <td>4100</td>\n",
       "      <td>...</td>\n",
       "      <td>1.0</td>\n",
       "      <td>0.0</td>\n",
       "      <td>2.0</td>\n",
       "      <td>45.0</td>\n",
       "      <td>2675</td>\n",
       "      <td>71.0</td>\n",
       "      <td>25.0</td>\n",
       "      <td>2.0</td>\n",
       "      <td>0.0</td>\n",
       "      <td>9.5</td>\n",
       "    </tr>\n",
       "    <tr>\n",
       "      <th>3</th>\n",
       "      <td>Bronx</td>\n",
       "      <td>5879</td>\n",
       "      <td>2558</td>\n",
       "      <td>3321</td>\n",
       "      <td>65.0</td>\n",
       "      <td>1.0</td>\n",
       "      <td>32.0</td>\n",
       "      <td>0.0</td>\n",
       "      <td>0.0</td>\n",
       "      <td>3536</td>\n",
       "      <td>...</td>\n",
       "      <td>8.0</td>\n",
       "      <td>1.0</td>\n",
       "      <td>1.0</td>\n",
       "      <td>38.8</td>\n",
       "      <td>2120</td>\n",
       "      <td>75.0</td>\n",
       "      <td>21.0</td>\n",
       "      <td>3.0</td>\n",
       "      <td>0.0</td>\n",
       "      <td>8.7</td>\n",
       "    </tr>\n",
       "    <tr>\n",
       "      <th>4</th>\n",
       "      <td>Bronx</td>\n",
       "      <td>2591</td>\n",
       "      <td>1206</td>\n",
       "      <td>1385</td>\n",
       "      <td>55.0</td>\n",
       "      <td>9.0</td>\n",
       "      <td>29.0</td>\n",
       "      <td>0.0</td>\n",
       "      <td>2.0</td>\n",
       "      <td>1557</td>\n",
       "      <td>...</td>\n",
       "      <td>3.0</td>\n",
       "      <td>2.0</td>\n",
       "      <td>6.0</td>\n",
       "      <td>45.4</td>\n",
       "      <td>1083</td>\n",
       "      <td>76.0</td>\n",
       "      <td>15.0</td>\n",
       "      <td>7.0</td>\n",
       "      <td>0.0</td>\n",
       "      <td>19.2</td>\n",
       "    </tr>\n",
       "    <tr>\n",
       "      <th>5</th>\n",
       "      <td>Bronx</td>\n",
       "      <td>8516</td>\n",
       "      <td>3301</td>\n",
       "      <td>5215</td>\n",
       "      <td>61.0</td>\n",
       "      <td>1.0</td>\n",
       "      <td>31.0</td>\n",
       "      <td>0.0</td>\n",
       "      <td>3.0</td>\n",
       "      <td>5436</td>\n",
       "      <td>...</td>\n",
       "      <td>4.0</td>\n",
       "      <td>1.0</td>\n",
       "      <td>0.0</td>\n",
       "      <td>46.0</td>\n",
       "      <td>2508</td>\n",
       "      <td>71.0</td>\n",
       "      <td>21.0</td>\n",
       "      <td>7.0</td>\n",
       "      <td>0.0</td>\n",
       "      <td>17.2</td>\n",
       "    </tr>\n",
       "  </tbody>\n",
       "</table>\n",
       "<p>5 rows × 32 columns</p>\n",
       "</div>"
      ],
      "text/plain": [
       "  County  TotalPop   Men  Women  Hispanic  White  Black  Native  Asian  \\\n",
       "1  Bronx      5403  2659   2744      75.0    2.0   16.0     0.0    4.0   \n",
       "2  Bronx      5915  2896   3019      62.0    3.0   30.0     0.0    0.0   \n",
       "3  Bronx      5879  2558   3321      65.0    1.0   32.0     0.0    0.0   \n",
       "4  Bronx      2591  1206   1385      55.0    9.0   29.0     0.0    2.0   \n",
       "5  Bronx      8516  3301   5215      61.0    1.0   31.0     0.0    3.0   \n",
       "\n",
       "   Citizen  ...  Walk  OtherTransp  WorkAtHome  MeanCommute  Employed  \\\n",
       "1     3639  ...   2.0          0.0         0.0         43.0      2308   \n",
       "2     4100  ...   1.0          0.0         2.0         45.0      2675   \n",
       "3     3536  ...   8.0          1.0         1.0         38.8      2120   \n",
       "4     1557  ...   3.0          2.0         6.0         45.4      1083   \n",
       "5     5436  ...   4.0          1.0         0.0         46.0      2508   \n",
       "\n",
       "   PrivateWork  PublicWork  SelfEmployed  FamilyWork  Unemployment  \n",
       "1         80.0        16.0           2.0         0.0           7.7  \n",
       "2         71.0        25.0           2.0         0.0           9.5  \n",
       "3         75.0        21.0           3.0         0.0           8.7  \n",
       "4         76.0        15.0           7.0         0.0          19.2  \n",
       "5         71.0        21.0           7.0         0.0          17.2  \n",
       "\n",
       "[5 rows x 32 columns]"
      ]
     },
     "execution_count": 36,
     "metadata": {},
     "output_type": "execute_result"
    }
   ],
   "source": [
    "#let us generate dataframe for each county\n",
    "ConvertedMain_Bronx = ConvertedMain.loc[ConvertedMain['County'] == 'Bronx']\n",
    "\n",
    "ConvertedMain_Kings = ConvertedMain.loc[ConvertedMain['County'] == 'Kings']\n",
    "\n",
    "ConvertedMain_NewYork = ConvertedMain.loc[ConvertedMain['County'] == 'New York']\n",
    "\n",
    "ConvertedMain_Queens = ConvertedMain.loc[ConvertedMain['County'] == 'Queens']\n",
    "\n",
    "ConvertedMain_Richmomnd = ConvertedMain.loc[ConvertedMain['County'] == 'Richmond']\n",
    "#show the head of one of them\n",
    "ConvertedMain_Bronx.head()"
   ]
  },
  {
   "cell_type": "code",
   "execution_count": 37,
   "metadata": {},
   "outputs": [
    {
     "data": {
      "image/png": "[encoded data removed]",
      "text/plain": [
       "<Figure size 432x288 with 1 Axes>"
      ]
     },
     "metadata": {
      "needs_background": "light"
     },
     "output_type": "display_data"
    }
   ],
   "source": [
    "# Compute ECDFs passing the different data for the different counties:\n",
    "\n",
    "#comput x, y for each county by calling the ecdf function and passing the county of interest\n",
    "x_Bronx, y_Bronx = ecdf(ConvertedMain_Bronx['IncomePerCap'])\n",
    "x_Kings, y_Kings = ecdf(ConvertedMain_Kings['IncomePerCap'])\n",
    "x_NewYork, y_NewYork = ecdf(ConvertedMain_NewYork['IncomePerCap'])\n",
    "x_Queens, y_Queens = ecdf(ConvertedMain_Queens['IncomePerCap'])\n",
    "x_Richmond, y_Richmond = ecdf(ConvertedMain_Richmomnd['IncomePerCap'])\n",
    "\n",
    "# Plot all ECDFs on the same plot\n",
    "_ = plt.plot(x_Bronx, y_Bronx, marker = '.', linestyle = 'none')\n",
    "_ = plt.plot(x_Kings, y_Kings, marker = '.', linestyle = 'none')\n",
    "_ = plt.plot(x_NewYork, y_NewYork, marker = '.', linestyle = 'none')\n",
    "_ = plt.plot(x_Queens, y_Queens, marker = '.', linestyle = 'none')\n",
    "_ = plt.plot(x_Richmond, y_Richmond, marker = '.', linestyle = 'none')\n",
    "\n",
    "# Make nice margins\n",
    "plt.margins(0.02)\n",
    "\n",
    "# Annotate the plot\n",
    "plt.legend(('Bronx', 'Kings', 'New York', 'Queens', 'Richmond'), loc='lower right')\n",
    "_ = plt.xlabel('County')\n",
    "_ = plt.ylabel('ECDF')\n",
    "\n",
    "# Display the plot\n",
    "plt.show()\n",
    "\n",
    "#Note: The ECDF shows a median IncomePerCap well-above 50,000 for New York and signficantly\n",
    "#less than 50,000 for the remaining counties."
   ]
  },
  {
   "cell_type": "code",
   "execution_count": 38,
   "metadata": {},
   "outputs": [
    {
     "data": {
      "text/plain": [
       "<BarContainer object of 5 artists>"
      ]
     },
     "execution_count": 38,
     "metadata": {},
     "output_type": "execute_result"
    },
    {
     "data": {
      "image/png": "[encoded data removed]",
      "text/plain": [
       "<Figure size 432x288 with 1 Axes>"
      ]
     },
     "metadata": {
      "needs_background": "light"
     },
     "output_type": "display_data"
    }
   ],
   "source": [
    "#Visualize the different distribution of people within \"Poverty\" per counties with a provided estimate of error.\n",
    "\n",
    "#Create a list for the sum of Poverty population per County from pivotDisp\n",
    "Poverty = list(pivotDisp[\"sum\"][\"Poverty\"])\n",
    "\n",
    "#Remove margin values (totals)\n",
    "del Poverty[-1]\n",
    "\n",
    "#Displays the total(sum of the) \"Poverty\" population by County.\n",
    "plt.bar(county, Poverty, width=0.8, bottom=None, align='center', data=None)\n",
    "\n",
    "#Kings, Bronx, and Queens county showing a staggering amount of poverty."
   ]
  },
  {
   "cell_type": "code",
   "execution_count": 39,
   "metadata": {},
   "outputs": [
    {
     "data": {
      "text/plain": [
       "<BarContainer object of 5 artists>"
      ]
     },
     "execution_count": 39,
     "metadata": {},
     "output_type": "execute_result"
    },
    {
     "data": {
      "image/png": "[encoded data removed]",
      "text/plain": [
       "<Figure size 432x288 with 1 Axes>"
      ]
     },
     "metadata": {
      "needs_background": "light"
     },
     "output_type": "display_data"
    }
   ],
   "source": [
    "#Visualize the different distribution of people within \"Child Poverty\" per counties with a provided estimate of error.\n",
    "\n",
    "#Create a list for the sum of Child Poverty population per County from pivotDisp\n",
    "ChildPoverty = list(pivotDisp[\"sum\"][\"ChildPoverty\"])\n",
    "\n",
    "#Remove margin values (totals)\n",
    "del ChildPoverty[-1]\n",
    "\n",
    "#Displays the total(sum of the) \"Child Poverty\" population by County.\n",
    "plt.bar(county, ChildPoverty, width=0.8, bottom=None, align='center', data=None)\n",
    "\n",
    "#Kings, Bronx, and Queens county showing a staggering amount of child poverty. These values coincide with their poverty levels."
   ]
  },
  {
   "cell_type": "code",
   "execution_count": 40,
   "metadata": {},
   "outputs": [
    {
     "name": "stdout",
     "output_type": "stream",
     "text": [
      "stat = 0.89 p = 0.0\n",
      "Probably dependent\n"
     ]
    }
   ],
   "source": [
    "# Pearson's correlation test between Poverty and Child Poverty\n",
    "#import the library\n",
    "from scipy.stats import pearsonr\n",
    "#Use the Poverty and Child Poverty columns from the Disparities dataframe\n",
    "stat, p = pearsonr(Disparities[\"Poverty\"], Disparities[\"ChildPoverty\"])\n",
    "print(\"stat = {0:.2f} p = {1}\".format(stat, p))\n",
    "if p > 0.05:\n",
    "  print('Probably independent')\n",
    "else:\n",
    " print('Probably dependent')\n",
    "\n",
    "#There is strong evidence(from statistical testing) to reject the null hypothesis and suggest that the two columns(poverty &\n",
    "# childpoverty) are dependent."
   ]
  },
  {
   "cell_type": "code",
   "execution_count": 41,
   "metadata": {},
   "outputs": [
    {
     "data": {
      "image/png": "[encoded data removed]",
      "text/plain": [
       "<Figure size 432x288 with 1 Axes>"
      ]
     },
     "metadata": {
      "needs_background": "light"
     },
     "output_type": "display_data"
    },
    {
     "data": {
      "text/html": [
       "<div>\n",
       "<style scoped>\n",
       "    .dataframe tbody tr th:only-of-type {\n",
       "        vertical-align: middle;\n",
       "    }\n",
       "\n",
       "    .dataframe tbody tr th {\n",
       "        vertical-align: top;\n",
       "    }\n",
       "\n",
       "    .dataframe thead th {\n",
       "        text-align: right;\n",
       "    }\n",
       "</style>\n",
       "<table border=\"1\" class=\"dataframe\">\n",
       "  <thead>\n",
       "    <tr style=\"text-align: right;\">\n",
       "      <th></th>\n",
       "      <th>TotalPop</th>\n",
       "      <th>Hispanic</th>\n",
       "      <th>White</th>\n",
       "      <th>Black</th>\n",
       "      <th>Native</th>\n",
       "      <th>Asian</th>\n",
       "      <th>Income</th>\n",
       "      <th>IncomePerCap</th>\n",
       "      <th>Poverty</th>\n",
       "      <th>ChildPoverty</th>\n",
       "    </tr>\n",
       "  </thead>\n",
       "  <tbody>\n",
       "    <tr>\n",
       "      <th>TotalPop</th>\n",
       "      <td>1.000000</td>\n",
       "      <td>0.182856</td>\n",
       "      <td>-0.034156</td>\n",
       "      <td>-0.095852</td>\n",
       "      <td>-0.053550</td>\n",
       "      <td>-0.003979</td>\n",
       "      <td>-0.073688</td>\n",
       "      <td>0.064757</td>\n",
       "      <td>0.152784</td>\n",
       "      <td>0.132579</td>\n",
       "    </tr>\n",
       "    <tr>\n",
       "      <th>Hispanic</th>\n",
       "      <td>0.182856</td>\n",
       "      <td>1.000000</td>\n",
       "      <td>-0.494868</td>\n",
       "      <td>-0.149746</td>\n",
       "      <td>-0.016800</td>\n",
       "      <td>-0.175075</td>\n",
       "      <td>-0.483082</td>\n",
       "      <td>-0.384723</td>\n",
       "      <td>0.509348</td>\n",
       "      <td>0.513286</td>\n",
       "    </tr>\n",
       "    <tr>\n",
       "      <th>White</th>\n",
       "      <td>-0.034156</td>\n",
       "      <td>-0.494868</td>\n",
       "      <td>1.000000</td>\n",
       "      <td>-0.623190</td>\n",
       "      <td>-0.049286</td>\n",
       "      <td>-0.013869</td>\n",
       "      <td>0.547227</td>\n",
       "      <td>0.552431</td>\n",
       "      <td>-0.423375</td>\n",
       "      <td>-0.450873</td>\n",
       "    </tr>\n",
       "    <tr>\n",
       "      <th>Black</th>\n",
       "      <td>-0.095852</td>\n",
       "      <td>-0.149746</td>\n",
       "      <td>-0.623190</td>\n",
       "      <td>1.000000</td>\n",
       "      <td>0.001934</td>\n",
       "      <td>-0.429787</td>\n",
       "      <td>-0.235111</td>\n",
       "      <td>-0.271892</td>\n",
       "      <td>0.137346</td>\n",
       "      <td>0.153054</td>\n",
       "    </tr>\n",
       "    <tr>\n",
       "      <th>Native</th>\n",
       "      <td>-0.053550</td>\n",
       "      <td>-0.016800</td>\n",
       "      <td>-0.049286</td>\n",
       "      <td>0.001934</td>\n",
       "      <td>1.000000</td>\n",
       "      <td>0.053282</td>\n",
       "      <td>-0.027734</td>\n",
       "      <td>-0.015050</td>\n",
       "      <td>0.014548</td>\n",
       "      <td>0.006285</td>\n",
       "    </tr>\n",
       "    <tr>\n",
       "      <th>Asian</th>\n",
       "      <td>-0.003979</td>\n",
       "      <td>-0.175075</td>\n",
       "      <td>-0.013869</td>\n",
       "      <td>-0.429787</td>\n",
       "      <td>0.053282</td>\n",
       "      <td>1.000000</td>\n",
       "      <td>0.052983</td>\n",
       "      <td>-0.009058</td>\n",
       "      <td>-0.136770</td>\n",
       "      <td>-0.126583</td>\n",
       "    </tr>\n",
       "    <tr>\n",
       "      <th>Income</th>\n",
       "      <td>-0.073688</td>\n",
       "      <td>-0.483082</td>\n",
       "      <td>0.547227</td>\n",
       "      <td>-0.235111</td>\n",
       "      <td>-0.027734</td>\n",
       "      <td>0.052983</td>\n",
       "      <td>1.000000</td>\n",
       "      <td>0.818171</td>\n",
       "      <td>-0.713532</td>\n",
       "      <td>-0.693781</td>\n",
       "    </tr>\n",
       "    <tr>\n",
       "      <th>IncomePerCap</th>\n",
       "      <td>0.064757</td>\n",
       "      <td>-0.384723</td>\n",
       "      <td>0.552431</td>\n",
       "      <td>-0.271892</td>\n",
       "      <td>-0.015050</td>\n",
       "      <td>-0.009058</td>\n",
       "      <td>0.818171</td>\n",
       "      <td>1.000000</td>\n",
       "      <td>-0.494416</td>\n",
       "      <td>-0.506039</td>\n",
       "    </tr>\n",
       "    <tr>\n",
       "      <th>Poverty</th>\n",
       "      <td>0.152784</td>\n",
       "      <td>0.509348</td>\n",
       "      <td>-0.423375</td>\n",
       "      <td>0.137346</td>\n",
       "      <td>0.014548</td>\n",
       "      <td>-0.136770</td>\n",
       "      <td>-0.713532</td>\n",
       "      <td>-0.494416</td>\n",
       "      <td>1.000000</td>\n",
       "      <td>0.887862</td>\n",
       "    </tr>\n",
       "    <tr>\n",
       "      <th>ChildPoverty</th>\n",
       "      <td>0.132579</td>\n",
       "      <td>0.513286</td>\n",
       "      <td>-0.450873</td>\n",
       "      <td>0.153054</td>\n",
       "      <td>0.006285</td>\n",
       "      <td>-0.126583</td>\n",
       "      <td>-0.693781</td>\n",
       "      <td>-0.506039</td>\n",
       "      <td>0.887862</td>\n",
       "      <td>1.000000</td>\n",
       "    </tr>\n",
       "  </tbody>\n",
       "</table>\n",
       "</div>"
      ],
      "text/plain": [
       "              TotalPop  Hispanic     White     Black    Native     Asian  \\\n",
       "TotalPop      1.000000  0.182856 -0.034156 -0.095852 -0.053550 -0.003979   \n",
       "Hispanic      0.182856  1.000000 -0.494868 -0.149746 -0.016800 -0.175075   \n",
       "White        -0.034156 -0.494868  1.000000 -0.623190 -0.049286 -0.013869   \n",
       "Black        -0.095852 -0.149746 -0.623190  1.000000  0.001934 -0.429787   \n",
       "Native       -0.053550 -0.016800 -0.049286  0.001934  1.000000  0.053282   \n",
       "Asian        -0.003979 -0.175075 -0.013869 -0.429787  0.053282  1.000000   \n",
       "Income       -0.073688 -0.483082  0.547227 -0.235111 -0.027734  0.052983   \n",
       "IncomePerCap  0.064757 -0.384723  0.552431 -0.271892 -0.015050 -0.009058   \n",
       "Poverty       0.152784  0.509348 -0.423375  0.137346  0.014548 -0.136770   \n",
       "ChildPoverty  0.132579  0.513286 -0.450873  0.153054  0.006285 -0.126583   \n",
       "\n",
       "                Income  IncomePerCap   Poverty  ChildPoverty  \n",
       "TotalPop     -0.073688      0.064757  0.152784      0.132579  \n",
       "Hispanic     -0.483082     -0.384723  0.509348      0.513286  \n",
       "White         0.547227      0.552431 -0.423375     -0.450873  \n",
       "Black        -0.235111     -0.271892  0.137346      0.153054  \n",
       "Native       -0.027734     -0.015050  0.014548      0.006285  \n",
       "Asian         0.052983     -0.009058 -0.136770     -0.126583  \n",
       "Income        1.000000      0.818171 -0.713532     -0.693781  \n",
       "IncomePerCap  0.818171      1.000000 -0.494416     -0.506039  \n",
       "Poverty      -0.713532     -0.494416  1.000000      0.887862  \n",
       "ChildPoverty -0.693781     -0.506039  0.887862      1.000000  "
      ]
     },
     "execution_count": 41,
     "metadata": {},
     "output_type": "execute_result"
    }
   ],
   "source": [
    "#Plot a scatterplot between Poverty and Child Poverty for each block within New York City\n",
    "#set the scatterplot\n",
    "plt.scatter(Disparities[\"Poverty\"], Disparities[\"ChildPoverty\"], alpha=.5) \n",
    "#assign a title\n",
    "plt.title('Scatterplot: Poverty vs Child Poverty')\n",
    "#assign a x label\n",
    "plt.xlabel('Poverty')\n",
    "#assign a y label\n",
    "plt.ylabel('Child Poverty')\n",
    "plt.show()\n",
    "\n",
    "#For the dataframe disparities, show all the possible correlations between the columns\n",
    "Disparities.corr(method ='pearson')\n",
    "#Note that ChildPoverty and Poverty are highly positively correlated (r = .88)\n",
    "#Several other strong correlations appear\n",
    "#Income and IncomePerCap (r = .81)\n",
    "#Poverty and Income (r = -.71)\n",
    "#Poverty IncomePerCap (r = -.49)\n",
    "#ChildPoverty and Income (r = -.69)\n",
    "#ChildPoverty and IncomePerCap (r = -.50)\n",
    "\n",
    "#Generally poverty(general or child) is more correlated with Median Household Income compared to IncomePerCap."
   ]
  },
  {
   "cell_type": "markdown",
   "metadata": {},
   "source": [
    "## 3. Indicators of Wealth - Indicators"
   ]
  },
  {
   "cell_type": "markdown",
   "metadata": {},
   "source": [
    "Previously we learned that there were wealth disparities present between the counties of New York (New York County being the most affluent, the Bronx being the least affluent, and the remaining counties showing comparable levels of wealth between the two extremes). Let us see if there are any other indicators that will continue to demonstrate such wealth disparities. <br> <br>\n",
    "Questions <br> <br>\n",
    "What are the mean and total values of job types(Professional, Office, Service, Construction, and Production) worked for each county?<br>\n",
    "What are the mean and total values of \"commuting means\"(Driving, Carpool, Transit, Walking, Other, WorkAtHome) taken for each county?<br>\n",
    "Is there any a correlation between Income and the \"MeanCommute\" time to work? <br><br><br>\n",
    "Draw a conclusion if possible: Are the job types and \"commuting means\" suspected of higher social status(e.g.professional or WorkAtHome) present in greater amounts for the more affluent county(New York) and diminished in less affluent counties(Bronx)? In short, did we find additional indicators that New York county is wealthier whereas the Bronx is financially deficient? <br>"
   ]
  },
  {
   "cell_type": "code",
   "execution_count": 42,
   "metadata": {},
   "outputs": [],
   "source": [
    "#Create a dataframe to group columns necessary to analyze job type\n",
    "#disparities between the counties.\n",
    "JobType = ConvertedMain[[\"County\", \"Employed\", \"Professional\", \"Service\", \"Office\", \"Construction\", \"Production\"]].copy(deep = True)\n",
    "\n",
    "#Create a pivot table to analyze the sum of the columns\n",
    "#using aggfunc parameters np.sum\n",
    "pivotJobType = pd.pivot_table(ConvertedMain, index= 'County', values= [ \"Employed\", \"Professional\", \"Service\", \"Office\", \"Construction\", \"Production\"], aggfunc= [ np.sum],margins=True)\n",
    "pivotJobType = pivotJobType//1\n",
    "pivotJobType\n",
    "\n",
    "\n",
    "\n",
    "#Create lists variables that sum each of the job types grouped by county\n",
    "\n",
    "Professional = list(pivotJobType[\"sum\"][\"Professional\"])\n",
    "del Professional[-1]\n",
    "\n",
    "Service = list(pivotJobType[\"sum\"][\"Service\"])\n",
    "del Service[-1]\n",
    "\n",
    "Office = list(pivotJobType[\"sum\"][\"Office\"])\n",
    "del Office[-1]\n",
    "\n",
    "Construction = list(pivotJobType[\"sum\"][\"Construction\"])\n",
    "del Construction[-1]\n",
    "\n",
    "Production = list(pivotJobType[\"sum\"][\"Production\"])\n",
    "del Production[-1]\n"
   ]
  },
  {
   "cell_type": "code",
   "execution_count": 43,
   "metadata": {},
   "outputs": [
    {
     "data": {
      "text/plain": [
       "<seaborn.axisgrid.FacetGrid at 0x17072fe3748>"
      ]
     },
     "execution_count": 43,
     "metadata": {},
     "output_type": "execute_result"
    },
    {
     "data": {
      "image/png": "[encoded data removed]",
      "text/plain": [
       "<Figure size 432x288 with 1 Axes>"
      ]
     },
     "metadata": {
      "needs_background": "light"
     },
     "output_type": "display_data"
    },
    {
     "data": {
      "image/png": "[encoded data removed]",
      "text/plain": [
       "<Figure size 360x360 with 1 Axes>"
      ]
     },
     "metadata": {
      "needs_background": "light"
     },
     "output_type": "display_data"
    }
   ],
   "source": [
    "#Use a bar chart to visualize the \"Professional\" workforce by county.\n",
    "\n",
    "#Displays the total(sum of the) \"Professional\" population by County.\n",
    "plt.bar(county, Professional, width=0.8, bottom=None, align='center', data=None)\n",
    "#Displays the mean of the total \"Professional\" population by County.\n",
    "sns.catplot(x=\"County\", y= \"Professional\", kind=\"bar\", data = JobType)\n",
    "\n",
    "\n",
    "#Note: New York County is demonstrating the highest total of \"professional\" \n",
    "#workers, meanwhile the Bronx has the least \"professional\" workers."
   ]
  },
  {
   "cell_type": "code",
   "execution_count": 44,
   "metadata": {},
   "outputs": [
    {
     "data": {
      "text/plain": [
       "<seaborn.axisgrid.FacetGrid at 0x17072fe3a90>"
      ]
     },
     "execution_count": 44,
     "metadata": {},
     "output_type": "execute_result"
    },
    {
     "data": {
      "image/png": "[encoded data removed]",
      "text/plain": [
       "<Figure size 432x288 with 1 Axes>"
      ]
     },
     "metadata": {
      "needs_background": "light"
     },
     "output_type": "display_data"
    },
    {
     "data": {
      "image/png": "[encoded data removed]",
      "text/plain": [
       "<Figure size 360x360 with 1 Axes>"
      ]
     },
     "metadata": {
      "needs_background": "light"
     },
     "output_type": "display_data"
    }
   ],
   "source": [
    "#Use a bar chart to visualize the \"Service\" workforce by county.\n",
    "\n",
    "#Displays the total(sum of the) \"Service\" population by County.\n",
    "plt.bar(county, Service, width=0.8, bottom=None, align='center', data=None)\n",
    "#Displays the mean of the total \"Service\" population by County.\n",
    "sns.catplot(x=\"County\", y= \"Service\", kind=\"bar\", data = JobType)\n",
    "\n",
    "#Note: Kings and Queens have a comparable lead of \"Service\" workers.\n",
    "#Note: The Bronx shows the highest \"Service\" workers on average per block.\n",
    "#Note: The Bronx shows a significantly greater number of average and total\n",
    "#\"Service\" workers than New York"
   ]
  },
  {
   "cell_type": "code",
   "execution_count": 45,
   "metadata": {},
   "outputs": [
    {
     "data": {
      "text/plain": [
       "<seaborn.axisgrid.FacetGrid at 0x17072f03710>"
      ]
     },
     "execution_count": 45,
     "metadata": {},
     "output_type": "execute_result"
    },
    {
     "data": {
      "image/png": "[encoded data removed]",
      "text/plain": [
       "<Figure size 432x288 with 1 Axes>"
      ]
     },
     "metadata": {
      "needs_background": "light"
     },
     "output_type": "display_data"
    },
    {
     "data": {
      "image/png": "[encoded data removed]",
      "text/plain": [
       "<Figure size 360x360 with 1 Axes>"
      ]
     },
     "metadata": {
      "needs_background": "light"
     },
     "output_type": "display_data"
    }
   ],
   "source": [
    "#Use a bar chart to visualize the \"Office\" workforce by county.\n",
    "\n",
    "#Displays the total(sum of the) \"Office\" population by County.\n",
    "plt.bar(county, Office, width=0.8, bottom=None, align='center', data=None)\n",
    "#Displays the mean of the total \"Office\" population by County.\n",
    "sns.catplot(x=\"County\", y= \"Office\", kind=\"bar\", data = JobType)\n",
    "\n",
    "#Note: New York shows the highest \"Office\" workers on average per block.\n",
    "#Note: Kings and Queens shows have a comparable lead on total \"Office\" workers.\n",
    "#Note: New York demonstrates approximately 50% more \"Office\" workers on average\n",
    "#and total than the Bronx"
   ]
  },
  {
   "cell_type": "code",
   "execution_count": 46,
   "metadata": {},
   "outputs": [
    {
     "data": {
      "text/plain": [
       "<seaborn.axisgrid.FacetGrid at 0x17071c733c8>"
      ]
     },
     "execution_count": 46,
     "metadata": {},
     "output_type": "execute_result"
    },
    {
     "data": {
      "image/png": "[encoded data removed]",
      "text/plain": [
       "<Figure size 432x288 with 1 Axes>"
      ]
     },
     "metadata": {
      "needs_background": "light"
     },
     "output_type": "display_data"
    },
    {
     "data": {
      "image/png": "[encoded data removed]",
      "text/plain": [
       "<Figure size 360x360 with 1 Axes>"
      ]
     },
     "metadata": {
      "needs_background": "light"
     },
     "output_type": "display_data"
    }
   ],
   "source": [
    "#Use a bar chart to visualize the \"Construction\" workforce by county.\n",
    "\n",
    "#Displays the total(sum of the) \"Construction\" population by County.\n",
    "plt.bar(county, Construction, width=0.8, bottom=None, align='center', data=None)\n",
    "#Displays the mean of the total \"Construction\" population by County.\n",
    "sns.catplot(x=\"County\", y= \"Construction\", kind=\"bar\", data = JobType)\n",
    "\n",
    "#Note: Richmond shows the highest \"Construction\" workers on average per block.\n",
    "#Note: Kings and Queens shows have a significant lead on total \"Construction\" \n",
    "#workers.\n",
    "#Note: The Bronx has approximately twice the number of construction workers \n",
    "#on average and total than New York.\n"
   ]
  },
  {
   "cell_type": "code",
   "execution_count": 47,
   "metadata": {},
   "outputs": [
    {
     "data": {
      "text/plain": [
       "<seaborn.axisgrid.FacetGrid at 0x17072fda0b8>"
      ]
     },
     "execution_count": 47,
     "metadata": {},
     "output_type": "execute_result"
    },
    {
     "data": {
      "image/png": "[encoded data removed]",
      "text/plain": [
       "<Figure size 432x288 with 1 Axes>"
      ]
     },
     "metadata": {
      "needs_background": "light"
     },
     "output_type": "display_data"
    },
    {
     "data": {
      "image/png": "[encoded data removed]",
      "text/plain": [
       "<Figure size 360x360 with 1 Axes>"
      ]
     },
     "metadata": {
      "needs_background": "light"
     },
     "output_type": "display_data"
    }
   ],
   "source": [
    "#Use a bar chart to visualize the \"Production\" workforce by county.\n",
    "\n",
    "#Displays the total(sum of the) \"Productionn\" population by County.\n",
    "plt.bar(county, Production, width=0.8, bottom=None, align='center', data=None)\n",
    "#Displays the mean of the total \"Production\" population by County.\n",
    "sns.catplot(x=\"County\", y= \"Production\", kind=\"bar\", data = JobType)\n",
    "\n",
    "#Note: Bronx and Queens shows have a significant lead on the average \n",
    "#\"Production\" workers per block\n",
    "#Note: Kings and Queens shows have a significant lead on total \"Production\" \n",
    "#workers.\n",
    "#Note: The Bronx demonstrates approximately 50% more \"Production\" workers on \n",
    "#average and total than the New York\n"
   ]
  },
  {
   "cell_type": "markdown",
   "metadata": {},
   "source": [
    "Summary one: New York County has a propensity to house more \"Professional\" and \"Office\" workers among all counties. The Bronx houses significantly greater \"Service\", \"Construction\", and \"Production\" workers relative to New York with leading average per block in \"Service\" and \"Production\". <br><br>\n",
    "\n",
    "Does this fit our previous data that New York is wealthier and the Bronx is least wealthy?"
   ]
  },
  {
   "cell_type": "code",
   "execution_count": 48,
   "metadata": {},
   "outputs": [],
   "source": [
    "#Create a dataframe to group columns necessary to analyze \"means of commuting\"\n",
    "#disparities between the counties.\n",
    "Commuting = ConvertedMain[[\"County\", \"Employed\", \"Drive\", \"Carpool\", \"Transit\", \"Walk\", \"OtherTransp\", \"WorkAtHome\"]].copy(deep = True)\n",
    "\n",
    "#Create a pivot table to analyze the sum of the columns\n",
    "#using aggfunc parameters np.sum\n",
    "pivotCommuting = pd.pivot_table(ConvertedMain, index= 'County', values= [ \"Employed\", \"Drive\", \"Carpool\", \"Transit\", \"Walk\", \"OtherTransp\", \"WorkAtHome\", \"MeanCommute\"], aggfunc= [ np.sum],margins=True)\n",
    "pivotCommuting = pivotCommuting//1\n",
    "pivotCommuting\n",
    "\n",
    "#Create lists variables that sum each of the commuting means grouped by county\n",
    "Drive = list(pivotCommuting[\"sum\"][\"Drive\"])\n",
    "del Drive[-1]\n",
    "\n",
    "Carpool = list(pivotCommuting[\"sum\"][\"Carpool\"])\n",
    "del Carpool[-1]\n",
    "\n",
    "Transit = list(pivotCommuting[\"sum\"][\"Transit\"])\n",
    "del Transit[-1]\n",
    "\n",
    "Walk = list(pivotCommuting[\"sum\"][\"Walk\"])\n",
    "del Walk[-1]\n",
    "\n",
    "OtherTransp = list(pivotCommuting[\"sum\"][\"OtherTransp\"])\n",
    "del OtherTransp[-1]\n",
    "\n",
    "WorkAtHome = list(pivotCommuting[\"sum\"][\"WorkAtHome\"])\n",
    "del WorkAtHome[-1]\n",
    "\n",
    "MeanCommute = list(pivotCommuting[\"sum\"][\"MeanCommute\"])\n",
    "del MeanCommute[-1]\n"
   ]
  },
  {
   "cell_type": "code",
   "execution_count": 49,
   "metadata": {},
   "outputs": [
    {
     "data": {
      "text/plain": [
       "<seaborn.axisgrid.FacetGrid at 0x1707301dc18>"
      ]
     },
     "execution_count": 49,
     "metadata": {},
     "output_type": "execute_result"
    },
    {
     "data": {
      "image/png": "[encoded data removed]",
      "text/plain": [
       "<Figure size 432x288 with 1 Axes>"
      ]
     },
     "metadata": {
      "needs_background": "light"
     },
     "output_type": "display_data"
    },
    {
     "data": {
      "image/png": "[encoded data removed]",
      "text/plain": [
       "<Figure size 360x360 with 1 Axes>"
      ]
     },
     "metadata": {
      "needs_background": "light"
     },
     "output_type": "display_data"
    }
   ],
   "source": [
    "#Use a bar chart to visualize the \"Drive\" commuting by county.\n",
    "\n",
    "#Displays the total(sum of the) \"Drive\" population by County.\n",
    "plt.bar(county, Drive, width=0.8, bottom=None, align='center', data=None)\n",
    "#Displays the mean of the total \"Drive\" population by County.\n",
    "sns.catplot(x=\"County\", y= \"Drive\", kind=\"bar\", data = Commuting)\n",
    "\n",
    "\n",
    "#Note: New York County has the least total and average \"Drivers\".\n",
    "#Note: Richmond has the highest average \"Drivers\".\n",
    "#Note: Queens has the greatest total \"Drivers\"."
   ]
  },
  {
   "cell_type": "code",
   "execution_count": 50,
   "metadata": {},
   "outputs": [
    {
     "data": {
      "text/plain": [
       "<seaborn.axisgrid.FacetGrid at 0x17072fc7160>"
      ]
     },
     "execution_count": 50,
     "metadata": {},
     "output_type": "execute_result"
    },
    {
     "data": {
      "image/png": "[encoded data removed]",
      "text/plain": [
       "<Figure size 432x288 with 1 Axes>"
      ]
     },
     "metadata": {
      "needs_background": "light"
     },
     "output_type": "display_data"
    },
    {
     "data": {
      "image/png": "[encoded data removed]",
      "text/plain": [
       "<Figure size 360x360 with 1 Axes>"
      ]
     },
     "metadata": {
      "needs_background": "light"
     },
     "output_type": "display_data"
    }
   ],
   "source": [
    "#Use a bar chart to visualize the \"Carpool\" commuting by county.\n",
    "\n",
    "#Displays the total(sum of the) \"Carpool\" population by County.\n",
    "plt.bar(county, Carpool, width=0.8, bottom=None, align='center', data=None)\n",
    "#Displays the mean of the total \"Carpool\" population by County.\n",
    "sns.catplot(x=\"County\", y= \"Carpool\", kind=\"bar\", data = Commuting)\n",
    "\n",
    "\n",
    "#Note: The trend mirrors that of the \"Drivers\"."
   ]
  },
  {
   "cell_type": "code",
   "execution_count": 51,
   "metadata": {},
   "outputs": [
    {
     "data": {
      "text/plain": [
       "<seaborn.axisgrid.FacetGrid at 0x170732e1128>"
      ]
     },
     "execution_count": 51,
     "metadata": {},
     "output_type": "execute_result"
    },
    {
     "data": {
      "image/png": "[encoded data removed]",
      "text/plain": [
       "<Figure size 432x288 with 1 Axes>"
      ]
     },
     "metadata": {
      "needs_background": "light"
     },
     "output_type": "display_data"
    },
    {
     "data": {
      "image/png": "[encoded data removed]",
      "text/plain": [
       "<Figure size 360x360 with 1 Axes>"
      ]
     },
     "metadata": {
      "needs_background": "light"
     },
     "output_type": "display_data"
    }
   ],
   "source": [
    "#Use a bar chart to visualize the \"Transit\" commuting by county.\n",
    "\n",
    "#Displays the total(sum of the) \"Transit\" population by County.\n",
    "plt.bar(county, Transit, width=0.8, bottom=None, align='center', data=None)\n",
    "#Displays the mean of the total \"Transit\" population by County.\n",
    "sns.catplot(x=\"County\", y= \"Transit\", kind=\"bar\", data = Commuting)\n",
    "\n",
    "\n",
    "#Note: The greatest average number of \"Transit\" commuters are from New York.\n",
    "#Note: Kings has the greatest total \"Transit\" commuters."
   ]
  },
  {
   "cell_type": "code",
   "execution_count": 52,
   "metadata": {},
   "outputs": [
    {
     "data": {
      "text/plain": [
       "<seaborn.axisgrid.FacetGrid at 0x170732d9b38>"
      ]
     },
     "execution_count": 52,
     "metadata": {},
     "output_type": "execute_result"
    },
    {
     "data": {
      "image/png": "[encoded data removed]",
      "text/plain": [
       "<Figure size 432x288 with 1 Axes>"
      ]
     },
     "metadata": {
      "needs_background": "light"
     },
     "output_type": "display_data"
    },
    {
     "data": {
      "image/png": "[encoded data removed]",
      "text/plain": [
       "<Figure size 360x360 with 1 Axes>"
      ]
     },
     "metadata": {
      "needs_background": "light"
     },
     "output_type": "display_data"
    }
   ],
   "source": [
    "#Use a bar chart to visualize the \"Walk\" commuting by county.\n",
    "\n",
    "#Displays the total(sum of the) \"Walk\" population by County.\n",
    "plt.bar(county, Walk, width=0.8, bottom=None, align='center', data=None)\n",
    "#Displays the mean of the total \"Walk\" population by County.\n",
    "sns.catplot(x=\"County\", y= \"Walk\", kind=\"bar\", data = Commuting)\n",
    "\n",
    "\n",
    "#Note: New York has the greatest total and average for \"Walking\" to work.\n",
    "#Perhaps many jobs are local to New York County."
   ]
  },
  {
   "cell_type": "code",
   "execution_count": 53,
   "metadata": {},
   "outputs": [
    {
     "data": {
      "text/plain": [
       "<seaborn.axisgrid.FacetGrid at 0x170733cc278>"
      ]
     },
     "execution_count": 53,
     "metadata": {},
     "output_type": "execute_result"
    },
    {
     "data": {
      "image/png": "[encoded data removed]",
      "text/plain": [
       "<Figure size 432x288 with 1 Axes>"
      ]
     },
     "metadata": {
      "needs_background": "light"
     },
     "output_type": "display_data"
    },
    {
     "data": {
      "image/png": "[encoded data removed]",
      "text/plain": [
       "<Figure size 360x360 with 1 Axes>"
      ]
     },
     "metadata": {
      "needs_background": "light"
     },
     "output_type": "display_data"
    }
   ],
   "source": [
    "#Use a bar chart to visualize the \"OtherTransp\" commuting by county.\n",
    "\n",
    "#Displays the total(sum of the) \"OtherTransp\" population by County.\n",
    "plt.bar(county, OtherTransp, width=0.8, bottom=None, align='center', data=None)\n",
    "#Displays the mean of the total \"OtherTransp\" population by County.\n",
    "sns.catplot(x=\"County\", y= \"OtherTransp\", kind=\"bar\", data = Commuting)\n",
    "\n",
    "\n",
    "#Note: New York has the greatest total and average for \"Other\" modes of \n",
    "#transportation to work."
   ]
  },
  {
   "cell_type": "code",
   "execution_count": 54,
   "metadata": {},
   "outputs": [
    {
     "data": {
      "text/plain": [
       "<seaborn.axisgrid.FacetGrid at 0x17074410588>"
      ]
     },
     "execution_count": 54,
     "metadata": {},
     "output_type": "execute_result"
    },
    {
     "data": {
      "image/png": "[encoded data removed]",
      "text/plain": [
       "<Figure size 432x288 with 1 Axes>"
      ]
     },
     "metadata": {
      "needs_background": "light"
     },
     "output_type": "display_data"
    },
    {
     "data": {
      "image/png": "[encoded data removed]",
      "text/plain": [
       "<Figure size 360x360 with 1 Axes>"
      ]
     },
     "metadata": {
      "needs_background": "light"
     },
     "output_type": "display_data"
    }
   ],
   "source": [
    "#Use a bar chart to visualize the \"WorkAtHome\" commuting by county.\n",
    "\n",
    "#Displays the total(sum of the) \"WorkAtHome\" population by County.\n",
    "plt.bar(county, WorkAtHome, width=0.8, bottom=None, align='center', data=None)\n",
    "#Displays the mean of the total \"WorkAtHome\" population by County.\n",
    "sns.catplot(x=\"County\", y= \"WorkAtHome\", kind=\"bar\", data = Commuting)\n",
    "\n",
    "\n",
    "#Note: New York has the greatest total and average for \"Working at home\"."
   ]
  },
  {
   "cell_type": "markdown",
   "metadata": {},
   "source": [
    "Summary two: New York County has a propensity to house more \"WorkingAtHome\", \"Walk\", and \"Transit\" commuters among all counties. The Bronx shows comparable commuting activity compared to the other the majority of counties for a given category. <br><br>\n",
    "\n",
    "Does this fit our previous data that New York is wealthier and the Bronx is least wealthy?"
   ]
  },
  {
   "cell_type": "code",
   "execution_count": 55,
   "metadata": {},
   "outputs": [
    {
     "data": {
      "text/plain": [
       "<seaborn.axisgrid.FacetGrid at 0x17071c43240>"
      ]
     },
     "execution_count": 55,
     "metadata": {},
     "output_type": "execute_result"
    },
    {
     "data": {
      "image/png": "[encoded data removed]",
      "text/plain": [
       "<Figure size 360x360 with 1 Axes>"
      ]
     },
     "metadata": {
      "needs_background": "light"
     },
     "output_type": "display_data"
    }
   ],
   "source": [
    "#Visualize the mean commute time by county\n",
    "sns.catplot(x=\"County\", y= \"MeanCommute\", kind=\"bar\", data = ConvertedMain)\n",
    "#Note: New York has the least commute time on average by ten minutes."
   ]
  },
  {
   "cell_type": "code",
   "execution_count": 56,
   "metadata": {},
   "outputs": [
    {
     "name": "stdout",
     "output_type": "stream",
     "text": [
      "The correlation between Income and MeanCommute time to work is -0.36\n",
      "\n",
      "As income increases, commute times tend to decrease.\n"
     ]
    }
   ],
   "source": [
    "#Show the Correlation values between \"MeanCommute\" time and Income\n",
    "correlationIncomeCommute = np.corrcoef(ConvertedMain[\"Income\"], ConvertedMain[\"MeanCommute\"])[0,1]\n",
    "print(\"The correlation between Income and MeanCommute time to work is {:.2f}\".format(correlationIncomeCommute))\n",
    "print()\n",
    "print(\"As income increases, commute times tend to decrease.\")\n",
    "#Note: ***Income is highest in New York and lowest in the bronx adding another indicator of wealth\n",
    "\n",
    "#Plot a scatterplot to see visualize the negative correlation\n"
   ]
  },
  {
   "cell_type": "code",
   "execution_count": 57,
   "metadata": {},
   "outputs": [
    {
     "data": {
      "image/png": "[encoded data removed]",
      "text/plain": [
       "<Figure size 432x288 with 1 Axes>"
      ]
     },
     "metadata": {
      "needs_background": "light"
     },
     "output_type": "display_data"
    }
   ],
   "source": [
    "#Plot a scatterplot to see visualize the negative correlation between\n",
    "#Income and MeanCommute\n",
    "\n",
    "#set the scatterplot\n",
    "plt.scatter(ConvertedMain[\"Income\"], ConvertedMain[\"MeanCommute\"], alpha=.5) \n",
    "#assign a title\n",
    "plt.title('Scatterplot: Income vs MeanCommute')\n",
    "#assign a x label\n",
    "plt.xlabel('Income')\n",
    "#assign a y label\n",
    "plt.ylabel('MeanCommute')\n",
    "plt.show()\n",
    "\n"
   ]
  },
  {
   "cell_type": "markdown",
   "metadata": {},
   "source": [
    "<b><center>3. Conclusion to Indicator"
   ]
  },
  {
   "cell_type": "markdown",
   "metadata": {},
   "source": [
    "We have found additional indicators supporting that New York is wealthier than the other counties and the Bronx is less wealthy than the other counties. <br>\n",
    "\n",
    "Summary one: New York County has a propensity to house more \"Professional\" and \"Office\" among all counties. The Bronx houses significantly greater \"Service\", \"Construction\", and \"Production\" workers than New York with leading average per block in \"Service\" and \"Production\". <br><br>\n",
    "\n",
    "Summary two: New York County has a propensity to house more \"WorkingAtHome\", \"Walk\", and \"Transit\" commuters among all counties. The Bronx shows comparable commuting activity compared to the other the majority of counties for a given category. <br><br>\n",
    "\n",
    "Income is negatively correlated with income and as previously shown, New York has the highest Income and also shows the least average commute time.\n"
   ]
  },
  {
   "cell_type": "markdown",
   "metadata": {},
   "source": [
    "## 4. Searching for our own Indicator - Sector"
   ]
  },
  {
   "cell_type": "markdown",
   "metadata": {},
   "source": [
    "Previously we discovered data supporting that New York county is wealthier and the Bronx is less than wealthy than the other counties within New York City. Several of these inferences could be accepted on prima facie alone given one's experiences that develop into a \"common sense\", so to speak. For example, many may have predicted that New York county would have the highest income, that child poverty is positively correlated with general poverty, New York would have house the most \"professional\" and \"office\" workers, that income and mean commute times are negatively correlated, and so forth. However, there are instances in which we may not have preconcieved notions on a subject and many more instances in which our preconcieved notions are innaccurate. Big Data allows for evidence-based decisions to be made by meticously parsing and analyzing information. We will use our present skills to either support or refute a hypothesis for which the group could not unanimously agree.   <br> <br>\n",
    "Question <br> <br>\n",
    "Do the proportions of work category(Public, Private, SelfEmployed, and FamilyWork) also have a significant correlation with the county's social economic status? In other words, will these categories show more \"private\" employees in New York versus more \"public\" employees in the Bronx? <br><br><br>\n",
    "<center>Hypothesis</center> <br>\n",
    "We believe that New York will house a greater proportion of \"Private\" employees, meanwhile the Bronx will house a greater proportion of \"Public\" employees. This is because \"Private\" positions are generally compensated with a greater income than that of \"Public\" positions."
   ]
  },
  {
   "cell_type": "code",
   "execution_count": 58,
   "metadata": {},
   "outputs": [],
   "source": [
    "#Set a new dataframe for the job sector\n",
    "dfSector = ConvertedMain[[\"County\", \"PrivateWork\", \"PublicWork\", \"SelfEmployed\", \"FamilyWork\"]]\n",
    "#Create a pivotTable for \"PrivateWork\" that will have the sums grouped by county\n",
    "pivotSector = pd.pivot_table(ConvertedMain, index= 'County', values= [ \"PrivateWork\", \"PublicWork\", \"SelfEmployed\", \"FamilyWork\"], aggfunc= [ np.sum],margins=True)\n",
    "#Truncate values\n",
    "pivotSector = pivotSector//1\n",
    "#Set up list variables for the sum of each job sector category\n",
    "PrivateWork = list(pivotSector[\"sum\"][\"PrivateWork\"])\n",
    "del PrivateWork[-1]\n",
    "\n",
    "PublicWork = list(pivotSector[\"sum\"][\"PublicWork\"])\n",
    "del PublicWork[-1]\n",
    "\n",
    "FamilyWork = list(pivotSector[\"sum\"][\"FamilyWork\"])\n",
    "del FamilyWork[-1]\n",
    "\n",
    "SelfEmployed = list(pivotSector[\"sum\"][\"SelfEmployed\"])\n",
    "del SelfEmployed[-1]\n",
    "\n",
    "\n"
   ]
  },
  {
   "cell_type": "code",
   "execution_count": 59,
   "metadata": {},
   "outputs": [
    {
     "data": {
      "text/plain": [
       "<seaborn.axisgrid.FacetGrid at 0x1707464f128>"
      ]
     },
     "execution_count": 59,
     "metadata": {},
     "output_type": "execute_result"
    },
    {
     "data": {
      "image/png": "[encoded data removed]",
      "text/plain": [
       "<Figure size 432x288 with 1 Axes>"
      ]
     },
     "metadata": {
      "needs_background": "light"
     },
     "output_type": "display_data"
    },
    {
     "data": {
      "image/png": "[encoded data removed]",
      "text/plain": [
       "<Figure size 360x360 with 1 Axes>"
      ]
     },
     "metadata": {
      "needs_background": "light"
     },
     "output_type": "display_data"
    }
   ],
   "source": [
    "#Use a bar chart to visualize the \"PrivateWork\" sector by county.\n",
    "\n",
    "#Displays the total(sum of the) \"PrivateWork\" population by County.\n",
    "plt.bar(county, PrivateWork, width=0.8, bottom=None, align='center', data=None)\n",
    "#Displays the mean of the total \"PrivateWork\" sector by County.\n",
    "sns.catplot(x=\"County\", y= \"PrivateWork\", kind=\"bar\", data = dfSector)\n",
    "\n",
    "\n",
    "#Note: New York demonstrates comparable levels of total and average \"Private Work\" compared to the Bronx."
   ]
  },
  {
   "cell_type": "code",
   "execution_count": 60,
   "metadata": {},
   "outputs": [
    {
     "data": {
      "text/plain": [
       "<seaborn.axisgrid.FacetGrid at 0x17072f03978>"
      ]
     },
     "execution_count": 60,
     "metadata": {},
     "output_type": "execute_result"
    },
    {
     "data": {
      "image/png": "[encoded data removed]",
      "text/plain": [
       "<Figure size 432x288 with 1 Axes>"
      ]
     },
     "metadata": {
      "needs_background": "light"
     },
     "output_type": "display_data"
    },
    {
     "data": {
      "image/png": "[encoded data removed]",
      "text/plain": [
       "<Figure size 360x360 with 1 Axes>"
      ]
     },
     "metadata": {
      "needs_background": "light"
     },
     "output_type": "display_data"
    }
   ],
   "source": [
    "#Use a bar chart to visualize the \"SelfEmployed\" sector by county.\n",
    "\n",
    "#Displays the total(sum of the) \"SelfEmployed\" population by County.\n",
    "plt.bar(county, SelfEmployed, width=0.8, bottom=None, align='center', data=None)\n",
    "#Displays the mean of the total \"SelfEmployed\" sector by County.\n",
    "sns.catplot(x=\"County\", y= \"SelfEmployed\", kind=\"bar\", data = dfSector)\n",
    "\n",
    "\n",
    "#Note: The New York shows the greatest average \"SelfEmployed\" employees and has a 30% lead compared to the Bronx\n",
    "#on the sum"
   ]
  },
  {
   "cell_type": "code",
   "execution_count": 61,
   "metadata": {},
   "outputs": [
    {
     "data": {
      "text/plain": [
       "<seaborn.axisgrid.FacetGrid at 0x170745b1940>"
      ]
     },
     "execution_count": 61,
     "metadata": {},
     "output_type": "execute_result"
    },
    {
     "data": {
      "image/png": "[encoded data removed]",
      "text/plain": [
       "<Figure size 432x288 with 1 Axes>"
      ]
     },
     "metadata": {
      "needs_background": "light"
     },
     "output_type": "display_data"
    },
    {
     "data": {
      "image/png": "[encoded data removed]",
      "text/plain": [
       "<Figure size 360x360 with 1 Axes>"
      ]
     },
     "metadata": {
      "needs_background": "light"
     },
     "output_type": "display_data"
    }
   ],
   "source": [
    "#Use a bar chart to visualize the \"PublicWork\" sector by county.\n",
    "\n",
    "#Displays the total(sum of the) \"PublicWork\" population by County.\n",
    "plt.bar(county, PublicWork, width=0.8, bottom=None, align='center', data=None)\n",
    "#Displays the mean of the total \"PublicWork\" sector by County.\n",
    "sns.catplot(x=\"County\", y= \"PublicWork\", kind=\"bar\", data = dfSector)\n",
    "\n",
    "\n",
    "#Note: The Bronx shows a higher 50% average and sum of \"PublicWork\" employees compared to New York\n"
   ]
  },
  {
   "cell_type": "code",
   "execution_count": 62,
   "metadata": {},
   "outputs": [
    {
     "data": {
      "text/plain": [
       "<seaborn.axisgrid.FacetGrid at 0x17074552630>"
      ]
     },
     "execution_count": 62,
     "metadata": {},
     "output_type": "execute_result"
    },
    {
     "data": {
      "image/png": "[encoded data removed]",
      "text/plain": [
       "<Figure size 432x288 with 1 Axes>"
      ]
     },
     "metadata": {
      "needs_background": "light"
     },
     "output_type": "display_data"
    },
    {
     "data": {
      "image/png": "[encoded data removed]",
      "text/plain": [
       "<Figure size 360x360 with 1 Axes>"
      ]
     },
     "metadata": {
      "needs_background": "light"
     },
     "output_type": "display_data"
    }
   ],
   "source": [
    "#Use a bar chart to visualize the \"FamilyWork\" sector by county.\n",
    "\n",
    "#Displays the total(sum of the) \"FamilyWork\" population by County.\n",
    "plt.bar(county, FamilyWork, width=0.8, bottom=None, align='center', data=None)\n",
    "#Displays the mean of the total \"FamilyWork\" sector by County.\n",
    "sns.catplot(x=\"County\", y= \"FamilyWork\", kind=\"bar\", data = dfSector)\n",
    "\n",
    "\n",
    "#Note: The New York shows a greater and total of \"FamilyWork\" employees compared to the Bronx\n",
    "#although the values for all counties are marginal."
   ]
  },
  {
   "cell_type": "markdown",
   "metadata": {},
   "source": [
    "Summary one: <br>\n",
    "1. New York and the Bronx have comparable values for \"PrivateWork\" employees. (Hypothesis not supported)\n",
    "2. New York has the greatest average \"SelfEmployed\" employees and a 30% lead on the sum compared to the Bronx. (Hypothesis supported)\n",
    "3. The Bronx shows a higher 50% average and sum of \"PublicWork\" compared to New York. (Hypothesis supported)\n",
    "4. New York shows a greater sum of \"FamilyWork\" employees compared to the Bronx although values for all counties appear to be marginal. (Hypothesis not supported)"
   ]
  },
  {
   "cell_type": "markdown",
   "metadata": {},
   "source": [
    "## Statistical Testing"
   ]
  },
  {
   "cell_type": "code",
   "execution_count": 63,
   "metadata": {
    "scrolled": true
   },
   "outputs": [
    {
     "data": {
      "text/html": [
       "<div>\n",
       "<style scoped>\n",
       "    .dataframe tbody tr th:only-of-type {\n",
       "        vertical-align: middle;\n",
       "    }\n",
       "\n",
       "    .dataframe tbody tr th {\n",
       "        vertical-align: top;\n",
       "    }\n",
       "\n",
       "    .dataframe thead th {\n",
       "        text-align: right;\n",
       "    }\n",
       "</style>\n",
       "<table border=\"1\" class=\"dataframe\">\n",
       "  <thead>\n",
       "    <tr style=\"text-align: right;\">\n",
       "      <th></th>\n",
       "      <th>sum</th>\n",
       "      <th>count</th>\n",
       "      <th>mean</th>\n",
       "      <th>std</th>\n",
       "    </tr>\n",
       "    <tr>\n",
       "      <th>County</th>\n",
       "      <th></th>\n",
       "      <th></th>\n",
       "      <th></th>\n",
       "      <th></th>\n",
       "    </tr>\n",
       "  </thead>\n",
       "  <tbody>\n",
       "    <tr>\n",
       "      <th>Bronx</th>\n",
       "      <td>26716.0</td>\n",
       "      <td>335</td>\n",
       "      <td>79.75</td>\n",
       "      <td>6.59</td>\n",
       "    </tr>\n",
       "    <tr>\n",
       "      <th>New York</th>\n",
       "      <td>23266.0</td>\n",
       "      <td>281</td>\n",
       "      <td>82.80</td>\n",
       "      <td>6.10</td>\n",
       "    </tr>\n",
       "  </tbody>\n",
       "</table>\n",
       "</div>"
      ],
      "text/plain": [
       "              sum  count   mean   std\n",
       "County                               \n",
       "Bronx     26716.0    335  79.75  6.59\n",
       "New York  23266.0    281  82.80  6.10"
      ]
     },
     "execution_count": 63,
     "metadata": {},
     "output_type": "execute_result"
    }
   ],
   "source": [
    "#Create new dataframes for the two counties of interest and job sector Private\n",
    "pvBronx = dfSector[[\"County\", \"PrivateWork\"]].loc[dfSector[\"County\"] == \"Bronx\"]\n",
    "pvNY = dfSector[[\"County\", \"PrivateWork\"]].loc[dfSector[\"County\"] == \"New York\"]\n",
    "\n",
    "#Extract a list of values of the Private employees for the two counties\n",
    "listBronx = list(pvBronx[\"PrivateWork\"])\n",
    "listNY = list(pvNY[\"PrivateWork\"])\n",
    "\n",
    "#Create a \"new\" dataframe that will have both listed added as columns\n",
    "new = pd.DataFrame(listBronx, columns = [\"Bronx\"])\n",
    "new[\"New York\"] = pd.Series(listNY) \n",
    "\n",
    "\n",
    "#Create a new dataframe for the Private values that correspond to a single county\n",
    "#and also drop null values\n",
    "Private = pd.melt(new,var_name=\"County\", value_name=\"PrivateWork\")\n",
    "Private.dropna(inplace = True)\n",
    "\n",
    "#Group the dataframe to analyze the sum, count, mean, and standard deviation for\n",
    "#Private employees for the two counties\n",
    "groupedPrivate = Private.groupby(['County'])['PrivateWork']\n",
    "groupedPrivate.aggregate([np.sum, \"count\", np.mean, np.std]).round(2)\n",
    "\n",
    "\n",
    "#Note: the mean values are centered around 81 for the Bronx and New York.\n",
    "#Note: there are incredibly similar values including sum, mean, and std."
   ]
  },
  {
   "cell_type": "code",
   "execution_count": 64,
   "metadata": {},
   "outputs": [],
   "source": [
    "# we are going to import the ztest from statsmodels.stats.weightstats\n",
    "from statsmodels.stats.weightstats import ztest\n",
    "#import the other required libraries\n",
    "import scipy.stats as stats\n",
    "\n",
    "#Perform a one-tailed z test to see whether New York has a larger mean value than 81\n",
    "(test_statistic, p_value) = ztest(listNY, value=81, alternative='larger', ddof=1.0)"
   ]
  },
  {
   "cell_type": "code",
   "execution_count": 65,
   "metadata": {},
   "outputs": [
    {
     "name": "stdout",
     "output_type": "stream",
     "text": [
      "The test statistic is:  4.93803\n",
      "The p-value is:  3.946e-07\n"
     ]
    }
   ],
   "source": [
    "print(\"The test statistic is: \", round(test_statistic,5))\n",
    "print(\"The p-value is: \", round(p_value,10))\n",
    "\n",
    "#There is significant evidence to reject the null hypothesis and lend support\n",
    "#that New York is above the value 81 for mean \"Private\" employees"
   ]
  },
  {
   "cell_type": "code",
   "execution_count": 66,
   "metadata": {},
   "outputs": [],
   "source": [
    "#Perform a one-tailed z test to see whether the Bronx has a smaller mean value than 81\n",
    "(test_statistic, p_value) = ztest(listBronx, value=81, alternative='smaller', ddof=1.0)"
   ]
  },
  {
   "cell_type": "code",
   "execution_count": 67,
   "metadata": {},
   "outputs": [
    {
     "name": "stdout",
     "output_type": "stream",
     "text": [
      "The test statistic is:  -3.4743\n",
      "The p-value is:  0.0002560978\n"
     ]
    }
   ],
   "source": [
    "print(\"The test statistic is: \", round(test_statistic,5))\n",
    "print(\"The p-value is: \", round(p_value,10))\n",
    "\n",
    "#There is significant evidence to reject the null hypothesis and lend support\n",
    "#that the Bronx is below the value 81 for mean \"Private\" employees"
   ]
  },
  {
   "cell_type": "code",
   "execution_count": 68,
   "metadata": {},
   "outputs": [
    {
     "data": {
      "text/html": [
       "<div>\n",
       "<style scoped>\n",
       "    .dataframe tbody tr th:only-of-type {\n",
       "        vertical-align: middle;\n",
       "    }\n",
       "\n",
       "    .dataframe tbody tr th {\n",
       "        vertical-align: top;\n",
       "    }\n",
       "\n",
       "    .dataframe thead th {\n",
       "        text-align: right;\n",
       "    }\n",
       "</style>\n",
       "<table border=\"1\" class=\"dataframe\">\n",
       "  <thead>\n",
       "    <tr style=\"text-align: right;\">\n",
       "      <th></th>\n",
       "      <th>sum</th>\n",
       "      <th>count</th>\n",
       "      <th>mean</th>\n",
       "      <th>std</th>\n",
       "    </tr>\n",
       "    <tr>\n",
       "      <th>County</th>\n",
       "      <th></th>\n",
       "      <th></th>\n",
       "      <th></th>\n",
       "      <th></th>\n",
       "    </tr>\n",
       "  </thead>\n",
       "  <tbody>\n",
       "    <tr>\n",
       "      <th>Bronx</th>\n",
       "      <td>4739.0</td>\n",
       "      <td>335</td>\n",
       "      <td>14.15</td>\n",
       "      <td>6.70</td>\n",
       "    </tr>\n",
       "    <tr>\n",
       "      <th>New York</th>\n",
       "      <td>2351.0</td>\n",
       "      <td>281</td>\n",
       "      <td>8.37</td>\n",
       "      <td>5.33</td>\n",
       "    </tr>\n",
       "  </tbody>\n",
       "</table>\n",
       "</div>"
      ],
      "text/plain": [
       "             sum  count   mean   std\n",
       "County                              \n",
       "Bronx     4739.0    335  14.15  6.70\n",
       "New York  2351.0    281   8.37  5.33"
      ]
     },
     "execution_count": 68,
     "metadata": {},
     "output_type": "execute_result"
    }
   ],
   "source": [
    "#Create new dataframes for the two counties of interest and job sector Public\n",
    "pbBronx = dfSector[[\"County\", \"PublicWork\"]].loc[dfSector[\"County\"] == \"Bronx\"]\n",
    "pbNY = dfSector[[\"County\", \"PublicWork\"]].loc[dfSector[\"County\"] == \"New York\"]\n",
    "\n",
    "#Extract a list of values of the Public employees for the two counties\n",
    "listBronx = list(pbBronx[\"PublicWork\"])\n",
    "listNY = list(pbNY[\"PublicWork\"])\n",
    "\n",
    "#Create a \"new\" dataframe that will have both listed added as columns\n",
    "new = pd.DataFrame(listBronx, columns = [\"Bronx\"])\n",
    "new[\"New York\"] = pd.Series(listNY) \n",
    "\n",
    "\n",
    "#Create a new dataframe for the Public values that correspond to a single county\n",
    "#and also drop null values\n",
    "Public = pd.melt(new,var_name=\"County\", value_name=\"PublicWork\")\n",
    "Public.dropna(inplace = True)\n",
    "\n",
    "#Group the dataframe to analyze the sum, count, mean, and standard deviation for\n",
    "#Public employees for the two counties\n",
    "groupedPublic = Public.groupby(['County'])['PublicWork']\n",
    "groupedPublic.aggregate([np.sum, \"count\", np.mean, np.std]).round(2)\n",
    "\n",
    "#Note: the mean values are centered around 11 for the Bronx and New York.\n",
    "#Note: there are differences between the two counties for sum, mean, and std."
   ]
  },
  {
   "cell_type": "code",
   "execution_count": 69,
   "metadata": {},
   "outputs": [],
   "source": [
    "#Perform a one-tailed z test to see whether Bronx has a larger mean value than 11\n",
    "(test_statistic, p_value) = ztest(listBronx, value=11, alternative='larger', ddof=1.0)"
   ]
  },
  {
   "cell_type": "code",
   "execution_count": 70,
   "metadata": {},
   "outputs": [
    {
     "name": "stdout",
     "output_type": "stream",
     "text": [
      "The test statistic is:  8.59995\n",
      "The p-value is:  3.988e-18\n"
     ]
    }
   ],
   "source": [
    "print(\"The test statistic is: \", round(test_statistic,5))\n",
    "print(\"The p-value is: \", round(p_value,21))\n",
    "\n",
    "#There is a significant amount of evidence to reject the null hypothesis \n",
    "#and lend support that the number of\"public\" employees in the Bronx is greater \n",
    "#than 11"
   ]
  },
  {
   "cell_type": "code",
   "execution_count": 71,
   "metadata": {},
   "outputs": [],
   "source": [
    "#Perform a one-tailed z test to see whether New York has a smaller \n",
    "#mean value than 11\n",
    "(test_statistic, p_value) = ztest(listNY, value=11, alternative='smaller', ddof=1.0)"
   ]
  },
  {
   "cell_type": "code",
   "execution_count": 72,
   "metadata": {},
   "outputs": [
    {
     "name": "stdout",
     "output_type": "stream",
     "text": [
      "The test statistic is:  -8.28504\n",
      "The p-value is:  5.903e-17\n"
     ]
    }
   ],
   "source": [
    "print(\"The test statistic is: \", round(test_statistic,5))\n",
    "print(\"The p-value is: \", round(p_value,20))\n",
    "\n",
    "#There is a significant amount of evidence to reject the null hypothesis \n",
    "#and lend support that the number of\"public\" employees in New  York\n",
    "#is smaller than 11"
   ]
  },
  {
   "cell_type": "markdown",
   "metadata": {},
   "source": [
    "**Conclusion**"
   ]
  },
  {
   "cell_type": "markdown",
   "metadata": {},
   "source": [
    "1. New York demonstrates comparable levels of total and average \"Private Work\" compared to the Bronx with data visualizations.\n",
    "2. However, according to hypothesis testing there is signficant evidence to conclude that New York has a mean \"PrivateWork\" value greater than 81 meanwhile the Bronx was smaller than 81. <br> <br>\n",
    "This leads me to believe that there is a statistical difference with New York having a greater amount of \"Private\" employees than the Bronx. <br> <br>"
   ]
  },
  {
   "cell_type": "markdown",
   "metadata": {},
   "source": [
    "3. The Bronx shows a higher 50% average and sum of \"PublicWork\" employees compared to New York according to data visualizations.\n",
    "4. Hypothesis testing indicates signficant evidence to conclude that the Bronx has a mean \"PublicWork\" value greater than 11 meanwhile New York has a smaller value than 11. <br> <br>\n",
    "This leads me to believe that there is a statistical difference with the Bronx having a greater amount of \"Public\" employees than New York. <br> <br>"
   ]
  },
  {
   "cell_type": "markdown",
   "metadata": {},
   "source": [
    "In short, New York shows a greater wealth than the Bronx and it can be supported by a number of indicators including income, poverty, mean commute times, proportions of job types help, proportions of commuting times for the residents, and including proportions of job sectors within the counties."
   ]
  },
  {
   "cell_type": "markdown",
   "metadata": {},
   "source": [
    "**Thank you for your time!**"
   ]
  },
  {
   "cell_type": "code",
   "execution_count": null,
   "metadata": {},
   "outputs": [],
   "source": []
  }
 ],
 "metadata": {
  "kernelspec": {
   "display_name": "Python 3",
   "language": "python",
   "name": "python3"
  },
  "language_info": {
   "codemirror_mode": {
    "name": "ipython",
    "version": 3
   },
   "file_extension": ".py",
   "mimetype": "text/x-python",
   "name": "python",
   "nbconvert_exporter": "python",
   "pygments_lexer": "ipython3",
   "version": "3.7.3"
  }
 },
 "nbformat": 4,
 "nbformat_minor": 2
}
